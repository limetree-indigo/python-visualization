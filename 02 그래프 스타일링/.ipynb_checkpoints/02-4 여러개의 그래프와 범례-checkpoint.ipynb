{
 "cells": [
  {
   "cell_type": "markdown",
   "id": "96703241-7775-4626-947e-03485e9500d5",
   "metadata": {},
   "source": [
    "# 라이브러리 임포트 및 그래프 설정"
   ]
  },
  {
   "cell_type": "markdown",
   "id": "ac563434-5143-4bb2-88ab-e6b90e331db2",
   "metadata": {},
   "source": [
    "## 라이브러리 임포트"
   ]
  },
  {
   "cell_type": "code",
   "execution_count": 1,
   "id": "65bf5bf8-a1d6-41f9-80fa-3f79498ee7a8",
   "metadata": {},
   "outputs": [],
   "source": [
    "import matplotlib.pyplot as plt"
   ]
  },
  {
   "cell_type": "markdown",
   "id": "bbcd9019-106f-407b-a5f4-007330eef518",
   "metadata": {},
   "source": [
    "## 그래프 설정"
   ]
  },
  {
   "cell_type": "code",
   "execution_count": null,
   "id": "e969cc07-78e0-43bb-af4a-7812ce21dcca",
   "metadata": {},
   "outputs": [],
   "source": []
  }
 ],
 "metadata": {
  "kernelspec": {
   "display_name": "Python 3",
   "language": "python",
   "name": "python3"
  },
  "language_info": {
   "codemirror_mode": {
    "name": "ipython",
    "version": 3
   },
   "file_extension": ".py",
   "mimetype": "text/x-python",
   "name": "python",
   "nbconvert_exporter": "python",
   "pygments_lexer": "ipython3",
   "version": "3.8.5"
  }
 },
 "nbformat": 4,
 "nbformat_minor": 5
}
