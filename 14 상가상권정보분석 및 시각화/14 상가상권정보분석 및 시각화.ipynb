{
 "cells": [
  {
   "cell_type": "code",
   "execution_count": 1,
   "id": "42474308",
   "metadata": {},
   "outputs": [],
   "source": [
    "import matplotlib.pyplot as plt\n",
    "import pandas as pd\n",
    "import seaborn as sns"
   ]
  },
  {
   "cell_type": "code",
   "execution_count": 2,
   "id": "34f9ff1b",
   "metadata": {},
   "outputs": [],
   "source": [
    "plt.rcParams['font.family']='AppleGothic'\n",
    "plt.rcParams['axes.unicode_minus']=False"
   ]
  },
  {
   "cell_type": "markdown",
   "id": "655081df",
   "metadata": {},
   "source": [
    "# 데이터 수집\n",
    "- 상가상권정보<br>\n",
    "    https://www.data.go.kr/data/15083033/fileData.do"
   ]
  },
  {
   "cell_type": "markdown",
   "id": "ef6b54fb",
   "metadata": {},
   "source": [
    "## 데이터프레임 생성\n",
    "- 17개 파일의 데이터를 각각 데이터프레임으로 만든 후 합친다."
   ]
  },
  {
   "cell_type": "markdown",
   "id": "b7c2ef5c",
   "metadata": {},
   "source": [
    "### 17개의 파일을 각각 데이터프레임으로 만들기\n",
    "- column에 NaN값이나 여러 type의 데이터가 섞여 있으면 DtypeWarning 발생<br>\n",
    "    dtype option으로 타입을 명시해주거나 low_memory=Flase로 지정해주면 경고 메시지가 출력되지 않는다."
   ]
  },
  {
   "cell_type": "code",
   "execution_count": 5,
   "id": "7fbaf7b6",
   "metadata": {},
   "outputs": [],
   "source": [
    "df1 = pd.read_csv('../data/소상공인시장진흥공단_상가(상권)정보_강원_202203.csv')"
   ]
  },
  {
   "cell_type": "code",
   "execution_count": 20,
   "id": "ffa9502a",
   "metadata": {},
   "outputs": [],
   "source": [
    "df2 = pd.read_csv('../data/소상공인시장진흥공단_상가(상권)정보_경기_202203.csv')"
   ]
  },
  {
   "cell_type": "code",
   "execution_count": 51,
   "id": "832b617b",
   "metadata": {},
   "outputs": [],
   "source": [
    "import csv\n",
    "f = open('../data/소상공인시장진흥공단_상가(상권)정보_경남_202203.csv', encoding='utf8', errors='ignore')\n",
    "reader = csv.reader(f)\n",
    "csv_list = []\n",
    "for l in reader:\n",
    "    csv_list.append(l)\n",
    "f.close()\n",
    "df3 = pd.DataFrame(csv_list)"
   ]
  },
  {
   "cell_type": "code",
   "execution_count": 58,
   "id": "8e09136e",
   "metadata": {},
   "outputs": [],
   "source": [
    "df3 = df3.drop(list(range(39,70)), axis=1)"
   ]
  },
  {
   "cell_type": "code",
   "execution_count": 69,
   "id": "4de290ca",
   "metadata": {},
   "outputs": [],
   "source": [
    "df3.columns = df3.loc[0]"
   ]
  },
  {
   "cell_type": "code",
   "execution_count": 72,
   "id": "82a99fce",
   "metadata": {},
   "outputs": [],
   "source": [
    "df3 = df3.drop([0])"
   ]
  },
  {
   "cell_type": "code",
   "execution_count": 22,
   "id": "288576ab",
   "metadata": {},
   "outputs": [],
   "source": [
    "f = open('../data/소상공인시장진흥공단_상가(상권)정보_경북_202203.csv', encoding='utf8', errors='ignore')\n",
    "reader = csv.reader(f)\n",
    "csv_list = []\n",
    "for l in reader:\n",
    "    csv_list.append(l)\n",
    "f.close()\n",
    "df4 = pd.DataFrame(csv_list)"
   ]
  },
  {
   "cell_type": "code",
   "execution_count": 77,
   "id": "328d4832",
   "metadata": {},
   "outputs": [],
   "source": [
    "df4 = df4.drop(list(range(39,75)), axis=1)"
   ]
  },
  {
   "cell_type": "code",
   "execution_count": 79,
   "id": "811e48b2",
   "metadata": {},
   "outputs": [],
   "source": [
    "df4.columns = df4.loc[0]"
   ]
  },
  {
   "cell_type": "code",
   "execution_count": 81,
   "id": "027ca6d2",
   "metadata": {},
   "outputs": [],
   "source": [
    "df4 = df4.drop([0])"
   ]
  },
  {
   "cell_type": "code",
   "execution_count": 23,
   "id": "661d3c94",
   "metadata": {},
   "outputs": [],
   "source": [
    "f = open('../data/소상공인시장진흥공단_상가(상권)정보_광주_202203.csv', encoding='utf8', errors='ignore')\n",
    "reader = csv.reader(f)\n",
    "csv_list = []\n",
    "for l in reader:\n",
    "    csv_list.append(l)\n",
    "f.close()\n",
    "df5 = pd.DataFrame(csv_list)"
   ]
  },
  {
   "cell_type": "code",
   "execution_count": 85,
   "id": "576e853f",
   "metadata": {},
   "outputs": [],
   "source": [
    "df5 = df5.drop(list(range(39, 61)), axis=1)"
   ]
  },
  {
   "cell_type": "code",
   "execution_count": 86,
   "id": "88748b08",
   "metadata": {},
   "outputs": [],
   "source": [
    "df5.columns = df5.loc[0]"
   ]
  },
  {
   "cell_type": "code",
   "execution_count": 88,
   "id": "0fb97256",
   "metadata": {},
   "outputs": [],
   "source": [
    "df5 = df5.drop([0])"
   ]
  },
  {
   "cell_type": "code",
   "execution_count": 24,
   "id": "7bc43461",
   "metadata": {},
   "outputs": [],
   "source": [
    "df6 = pd.read_csv('../data/소상공인시장진흥공단_상가(상권)정보_대구_202203.csv')"
   ]
  },
  {
   "cell_type": "code",
   "execution_count": 84,
   "id": "120c44d0",
   "metadata": {},
   "outputs": [],
   "source": [
    "df7 = pd.read_csv('../data/소상공인시장진흥공단_상가(상권)정보_대전_202203.csv')"
   ]
  },
  {
   "cell_type": "code",
   "execution_count": 27,
   "id": "0a8ad384",
   "metadata": {},
   "outputs": [],
   "source": [
    "f = open('../data/소상공인시장진흥공단_상가(상권)정보_부산_202203.csv', encoding='utf8', errors='ignore')\n",
    "reader = csv.reader(f)\n",
    "csv_list = []\n",
    "for l in reader:\n",
    "    csv_list.append(l)\n",
    "f.close()\n",
    "df8 = pd.DataFrame(csv_list)"
   ]
  },
  {
   "cell_type": "code",
   "execution_count": 92,
   "id": "53dcc23d",
   "metadata": {},
   "outputs": [],
   "source": [
    "df8 = df8.drop(range(39, 45), axis=1)"
   ]
  },
  {
   "cell_type": "code",
   "execution_count": 93,
   "id": "ec9dac1c",
   "metadata": {},
   "outputs": [],
   "source": [
    "df8.columns = df8.loc[0]"
   ]
  },
  {
   "cell_type": "code",
   "execution_count": 95,
   "id": "6919af1c",
   "metadata": {},
   "outputs": [],
   "source": [
    "df8 = df8.drop([0])"
   ]
  },
  {
   "cell_type": "code",
   "execution_count": 28,
   "id": "9e887ca3",
   "metadata": {},
   "outputs": [],
   "source": [
    "df9 = pd.read_csv('../data/소상공인시장진흥공단_상가(상권)정보_서울_202203.csv')"
   ]
  },
  {
   "cell_type": "code",
   "execution_count": 29,
   "id": "f11796bf",
   "metadata": {},
   "outputs": [],
   "source": [
    "df10 = pd.read_csv('../data/소상공인시장진흥공단_상가(상권)정보_세종_202203.csv')"
   ]
  },
  {
   "cell_type": "code",
   "execution_count": 31,
   "id": "cdaecd00",
   "metadata": {},
   "outputs": [],
   "source": [
    "df11 = pd.read_csv('../data/소상공인시장진흥공단_상가(상권)정보_울산_202203.csv', low_memory=False)"
   ]
  },
  {
   "cell_type": "code",
   "execution_count": 33,
   "id": "868bdd43",
   "metadata": {},
   "outputs": [],
   "source": [
    "f = open('../data/소상공인시장진흥공단_상가(상권)정보_인천_202203.csv', encoding='utf8', errors='ignore')\n",
    "reader = csv.reader(f)\n",
    "csv_list = []\n",
    "for l in reader:\n",
    "    csv_list.append(l)\n",
    "f.close()\n",
    "df12 = pd.DataFrame(csv_list)"
   ]
  },
  {
   "cell_type": "code",
   "execution_count": 98,
   "id": "cc5c460c",
   "metadata": {},
   "outputs": [],
   "source": [
    "df12 = df12.drop(range(39, 57), axis=1)"
   ]
  },
  {
   "cell_type": "code",
   "execution_count": 99,
   "id": "30c6d6e3",
   "metadata": {},
   "outputs": [],
   "source": [
    "df12.columns = df12.loc[0]"
   ]
  },
  {
   "cell_type": "code",
   "execution_count": 100,
   "id": "bead6692",
   "metadata": {},
   "outputs": [],
   "source": [
    "df12 = df12.drop([0])"
   ]
  },
  {
   "cell_type": "code",
   "execution_count": 101,
   "id": "471d5789",
   "metadata": {},
   "outputs": [],
   "source": [
    "f = open('../data/소상공인시장진흥공단_상가(상권)정보_전남_202203.csv', encoding='utf8', errors='ignore')\n",
    "reader = csv.reader(f)\n",
    "csv_list = []\n",
    "for l in reader:\n",
    "    csv_list.append(l)\n",
    "f.close()\n",
    "df13 = pd.DataFrame(csv_list)"
   ]
  },
  {
   "cell_type": "code",
   "execution_count": 105,
   "id": "af870677",
   "metadata": {},
   "outputs": [],
   "source": [
    "df13 = df13.drop(range(39, 67), axis=1)"
   ]
  },
  {
   "cell_type": "code",
   "execution_count": 106,
   "id": "bd6d22d6",
   "metadata": {},
   "outputs": [],
   "source": [
    "df13.columns = df13.loc[0]"
   ]
  },
  {
   "cell_type": "code",
   "execution_count": 107,
   "id": "f9d3f229",
   "metadata": {},
   "outputs": [],
   "source": [
    "df13 = df13.drop([0])"
   ]
  },
  {
   "cell_type": "code",
   "execution_count": 37,
   "id": "c70e3731",
   "metadata": {},
   "outputs": [],
   "source": [
    "df14 = pd.read_csv('../data/소상공인시장진흥공단_상가(상권)정보_전북_202203.csv', low_memory=False)"
   ]
  },
  {
   "cell_type": "code",
   "execution_count": 39,
   "id": "a2aec1ae",
   "metadata": {},
   "outputs": [],
   "source": [
    "df15 = pd.read_csv('../data/소상공인시장진흥공단_상가(상권)정보_제주_202203.csv', low_memory=False)"
   ]
  },
  {
   "cell_type": "code",
   "execution_count": 40,
   "id": "16c3f030",
   "metadata": {},
   "outputs": [],
   "source": [
    "df16 = pd.read_csv('../data/소상공인시장진흥공단_상가(상권)정보_충남_202203.csv')"
   ]
  },
  {
   "cell_type": "code",
   "execution_count": 41,
   "id": "feab3bad",
   "metadata": {},
   "outputs": [],
   "source": [
    "df17 = pd.read_csv('../data/소상공인시장진흥공단_상가(상권)정보_충북_202203.csv')"
   ]
  },
  {
   "cell_type": "markdown",
   "id": "838488cf",
   "metadata": {},
   "source": [
    "### 데이터프레임 연결하기\n",
    "- pd.concat(데이터프레임리스트):행 방향으로 연결\n",
    "- pd.concat(데이터프레임리스트,axis=1):열 방향으로 연결\n",
    "- 인덱스 재지정: ignore_index=True"
   ]
  },
  {
   "cell_type": "code",
   "execution_count": 108,
   "id": "6ecef433",
   "metadata": {},
   "outputs": [],
   "source": [
    "# 데이터프레임 합치기\n",
    "df = pd.concat([df1,df2,df3,df4,df5,df6,df7,df8,df9,df10,df11,df12,df13,df14,df15,df16,df17], ignore_index=True)"
   ]
  },
  {
   "cell_type": "code",
   "execution_count": 110,
   "id": "ee326a8f",
   "metadata": {},
   "outputs": [
    {
     "data": {
      "text/plain": [
       "39"
      ]
     },
     "execution_count": 110,
     "metadata": {},
     "output_type": "execute_result"
    }
   ],
   "source": [
    "len(df.columns)"
   ]
  },
  {
   "cell_type": "code",
   "execution_count": 113,
   "id": "b9d6a768",
   "metadata": {},
   "outputs": [],
   "source": [
    "# 컬럼갯수 최대 지정\n",
    "pd.options.display.max_columns = 39"
   ]
  },
  {
   "cell_type": "code",
   "execution_count": 114,
   "id": "9932ff1e",
   "metadata": {},
   "outputs": [
    {
     "data": {
      "text/html": [
       "<div>\n",
       "<style scoped>\n",
       "    .dataframe tbody tr th:only-of-type {\n",
       "        vertical-align: middle;\n",
       "    }\n",
       "\n",
       "    .dataframe tbody tr th {\n",
       "        vertical-align: top;\n",
       "    }\n",
       "\n",
       "    .dataframe thead th {\n",
       "        text-align: right;\n",
       "    }\n",
       "</style>\n",
       "<table border=\"1\" class=\"dataframe\">\n",
       "  <thead>\n",
       "    <tr style=\"text-align: right;\">\n",
       "      <th></th>\n",
       "      <th>상가업소번호</th>\n",
       "      <th>상호명</th>\n",
       "      <th>지점명</th>\n",
       "      <th>상권업종대분류코드</th>\n",
       "      <th>상권업종대분류명</th>\n",
       "      <th>상권업종중분류코드</th>\n",
       "      <th>상권업종중분류명</th>\n",
       "      <th>상권업종소분류코드</th>\n",
       "      <th>상권업종소분류명</th>\n",
       "      <th>표준산업분류코드</th>\n",
       "      <th>표준산업분류명</th>\n",
       "      <th>시도코드</th>\n",
       "      <th>시도명</th>\n",
       "      <th>시군구코드</th>\n",
       "      <th>시군구명</th>\n",
       "      <th>행정동코드</th>\n",
       "      <th>행정동명</th>\n",
       "      <th>법정동코드</th>\n",
       "      <th>법정동명</th>\n",
       "      <th>지번코드</th>\n",
       "      <th>대지구분코드</th>\n",
       "      <th>대지구분명</th>\n",
       "      <th>지번본번지</th>\n",
       "      <th>지번부번지</th>\n",
       "      <th>지번주소</th>\n",
       "      <th>도로명코드</th>\n",
       "      <th>도로명</th>\n",
       "      <th>건물본번지</th>\n",
       "      <th>건물부번지</th>\n",
       "      <th>건물관리번호</th>\n",
       "      <th>건물명</th>\n",
       "      <th>도로명주소</th>\n",
       "      <th>구우편번호</th>\n",
       "      <th>신우편번호</th>\n",
       "      <th>동정보</th>\n",
       "      <th>층정보</th>\n",
       "      <th>호정보</th>\n",
       "      <th>경도</th>\n",
       "      <th>위도</th>\n",
       "    </tr>\n",
       "  </thead>\n",
       "  <tbody>\n",
       "    <tr>\n",
       "      <th>0</th>\n",
       "      <td>25033300</td>\n",
       "      <td>동그라미중고타이어</td>\n",
       "      <td>NaN</td>\n",
       "      <td>D</td>\n",
       "      <td>소매</td>\n",
       "      <td>D23</td>\n",
       "      <td>자동차/자동차용품</td>\n",
       "      <td>D23A04</td>\n",
       "      <td>타이어판매</td>\n",
       "      <td>G45211</td>\n",
       "      <td>자동차 타이어 및 튜브 판매업</td>\n",
       "      <td>42</td>\n",
       "      <td>강원도</td>\n",
       "      <td>42150</td>\n",
       "      <td>강릉시</td>\n",
       "      <td>4215057100</td>\n",
       "      <td>포남1동</td>\n",
       "      <td>4.21501e+09</td>\n",
       "      <td>포남동</td>\n",
       "      <td>4215011100110960006</td>\n",
       "      <td>1</td>\n",
       "      <td>대지</td>\n",
       "      <td>1096</td>\n",
       "      <td>6</td>\n",
       "      <td>강원도 강릉시 포남동 1096-6</td>\n",
       "      <td>421503220001</td>\n",
       "      <td>강원도 강릉시 가작로</td>\n",
       "      <td>270</td>\n",
       "      <td>NaN</td>\n",
       "      <td>4215011100110960006010791</td>\n",
       "      <td>NaN</td>\n",
       "      <td>강원도 강릉시 가작로 270</td>\n",
       "      <td>210110</td>\n",
       "      <td>25488</td>\n",
       "      <td>1</td>\n",
       "      <td>NaN</td>\n",
       "      <td>NaN</td>\n",
       "      <td>128.904</td>\n",
       "      <td>37.7703</td>\n",
       "    </tr>\n",
       "  </tbody>\n",
       "</table>\n",
       "</div>"
      ],
      "text/plain": [
       "0    상가업소번호        상호명  지점명 상권업종대분류코드 상권업종대분류명 상권업종중분류코드   상권업종중분류명 상권업종소분류코드  \\\n",
       "0  25033300  동그라미중고타이어  NaN         D       소매       D23  자동차/자동차용품    D23A04   \n",
       "\n",
       "0 상권업종소분류명 표준산업분류코드           표준산업분류명 시도코드  시도명  시군구코드 시군구명       행정동코드  행정동명  \\\n",
       "0    타이어판매   G45211  자동차 타이어 및 튜브 판매업   42  강원도  42150  강릉시  4215057100  포남1동   \n",
       "\n",
       "0        법정동코드 법정동명                 지번코드 대지구분코드 대지구분명 지번본번지 지번부번지  \\\n",
       "0  4.21501e+09  포남동  4215011100110960006      1    대지  1096     6   \n",
       "\n",
       "0                지번주소         도로명코드          도로명 건물본번지 건물부번지  \\\n",
       "0  강원도 강릉시 포남동 1096-6  421503220001  강원도 강릉시 가작로   270   NaN   \n",
       "\n",
       "0                     건물관리번호  건물명            도로명주소   구우편번호  신우편번호 동정보  층정보  \\\n",
       "0  4215011100110960006010791  NaN  강원도 강릉시 가작로 270  210110  25488   1  NaN   \n",
       "\n",
       "0  호정보       경도       위도  \n",
       "0  NaN  128.904  37.7703  "
      ]
     },
     "execution_count": 114,
     "metadata": {},
     "output_type": "execute_result"
    }
   ],
   "source": [
    "df.head(1)"
   ]
  },
  {
   "cell_type": "markdown",
   "id": "f4838acb",
   "metadata": {},
   "source": [
    "# 데이터 확인 및 전처리\n",
    "## 데이터 크기"
   ]
  },
  {
   "cell_type": "code",
   "execution_count": 115,
   "id": "ec1f9895",
   "metadata": {},
   "outputs": [
    {
     "data": {
      "text/plain": [
       "(2823823, 39)"
      ]
     },
     "execution_count": 115,
     "metadata": {},
     "output_type": "execute_result"
    }
   ],
   "source": [
    "df.shape"
   ]
  },
  {
   "cell_type": "markdown",
   "id": "774dda4f",
   "metadata": {},
   "source": [
    "## 데이터프레임 정보"
   ]
  },
  {
   "cell_type": "code",
   "execution_count": 117,
   "id": "d44b1650",
   "metadata": {},
   "outputs": [
    {
     "name": "stdout",
     "output_type": "stream",
     "text": [
      "<class 'pandas.core.frame.DataFrame'>\n",
      "RangeIndex: 2823823 entries, 0 to 2823822\n",
      "Data columns (total 39 columns):\n",
      " #   Column     Dtype \n",
      "---  ------     ----- \n",
      " 0   상가업소번호     object\n",
      " 1   상호명        object\n",
      " 2   지점명        object\n",
      " 3   상권업종대분류코드  object\n",
      " 4   상권업종대분류명   object\n",
      " 5   상권업종중분류코드  object\n",
      " 6   상권업종중분류명   object\n",
      " 7   상권업종소분류코드  object\n",
      " 8   상권업종소분류명   object\n",
      " 9   표준산업분류코드   object\n",
      " 10  표준산업분류명    object\n",
      " 11  시도코드       object\n",
      " 12  시도명        object\n",
      " 13  시군구코드      object\n",
      " 14  시군구명       object\n",
      " 15  행정동코드      object\n",
      " 16  행정동명       object\n",
      " 17  법정동코드      object\n",
      " 18  법정동명       object\n",
      " 19  지번코드       object\n",
      " 20  대지구분코드     object\n",
      " 21  대지구분명      object\n",
      " 22  지번본번지      object\n",
      " 23  지번부번지      object\n",
      " 24  지번주소       object\n",
      " 25  도로명코드      object\n",
      " 26  도로명        object\n",
      " 27  건물본번지      object\n",
      " 28  건물부번지      object\n",
      " 29  건물관리번호     object\n",
      " 30  건물명        object\n",
      " 31  도로명주소      object\n",
      " 32  구우편번호      object\n",
      " 33  신우편번호      object\n",
      " 34  동정보        object\n",
      " 35  층정보        object\n",
      " 36  호정보        object\n",
      " 37  경도         object\n",
      " 38  위도         object\n",
      "dtypes: object(39)\n",
      "memory usage: 840.2+ MB\n"
     ]
    }
   ],
   "source": [
    "df.info()"
   ]
  },
  {
   "cell_type": "markdown",
   "id": "c51592e6",
   "metadata": {},
   "source": [
    "## 서브셋 만들기"
   ]
  },
  {
   "cell_type": "code",
   "execution_count": 118,
   "id": "576bc1d8",
   "metadata": {},
   "outputs": [
    {
     "data": {
      "text/html": [
       "<div>\n",
       "<style scoped>\n",
       "    .dataframe tbody tr th:only-of-type {\n",
       "        vertical-align: middle;\n",
       "    }\n",
       "\n",
       "    .dataframe tbody tr th {\n",
       "        vertical-align: top;\n",
       "    }\n",
       "\n",
       "    .dataframe thead th {\n",
       "        text-align: right;\n",
       "    }\n",
       "</style>\n",
       "<table border=\"1\" class=\"dataframe\">\n",
       "  <thead>\n",
       "    <tr style=\"text-align: right;\">\n",
       "      <th></th>\n",
       "      <th>상가업소번호</th>\n",
       "      <th>상호명</th>\n",
       "      <th>지점명</th>\n",
       "      <th>상권업종대분류코드</th>\n",
       "      <th>상권업종대분류명</th>\n",
       "      <th>상권업종중분류코드</th>\n",
       "      <th>상권업종중분류명</th>\n",
       "      <th>상권업종소분류코드</th>\n",
       "      <th>상권업종소분류명</th>\n",
       "      <th>표준산업분류코드</th>\n",
       "      <th>표준산업분류명</th>\n",
       "      <th>시도코드</th>\n",
       "      <th>시도명</th>\n",
       "      <th>시군구코드</th>\n",
       "      <th>시군구명</th>\n",
       "      <th>행정동코드</th>\n",
       "      <th>행정동명</th>\n",
       "      <th>법정동코드</th>\n",
       "      <th>법정동명</th>\n",
       "      <th>지번코드</th>\n",
       "      <th>대지구분코드</th>\n",
       "      <th>대지구분명</th>\n",
       "      <th>지번본번지</th>\n",
       "      <th>지번부번지</th>\n",
       "      <th>지번주소</th>\n",
       "      <th>도로명코드</th>\n",
       "      <th>도로명</th>\n",
       "      <th>건물본번지</th>\n",
       "      <th>건물부번지</th>\n",
       "      <th>건물관리번호</th>\n",
       "      <th>건물명</th>\n",
       "      <th>도로명주소</th>\n",
       "      <th>구우편번호</th>\n",
       "      <th>신우편번호</th>\n",
       "      <th>동정보</th>\n",
       "      <th>층정보</th>\n",
       "      <th>호정보</th>\n",
       "      <th>경도</th>\n",
       "      <th>위도</th>\n",
       "    </tr>\n",
       "  </thead>\n",
       "  <tbody>\n",
       "    <tr>\n",
       "      <th>0</th>\n",
       "      <td>25033300</td>\n",
       "      <td>동그라미중고타이어</td>\n",
       "      <td>NaN</td>\n",
       "      <td>D</td>\n",
       "      <td>소매</td>\n",
       "      <td>D23</td>\n",
       "      <td>자동차/자동차용품</td>\n",
       "      <td>D23A04</td>\n",
       "      <td>타이어판매</td>\n",
       "      <td>G45211</td>\n",
       "      <td>자동차 타이어 및 튜브 판매업</td>\n",
       "      <td>42</td>\n",
       "      <td>강원도</td>\n",
       "      <td>42150</td>\n",
       "      <td>강릉시</td>\n",
       "      <td>4215057100</td>\n",
       "      <td>포남1동</td>\n",
       "      <td>4.21501e+09</td>\n",
       "      <td>포남동</td>\n",
       "      <td>4215011100110960006</td>\n",
       "      <td>1</td>\n",
       "      <td>대지</td>\n",
       "      <td>1096</td>\n",
       "      <td>6</td>\n",
       "      <td>강원도 강릉시 포남동 1096-6</td>\n",
       "      <td>421503220001</td>\n",
       "      <td>강원도 강릉시 가작로</td>\n",
       "      <td>270</td>\n",
       "      <td>NaN</td>\n",
       "      <td>4215011100110960006010791</td>\n",
       "      <td>NaN</td>\n",
       "      <td>강원도 강릉시 가작로 270</td>\n",
       "      <td>210110</td>\n",
       "      <td>25488</td>\n",
       "      <td>1</td>\n",
       "      <td>NaN</td>\n",
       "      <td>NaN</td>\n",
       "      <td>128.904</td>\n",
       "      <td>37.7703</td>\n",
       "    </tr>\n",
       "  </tbody>\n",
       "</table>\n",
       "</div>"
      ],
      "text/plain": [
       "0    상가업소번호        상호명  지점명 상권업종대분류코드 상권업종대분류명 상권업종중분류코드   상권업종중분류명 상권업종소분류코드  \\\n",
       "0  25033300  동그라미중고타이어  NaN         D       소매       D23  자동차/자동차용품    D23A04   \n",
       "\n",
       "0 상권업종소분류명 표준산업분류코드           표준산업분류명 시도코드  시도명  시군구코드 시군구명       행정동코드  행정동명  \\\n",
       "0    타이어판매   G45211  자동차 타이어 및 튜브 판매업   42  강원도  42150  강릉시  4215057100  포남1동   \n",
       "\n",
       "0        법정동코드 법정동명                 지번코드 대지구분코드 대지구분명 지번본번지 지번부번지  \\\n",
       "0  4.21501e+09  포남동  4215011100110960006      1    대지  1096     6   \n",
       "\n",
       "0                지번주소         도로명코드          도로명 건물본번지 건물부번지  \\\n",
       "0  강원도 강릉시 포남동 1096-6  421503220001  강원도 강릉시 가작로   270   NaN   \n",
       "\n",
       "0                     건물관리번호  건물명            도로명주소   구우편번호  신우편번호 동정보  층정보  \\\n",
       "0  4215011100110960006010791  NaN  강원도 강릉시 가작로 270  210110  25488   1  NaN   \n",
       "\n",
       "0  호정보       경도       위도  \n",
       "0  NaN  128.904  37.7703  "
      ]
     },
     "execution_count": 118,
     "metadata": {},
     "output_type": "execute_result"
    }
   ],
   "source": [
    "df.head(1)"
   ]
  },
  {
   "cell_type": "code",
   "execution_count": 119,
   "id": "3efd3142",
   "metadata": {},
   "outputs": [
    {
     "data": {
      "text/plain": [
       "Index(['상가업소번호', '상호명', '지점명', '상권업종대분류코드', '상권업종대분류명', '상권업종중분류코드',\n",
       "       '상권업종중분류명', '상권업종소분류코드', '상권업종소분류명', '표준산업분류코드', '표준산업분류명', '시도코드',\n",
       "       '시도명', '시군구코드', '시군구명', '행정동코드', '행정동명', '법정동코드', '법정동명', '지번코드',\n",
       "       '대지구분코드', '대지구분명', '지번본번지', '지번부번지', '지번주소', '도로명코드', '도로명', '건물본번지',\n",
       "       '건물부번지', '건물관리번호', '건물명', '도로명주소', '구우편번호', '신우편번호', '동정보', '층정보',\n",
       "       '호정보', '경도', '위도'],\n",
       "      dtype='object', name=0)"
      ]
     },
     "execution_count": 119,
     "metadata": {},
     "output_type": "execute_result"
    }
   ],
   "source": [
    "# 컬럼명 가져오기\n",
    "df.columns"
   ]
  },
  {
   "cell_type": "markdown",
   "id": "396bd08a",
   "metadata": {},
   "source": [
    "### 필요한 컬럼만 추출하여 서브셋 만들기\n",
    "- 서브셋을 만들 때는 copy() 기능을 사용하는 것을 권장"
   ]
  },
  {
   "cell_type": "code",
   "execution_count": 121,
   "id": "e8424414",
   "metadata": {},
   "outputs": [],
   "source": [
    "df_store = df[['상호명','상권업종대분류명','상권업종중분류명','상권업종소분류명','시도명','시군구명','행정동명','법정동명','경도', '위도']].copy()"
   ]
  },
  {
   "cell_type": "markdown",
   "id": "ddddc91b",
   "metadata": {},
   "source": [
    "### 서브셋 데이터 확인"
   ]
  },
  {
   "cell_type": "code",
   "execution_count": 122,
   "id": "20312705",
   "metadata": {},
   "outputs": [
    {
     "data": {
      "text/plain": [
       "(2823823, 10)"
      ]
     },
     "execution_count": 122,
     "metadata": {},
     "output_type": "execute_result"
    }
   ],
   "source": [
    "# 데이터 크기\n",
    "df_store.shape"
   ]
  },
  {
   "cell_type": "code",
   "execution_count": 123,
   "id": "be813fe7",
   "metadata": {},
   "outputs": [
    {
     "name": "stdout",
     "output_type": "stream",
     "text": [
      "<class 'pandas.core.frame.DataFrame'>\n",
      "RangeIndex: 2823823 entries, 0 to 2823822\n",
      "Data columns (total 10 columns):\n",
      " #   Column    Dtype \n",
      "---  ------    ----- \n",
      " 0   상호명       object\n",
      " 1   상권업종대분류명  object\n",
      " 2   상권업종중분류명  object\n",
      " 3   상권업종소분류명  object\n",
      " 4   시도명       object\n",
      " 5   시군구명      object\n",
      " 6   행정동명      object\n",
      " 7   법정동명      object\n",
      " 8   경도        object\n",
      " 9   위도        object\n",
      "dtypes: object(10)\n",
      "memory usage: 215.4+ MB\n"
     ]
    }
   ],
   "source": [
    "df_store.info()"
   ]
  },
  {
   "cell_type": "markdown",
   "id": "e0693d76",
   "metadata": {},
   "source": [
    "### 결측치분석/처리"
   ]
  },
  {
   "cell_type": "code",
   "execution_count": 124,
   "id": "edb7db27",
   "metadata": {},
   "outputs": [
    {
     "data": {
      "text/plain": [
       "0\n",
       "상호명            1\n",
       "상권업종대분류명       1\n",
       "상권업종중분류명       1\n",
       "상권업종소분류명       1\n",
       "시도명            1\n",
       "시군구명           4\n",
       "행정동명         726\n",
       "법정동명        1004\n",
       "경도            20\n",
       "위도            21\n",
       "dtype: int64"
      ]
     },
     "execution_count": 124,
     "metadata": {},
     "output_type": "execute_result"
    }
   ],
   "source": [
    "df_store.isnull().sum()"
   ]
  },
  {
   "cell_type": "markdown",
   "id": "bc1bb343",
   "metadata": {},
   "source": [
    "## 상권업종분류"
   ]
  },
  {
   "cell_type": "code",
   "execution_count": 125,
   "id": "32481e10",
   "metadata": {},
   "outputs": [
    {
     "data": {
      "text/plain": [
       "array(['소매', '숙박', '학문/교육', '음식', '생활서비스', '부동산', '관광/여가/오락', '스포츠',\n",
       "       '소방/인테리어', 'G47419', '경상북도', '4728032029100690002832308',\n",
       "       '4001899', '부동산중개', '소맑흥S-클래스', '2', '', '2823759200', None],\n",
       "      dtype=object)"
      ]
     },
     "execution_count": 125,
     "metadata": {},
     "output_type": "execute_result"
    }
   ],
   "source": [
    "df_store['상권업종대분류명'].unique()"
   ]
  },
  {
   "cell_type": "code",
   "execution_count": 150,
   "id": "3afca664",
   "metadata": {},
   "outputs": [],
   "source": [
    "del_index = df_store[(df_store['상권업종대분류명']=='2') | \n",
    "         (df_store['상권업종대분류명']=='4001899') | \n",
    "         (df_store['상권업종대분류명']=='2823759200') |\n",
    "         (df_store['상권업종대분류명']=='')|\n",
    "         (df_store['상권업종대분류명'].isnull()) |\n",
    "         (df_store['상권업종대분류명']=='4728032029100690002832308') |\n",
    "         (df_store['상권업종대분류명']=='경상북도') |\n",
    "         (df_store['상권업종대분류명']=='G47419')].index"
   ]
  },
  {
   "cell_type": "code",
   "execution_count": 154,
   "id": "28dd78f4",
   "metadata": {},
   "outputs": [],
   "source": [
    "df_store = df_store.drop(del_index)"
   ]
  },
  {
   "cell_type": "code",
   "execution_count": 155,
   "id": "cf16fc6d",
   "metadata": {},
   "outputs": [
    {
     "data": {
      "text/plain": [
       "array(['소매', '숙박', '학문/교육', '음식', '생활서비스', '부동산', '관광/여가/오락', '스포츠',\n",
       "       '소방/인테리어', '부동산중개', '소맑흥S-클래스'], dtype=object)"
      ]
     },
     "execution_count": 155,
     "metadata": {},
     "output_type": "execute_result"
    }
   ],
   "source": [
    "df_store['상권업종대분류명'].unique()"
   ]
  },
  {
   "cell_type": "code",
   "execution_count": 157,
   "id": "cb9ed6f8",
   "metadata": {},
   "outputs": [],
   "source": [
    "del_index = df_store[df_store['상권업종대분류명']=='소맑흥S-클래스'].index"
   ]
  },
  {
   "cell_type": "code",
   "execution_count": 158,
   "id": "066f454e",
   "metadata": {},
   "outputs": [],
   "source": [
    "df_store = df_store.drop(del_index)"
   ]
  },
  {
   "cell_type": "code",
   "execution_count": 160,
   "id": "762fc95e",
   "metadata": {},
   "outputs": [
    {
     "data": {
      "text/plain": [
       "array(['소매', '숙박', '학문/교육', '음식', '생활서비스', '부동산', '관광/여가/오락', '스포츠',\n",
       "       '소방/인테리어', '부동산중개'], dtype=object)"
      ]
     },
     "execution_count": 160,
     "metadata": {},
     "output_type": "execute_result"
    }
   ],
   "source": [
    "df_store['상권업종대분류명'].unique()"
   ]
  },
  {
   "cell_type": "code",
   "execution_count": 161,
   "id": "6a935565",
   "metadata": {},
   "outputs": [
    {
     "data": {
      "text/plain": [
       "10"
      ]
     },
     "execution_count": 161,
     "metadata": {},
     "output_type": "execute_result"
    }
   ],
   "source": [
    "df_store['상권업종대분류명'].nunique()"
   ]
  },
  {
   "cell_type": "code",
   "execution_count": 162,
   "id": "46377d0f",
   "metadata": {},
   "outputs": [
    {
     "data": {
      "text/plain": [
       "array(['자동차/자동차용품', '호텔/콘도', '가구소매', '학원기타', '유흥주점', '철물/난방/건설자재소매',\n",
       "       '주유소/충전소', '가방/신발/액세서리', '가정/주방/인테리어', '커피점/카페', '한식', '화장품소매',\n",
       "       '선물/팬시/기념품', '캠프/별장/펜션', '음/식료품소매', '민박/하숙', '부동산중개', '의복의류',\n",
       "       '학원-음악미술무용', '개인/가정용품수리', '분식', '세탁/가사서비스', '주택수리', '인력/고용/용역알선',\n",
       "       '가전제품소매', '기타판매업', '학원-어학', '종합소매점', '일식/수산물', '사무/문구/컴퓨터',\n",
       "       '이/미용/건강', '제과제빵떡케익', '모텔/여관/여인숙', '무도/유흥/가무', '광고/인쇄',\n",
       "       '취미/오락관련소매', '사진/광학/정밀기기소매', '자동차/이륜차', '대중목욕탕/휴게', '놀이/여가/취미',\n",
       "       '건강/미용식품', '패스트푸드', '실내운동시설', '학원-창업취업취미', '닭/오리요리', '시계/귀금속소매',\n",
       "       '중식', '페인트/유리제품소매', '중고품소매/교환', '유아교육', '유아용품', '학원-예능취미체육',\n",
       "       '요가/단전/마사지', '운동/경기용품소매', '학원-보습교습입시', '대행업', '실외운동시설', '의약/의료품소매',\n",
       "       '분양', 'PC/오락/당구/볼링등', '기타서비스업', '학문교육기타', '별식/퓨전요리', '책/서적/도서',\n",
       "       '장례/묘지', '물품기기대여', '양식', '애견/애완/동물', '사진', '기타음식업', '도서관/독서실',\n",
       "       '법무세무회계', '행사/이벤트', '개인서비스', '운송/배달/택배', '예술품/골동품/수석/분재', '부페',\n",
       "       '예식/의례/관혼상제', '학원-자격/국가고시', '음식배달서비스', '경마/경륜/성인오락', '스포츠/운동',\n",
       "       '종교용품판매', '운영관리시설', '학원-컴퓨터', '평가/개발/관리', '연극/영화/극장', '유스호스텔',\n",
       "       '부동산관련서비스', '가정/6-18', '조명기구/전기용품', '부동산 자문 및 중개업', '06'],\n",
       "      dtype=object)"
      ]
     },
     "execution_count": 162,
     "metadata": {},
     "output_type": "execute_result"
    }
   ],
   "source": [
    "df_store['상권업종중분류명'].unique()"
   ]
  },
  {
   "cell_type": "code",
   "execution_count": 163,
   "id": "d0e1c1db",
   "metadata": {},
   "outputs": [
    {
     "data": {
      "text/plain": [
       "93"
      ]
     },
     "execution_count": 163,
     "metadata": {},
     "output_type": "execute_result"
    }
   ],
   "source": [
    "df_store['상권업종중분류명'].nunique()"
   ]
  },
  {
   "cell_type": "code",
   "execution_count": 164,
   "id": "6236f299",
   "metadata": {},
   "outputs": [
    {
     "data": {
      "text/plain": [
       "array(['타이어판매', '호텔/콘도', '일반가구소매', '학원(종합)', '호프/맥주', '기타일반유흥주점',\n",
       "       '보일러/냉난방용품', '셔터/새시판매', '차량가스충전소', '양품점', '정수기연수기', '커피전문점/카페/다방',\n",
       "       '한식/백반/한정식', '족발/보쌈전문', '자동차장식품판매', '화장품판매점', '공예품판매', '캠프/별장/펜션',\n",
       "       '청과물소매', '민박/하숙', '부동산중개', '섬유/직물/주단', '피아노/바이올린/기타', '컴퓨터수리',\n",
       "       '떡볶이전문', '수산물소매', '청소/소독', '가스설비', '서예/서화/미술', '유리/페인트/철물건축자재',\n",
       "       '인력공급/고용알선', '일반가전제품', '자동판매기운영', '주방가구판매', '인테리어/욕실용품/커튼',\n",
       "       '학원-외국어/어학', '잡화점', '횟집', '사무/문구용품', '지물판매', '여성미용실', '셔츠/내의/속옷',\n",
       "       '찐빵전문', '모텔/여관/여인숙', '노래방', '중고자동차판매', '식료품점', '광고물제작', '수족관',\n",
       "       '핸드폰소매', '세차장', '건어물상', '욕탕업-종합', '일반의류', '편의점', '자동차정비/카센타',\n",
       "       '세탁소/빨래방', '침구/수예품', '한정식전문', '종합소매', '자전거판매/수리', '철물/건설자재소매',\n",
       "       '기타오락관련산업', '건강식품판매', '도너츠전문', '체육관', '학원-만화영화', '배관난방보일러', '할인점',\n",
       "       '후라이드/양념치킨', '시계/귀금속', '닭갈비전문', '가전제품수리', '안경원', '중국음식/중국집',\n",
       "       '수퍼마켓', '학원-어린이영어', '액세서리판매', '도료염료', '조명기구/전기용품', '어물상',\n",
       "       '국수/만두/칼국수', '해물찜/탕전문', '황태전문', '재활용/고물수집', '어린이집', '갈비/삼겹살',\n",
       "       '패스트푸드', '유아용품판매', '태권도장', '오토바이판매/수리', '지압원', '자전거판매', '스포츠마사지',\n",
       "       '학원-입시', '꽃집/꽃배달', '운동/경기용품', '낚시터', '신발소매', '유리/거울판매', '전단지배포대행',\n",
       "       '주유소', '기타고기요리', 'LPG판매', '라면김밥분식', '방앗간/정미소', '무도장', '수상스키',\n",
       "       '의료용품소매', '스낵', '육류소매', '정육점', '여성의류전문점', '건물분양-종합', '나이트클럽',\n",
       "       '생활용품판매', '빠/카페/스탠드빠', '래프팅', '자동차부품판매', '인터넷PC방', '시장/종합상가',\n",
       "       '상품전시', '학습지보급', '순대전문점', '안마시술소', '소주방/포장마차', '건강원', '종교서적판매',\n",
       "       '컴퓨터/주변기기', '골프용품판매', '장의사/관련서비스-종합', '김치판매', '남성미용실', '반찬가게',\n",
       "       '렌트카', '룸살롱/단란주점', '맞춤양장/양장점', '부대찌개/섞어찌개', '의약품소매', '발/네일케어',\n",
       "       '복권판매', '정통양식/경양식', '애완동물 미용실', '닭내장/닭발요리', '서적/신문소매', '사진관',\n",
       "       '유리창호', '개인/가정용품수리-종합', '캐쥬얼/스포츠의류', '구내식당/자급식음식점', '등산용품판매',\n",
       "       '예복/웨딩드레스', '주방용품', '가방/가죽제품소매', '해장국/감자탕', '아동복판매', '떡전문',\n",
       "       '학원-기타', '기능성신발판매', '곡물소매', '인삼제품판매', '낚시용품판매', '옷수선', '업소용가전제품',\n",
       "       '선물용품판매', '네비게이션판매', '중고가전가구', '불닭전문', '제과점', '비만/피부관리', '음식점-일식',\n",
       "       '보리밥전문', '갈치/생선구이', '오리고기전문', '수산물전문음식점-종합', '자동차판매', '목제품판매',\n",
       "       '독서실', '돈가스전문점', '인쇄종합', '탁구장', '간판제작종합', '법무관련서비스-종합', '열쇠판매/수리',\n",
       "       '농기구판매', '출장파티/연회대행', '페인트/유리제품소매', '바베큐전문', '성인용품판매', '두유판매',\n",
       "       '탐정/경호', '기타실내운동시설', '악기판매', '우체국/우편물취급소', '에어컨수리/설치', '농자재판매',\n",
       "       '탕수육전문점', '건축백화점', '카메라판매', '학원-펜글씨/한문', '참치전문점', '민물장어전문', '화랑',\n",
       "       '가구판매-사무용가구', '종합부페', '가정용연료소매', '수영장', '종합이삿짐대행', '매운탕전문', '그릇판매',\n",
       "       '바닷가재/게요리전문', '컴퓨터/사무용기기종합', '축구장', '서점', '실내골프연습장', '냉면집',\n",
       "       '수상운동용품판매', '삼계탕전문', '핫도그', '스포츠센터', '가구판매-침대전문', '헬스클럽', '운명감정작명',\n",
       "       '구두제화/캐주얼화', '관광/민예품/선물용품소매', '안전보호구판매', '학원-스포츠/재즈댄스', '승마장',\n",
       "       '기사식당', '액자점', '관광/유흥주점', '수입품판매점', '샤브샤브전문', '식자재판매', '예식장/예식서비스',\n",
       "       '기타전문서양음식점', '게이트볼장', '의류/한복대여', '학원-공인중개사', '사무용기기소매', '사철탕전문',\n",
       "       '순두부전문', '기타실외운동시설', '목욕업-찜질방', '고기부페', '특수복판매', '야식집', '여성내의전문점',\n",
       "       '두부요리전문', '게임룸', '서바이벌게임장', '추어탕전문', '피자전문', '광고물제작-종합', '주차장운영',\n",
       "       '시계방', '미곡상', '홈패션', '재봉용품판매', '사주카페', '한복/갈옷/민속옷', '동남아음식전문점',\n",
       "       '꼬치구이전문점', '설렁탕집', '태양열온수기판매', '아이스크림판매', '고속도로휴게소', '스키장비판매',\n",
       "       '학원-공예', '곱창/양구이전문', '우동전문점', '낙지/오징어', '보청기판매', '화방/필방', '퀼트전문',\n",
       "       '조개구이전문', '아케이드/쇼핑센타', '국도휴게소', '무도유흥주점-종합', '학원-배우/탤런트',\n",
       "       '건강보조기구판매', '고객관리대행', '로바다야끼', '주택수리종합', '학원-자동차운전', '토종닭전문',\n",
       "       '유니폼/맞춤복/단체복', '생수판매', '수도설비', '전통찻집/인삼찻집', '종교용품판매-불교', '도시락전문점',\n",
       "       '쌈밥전문', '사업경영상담', '당구장', '기타운영설비', '미싱판매', '맞춤양복/양복점', '스테이크전문점',\n",
       "       '학원-주산암산부기속셈', '상품권판매', '유도장', '유류판매', '눈썰매장', '컴퓨터학원', '학원-바둑',\n",
       "       '오락/스포츠용품대여', '떡/한과집', '다이어트상품판매', '교복판매', '자동차유리전문점', '열쇠제작',\n",
       "       '케익전문점', '주택공급', '사우나/증기탕/온천', '요가/단식', '가구수리', '가방구두수전', '단전호흡',\n",
       "       '건강/헬스용품', '유기농식품판매', '학원-간호조무사', '오락게임기구/장난감소매', '샌드위치전문점',\n",
       "       '통신판매', '국/찌개배달', '카오디오전문', '가발판매', '묘지관리-종합', '농기구수리',\n",
       "       '기타경기후원업/경기단체', '수입가전제품판매', '전화기판매', '유아/임부복', '정보통신기기수리', '생식판매',\n",
       "       '애견/애완/동물사육판매', '닭집', '노래방기기판매', '금은방', '볼링장', '곰장어전문', '우유판매',\n",
       "       '예술품/골동품소매', '컴퓨터전문매장', '비디오/오디오테이프대여', '소파침대카펫트세탁', '남성의류전문점',\n",
       "       '도서/만화대여', '조립식앵글판매', '이종격투기', '민속주점', '검도도장', '아구전문', '학원-무용',\n",
       "       '테니스장', '킥복싱', '선식판매', '연탄판매', '유아용품/장난감대여판매', '패밀리레스토랑', '십자수/뜨개',\n",
       "       '필름판매점', '음반/테이프/CD', '번역/통역서비스', '잡지/신문소매', '죽전문점', '구판장/직판장',\n",
       "       '외국서적판매', '혼수전문점', '이벤트기획', '지역정보지', '제사음식', '심야전기보일러판매', '놀이방',\n",
       "       '패러글라이딩', '학원-자동차정비', '가구판매-수입가구', '학원-말더듬', '애견카페', '식용유판매',\n",
       "       '골프장', '결혼상담소', '인장/도장', '미장타일도배도장', '신용카드조회기판매', '금연관련제품판매',\n",
       "       '지도판매', '드라이아이스판매', '합기도장', '호스피스', '옻닭전문', '부동산자문', '완구점',\n",
       "       '돌구이요리전문', '광택전문', '솜틀집', '녹즙판매', '학원-요리', '쿵후도장', '연극/음악/예술관련기타',\n",
       "       '부동산감정평가', '스파게티전문점', '카레전문점', '유스호스텔', '기원', '찜닭전문점', '음식점-초밥전문',\n",
       "       '조합/연금매장', '단식원', '고등어전문', '백화점', '학원-피부미용', '붕어찜전문', '파전전문',\n",
       "       '학원-미용', '비데판매', '화환/화분대여', '기념패/휘장', '금고판매', '토산품/기념품점', '보석감정',\n",
       "       '신발세탁', '스쿼시장', '가구판매-돌침대', '폐백전문', '복싱도장', '얼음가게', '학원-서당',\n",
       "       '잉크충전', '유아교육기관기타', '신용조사/흥신소', '사료소매', '실외골프연습장', '표구점',\n",
       "       '노점/유사이동판매', '학원-국악', '사무기기대여', '한식부페', '토스트전문', '복사대행', '운전연수전문',\n",
       "       '면세백화점', '복전문', '음식출장조달', '전자오락실', '돌솥/비빕밥전문점', '철판구이요리전문', '세탁대행',\n",
       "       '스티커사진방', '운동/코치학교', '이민유학알선', '그림/액자판매', '실내수영장', '게장전문', '수석판매',\n",
       "       '중고명품판매교환', '스킨스쿠버강습', '연예인대리업', '풍선도소매', '채식/한식부페', '저울판매',\n",
       "       '물수건대여', '생과일주스전문점', '레크레이션지도/상담', '무전기(판매/수리)', '악기수선', '분재판매',\n",
       "       '버섯전문점', '학원-중장비', '학원/국가고시', '학원-속기', '상가분양', '학원-심리변론', '스키장',\n",
       "       '물품대여종합', '굴요리전문', '심부름센터', '학원-전기기술', '가스레인지판매', '어판장', '닭도리탕전문',\n",
       "       '행사대행', '휴게텔', '실내놀이터-유아', '법복(승복)판매', '동물약품판매', '학원-검정고시',\n",
       "       '가정용가구/기기임대', '학원-속독', '비즈공예', '총포상', '홍어전문', '실내야구연습장', '주말농장',\n",
       "       '체형미교실', '운동경기협회', '가사도우미알선', '냉동식품판매', '부동산신탁', '실외궁도장',\n",
       "       '물품감정서비스', '기독교서적판매', '보드게임카페', '수영용품판매', '부동산소유권조사', '카페트판매',\n",
       "       '진열장판매', '이동도서관운영', '가구판매-등가구', '택견도장', '학원-제과기술', '학원-목공예',\n",
       "       '건과류판매', '실내낚시', '수입자동차판매', '경보기판매', '중고서적판매', '학원-경영', '가죽/모피의류',\n",
       "       '공연티켓예매', '유아식품판매', '오디오전문점', '스케이트장', '액세서리수선', '할인/아동도서',\n",
       "       '골동품판매', '비디오감상실', '퓨전음식전문', '학원-사교춤', '우산/우의판매', '인공암벽',\n",
       "       '학원-애견미용', '학원-항공기술', '학원-웅변', '오락용사격장', '유과판매', '상업사진',\n",
       "       '생활정보제공서비스', '사진/광학/정밀기기소매', '피아노조율', '천주교서적판매', '블럭놀이방',\n",
       "       '학원-네일아트', '음악감상', '사업중개업', '컴퓨터프로그램판매', '박제표본', '극장식유흥주점',\n",
       "       '학원-도배', '한국식유흥주점', '가죽/모피수선', '향수전문점', '청바지판매', '볼링용품판매', '예절지도',\n",
       "       '학원-편입', '사무대리서비스', '종교용품판매-기독교', '지도제작', '중고타이어판매', '실내테니스장',\n",
       "       '학원-디자인', '프로스포츠경기운영', '현미경/망원경판매', '학원-양재', '사무실분양', '학원-에어로빅',\n",
       "       '금고수리', '학원-가요', '실내스케이트장', '상품포장', '종교용품판매', '고시원', '캐릭터상품',\n",
       "       '휴대폰튜닝', '생과자점', '유산균아이스크림전문', '시험정보안내', '프로골프', '프로축구',\n",
       "       '학원-자수/동양자수', '롤러스케이트장', '리본공예판매', '조립칸막이/파티션', '학원-미싱자수', '편집대행',\n",
       "       '광고대행-전화번호부', '작곡', '야구장', '지물재단', '생활용품대여', '사격장', '학원-꽃꽃이',\n",
       "       '물물교환센타', '목재대여', '실내궁도장', '학원-광고디자인', '파라솔판매', '학원-침술',\n",
       "       '학원-냉동열관리', '패션디자인', '학원-건축토목기술', '경비행기', '제기용품판매', '제과재료판매',\n",
       "       '학원-분장', '가구판매-응접세트', '학원-간판디자인', '풋살경기장', '인라인스케이트판매', '학원-용접기술',\n",
       "       '우표/공중전화카드수집상', '학원-마술', '학원-모델', '이삿짐보관', '학원-사진', '다이아몬드매매',\n",
       "       '락카페', '컴퓨터입력대행', '가구판매-장농', '학원-역학', '학원-실내운전', '연극공연/영화제작용품임대',\n",
       "       '의족/의수판매', '재첩국전문', '이벤트용품판매', '징기스칸요리전문', '학원-경리', '학원-한복기술',\n",
       "       '도면제작대행', '문서송달대행', '등세공품판매', '골동품수리', '골프회원권거래소', '해물부페',\n",
       "       '냉온수기소독/수리', '실외야구연습장', '대서소', '실내사격장', '황토상품전문점', '악기대여',\n",
       "       '수렵장관리운영', '학원-이용', '가죽모피세탁', '조립모형소매', '학원-전자기술', '차량연료소매-종합',\n",
       "       '회갑연서비스', '활기원', '동화구연', '학원-칵테일', '종교용품판매-천주교', '비행훈련원',\n",
       "       '학원-기계/금형기술', '학원-전자통신', '학원-레크리에이션', '장식품대여', '조감도/투시도전문',\n",
       "       '화폐수집상', '학원-목욕관리사', '미용실-어린이', '디스플레이대행', '학원-배관용접', '도자기대여',\n",
       "       '광촉매판매', '학원-국가고시', '포켓볼장', '꽃꽂이(대행)', '학원-복장', '컴퓨터대여', '불교서적판매',\n",
       "       '초상화제작', '머리고기전문', '프로야구', '차트제작', '피아노운반', '수입담배판매', '프로권투',\n",
       "       '학원-환경기사', '학원-동물사육', '경상남도 양산시 하북면 통도8길', '전기용품 및 조명장치 소매업',\n",
       "       '세탁기구판매', '학원-캐드', '석궁용품판매', '학원-스튜디어스', '경상북도', '바둑/장기용품판매',\n",
       "       '영사기판매', '전자오락기구판매', '특수사진기', '학원-보석감정', '학원-경찰', '수입중고자동차판매',\n",
       "       '고서적판매', '지점토판매', '학원-텔렉스/통신', '비디오카메라대여', '가방대여', '학원-기계고시',\n",
       "       '학원-디스플레이', '학원-지점토', '국제회의용역', '호신용품판매', '학원-TV기술', '응원기획',\n",
       "       '해외취업알선', '학원-관광통역', '필체감정', '학원-기억법', '컴퓨터서적판매', '학원-섬유기술',\n",
       "       '학원-시계기술학원', '석궁장', '인천광역시 미추홀구 소성로 238', '학원-비디오', '사진/원고/기록물대여',\n",
       "       '번지점프', '행글라이더'], dtype=object)"
      ]
     },
     "execution_count": 164,
     "metadata": {},
     "output_type": "execute_result"
    }
   ],
   "source": [
    "df_store['상권업종소분류명'].unique()"
   ]
  },
  {
   "cell_type": "code",
   "execution_count": 165,
   "id": "8f58c6b9",
   "metadata": {},
   "outputs": [
    {
     "data": {
      "text/plain": [
       "720"
      ]
     },
     "execution_count": 165,
     "metadata": {},
     "output_type": "execute_result"
    }
   ],
   "source": [
    "df_store['상권업종소분류명'].nunique()"
   ]
  },
  {
   "cell_type": "markdown",
   "id": "3f2dfefb",
   "metadata": {},
   "source": [
    "### 상권업종분류표"
   ]
  },
  {
   "cell_type": "code",
   "execution_count": 166,
   "id": "ed94399c",
   "metadata": {},
   "outputs": [],
   "source": [
    "df_store_class = df_store[['상권업종대분류명','상권업종중분류명','상권업종소분류명']].drop_duplicates().sort_values(['상권업종대분류명','상권업종중분류명','상권업종소분류명'])"
   ]
  },
  {
   "cell_type": "code",
   "execution_count": 170,
   "id": "6099d82a",
   "metadata": {},
   "outputs": [
    {
     "data": {
      "text/html": [
       "<div>\n",
       "<style scoped>\n",
       "    .dataframe tbody tr th:only-of-type {\n",
       "        vertical-align: middle;\n",
       "    }\n",
       "\n",
       "    .dataframe tbody tr th {\n",
       "        vertical-align: top;\n",
       "    }\n",
       "\n",
       "    .dataframe thead th {\n",
       "        text-align: right;\n",
       "    }\n",
       "</style>\n",
       "<table border=\"1\" class=\"dataframe\">\n",
       "  <thead>\n",
       "    <tr style=\"text-align: right;\">\n",
       "      <th></th>\n",
       "      <th>상권업종대분류명</th>\n",
       "      <th>상권업종중분류명</th>\n",
       "      <th>상권업종소분류명</th>\n",
       "    </tr>\n",
       "  </thead>\n",
       "  <tbody>\n",
       "    <tr>\n",
       "      <th>7887</th>\n",
       "      <td>관광/여가/오락</td>\n",
       "      <td>PC/오락/당구/볼링등</td>\n",
       "      <td>기원</td>\n",
       "    </tr>\n",
       "    <tr>\n",
       "      <th>2661</th>\n",
       "      <td>관광/여가/오락</td>\n",
       "      <td>PC/오락/당구/볼링등</td>\n",
       "      <td>당구장</td>\n",
       "    </tr>\n",
       "    <tr>\n",
       "      <th>4359</th>\n",
       "      <td>관광/여가/오락</td>\n",
       "      <td>PC/오락/당구/볼링등</td>\n",
       "      <td>볼링장</td>\n",
       "    </tr>\n",
       "    <tr>\n",
       "      <th>40779</th>\n",
       "      <td>관광/여가/오락</td>\n",
       "      <td>PC/오락/당구/볼링등</td>\n",
       "      <td>비디오감상실</td>\n",
       "    </tr>\n",
       "    <tr>\n",
       "      <th>48565</th>\n",
       "      <td>관광/여가/오락</td>\n",
       "      <td>PC/오락/당구/볼링등</td>\n",
       "      <td>오락용사격장</td>\n",
       "    </tr>\n",
       "    <tr>\n",
       "      <th>...</th>\n",
       "      <td>...</td>\n",
       "      <td>...</td>\n",
       "      <td>...</td>\n",
       "    </tr>\n",
       "    <tr>\n",
       "      <th>132820</th>\n",
       "      <td>학문/교육</td>\n",
       "      <td>학원기타</td>\n",
       "      <td>학원-모델</td>\n",
       "    </tr>\n",
       "    <tr>\n",
       "      <th>154461</th>\n",
       "      <td>학문/교육</td>\n",
       "      <td>학원기타</td>\n",
       "      <td>학원-실내운전</td>\n",
       "    </tr>\n",
       "    <tr>\n",
       "      <th>19519</th>\n",
       "      <td>학문/교육</td>\n",
       "      <td>학원기타</td>\n",
       "      <td>학원-심리변론</td>\n",
       "    </tr>\n",
       "    <tr>\n",
       "      <th>154184</th>\n",
       "      <td>학문/교육</td>\n",
       "      <td>학원기타</td>\n",
       "      <td>학원-역학</td>\n",
       "    </tr>\n",
       "    <tr>\n",
       "      <th>110201</th>\n",
       "      <td>학문/교육</td>\n",
       "      <td>학원기타</td>\n",
       "      <td>학원-침술</td>\n",
       "    </tr>\n",
       "  </tbody>\n",
       "</table>\n",
       "<p>720 rows × 3 columns</p>\n",
       "</div>"
      ],
      "text/plain": [
       "0       상권업종대분류명      상권업종중분류명 상권업종소분류명\n",
       "7887    관광/여가/오락  PC/오락/당구/볼링등       기원\n",
       "2661    관광/여가/오락  PC/오락/당구/볼링등      당구장\n",
       "4359    관광/여가/오락  PC/오락/당구/볼링등      볼링장\n",
       "40779   관광/여가/오락  PC/오락/당구/볼링등   비디오감상실\n",
       "48565   관광/여가/오락  PC/오락/당구/볼링등   오락용사격장\n",
       "...          ...           ...      ...\n",
       "132820     학문/교육          학원기타    학원-모델\n",
       "154461     학문/교육          학원기타  학원-실내운전\n",
       "19519      학문/교육          학원기타  학원-심리변론\n",
       "154184     학문/교육          학원기타    학원-역학\n",
       "110201     학문/교육          학원기타    학원-침술\n",
       "\n",
       "[720 rows x 3 columns]"
      ]
     },
     "execution_count": 170,
     "metadata": {},
     "output_type": "execute_result"
    }
   ],
   "source": [
    "# 상권업종 분류표 모두보기(최대 행 수 지정)\n",
    "pd.options.display.max_rows=20\n",
    "df_store_class"
   ]
  },
  {
   "cell_type": "code",
   "execution_count": null,
   "id": "21cf0559",
   "metadata": {},
   "outputs": [],
   "source": []
  }
 ],
 "metadata": {
  "kernelspec": {
   "display_name": "Python 3",
   "language": "python",
   "name": "python3"
  },
  "language_info": {
   "codemirror_mode": {
    "name": "ipython",
    "version": 3
   },
   "file_extension": ".py",
   "mimetype": "text/x-python",
   "name": "python",
   "nbconvert_exporter": "python",
   "pygments_lexer": "ipython3",
   "version": "3.8.5"
  },
  "toc": {
   "base_numbering": 1,
   "nav_menu": {},
   "number_sections": true,
   "sideBar": true,
   "skip_h1_title": false,
   "title_cell": "Table of Contents",
   "title_sidebar": "Contents",
   "toc_cell": false,
   "toc_position": {},
   "toc_section_display": true,
   "toc_window_display": false
  }
 },
 "nbformat": 4,
 "nbformat_minor": 5
}
