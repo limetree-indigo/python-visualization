{
 "cells": [
  {
   "cell_type": "code",
   "execution_count": 1,
   "id": "27bd01ab",
   "metadata": {},
   "outputs": [],
   "source": [
    "import pandas as pd\n",
    "import matplotlib.pyplot as plt"
   ]
  },
  {
   "cell_type": "code",
   "execution_count": 3,
   "id": "f9e2c9b6",
   "metadata": {},
   "outputs": [],
   "source": [
    "# 그래프에 한글 설정\n",
    "plt.rc('font', family='AppleGothic')\n",
    "\n",
    "# 그래프에 마이너스 기호 깨지는 문제 해결\n",
    "plt.rcParams['axes.unicode_minus'] = False"
   ]
  },
  {
   "cell_type": "markdown",
   "id": "21022c42",
   "metadata": {},
   "source": [
    "# 샘플 데이터\n",
    "- 어느 두 매장의 요일별 평균 매출"
   ]
  },
  {
   "cell_type": "code",
   "execution_count": 4,
   "id": "c223dd90",
   "metadata": {},
   "outputs": [
    {
     "data": {
      "text/html": [
       "<div>\n",
       "<style scoped>\n",
       "    .dataframe tbody tr th:only-of-type {\n",
       "        vertical-align: middle;\n",
       "    }\n",
       "\n",
       "    .dataframe tbody tr th {\n",
       "        vertical-align: top;\n",
       "    }\n",
       "\n",
       "    .dataframe thead th {\n",
       "        text-align: right;\n",
       "    }\n",
       "</style>\n",
       "<table border=\"1\" class=\"dataframe\">\n",
       "  <thead>\n",
       "    <tr style=\"text-align: right;\">\n",
       "      <th></th>\n",
       "      <th>요일</th>\n",
       "      <th>매출액</th>\n",
       "    </tr>\n",
       "  </thead>\n",
       "  <tbody>\n",
       "    <tr>\n",
       "      <th>0</th>\n",
       "      <td>월</td>\n",
       "      <td>10000</td>\n",
       "    </tr>\n",
       "    <tr>\n",
       "      <th>1</th>\n",
       "      <td>화</td>\n",
       "      <td>9000</td>\n",
       "    </tr>\n",
       "    <tr>\n",
       "      <th>2</th>\n",
       "      <td>수</td>\n",
       "      <td>11000</td>\n",
       "    </tr>\n",
       "    <tr>\n",
       "      <th>3</th>\n",
       "      <td>목</td>\n",
       "      <td>8000</td>\n",
       "    </tr>\n",
       "    <tr>\n",
       "      <th>4</th>\n",
       "      <td>금</td>\n",
       "      <td>13000</td>\n",
       "    </tr>\n",
       "    <tr>\n",
       "      <th>5</th>\n",
       "      <td>토</td>\n",
       "      <td>15000</td>\n",
       "    </tr>\n",
       "    <tr>\n",
       "      <th>6</th>\n",
       "      <td>일</td>\n",
       "      <td>14000</td>\n",
       "    </tr>\n",
       "  </tbody>\n",
       "</table>\n",
       "</div>"
      ],
      "text/plain": [
       "  요일    매출액\n",
       "0  월  10000\n",
       "1  화   9000\n",
       "2  수  11000\n",
       "3  목   8000\n",
       "4  금  13000\n",
       "5  토  15000\n",
       "6  일  14000"
      ]
     },
     "execution_count": 4,
     "metadata": {},
     "output_type": "execute_result"
    }
   ],
   "source": [
    "df1 = pd.DataFrame({'요일':['월','화','수','목','금','토','일'],\n",
    "                    '매출액':[10000,9000,11000,8000,13000,15000,14000]})\n",
    "df1"
   ]
  },
  {
   "cell_type": "code",
   "execution_count": 5,
   "id": "a8c0ef16",
   "metadata": {},
   "outputs": [
    {
     "data": {
      "text/html": [
       "<div>\n",
       "<style scoped>\n",
       "    .dataframe tbody tr th:only-of-type {\n",
       "        vertical-align: middle;\n",
       "    }\n",
       "\n",
       "    .dataframe tbody tr th {\n",
       "        vertical-align: top;\n",
       "    }\n",
       "\n",
       "    .dataframe thead th {\n",
       "        text-align: right;\n",
       "    }\n",
       "</style>\n",
       "<table border=\"1\" class=\"dataframe\">\n",
       "  <thead>\n",
       "    <tr style=\"text-align: right;\">\n",
       "      <th></th>\n",
       "      <th>요일</th>\n",
       "      <th>매출액</th>\n",
       "    </tr>\n",
       "  </thead>\n",
       "  <tbody>\n",
       "    <tr>\n",
       "      <th>0</th>\n",
       "      <td>월</td>\n",
       "      <td>9000</td>\n",
       "    </tr>\n",
       "    <tr>\n",
       "      <th>1</th>\n",
       "      <td>화</td>\n",
       "      <td>9500</td>\n",
       "    </tr>\n",
       "    <tr>\n",
       "      <th>2</th>\n",
       "      <td>수</td>\n",
       "      <td>13000</td>\n",
       "    </tr>\n",
       "    <tr>\n",
       "      <th>3</th>\n",
       "      <td>목</td>\n",
       "      <td>7000</td>\n",
       "    </tr>\n",
       "    <tr>\n",
       "      <th>4</th>\n",
       "      <td>금</td>\n",
       "      <td>12000</td>\n",
       "    </tr>\n",
       "    <tr>\n",
       "      <th>5</th>\n",
       "      <td>토</td>\n",
       "      <td>14000</td>\n",
       "    </tr>\n",
       "    <tr>\n",
       "      <th>6</th>\n",
       "      <td>일</td>\n",
       "      <td>11000</td>\n",
       "    </tr>\n",
       "  </tbody>\n",
       "</table>\n",
       "</div>"
      ],
      "text/plain": [
       "  요일    매출액\n",
       "0  월   9000\n",
       "1  화   9500\n",
       "2  수  13000\n",
       "3  목   7000\n",
       "4  금  12000\n",
       "5  토  14000\n",
       "6  일  11000"
      ]
     },
     "execution_count": 5,
     "metadata": {},
     "output_type": "execute_result"
    }
   ],
   "source": [
    "df2 = pd.DataFrame({'요일':['월','화','수','목','금','토','일'],\n",
    "                    '매출액':[9000,9500,13000,7000,12000,14000,11000]})\n",
    "df2"
   ]
  },
  {
   "cell_type": "markdown",
   "id": "41c7cd4b",
   "metadata": {},
   "source": [
    "# 막대그래프\n",
    "- plt.bar(x축데이터,y축데이터)"
   ]
  },
  {
   "cell_type": "markdown",
   "id": "dafdca40",
   "metadata": {},
   "source": [
    "## 세로 막대 그래프"
   ]
  },
  {
   "cell_type": "code",
   "execution_count": 6,
   "id": "740cb15e",
   "metadata": {
    "scrolled": true
   },
   "outputs": [
    {
     "data": {
      "text/plain": [
       "<BarContainer object of 7 artists>"
      ]
     },
     "execution_count": 6,
     "metadata": {},
     "output_type": "execute_result"
    },
    {
     "data": {
      "image/png": "[encoded data removed]",
      "text/plain": [
       "<Figure size 432x288 with 1 Axes>"
      ]
     },
     "metadata": {
      "needs_background": "light"
     },
     "output_type": "display_data"
    }
   ],
   "source": [
    "plt.bar(df1['요일'],df1['매출액'])"
   ]
  },
  {
   "cell_type": "markdown",
   "id": "6e3f7978",
   "metadata": {},
   "source": [
    "## 가로 막대 그래프"
   ]
  },
  {
   "cell_type": "code",
   "execution_count": 8,
   "id": "3a0e6bab",
   "metadata": {},
   "outputs": [
    {
     "data": {
      "text/plain": [
       "<BarContainer object of 7 artists>"
      ]
     },
     "execution_count": 8,
     "metadata": {},
     "output_type": "execute_result"
    },
    {
     "data": {
      "image/png": "[encoded data removed]",
      "text/plain": [
       "<Figure size 432x288 with 1 Axes>"
      ]
     },
     "metadata": {
      "needs_background": "light"
     },
     "output_type": "display_data"
    }
   ],
   "source": [
    "plt.barh(df1['요일'],df1['매출액'])"
   ]
  },
  {
   "cell_type": "markdown",
   "id": "bff7b70c",
   "metadata": {},
   "source": [
    "# 막대 폭 지정\n",
    "## 세로 막대 그래프\n",
    "- width = 0~1 사이의 실수(default:0.8)"
   ]
  },
  {
   "cell_type": "code",
   "execution_count": 11,
   "id": "ca104f20",
   "metadata": {},
   "outputs": [
    {
     "data": {
      "text/plain": [
       "<BarContainer object of 7 artists>"
      ]
     },
     "execution_count": 11,
     "metadata": {},
     "output_type": "execute_result"
    },
    {
     "data": {
      "image/png": "[encoded data removed]",
      "text/plain": [
       "<Figure size 432x288 with 1 Axes>"
      ]
     },
     "metadata": {
      "needs_background": "light"
     },
     "output_type": "display_data"
    }
   ],
   "source": [
    "plt.bar(df1['요일'],df1['매출액'], width=0.4)"
   ]
  },
  {
   "cell_type": "markdown",
   "id": "45cc5df0",
   "metadata": {},
   "source": [
    "## 가로 막대 그래프\n",
    "- height = 0~1 사이의 실수(default:0.8"
   ]
  },
  {
   "cell_type": "code",
   "execution_count": 12,
   "id": "49004243",
   "metadata": {},
   "outputs": [
    {
     "data": {
      "text/plain": [
       "<BarContainer object of 7 artists>"
      ]
     },
     "execution_count": 12,
     "metadata": {},
     "output_type": "execute_result"
    },
    {
     "data": {
      "image/png": "[encoded data removed]",
      "text/plain": [
       "<Figure size 432x288 with 1 Axes>"
      ]
     },
     "metadata": {
      "needs_background": "light"
     },
     "output_type": "display_data"
    }
   ],
   "source": [
    "plt.barh(df1['요일'],df1['매출액'], height=0.4)"
   ]
  },
  {
   "cell_type": "markdown",
   "id": "99dcf66b",
   "metadata": {},
   "source": [
    "# 막대 색상 지정"
   ]
  },
  {
   "cell_type": "code",
   "execution_count": 13,
   "id": "6550b5d6",
   "metadata": {},
   "outputs": [
    {
     "data": {
      "text/plain": [
       "<BarContainer object of 7 artists>"
      ]
     },
     "execution_count": 13,
     "metadata": {},
     "output_type": "execute_result"
    },
    {
     "data": {
      "image/png": "[encoded data removed]",
      "text/plain": [
       "<Figure size 432x288 with 1 Axes>"
      ]
     },
     "metadata": {
      "needs_background": "light"
     },
     "output_type": "display_data"
    }
   ],
   "source": [
    "plt.bar(df1['요일'],df1['매출액'], width=0.4, color='red')"
   ]
  },
  {
   "cell_type": "markdown",
   "id": "77e58c99",
   "metadata": {},
   "source": [
    "## 막대마다 다른 색 지정\n",
    "- ['r','orange','y','g','b','navy','violet']"
   ]
  },
  {
   "cell_type": "code",
   "execution_count": 14,
   "id": "5a373079",
   "metadata": {},
   "outputs": [
    {
     "data": {
      "text/plain": [
       "<BarContainer object of 7 artists>"
      ]
     },
     "execution_count": 14,
     "metadata": {},
     "output_type": "execute_result"
    },
    {
     "data": {
      "image/png": "[encoded data removed]",
      "text/plain": [
       "<Figure size 432x288 with 1 Axes>"
      ]
     },
     "metadata": {
      "needs_background": "light"
     },
     "output_type": "display_data"
    }
   ],
   "source": [
    "plt.bar(df1['요일'],df1['매출액'], width=0.4, color=['r','orange','y','g','b','navy','violet'])"
   ]
  },
  {
   "cell_type": "markdown",
   "id": "5066d8d6",
   "metadata": {},
   "source": [
    "# 막대 테두리\n",
    "- edgecolor = 테두리 색상\n",
    "- linewidth = 테두리 두께"
   ]
  },
  {
   "cell_type": "code",
   "execution_count": 17,
   "id": "bba6069e",
   "metadata": {},
   "outputs": [
    {
     "data": {
      "text/plain": [
       "<BarContainer object of 7 artists>"
      ]
     },
     "execution_count": 17,
     "metadata": {},
     "output_type": "execute_result"
    },
    {
     "data": {
      "image/png": "[encoded data removed]",
      "text/plain": [
       "<Figure size 432x288 with 1 Axes>"
      ]
     },
     "metadata": {
      "needs_background": "light"
     },
     "output_type": "display_data"
    }
   ],
   "source": [
    "plt.bar(df1['요일'],df1['매출액'], width=0.4, color=['r','orange','y','g','b','navy','violet'],\n",
    "        edgecolor='gray',linewidth=2)"
   ]
  },
  {
   "cell_type": "markdown",
   "id": "1ca53ab6",
   "metadata": {},
   "source": [
    "# 막대 패턴 지정하기\n",
    "## 막대에 패턴 지정\n",
    "- hatch 파라미터에 기호 전달: '/','','|','+','X','o','O','.','*'"
   ]
  },
  {
   "cell_type": "code",
   "execution_count": 26,
   "id": "46def8fa",
   "metadata": {},
   "outputs": [
    {
     "data": {
      "text/plain": [
       "<BarContainer object of 7 artists>"
      ]
     },
     "execution_count": 26,
     "metadata": {},
     "output_type": "execute_result"
    },
    {
     "data": {
      "image/png": "[encoded data removed]",
      "text/plain": [
       "<Figure size 432x288 with 1 Axes>"
      ]
     },
     "metadata": {
      "needs_background": "light"
     },
     "output_type": "display_data"
    }
   ],
   "source": [
    "plt.bar(df1['요일'],df1['매출액'], width=0.4, color=['r','orange','y','g','b','navy','violet'],\n",
    "        edgecolor='gray',linewidth=2,hatch='x')"
   ]
  },
  {
   "cell_type": "markdown",
   "id": "9e135760",
   "metadata": {},
   "source": [
    "## 패턴의 밀도 지정\n",
    "- 패턴 기호의 개수로 밀도를 조정한다."
   ]
  },
  {
   "cell_type": "code",
   "execution_count": 28,
   "id": "0052f066",
   "metadata": {},
   "outputs": [
    {
     "data": {
      "text/plain": [
       "<BarContainer object of 7 artists>"
      ]
     },
     "execution_count": 28,
     "metadata": {},
     "output_type": "execute_result"
    },
    {
     "data": {
      "image/png": "[encoded data removed]",
      "text/plain": [
       "<Figure size 432x288 with 1 Axes>"
      ]
     },
     "metadata": {
      "needs_background": "light"
     },
     "output_type": "display_data"
    }
   ],
   "source": [
    "plt.bar(df1['요일'],df1['매출액'], width=0.4, color=['r','orange','y','g','b','navy','violet'],\n",
    "        edgecolor='gray',linewidth=2,hatch='xx')"
   ]
  },
  {
   "cell_type": "markdown",
   "id": "7c7a2ac6",
   "metadata": {},
   "source": [
    "## 막대마다 다른 패턴 지정\n",
    "- 막대그래프를 객체로 받는다.\n",
    "- 막대마다 다른 패턴을 지정한다.\n",
    "- set_hatch(기호)"
   ]
  },
  {
   "cell_type": "code",
   "execution_count": 38,
   "id": "31512d10",
   "metadata": {},
   "outputs": [
    {
     "data": {
      "image/png": "[encoded data removed]",
      "text/plain": [
       "<Figure size 432x288 with 1 Axes>"
      ]
     },
     "metadata": {
      "needs_background": "light"
     },
     "output_type": "display_data"
    }
   ],
   "source": [
    "bars = plt.bar(df1['요일'],df1['매출액'], width=0.4, color=['r','orange','y','g','b','navy','violet'],\n",
    "        edgecolor='gray',linewidth=2)\n",
    "bars[0].set_hatch('.')\n",
    "bars[1].set_hatch('/')\n",
    "bars[2].set_hatch('+')\n",
    "bars[3].set_hatch('-')\n",
    "bars[4].set_hatch('*')\n",
    "bars[5].set_hatch('|')\n",
    "bars[6].set_hatch('o')"
   ]
  },
  {
   "cell_type": "markdown",
   "id": "cb1048c7",
   "metadata": {},
   "source": [
    "# 막대 위치 지정\n",
    "**`align = center/edge`**\n",
    "- 디폴트:center\n",
    "- edge로 지정하면 막대의 왼쪽 끝과 틱을 맞춘다.\n",
    "- 막대의 오른쪽 끝과 틱을 맞추려면 width를 음수로 지정한다."
   ]
  },
  {
   "cell_type": "code",
   "execution_count": 42,
   "id": "e78beb04",
   "metadata": {},
   "outputs": [
    {
     "data": {
      "text/plain": [
       "<BarContainer object of 7 artists>"
      ]
     },
     "execution_count": 42,
     "metadata": {},
     "output_type": "execute_result"
    },
    {
     "data": {
      "image/png": "[encoded data removed]",
      "text/plain": [
       "<Figure size 432x288 with 1 Axes>"
      ]
     },
     "metadata": {
      "needs_background": "light"
     },
     "output_type": "display_data"
    }
   ],
   "source": [
    "plt.bar(df1['요일'],df1['매출액'], width=0.4, align='edge')"
   ]
  },
  {
   "cell_type": "code",
   "execution_count": 43,
   "id": "d0990821",
   "metadata": {},
   "outputs": [
    {
     "data": {
      "text/plain": [
       "<BarContainer object of 7 artists>"
      ]
     },
     "execution_count": 43,
     "metadata": {},
     "output_type": "execute_result"
    },
    {
     "data": {
      "image/png": "[encoded data removed]",
      "text/plain": [
       "<Figure size 432x288 with 1 Axes>"
      ]
     },
     "metadata": {
      "needs_background": "light"
     },
     "output_type": "display_data"
    }
   ],
   "source": [
    "plt.bar(df1['요일'],df1['매출액'], width=-0.4, align='edge')"
   ]
  },
  {
   "cell_type": "markdown",
   "id": "bd123178",
   "metadata": {},
   "source": [
    "## 두 개의 막대 그래프 그리기"
   ]
  },
  {
   "cell_type": "code",
   "execution_count": 44,
   "id": "ef3e1607",
   "metadata": {},
   "outputs": [
    {
     "data": {
      "text/html": [
       "<div>\n",
       "<style scoped>\n",
       "    .dataframe tbody tr th:only-of-type {\n",
       "        vertical-align: middle;\n",
       "    }\n",
       "\n",
       "    .dataframe tbody tr th {\n",
       "        vertical-align: top;\n",
       "    }\n",
       "\n",
       "    .dataframe thead th {\n",
       "        text-align: right;\n",
       "    }\n",
       "</style>\n",
       "<table border=\"1\" class=\"dataframe\">\n",
       "  <thead>\n",
       "    <tr style=\"text-align: right;\">\n",
       "      <th></th>\n",
       "      <th>요일</th>\n",
       "      <th>매출액</th>\n",
       "    </tr>\n",
       "  </thead>\n",
       "  <tbody>\n",
       "    <tr>\n",
       "      <th>0</th>\n",
       "      <td>월</td>\n",
       "      <td>10000</td>\n",
       "    </tr>\n",
       "    <tr>\n",
       "      <th>1</th>\n",
       "      <td>화</td>\n",
       "      <td>9000</td>\n",
       "    </tr>\n",
       "    <tr>\n",
       "      <th>2</th>\n",
       "      <td>수</td>\n",
       "      <td>11000</td>\n",
       "    </tr>\n",
       "    <tr>\n",
       "      <th>3</th>\n",
       "      <td>목</td>\n",
       "      <td>8000</td>\n",
       "    </tr>\n",
       "    <tr>\n",
       "      <th>4</th>\n",
       "      <td>금</td>\n",
       "      <td>13000</td>\n",
       "    </tr>\n",
       "    <tr>\n",
       "      <th>5</th>\n",
       "      <td>토</td>\n",
       "      <td>15000</td>\n",
       "    </tr>\n",
       "    <tr>\n",
       "      <th>6</th>\n",
       "      <td>일</td>\n",
       "      <td>14000</td>\n",
       "    </tr>\n",
       "  </tbody>\n",
       "</table>\n",
       "</div>"
      ],
      "text/plain": [
       "  요일    매출액\n",
       "0  월  10000\n",
       "1  화   9000\n",
       "2  수  11000\n",
       "3  목   8000\n",
       "4  금  13000\n",
       "5  토  15000\n",
       "6  일  14000"
      ]
     },
     "execution_count": 44,
     "metadata": {},
     "output_type": "execute_result"
    }
   ],
   "source": [
    "df1"
   ]
  },
  {
   "cell_type": "code",
   "execution_count": 45,
   "id": "8dd92e47",
   "metadata": {},
   "outputs": [
    {
     "data": {
      "text/html": [
       "<div>\n",
       "<style scoped>\n",
       "    .dataframe tbody tr th:only-of-type {\n",
       "        vertical-align: middle;\n",
       "    }\n",
       "\n",
       "    .dataframe tbody tr th {\n",
       "        vertical-align: top;\n",
       "    }\n",
       "\n",
       "    .dataframe thead th {\n",
       "        text-align: right;\n",
       "    }\n",
       "</style>\n",
       "<table border=\"1\" class=\"dataframe\">\n",
       "  <thead>\n",
       "    <tr style=\"text-align: right;\">\n",
       "      <th></th>\n",
       "      <th>요일</th>\n",
       "      <th>매출액</th>\n",
       "    </tr>\n",
       "  </thead>\n",
       "  <tbody>\n",
       "    <tr>\n",
       "      <th>0</th>\n",
       "      <td>월</td>\n",
       "      <td>9000</td>\n",
       "    </tr>\n",
       "    <tr>\n",
       "      <th>1</th>\n",
       "      <td>화</td>\n",
       "      <td>9500</td>\n",
       "    </tr>\n",
       "    <tr>\n",
       "      <th>2</th>\n",
       "      <td>수</td>\n",
       "      <td>13000</td>\n",
       "    </tr>\n",
       "    <tr>\n",
       "      <th>3</th>\n",
       "      <td>목</td>\n",
       "      <td>7000</td>\n",
       "    </tr>\n",
       "    <tr>\n",
       "      <th>4</th>\n",
       "      <td>금</td>\n",
       "      <td>12000</td>\n",
       "    </tr>\n",
       "    <tr>\n",
       "      <th>5</th>\n",
       "      <td>토</td>\n",
       "      <td>14000</td>\n",
       "    </tr>\n",
       "    <tr>\n",
       "      <th>6</th>\n",
       "      <td>일</td>\n",
       "      <td>11000</td>\n",
       "    </tr>\n",
       "  </tbody>\n",
       "</table>\n",
       "</div>"
      ],
      "text/plain": [
       "  요일    매출액\n",
       "0  월   9000\n",
       "1  화   9500\n",
       "2  수  13000\n",
       "3  목   7000\n",
       "4  금  12000\n",
       "5  토  14000\n",
       "6  일  11000"
      ]
     },
     "execution_count": 45,
     "metadata": {},
     "output_type": "execute_result"
    }
   ],
   "source": [
    "df2"
   ]
  },
  {
   "cell_type": "code",
   "execution_count": 53,
   "id": "979d5c75",
   "metadata": {},
   "outputs": [
    {
     "data": {
      "image/png": "[encoded data removed]",
      "text/plain": [
       "<Figure size 432x288 with 1 Axes>"
      ]
     },
     "metadata": {
      "needs_background": "light"
     },
     "output_type": "display_data"
    }
   ],
   "source": [
    "plt.bar(df1['요일'],df1['매출액'], width=-0.4, align='edge')\n",
    "plt.bar(df2['요일'],df2['매출액'], width=0.4, align='edge')\n",
    "plt.title('두 매장의 요일별 매출액 평균', size=15)\n",
    "plt.grid(axis='y', ls=':')"
   ]
  },
  {
   "cell_type": "code",
   "execution_count": null,
   "id": "9b5081e4",
   "metadata": {},
   "outputs": [],
   "source": [
    "plt.barh(df1['요일'],df1['매출액'], height=-0.4, align='edge')\n",
    "plt.barh(df2['요일'],df2['매출액'], wid=0.4, align='edge')\n",
    "plt.title('두 매장의 요일별 매출액 평균', size=15)\n",
    "plt.grid(axis='y', ls=':')"
   ]
  }
 ],
 "metadata": {
  "kernelspec": {
   "display_name": "Python 3",
   "language": "python",
   "name": "python3"
  },
  "language_info": {
   "codemirror_mode": {
    "name": "ipython",
    "version": 3
   },
   "file_extension": ".py",
   "mimetype": "text/x-python",
   "name": "python",
   "nbconvert_exporter": "python",
   "pygments_lexer": "ipython3",
   "version": "3.8.5"
  },
  "toc": {
   "base_numbering": 1,
   "nav_menu": {},
   "number_sections": true,
   "sideBar": true,
   "skip_h1_title": false,
   "title_cell": "Table of Contents",
   "title_sidebar": "Contents",
   "toc_cell": false,
   "toc_position": {},
   "toc_section_display": true,
   "toc_window_display": false
  }
 },
 "nbformat": 4,
 "nbformat_minor": 5
}
