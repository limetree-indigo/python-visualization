{
 "cells": [
  {
   "cell_type": "code",
   "execution_count": 1,
   "id": "8e3b68a0",
   "metadata": {},
   "outputs": [],
   "source": [
    "import matplotlib.pyplot as plt\n",
    "import pandas as pd"
   ]
  },
  {
   "cell_type": "code",
   "execution_count": 2,
   "id": "7e8209e2",
   "metadata": {},
   "outputs": [],
   "source": [
    "plt.rcParams['font.family']='AppleGothic'\n",
    "plt.rcParams['axes.unicode_minus']=False"
   ]
  },
  {
   "cell_type": "markdown",
   "id": "10c2cc58",
   "metadata": {},
   "source": [
    "# 데이터 준비 및 확인\n",
    "- 기상자료개발포털>데이터>기상관측>지상>종관기상관측(ASOS)<br>\n",
    "    https://data.kma.go.kr/data/grnd/selectAsosRltmList.do?pgmNo=36<br>\n",
    "    회원가입/로그인필요<br>\n",
    "    [자료형태]일자료<br>\n",
    "    [지점]전체<br>\n",
    "    [자료]기온>최저,최고,평균<br>\n",
    "    [기간]1911~2020(10년단위로 나누어 다운로드)"
   ]
  },
  {
   "cell_type": "markdown",
   "id": "7e980bf2",
   "metadata": {},
   "source": [
    "## 데이터프레임 생성"
   ]
  },
  {
   "cell_type": "code",
   "execution_count": 3,
   "id": "a147ef9e",
   "metadata": {},
   "outputs": [],
   "source": [
    "df_1911 = pd.read_csv('../data/1911_1920_일별기온.csv', encoding='cp949')\n",
    "df_1921 = pd.read_csv('../data/1921_1930_일별기온.csv', encoding='cp949')\n",
    "df_1931 = pd.read_csv('../data/1931_1940_일별기온.csv', encoding='cp949')\n",
    "df_1941 = pd.read_csv('../data/1941_1950_일별기온.csv', encoding='cp949')\n",
    "df_1951 = pd.read_csv('../data/1951_1960_일별기온.csv', encoding='cp949')\n",
    "df_1961 = pd.read_csv('../data/1961_1970_일별기온.csv', encoding='cp949')\n",
    "df_1971 = pd.read_csv('../data/1971_1980_일별기온.csv', encoding='cp949')\n",
    "df_1981 = pd.read_csv('../data/1981_1990_일별기온.csv', encoding='cp949')\n",
    "df_1991 = pd.read_csv('../data/1991_2000_일별기온.csv', encoding='cp949')\n",
    "df_2001 = pd.read_csv('../data/2001_2010_일별기온.csv', encoding='cp949')\n",
    "df_2011 = pd.read_csv('../data/2011_2020_일별기온.csv', encoding='cp949')"
   ]
  },
  {
   "cell_type": "code",
   "execution_count": 4,
   "id": "787387cc",
   "metadata": {},
   "outputs": [],
   "source": [
    "# 데이트프레임 연결하기\n",
    "df = pd.concat([df_1911, df_1921,df_1931,df_1941,df_1951,df_1961,df_1971,df_1981,df_1991,df_2001,df_2011]\n",
    "              , ignore_index=True)"
   ]
  },
  {
   "cell_type": "code",
   "execution_count": 5,
   "id": "55f87127",
   "metadata": {},
   "outputs": [
    {
     "data": {
      "text/html": [
       "<div>\n",
       "<style scoped>\n",
       "    .dataframe tbody tr th:only-of-type {\n",
       "        vertical-align: middle;\n",
       "    }\n",
       "\n",
       "    .dataframe tbody tr th {\n",
       "        vertical-align: top;\n",
       "    }\n",
       "\n",
       "    .dataframe thead th {\n",
       "        text-align: right;\n",
       "    }\n",
       "</style>\n",
       "<table border=\"1\" class=\"dataframe\">\n",
       "  <thead>\n",
       "    <tr style=\"text-align: right;\">\n",
       "      <th></th>\n",
       "      <th>지점</th>\n",
       "      <th>지점명</th>\n",
       "      <th>일시</th>\n",
       "      <th>평균기온(°C)</th>\n",
       "      <th>최저기온(°C)</th>\n",
       "      <th>최고기온(°C)</th>\n",
       "    </tr>\n",
       "  </thead>\n",
       "  <tbody>\n",
       "    <tr>\n",
       "      <th>0</th>\n",
       "      <td>105</td>\n",
       "      <td>강릉</td>\n",
       "      <td>1911-10-04</td>\n",
       "      <td>NaN</td>\n",
       "      <td>12.2</td>\n",
       "      <td>26.2</td>\n",
       "    </tr>\n",
       "    <tr>\n",
       "      <th>1</th>\n",
       "      <td>105</td>\n",
       "      <td>강릉</td>\n",
       "      <td>1911-10-09</td>\n",
       "      <td>NaN</td>\n",
       "      <td>6.0</td>\n",
       "      <td>16.6</td>\n",
       "    </tr>\n",
       "    <tr>\n",
       "      <th>2</th>\n",
       "      <td>105</td>\n",
       "      <td>강릉</td>\n",
       "      <td>1911-10-16</td>\n",
       "      <td>NaN</td>\n",
       "      <td>9.2</td>\n",
       "      <td>15.5</td>\n",
       "    </tr>\n",
       "    <tr>\n",
       "      <th>3</th>\n",
       "      <td>105</td>\n",
       "      <td>강릉</td>\n",
       "      <td>1911-11-01</td>\n",
       "      <td>NaN</td>\n",
       "      <td>6.0</td>\n",
       "      <td>14.8</td>\n",
       "    </tr>\n",
       "    <tr>\n",
       "      <th>4</th>\n",
       "      <td>105</td>\n",
       "      <td>강릉</td>\n",
       "      <td>1911-11-04</td>\n",
       "      <td>NaN</td>\n",
       "      <td>10.2</td>\n",
       "      <td>19.5</td>\n",
       "    </tr>\n",
       "  </tbody>\n",
       "</table>\n",
       "</div>"
      ],
      "text/plain": [
       "    지점 지점명          일시  평균기온(°C)  최저기온(°C)  최고기온(°C)\n",
       "0  105  강릉  1911-10-04       NaN      12.2      26.2\n",
       "1  105  강릉  1911-10-09       NaN       6.0      16.6\n",
       "2  105  강릉  1911-10-16       NaN       9.2      15.5\n",
       "3  105  강릉  1911-11-01       NaN       6.0      14.8\n",
       "4  105  강릉  1911-11-04       NaN      10.2      19.5"
      ]
     },
     "execution_count": 5,
     "metadata": {},
     "output_type": "execute_result"
    }
   ],
   "source": [
    "df.head()"
   ]
  },
  {
   "cell_type": "code",
   "execution_count": 6,
   "id": "d8f3667a",
   "metadata": {},
   "outputs": [
    {
     "data": {
      "text/html": [
       "<div>\n",
       "<style scoped>\n",
       "    .dataframe tbody tr th:only-of-type {\n",
       "        vertical-align: middle;\n",
       "    }\n",
       "\n",
       "    .dataframe tbody tr th {\n",
       "        vertical-align: top;\n",
       "    }\n",
       "\n",
       "    .dataframe thead th {\n",
       "        text-align: right;\n",
       "    }\n",
       "</style>\n",
       "<table border=\"1\" class=\"dataframe\">\n",
       "  <thead>\n",
       "    <tr style=\"text-align: right;\">\n",
       "      <th></th>\n",
       "      <th>지점</th>\n",
       "      <th>지점명</th>\n",
       "      <th>일시</th>\n",
       "      <th>평균기온(°C)</th>\n",
       "      <th>최저기온(°C)</th>\n",
       "      <th>최고기온(°C)</th>\n",
       "    </tr>\n",
       "  </thead>\n",
       "  <tbody>\n",
       "    <tr>\n",
       "      <th>1597071</th>\n",
       "      <td>295</td>\n",
       "      <td>남해</td>\n",
       "      <td>2020-12-27</td>\n",
       "      <td>4.4</td>\n",
       "      <td>2.5</td>\n",
       "      <td>6.0</td>\n",
       "    </tr>\n",
       "    <tr>\n",
       "      <th>1597072</th>\n",
       "      <td>295</td>\n",
       "      <td>남해</td>\n",
       "      <td>2020-12-28</td>\n",
       "      <td>4.7</td>\n",
       "      <td>1.1</td>\n",
       "      <td>11.5</td>\n",
       "    </tr>\n",
       "    <tr>\n",
       "      <th>1597073</th>\n",
       "      <td>295</td>\n",
       "      <td>남해</td>\n",
       "      <td>2020-12-29</td>\n",
       "      <td>5.4</td>\n",
       "      <td>1.0</td>\n",
       "      <td>11.2</td>\n",
       "    </tr>\n",
       "    <tr>\n",
       "      <th>1597074</th>\n",
       "      <td>295</td>\n",
       "      <td>남해</td>\n",
       "      <td>2020-12-30</td>\n",
       "      <td>-3.0</td>\n",
       "      <td>-5.4</td>\n",
       "      <td>1.6</td>\n",
       "    </tr>\n",
       "    <tr>\n",
       "      <th>1597075</th>\n",
       "      <td>295</td>\n",
       "      <td>남해</td>\n",
       "      <td>2020-12-31</td>\n",
       "      <td>-1.3</td>\n",
       "      <td>-7.4</td>\n",
       "      <td>2.8</td>\n",
       "    </tr>\n",
       "  </tbody>\n",
       "</table>\n",
       "</div>"
      ],
      "text/plain": [
       "          지점 지점명          일시  평균기온(°C)  최저기온(°C)  최고기온(°C)\n",
       "1597071  295  남해  2020-12-27       4.4       2.5       6.0\n",
       "1597072  295  남해  2020-12-28       4.7       1.1      11.5\n",
       "1597073  295  남해  2020-12-29       5.4       1.0      11.2\n",
       "1597074  295  남해  2020-12-30      -3.0      -5.4       1.6\n",
       "1597075  295  남해  2020-12-31      -1.3      -7.4       2.8"
      ]
     },
     "execution_count": 6,
     "metadata": {},
     "output_type": "execute_result"
    }
   ],
   "source": [
    "df.tail()"
   ]
  },
  {
   "cell_type": "markdown",
   "id": "75b4805c",
   "metadata": {},
   "source": [
    "## 데이터 확인"
   ]
  },
  {
   "cell_type": "code",
   "execution_count": 7,
   "id": "cb317f19",
   "metadata": {},
   "outputs": [
    {
     "data": {
      "text/plain": [
       "(1597076, 6)"
      ]
     },
     "execution_count": 7,
     "metadata": {},
     "output_type": "execute_result"
    }
   ],
   "source": [
    "df.shape"
   ]
  },
  {
   "cell_type": "code",
   "execution_count": 8,
   "id": "dee64a37",
   "metadata": {},
   "outputs": [
    {
     "data": {
      "text/plain": [
       "array(['강릉', '서울', '인천', '대구', '전주', '부산', '목포', '제주', '울릉도', '추풍령', '광주',\n",
       "       '포항', '울산', '여수', '속초', '춘천', '수원', '서산', '청주', '대전', '군산', '통영',\n",
       "       '서귀포', '진주', '임실', '정읍', '대관령', '원주', '충주', '울진', '안동', '완도', '성산',\n",
       "       '강화', '양평', '이천', '인제', '홍천', '삼척', '제천', '보은', '천안', '보령', '부여',\n",
       "       '금산', '부안', '남원', '고창군', '주암', '장흥', '해남', '고흥', '성산포', '영주', '문경',\n",
       "       '영덕', '의성', '구미', '영천', '거창', '합천', '밀양', '산청', '거제', '남해', '철원',\n",
       "       '관악산', '창원', '고산', '태백', '장수', '봉화', '동두천', '백령도', '동해', '영월',\n",
       "       '무안', '흑산도', '파주', '북강릉', '상주', '고창', '진도(첨찰산)', '정선군', '영광군',\n",
       "       '김해시', '순창군', '북창원', '양산시', '보성군', '강진군', '의령군', '함양군', '청송군',\n",
       "       '경주시', '북춘천', '순천', '대구(기)', '홍성', '세종', '광양시', '진도군'],\n",
       "      dtype=object)"
      ]
     },
     "execution_count": 8,
     "metadata": {},
     "output_type": "execute_result"
    }
   ],
   "source": [
    "df['지점명'].unique()"
   ]
  },
  {
   "cell_type": "code",
   "execution_count": 9,
   "id": "32acf316",
   "metadata": {},
   "outputs": [
    {
     "data": {
      "text/plain": [
       "102"
      ]
     },
     "execution_count": 9,
     "metadata": {},
     "output_type": "execute_result"
    }
   ],
   "source": [
    "df['지점명'].nunique()"
   ]
  },
  {
   "cell_type": "markdown",
   "id": "be0b6917",
   "metadata": {},
   "source": [
    "## 데이터타입 확인/변경"
   ]
  },
  {
   "cell_type": "code",
   "execution_count": 11,
   "id": "8e5e016b",
   "metadata": {},
   "outputs": [
    {
     "data": {
      "text/plain": [
       "지점            int64\n",
       "지점명          object\n",
       "일시           object\n",
       "평균기온(°C)    float64\n",
       "최저기온(°C)    float64\n",
       "최고기온(°C)    float64\n",
       "dtype: object"
      ]
     },
     "execution_count": 11,
     "metadata": {},
     "output_type": "execute_result"
    }
   ],
   "source": [
    "df.dtypes"
   ]
  },
  {
   "cell_type": "code",
   "execution_count": 12,
   "id": "3fa7e522",
   "metadata": {},
   "outputs": [],
   "source": [
    "df['일시']=pd.to_datetime(df['일시'])"
   ]
  },
  {
   "cell_type": "code",
   "execution_count": 13,
   "id": "09866b9b",
   "metadata": {},
   "outputs": [
    {
     "data": {
      "text/plain": [
       "지점                   int64\n",
       "지점명                 object\n",
       "일시          datetime64[ns]\n",
       "평균기온(°C)           float64\n",
       "최저기온(°C)           float64\n",
       "최고기온(°C)           float64\n",
       "dtype: object"
      ]
     },
     "execution_count": 13,
     "metadata": {},
     "output_type": "execute_result"
    }
   ],
   "source": [
    "df.dtypes"
   ]
  },
  {
   "cell_type": "markdown",
   "id": "d95b8ff7",
   "metadata": {},
   "source": [
    "## 2020년 지점별 기온 데이터 추출 및 전처리\n",
    "### 2020sus 기온 데이터 추출하여 서브셋 만들기\n",
    "- 조건으로 데이터를 추출한다.\n",
    "- 필요한 컬럼을 추출한다.\n",
    "- .copy()를 사용하여 카피본으로 서브셋을 만든다."
   ]
  },
  {
   "cell_type": "code",
   "execution_count": 17,
   "id": "2bab7815",
   "metadata": {},
   "outputs": [
    {
     "data": {
      "text/html": [
       "<div>\n",
       "<style scoped>\n",
       "    .dataframe tbody tr th:only-of-type {\n",
       "        vertical-align: middle;\n",
       "    }\n",
       "\n",
       "    .dataframe tbody tr th {\n",
       "        vertical-align: top;\n",
       "    }\n",
       "\n",
       "    .dataframe thead th {\n",
       "        text-align: right;\n",
       "    }\n",
       "</style>\n",
       "<table border=\"1\" class=\"dataframe\">\n",
       "  <thead>\n",
       "    <tr style=\"text-align: right;\">\n",
       "      <th></th>\n",
       "      <th>지점</th>\n",
       "      <th>지점명</th>\n",
       "      <th>일시</th>\n",
       "      <th>평균기온(°C)</th>\n",
       "      <th>최저기온(°C)</th>\n",
       "      <th>최고기온(°C)</th>\n",
       "    </tr>\n",
       "  </thead>\n",
       "  <tbody>\n",
       "    <tr>\n",
       "      <th>1257373</th>\n",
       "      <td>90</td>\n",
       "      <td>속초</td>\n",
       "      <td>2020-01-01</td>\n",
       "      <td>0.8</td>\n",
       "      <td>-3.4</td>\n",
       "      <td>4.8</td>\n",
       "    </tr>\n",
       "    <tr>\n",
       "      <th>1257374</th>\n",
       "      <td>90</td>\n",
       "      <td>속초</td>\n",
       "      <td>2020-01-02</td>\n",
       "      <td>2.8</td>\n",
       "      <td>-2.1</td>\n",
       "      <td>6.6</td>\n",
       "    </tr>\n",
       "    <tr>\n",
       "      <th>1257375</th>\n",
       "      <td>90</td>\n",
       "      <td>속초</td>\n",
       "      <td>2020-01-03</td>\n",
       "      <td>4.7</td>\n",
       "      <td>0.8</td>\n",
       "      <td>8.5</td>\n",
       "    </tr>\n",
       "    <tr>\n",
       "      <th>1257376</th>\n",
       "      <td>90</td>\n",
       "      <td>속초</td>\n",
       "      <td>2020-01-04</td>\n",
       "      <td>4.0</td>\n",
       "      <td>1.1</td>\n",
       "      <td>8.1</td>\n",
       "    </tr>\n",
       "    <tr>\n",
       "      <th>1257377</th>\n",
       "      <td>90</td>\n",
       "      <td>속초</td>\n",
       "      <td>2020-01-05</td>\n",
       "      <td>3.1</td>\n",
       "      <td>-0.6</td>\n",
       "      <td>8.8</td>\n",
       "    </tr>\n",
       "    <tr>\n",
       "      <th>...</th>\n",
       "      <td>...</td>\n",
       "      <td>...</td>\n",
       "      <td>...</td>\n",
       "      <td>...</td>\n",
       "      <td>...</td>\n",
       "      <td>...</td>\n",
       "    </tr>\n",
       "    <tr>\n",
       "      <th>1597071</th>\n",
       "      <td>295</td>\n",
       "      <td>남해</td>\n",
       "      <td>2020-12-27</td>\n",
       "      <td>4.4</td>\n",
       "      <td>2.5</td>\n",
       "      <td>6.0</td>\n",
       "    </tr>\n",
       "    <tr>\n",
       "      <th>1597072</th>\n",
       "      <td>295</td>\n",
       "      <td>남해</td>\n",
       "      <td>2020-12-28</td>\n",
       "      <td>4.7</td>\n",
       "      <td>1.1</td>\n",
       "      <td>11.5</td>\n",
       "    </tr>\n",
       "    <tr>\n",
       "      <th>1597073</th>\n",
       "      <td>295</td>\n",
       "      <td>남해</td>\n",
       "      <td>2020-12-29</td>\n",
       "      <td>5.4</td>\n",
       "      <td>1.0</td>\n",
       "      <td>11.2</td>\n",
       "    </tr>\n",
       "    <tr>\n",
       "      <th>1597074</th>\n",
       "      <td>295</td>\n",
       "      <td>남해</td>\n",
       "      <td>2020-12-30</td>\n",
       "      <td>-3.0</td>\n",
       "      <td>-5.4</td>\n",
       "      <td>1.6</td>\n",
       "    </tr>\n",
       "    <tr>\n",
       "      <th>1597075</th>\n",
       "      <td>295</td>\n",
       "      <td>남해</td>\n",
       "      <td>2020-12-31</td>\n",
       "      <td>-1.3</td>\n",
       "      <td>-7.4</td>\n",
       "      <td>2.8</td>\n",
       "    </tr>\n",
       "  </tbody>\n",
       "</table>\n",
       "<p>34767 rows × 6 columns</p>\n",
       "</div>"
      ],
      "text/plain": [
       "          지점 지점명         일시  평균기온(°C)  최저기온(°C)  최고기온(°C)\n",
       "1257373   90  속초 2020-01-01       0.8      -3.4       4.8\n",
       "1257374   90  속초 2020-01-02       2.8      -2.1       6.6\n",
       "1257375   90  속초 2020-01-03       4.7       0.8       8.5\n",
       "1257376   90  속초 2020-01-04       4.0       1.1       8.1\n",
       "1257377   90  속초 2020-01-05       3.1      -0.6       8.8\n",
       "...      ...  ..        ...       ...       ...       ...\n",
       "1597071  295  남해 2020-12-27       4.4       2.5       6.0\n",
       "1597072  295  남해 2020-12-28       4.7       1.1      11.5\n",
       "1597073  295  남해 2020-12-29       5.4       1.0      11.2\n",
       "1597074  295  남해 2020-12-30      -3.0      -5.4       1.6\n",
       "1597075  295  남해 2020-12-31      -1.3      -7.4       2.8\n",
       "\n",
       "[34767 rows x 6 columns]"
      ]
     },
     "execution_count": 17,
     "metadata": {},
     "output_type": "execute_result"
    }
   ],
   "source": [
    "# 서브셋 만들기\n",
    "df_2020 = df[df['일시'].dt.year==2020].copy()\n",
    "df_2020"
   ]
  },
  {
   "cell_type": "code",
   "execution_count": 18,
   "id": "ce1a1d03",
   "metadata": {},
   "outputs": [
    {
     "data": {
      "text/plain": [
       "광양시    366\n",
       "이천     366\n",
       "홍성     366\n",
       "제주     366\n",
       "대구     366\n",
       "      ... \n",
       "철원     366\n",
       "청송군    366\n",
       "고산     366\n",
       "북창원    365\n",
       "진도군    364\n",
       "Name: 지점명, Length: 95, dtype: int64"
      ]
     },
     "execution_count": 18,
     "metadata": {},
     "output_type": "execute_result"
    }
   ],
   "source": [
    "# 지점별 데이터 개수 카운트\n",
    "df_2020['지점명'].value_counts()"
   ]
  },
  {
   "cell_type": "markdown",
   "id": "3bf18890",
   "metadata": {},
   "source": [
    "### 결측치 확인"
   ]
  },
  {
   "cell_type": "code",
   "execution_count": 20,
   "id": "8e8c6121",
   "metadata": {},
   "outputs": [
    {
     "data": {
      "text/plain": [
       "지점           0\n",
       "지점명          0\n",
       "일시           0\n",
       "평균기온(°C)    36\n",
       "최저기온(°C)     0\n",
       "최고기온(°C)     1\n",
       "dtype: int64"
      ]
     },
     "execution_count": 20,
     "metadata": {},
     "output_type": "execute_result"
    }
   ],
   "source": [
    "# 컬럼별 결측치 개수 확인\n",
    "df_2020.isnull().sum()"
   ]
  },
  {
   "cell_type": "code",
   "execution_count": 24,
   "id": "2a6dbb31",
   "metadata": {},
   "outputs": [
    {
     "data": {
      "text/html": [
       "<div>\n",
       "<style scoped>\n",
       "    .dataframe tbody tr th:only-of-type {\n",
       "        vertical-align: middle;\n",
       "    }\n",
       "\n",
       "    .dataframe tbody tr th {\n",
       "        vertical-align: top;\n",
       "    }\n",
       "\n",
       "    .dataframe thead th {\n",
       "        text-align: right;\n",
       "    }\n",
       "</style>\n",
       "<table border=\"1\" class=\"dataframe\">\n",
       "  <thead>\n",
       "    <tr style=\"text-align: right;\">\n",
       "      <th></th>\n",
       "      <th>지점</th>\n",
       "      <th>지점명</th>\n",
       "      <th>일시</th>\n",
       "      <th>평균기온(°C)</th>\n",
       "      <th>최저기온(°C)</th>\n",
       "      <th>최고기온(°C)</th>\n",
       "    </tr>\n",
       "  </thead>\n",
       "  <tbody>\n",
       "    <tr>\n",
       "      <th>1324913</th>\n",
       "      <td>130</td>\n",
       "      <td>울진</td>\n",
       "      <td>2020-08-23</td>\n",
       "      <td>NaN</td>\n",
       "      <td>22.1</td>\n",
       "      <td>27.9</td>\n",
       "    </tr>\n",
       "    <tr>\n",
       "      <th>1335898</th>\n",
       "      <td>135</td>\n",
       "      <td>추풍령</td>\n",
       "      <td>2020-09-18</td>\n",
       "      <td>NaN</td>\n",
       "      <td>13.8</td>\n",
       "      <td>23.7</td>\n",
       "    </tr>\n",
       "    <tr>\n",
       "      <th>1335905</th>\n",
       "      <td>135</td>\n",
       "      <td>추풍령</td>\n",
       "      <td>2020-09-25</td>\n",
       "      <td>NaN</td>\n",
       "      <td>11.6</td>\n",
       "      <td>23.6</td>\n",
       "    </tr>\n",
       "    <tr>\n",
       "      <th>1350354</th>\n",
       "      <td>140</td>\n",
       "      <td>군산</td>\n",
       "      <td>2020-04-15</td>\n",
       "      <td>NaN</td>\n",
       "      <td>4.7</td>\n",
       "      <td>17.0</td>\n",
       "    </tr>\n",
       "    <tr>\n",
       "      <th>1350584</th>\n",
       "      <td>140</td>\n",
       "      <td>군산</td>\n",
       "      <td>2020-12-01</td>\n",
       "      <td>NaN</td>\n",
       "      <td>-1.5</td>\n",
       "      <td>8.4</td>\n",
       "    </tr>\n",
       "    <tr>\n",
       "      <th>1394404</th>\n",
       "      <td>172</td>\n",
       "      <td>고창</td>\n",
       "      <td>2020-11-19</td>\n",
       "      <td>NaN</td>\n",
       "      <td>11.5</td>\n",
       "      <td>22.2</td>\n",
       "    </tr>\n",
       "    <tr>\n",
       "      <th>1397661</th>\n",
       "      <td>174</td>\n",
       "      <td>순천</td>\n",
       "      <td>2020-01-18</td>\n",
       "      <td>NaN</td>\n",
       "      <td>-1.7</td>\n",
       "      <td>4.1</td>\n",
       "    </tr>\n",
       "    <tr>\n",
       "      <th>1436214</th>\n",
       "      <td>211</td>\n",
       "      <td>인제</td>\n",
       "      <td>2020-02-20</td>\n",
       "      <td>NaN</td>\n",
       "      <td>-2.7</td>\n",
       "      <td>9.8</td>\n",
       "    </tr>\n",
       "    <tr>\n",
       "      <th>1447150</th>\n",
       "      <td>217</td>\n",
       "      <td>정선군</td>\n",
       "      <td>2020-01-30</td>\n",
       "      <td>NaN</td>\n",
       "      <td>-1.2</td>\n",
       "      <td>6.1</td>\n",
       "    </tr>\n",
       "    <tr>\n",
       "      <th>1461944</th>\n",
       "      <td>235</td>\n",
       "      <td>보령</td>\n",
       "      <td>2020-07-30</td>\n",
       "      <td>NaN</td>\n",
       "      <td>22.9</td>\n",
       "      <td>26.3</td>\n",
       "    </tr>\n",
       "    <tr>\n",
       "      <th>1477276</th>\n",
       "      <td>244</td>\n",
       "      <td>임실</td>\n",
       "      <td>2020-12-16</td>\n",
       "      <td>NaN</td>\n",
       "      <td>-8.7</td>\n",
       "      <td>-3.2</td>\n",
       "    </tr>\n",
       "    <tr>\n",
       "      <th>1480782</th>\n",
       "      <td>245</td>\n",
       "      <td>정읍</td>\n",
       "      <td>2020-07-22</td>\n",
       "      <td>NaN</td>\n",
       "      <td>20.6</td>\n",
       "      <td>23.8</td>\n",
       "    </tr>\n",
       "    <tr>\n",
       "      <th>1484236</th>\n",
       "      <td>247</td>\n",
       "      <td>남원</td>\n",
       "      <td>2020-01-05</td>\n",
       "      <td>NaN</td>\n",
       "      <td>-6.2</td>\n",
       "      <td>9.1</td>\n",
       "    </tr>\n",
       "    <tr>\n",
       "      <th>1484254</th>\n",
       "      <td>247</td>\n",
       "      <td>남원</td>\n",
       "      <td>2020-01-23</td>\n",
       "      <td>NaN</td>\n",
       "      <td>2.6</td>\n",
       "      <td>8.7</td>\n",
       "    </tr>\n",
       "    <tr>\n",
       "      <th>1484276</th>\n",
       "      <td>247</td>\n",
       "      <td>남원</td>\n",
       "      <td>2020-02-14</td>\n",
       "      <td>NaN</td>\n",
       "      <td>2.0</td>\n",
       "      <td>18.3</td>\n",
       "    </tr>\n",
       "    <tr>\n",
       "      <th>1506195</th>\n",
       "      <td>255</td>\n",
       "      <td>북창원</td>\n",
       "      <td>2020-02-17</td>\n",
       "      <td>NaN</td>\n",
       "      <td>-2.8</td>\n",
       "      <td>2.9</td>\n",
       "    </tr>\n",
       "    <tr>\n",
       "      <th>1510383</th>\n",
       "      <td>257</td>\n",
       "      <td>양산시</td>\n",
       "      <td>2020-02-13</td>\n",
       "      <td>NaN</td>\n",
       "      <td>6.5</td>\n",
       "      <td>14.0</td>\n",
       "    </tr>\n",
       "    <tr>\n",
       "      <th>1525125</th>\n",
       "      <td>261</td>\n",
       "      <td>해남</td>\n",
       "      <td>2020-06-25</td>\n",
       "      <td>NaN</td>\n",
       "      <td>21.4</td>\n",
       "      <td>22.1</td>\n",
       "    </tr>\n",
       "    <tr>\n",
       "      <th>1525126</th>\n",
       "      <td>261</td>\n",
       "      <td>해남</td>\n",
       "      <td>2020-06-26</td>\n",
       "      <td>NaN</td>\n",
       "      <td>18.8</td>\n",
       "      <td>28.4</td>\n",
       "    </tr>\n",
       "    <tr>\n",
       "      <th>1532312</th>\n",
       "      <td>263</td>\n",
       "      <td>의령군</td>\n",
       "      <td>2020-02-27</td>\n",
       "      <td>NaN</td>\n",
       "      <td>5.5</td>\n",
       "      <td>10.7</td>\n",
       "    </tr>\n",
       "    <tr>\n",
       "      <th>1532313</th>\n",
       "      <td>263</td>\n",
       "      <td>의령군</td>\n",
       "      <td>2020-02-28</td>\n",
       "      <td>NaN</td>\n",
       "      <td>4.0</td>\n",
       "      <td>7.1</td>\n",
       "    </tr>\n",
       "    <tr>\n",
       "      <th>1532485</th>\n",
       "      <td>263</td>\n",
       "      <td>의령군</td>\n",
       "      <td>2020-08-18</td>\n",
       "      <td>NaN</td>\n",
       "      <td>23.5</td>\n",
       "      <td>31.6</td>\n",
       "    </tr>\n",
       "    <tr>\n",
       "      <th>1532596</th>\n",
       "      <td>263</td>\n",
       "      <td>의령군</td>\n",
       "      <td>2020-12-07</td>\n",
       "      <td>NaN</td>\n",
       "      <td>-3.7</td>\n",
       "      <td>12.6</td>\n",
       "    </tr>\n",
       "    <tr>\n",
       "      <th>1532613</th>\n",
       "      <td>263</td>\n",
       "      <td>의령군</td>\n",
       "      <td>2020-12-24</td>\n",
       "      <td>NaN</td>\n",
       "      <td>-1.9</td>\n",
       "      <td>13.9</td>\n",
       "    </tr>\n",
       "    <tr>\n",
       "      <th>1536022</th>\n",
       "      <td>264</td>\n",
       "      <td>함양군</td>\n",
       "      <td>2020-04-25</td>\n",
       "      <td>NaN</td>\n",
       "      <td>1.3</td>\n",
       "      <td>23.5</td>\n",
       "    </tr>\n",
       "    <tr>\n",
       "      <th>1536024</th>\n",
       "      <td>264</td>\n",
       "      <td>함양군</td>\n",
       "      <td>2020-04-27</td>\n",
       "      <td>NaN</td>\n",
       "      <td>1.6</td>\n",
       "      <td>19.0</td>\n",
       "    </tr>\n",
       "    <tr>\n",
       "      <th>1536025</th>\n",
       "      <td>264</td>\n",
       "      <td>함양군</td>\n",
       "      <td>2020-04-28</td>\n",
       "      <td>NaN</td>\n",
       "      <td>1.5</td>\n",
       "      <td>21.0</td>\n",
       "    </tr>\n",
       "    <tr>\n",
       "      <th>1539857</th>\n",
       "      <td>266</td>\n",
       "      <td>광양시</td>\n",
       "      <td>2020-12-26</td>\n",
       "      <td>NaN</td>\n",
       "      <td>4.3</td>\n",
       "      <td>11.0</td>\n",
       "    </tr>\n",
       "    <tr>\n",
       "      <th>1542104</th>\n",
       "      <td>268</td>\n",
       "      <td>진도군</td>\n",
       "      <td>2020-07-03</td>\n",
       "      <td>NaN</td>\n",
       "      <td>19.0</td>\n",
       "      <td>21.4</td>\n",
       "    </tr>\n",
       "    <tr>\n",
       "      <th>1549577</th>\n",
       "      <td>272</td>\n",
       "      <td>영주</td>\n",
       "      <td>2020-12-18</td>\n",
       "      <td>NaN</td>\n",
       "      <td>-9.3</td>\n",
       "      <td>1.1</td>\n",
       "    </tr>\n",
       "    <tr>\n",
       "      <th>1556859</th>\n",
       "      <td>276</td>\n",
       "      <td>청송군</td>\n",
       "      <td>2020-11-26</td>\n",
       "      <td>NaN</td>\n",
       "      <td>-2.7</td>\n",
       "      <td>NaN</td>\n",
       "    </tr>\n",
       "    <tr>\n",
       "      <th>1560530</th>\n",
       "      <td>277</td>\n",
       "      <td>영덕</td>\n",
       "      <td>2020-12-15</td>\n",
       "      <td>NaN</td>\n",
       "      <td>-8.9</td>\n",
       "      <td>-1.3</td>\n",
       "    </tr>\n",
       "    <tr>\n",
       "      <th>1564045</th>\n",
       "      <td>278</td>\n",
       "      <td>의성</td>\n",
       "      <td>2020-07-30</td>\n",
       "      <td>NaN</td>\n",
       "      <td>21.5</td>\n",
       "      <td>25.1</td>\n",
       "    </tr>\n",
       "    <tr>\n",
       "      <th>1567805</th>\n",
       "      <td>279</td>\n",
       "      <td>구미</td>\n",
       "      <td>2020-11-14</td>\n",
       "      <td>NaN</td>\n",
       "      <td>2.8</td>\n",
       "      <td>18.6</td>\n",
       "    </tr>\n",
       "    <tr>\n",
       "      <th>1571201</th>\n",
       "      <td>281</td>\n",
       "      <td>영천</td>\n",
       "      <td>2020-03-02</td>\n",
       "      <td>NaN</td>\n",
       "      <td>0.5</td>\n",
       "      <td>11.3</td>\n",
       "    </tr>\n",
       "    <tr>\n",
       "      <th>1593152</th>\n",
       "      <td>294</td>\n",
       "      <td>거제</td>\n",
       "      <td>2020-04-05</td>\n",
       "      <td>NaN</td>\n",
       "      <td>4.6</td>\n",
       "      <td>14.5</td>\n",
       "    </tr>\n",
       "  </tbody>\n",
       "</table>\n",
       "</div>"
      ],
      "text/plain": [
       "          지점  지점명         일시  평균기온(°C)  최저기온(°C)  최고기온(°C)\n",
       "1324913  130   울진 2020-08-23       NaN      22.1      27.9\n",
       "1335898  135  추풍령 2020-09-18       NaN      13.8      23.7\n",
       "1335905  135  추풍령 2020-09-25       NaN      11.6      23.6\n",
       "1350354  140   군산 2020-04-15       NaN       4.7      17.0\n",
       "1350584  140   군산 2020-12-01       NaN      -1.5       8.4\n",
       "1394404  172   고창 2020-11-19       NaN      11.5      22.2\n",
       "1397661  174   순천 2020-01-18       NaN      -1.7       4.1\n",
       "1436214  211   인제 2020-02-20       NaN      -2.7       9.8\n",
       "1447150  217  정선군 2020-01-30       NaN      -1.2       6.1\n",
       "1461944  235   보령 2020-07-30       NaN      22.9      26.3\n",
       "1477276  244   임실 2020-12-16       NaN      -8.7      -3.2\n",
       "1480782  245   정읍 2020-07-22       NaN      20.6      23.8\n",
       "1484236  247   남원 2020-01-05       NaN      -6.2       9.1\n",
       "1484254  247   남원 2020-01-23       NaN       2.6       8.7\n",
       "1484276  247   남원 2020-02-14       NaN       2.0      18.3\n",
       "1506195  255  북창원 2020-02-17       NaN      -2.8       2.9\n",
       "1510383  257  양산시 2020-02-13       NaN       6.5      14.0\n",
       "1525125  261   해남 2020-06-25       NaN      21.4      22.1\n",
       "1525126  261   해남 2020-06-26       NaN      18.8      28.4\n",
       "1532312  263  의령군 2020-02-27       NaN       5.5      10.7\n",
       "1532313  263  의령군 2020-02-28       NaN       4.0       7.1\n",
       "1532485  263  의령군 2020-08-18       NaN      23.5      31.6\n",
       "1532596  263  의령군 2020-12-07       NaN      -3.7      12.6\n",
       "1532613  263  의령군 2020-12-24       NaN      -1.9      13.9\n",
       "1536022  264  함양군 2020-04-25       NaN       1.3      23.5\n",
       "1536024  264  함양군 2020-04-27       NaN       1.6      19.0\n",
       "1536025  264  함양군 2020-04-28       NaN       1.5      21.0\n",
       "1539857  266  광양시 2020-12-26       NaN       4.3      11.0\n",
       "1542104  268  진도군 2020-07-03       NaN      19.0      21.4\n",
       "1549577  272   영주 2020-12-18       NaN      -9.3       1.1\n",
       "1556859  276  청송군 2020-11-26       NaN      -2.7       NaN\n",
       "1560530  277   영덕 2020-12-15       NaN      -8.9      -1.3\n",
       "1564045  278   의성 2020-07-30       NaN      21.5      25.1\n",
       "1567805  279   구미 2020-11-14       NaN       2.8      18.6\n",
       "1571201  281   영천 2020-03-02       NaN       0.5      11.3\n",
       "1593152  294   거제 2020-04-05       NaN       4.6      14.5"
      ]
     },
     "execution_count": 24,
     "metadata": {},
     "output_type": "execute_result"
    }
   ],
   "source": [
    "# 결측치 데이터 확인\n",
    "df_2020[(df_2020['평균기온(°C)'].isnull()) | (df_2020['최고기온(°C)'].isnull())]"
   ]
  },
  {
   "cell_type": "code",
   "execution_count": 25,
   "id": "3ea4299f",
   "metadata": {},
   "outputs": [
    {
     "data": {
      "text/plain": [
       "지점명\n",
       "의령군    5\n",
       "남원     3\n",
       "함양군    3\n",
       "해남     2\n",
       "추풍령    2\n",
       "군산     2\n",
       "영덕     1\n",
       "고창     1\n",
       "광양시    1\n",
       "구미     1\n",
       "보령     1\n",
       "북창원    1\n",
       "순천     1\n",
       "양산시    1\n",
       "영천     1\n",
       "영주     1\n",
       "울진     1\n",
       "의성     1\n",
       "인제     1\n",
       "임실     1\n",
       "정선군    1\n",
       "정읍     1\n",
       "진도군    1\n",
       "청송군    1\n",
       "거제     1\n",
       "dtype: int64"
      ]
     },
     "execution_count": 25,
     "metadata": {},
     "output_type": "execute_result"
    }
   ],
   "source": [
    "# 결측치가 있는 데이터의 지점별 카운팅\n",
    "df_2020[(df_2020['평균기온(°C)'].isnull()) | (df_2020['최고기온(°C)'].isnull())].value_counts('지점명')"
   ]
  },
  {
   "cell_type": "code",
   "execution_count": 26,
   "id": "f5582d33",
   "metadata": {},
   "outputs": [],
   "source": [
    "# 결측치 제거\n",
    "df_2020.dropna(inplace=True)"
   ]
  },
  {
   "cell_type": "code",
   "execution_count": 27,
   "id": "8b898eaf",
   "metadata": {},
   "outputs": [
    {
     "data": {
      "text/plain": [
       "지점          0\n",
       "지점명         0\n",
       "일시          0\n",
       "평균기온(°C)    0\n",
       "최저기온(°C)    0\n",
       "최고기온(°C)    0\n",
       "dtype: int64"
      ]
     },
     "execution_count": 27,
     "metadata": {},
     "output_type": "execute_result"
    }
   ],
   "source": [
    "# 결측치 잘 제거되었는지 확인\n",
    "df_2020.isnull().sum()"
   ]
  },
  {
   "cell_type": "code",
   "execution_count": 28,
   "id": "78d9e7ad",
   "metadata": {},
   "outputs": [
    {
     "data": {
      "text/plain": [
       "경주시    366\n",
       "고산     366\n",
       "밀양     366\n",
       "부산     366\n",
       "동두천    366\n",
       "      ... \n",
       "추풍령    364\n",
       "남원     363\n",
       "함양군    363\n",
       "진도군    363\n",
       "의령군    361\n",
       "Name: 지점명, Length: 95, dtype: int64"
      ]
     },
     "execution_count": 28,
     "metadata": {},
     "output_type": "execute_result"
    }
   ],
   "source": [
    "# 지점별 데이터 개수 확인\n",
    "df_2020['지점명'].value_counts()"
   ]
  },
  {
   "cell_type": "markdown",
   "id": "7a607ac7",
   "metadata": {},
   "source": [
    "# 지점별 연 평균기온 시각화\n",
    "- 연 평균기온이 높은 지역은 어디일까?\n",
    "- 연 평균기온이 낮은 지역은 어디일까?\n",
    "- 서울의 연 평균기온은 전국에서 어느 정도 위치에 해당할까?\n",
    "\n",
    "## 2020년 지점별 연 평균 기온 추출\n",
    "- 지점별 일 평균기온의 평균 계산<br>\n",
    "    지점명으로 그룹핑하여 일 평균기온의 평균 계산 "
   ]
  },
  {
   "cell_type": "code",
   "execution_count": 34,
   "id": "145587e4",
   "metadata": {},
   "outputs": [
    {
     "data": {
      "text/plain": [
       "지점명\n",
       "서귀포    16.770219\n",
       "제주     16.744809\n",
       "고산     16.076503\n",
       "성산     15.981148\n",
       "북창원    15.206593\n",
       "         ...    \n",
       "철원     10.976776\n",
       "제천     10.973497\n",
       "봉화     10.821038\n",
       "태백      9.631421\n",
       "대관령     7.787978\n",
       "Name: 평균기온(°C), Length: 95, dtype: float64"
      ]
     },
     "execution_count": 34,
     "metadata": {},
     "output_type": "execute_result"
    }
   ],
   "source": [
    "df_2020_mean=df_2020.groupby('지점명')['평균기온(°C)'].mean().sort_values(ascending=False)\n",
    "df_2020_mean"
   ]
  },
  {
   "cell_type": "markdown",
   "id": "f8c3e9c0",
   "metadata": {},
   "source": [
    "## 시각화"
   ]
  },
  {
   "cell_type": "code",
   "execution_count": 69,
   "id": "935f879e",
   "metadata": {},
   "outputs": [
    {
     "data": {
      "image/png": "[encoded data removed]",
      "text/plain": [
       "<Figure size 1440x360 with 1 Axes>"
      ]
     },
     "metadata": {
      "needs_background": "light"
     },
     "output_type": "display_data"
    }
   ],
   "source": [
    "# 지점별 연 평균기온\n",
    "plt.figure(figsize=(20,5))\n",
    "plt.bar(df_2020_mean.index, df_2020_mean.values, color='lightgreen')\n",
    "plt.xticks(rotation=90)\n",
    "\n",
    "# 최고, 평균, 최저 라인 표시\n",
    "plt.axhline(df_2020_mean.max(), color='r', ls='--', label='최고:'+str(round(df_2020_mean.max(),1)))\n",
    "plt.axhline(df_2020_mean.min(), color='g', ls='--', label='최저:'+str(round(df_2020_mean.min(),1)))\n",
    "plt.axhline(df_2020_mean.mean(), color='b', ls='--', label='평균:'+str(round(df_2020_mean.mean(),1)))\n",
    "plt.legend(loc=(0, 1.01), ncol=3, fontsize=12, edgecolor='k')\n",
    "\n",
    "# 서울지역표시\n",
    "plt.bar('서울', df_2020_mean.loc['서울'], color='g')\n",
    "plt.text('서울', df_2020_mean.loc['서울']+0.5, '서울('+str(round(df_2020_mean.loc['서울'],1))+')'\n",
    "         , ha='center', fontsize=15)\n",
    "plt.title('2020년 전국 지점별 연 평균기온', size=20, pad=30)\n",
    "\n",
    "plt.show()"
   ]
  },
  {
   "cell_type": "markdown",
   "id": "f8cf0c5c",
   "metadata": {},
   "source": [
    "# 지점별 연 최저기온, 최고기온 시각화\n",
    "- 연 최저기온이 높은 지역은 어디일까?\n",
    "- 연 최저기온이 낮은 지역은 어디일까?\n",
    "- 서울의 연 최저기온은 전국에서 어느 정도 위치에 해당할까?"
   ]
  },
  {
   "cell_type": "markdown",
   "id": "aeca6eef",
   "metadata": {},
   "source": [
    "## 지점별 연 최저기온\n",
    "### 지점별 연 최저기온 추출"
   ]
  },
  {
   "cell_type": "code",
   "execution_count": 77,
   "id": "e3315956",
   "metadata": {},
   "outputs": [
    {
     "data": {
      "text/plain": [
       "지점명\n",
       "제주     -1.4\n",
       "고산     -1.4\n",
       "서귀포    -2.1\n",
       "성산     -2.8\n",
       "흑산도    -3.3\n",
       "       ... \n",
       "홍천    -18.2\n",
       "북춘천   -18.5\n",
       "철원    -18.8\n",
       "제천    -20.3\n",
       "대관령   -24.0\n",
       "Name: 최저기온(°C), Length: 95, dtype: float64"
      ]
     },
     "execution_count": 77,
     "metadata": {},
     "output_type": "execute_result"
    }
   ],
   "source": [
    "# 지점명으로 그룹화하여 지점별 연 최저기온 추출\n",
    "df_2020_cold = df_2020.groupby('지점명')['최저기온(°C)'].min().sort_values(ascending=False)\n",
    "df_2020_cold"
   ]
  },
  {
   "cell_type": "markdown",
   "id": "93306a2d",
   "metadata": {},
   "source": [
    "### 시각화"
   ]
  },
  {
   "cell_type": "code",
   "execution_count": 101,
   "id": "d97c7568",
   "metadata": {},
   "outputs": [
    {
     "data": {
      "image/png": "[encoded data removed]",
      "text/plain": [
       "<Figure size 1440x360 with 1 Axes>"
      ]
     },
     "metadata": {
      "needs_background": "light"
     },
     "output_type": "display_data"
    }
   ],
   "source": [
    "# 지점별 연 최저기온\n",
    "plt.figure(figsize=(20,5))\n",
    "plt.bar(df_2020_cold.index, df_2020_cold.values, color='skyblue')\n",
    "plt.xticks(rotation=90)\n",
    "plt.title('2020년 지점별 연 최저기온', size=20, pad=30)\n",
    "\n",
    "# 최저, 평균, 최고지점 표시\n",
    "plt.axhline(df_2020_cold.max(), color='r', ls='--', label=\"최고:\"+str(df_2020_cold.max()))\n",
    "plt.axhline(df_2020_cold.mean(), color='g', ls='--', label=\"평균:\"+str(round(df_2020_cold.mean(),1)))\n",
    "plt.axhline(df_2020_cold.min(), color='b', ls='--', label=\"최저:\"+str(df_2020_cold.min()))\n",
    "plt.legend(loc=(0,1.01), ncol=3, fontsize=12, edgecolor='k')\n",
    "\n",
    "# 서울 표시\n",
    "plt.bar('서울', df_2020_cold.loc['서울'], color='b')\n",
    "plt.text('서울', df_2020_cold.loc['서울']-1.5, '서울('+str(df_2020_cold.loc['서울'])+')'\n",
    "         , ha='center', fontsize=12)\n",
    "\n",
    "plt.show()"
   ]
  },
  {
   "cell_type": "markdown",
   "id": "b5a96a7d",
   "metadata": {},
   "source": [
    "## 지점별 연 최고기온\n",
    "### 지점별 연 최고기온 추출"
   ]
  },
  {
   "cell_type": "code",
   "execution_count": 102,
   "id": "b42cee2e",
   "metadata": {},
   "outputs": [
    {
     "data": {
      "text/plain": [
       "지점명\n",
       "양산시    37.8\n",
       "대구     37.0\n",
       "경주시    36.9\n",
       "북창원    36.9\n",
       "포항     36.9\n",
       "       ... \n",
       "여수     32.6\n",
       "울릉도    32.0\n",
       "대관령    31.6\n",
       "서귀포    31.3\n",
       "백령도    30.5\n",
       "Name: 최고기온(°C), Length: 95, dtype: float64"
      ]
     },
     "execution_count": 102,
     "metadata": {},
     "output_type": "execute_result"
    }
   ],
   "source": [
    "# 지점명으로 그룹화하여 지점별 연 최고기온 추출\n",
    "df_2020_hot = df_2020.groupby('지점명')['최고기온(°C)'].max().sort_values(ascending=False)\n",
    "df_2020_hot"
   ]
  },
  {
   "cell_type": "markdown",
   "id": "1334443d",
   "metadata": {},
   "source": [
    "### 시각화"
   ]
  },
  {
   "cell_type": "code",
   "execution_count": 106,
   "id": "e7d1e561",
   "metadata": {},
   "outputs": [
    {
     "data": {
      "image/png": "[encoded data removed]",
      "text/plain": [
       "<Figure size 1440x360 with 1 Axes>"
      ]
     },
     "metadata": {
      "needs_background": "light"
     },
     "output_type": "display_data"
    }
   ],
   "source": [
    "# 지점별 연 최고 기온\n",
    "plt.figure(figsize=(20,5))\n",
    "plt.bar(df_2020_hot.index, df_2020_hot.values, color='pink')\n",
    "plt.xticks(rotation=90)\n",
    "plt.title('2020년 지점별 연 최고기온', size=20, pad=30)\n",
    "\n",
    "# 최저, 평균, 최고지점 표시\n",
    "plt.axhline(df_2020_hot.max(), color='r', ls='--', label=\"최고:\"+str(df_2020_hot.max()))\n",
    "plt.axhline(df_2020_hot.mean(), color='g', ls='--', label=\"평균:\"+str(round(df_2020_hot.mean(),1)))\n",
    "plt.axhline(df_2020_hot.min(), color='b', ls='--', label=\"최저:\"+str(df_2020_hot.min()))\n",
    "plt.legend(loc=(0,1.01), ncol=3, fontsize=12, edgecolor='k')\n",
    "\n",
    "# 서울 표시\n",
    "plt.bar('서울', df_2020_hot.loc['서울'], color='b')\n",
    "plt.text('서울', df_2020_hot.loc['서울']-1.5, '서울('+str(df_2020_hot.loc['서울'])+')'\n",
    "         , ha='center', fontsize=12)\n",
    "\n",
    "plt.show()"
   ]
  },
  {
   "cell_type": "code",
   "execution_count": null,
   "id": "2b057440",
   "metadata": {},
   "outputs": [],
   "source": []
  }
 ],
 "metadata": {
  "kernelspec": {
   "display_name": "Python 3",
   "language": "python",
   "name": "python3"
  },
  "language_info": {
   "codemirror_mode": {
    "name": "ipython",
    "version": 3
   },
   "file_extension": ".py",
   "mimetype": "text/x-python",
   "name": "python",
   "nbconvert_exporter": "python",
   "pygments_lexer": "ipython3",
   "version": "3.8.5"
  },
  "toc": {
   "base_numbering": 1,
   "nav_menu": {},
   "number_sections": true,
   "sideBar": true,
   "skip_h1_title": false,
   "title_cell": "Table of Contents",
   "title_sidebar": "Contents",
   "toc_cell": false,
   "toc_position": {},
   "toc_section_display": true,
   "toc_window_display": false
  }
 },
 "nbformat": 4,
 "nbformat_minor": 5
}
