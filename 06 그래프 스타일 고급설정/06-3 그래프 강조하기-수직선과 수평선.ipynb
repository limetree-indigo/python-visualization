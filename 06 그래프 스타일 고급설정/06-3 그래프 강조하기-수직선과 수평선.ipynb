{
 "cells": [
  {
   "cell_type": "code",
   "execution_count": 1,
   "id": "f439ac0c",
   "metadata": {},
   "outputs": [],
   "source": [
    "import matplotlib.pyplot as plt"
   ]
  },
  {
   "cell_type": "code",
   "execution_count": 3,
   "id": "267a1140",
   "metadata": {},
   "outputs": [],
   "source": [
    "# 그래프에서 한글 깨짐 해결\n",
    "plt.rcParams['font.family']='AppleGothic'\n",
    "\n",
    "# 그래프에서 마이너스 기호 깨짐 해결\n",
    "plt.rcParams['axes.unicode_minus']=False"
   ]
  },
  {
   "cell_type": "code",
   "execution_count": 5,
   "id": "dc17f9c1",
   "metadata": {},
   "outputs": [],
   "source": [
    "# 그리드 스카일\n",
    "plt.rcParams['grid.linestyle']='--'\n",
    "plt.rcParams['grid.alpha']=0.3"
   ]
  },
  {
   "cell_type": "markdown",
   "id": "1d91579f",
   "metadata": {},
   "source": [
    "# 수평선, 수직선 그리기\n",
    "## 수평선 그리기\n",
    "- **`plt.axhline(y좌표, x축시작위치, x축끝위치)`**<br>\n",
    "    수평선의 길이가 1이라고 했을 때 x축시작위치, x축끝위치를 지정한다.<br>\n",
    "    따로 지정하지 않으면 x축 전범위에 걸쳐 그려진다.\n",
    "- **`plt.hlines(y좌표, x축시작좌표, x축끝자표)`**"
   ]
  },
  {
   "cell_type": "code",
   "execution_count": 12,
   "id": "011cb7c0",
   "metadata": {},
   "outputs": [
    {
     "data": {
      "image/png": "[encoded data removed]",
      "text/plain": [
       "<Figure size 432x288 with 1 Axes>"
      ]
     },
     "metadata": {
      "needs_background": "light"
     },
     "output_type": "display_data"
    }
   ],
   "source": [
    "plt.plot([1,2,3,4], 'ko')\n",
    "\n",
    "plt.axhline(2, 0, 1, color='b', alpha=0.5, ls=':')\n",
    "plt.hlines(3, 0.0, 3.0, color='darkorange', ls='-.')\n",
    "\n",
    "plt.show()"
   ]
  },
  {
   "cell_type": "markdown",
   "id": "fd5efb33",
   "metadata": {},
   "source": [
    "## 수직선 그리기\n",
    "- **`plt.axvline(x좌표, y축시작위치, y축끝위치)`**<br>\n",
    "    수평선의 길이가 1이라고 했을 때 y축시작위치, y축끝위치를 지정한다.<br>\n",
    "    따로 지정하지 않으면 y축 전범위에 걸쳐 그려진다.\n",
    "- **`plt.vlines(x좌표, y축시작좌표, y축끝자표)`**"
   ]
  },
  {
   "cell_type": "code",
   "execution_count": 22,
   "id": "b6d47b76",
   "metadata": {},
   "outputs": [
    {
     "data": {
      "image/png": "[encoded data removed]",
      "text/plain": [
       "<Figure size 432x288 with 1 Axes>"
      ]
     },
     "metadata": {
      "needs_background": "light"
     },
     "output_type": "display_data"
    }
   ],
   "source": [
    "plt.plot([1,2,3,4], 'ko')\n",
    "\n",
    "plt.axvline(1, 0, 0.5, ls='--', color='red')\n",
    "plt.vlines(2, 1.0, 3.0, ls=':', color='g')\n",
    "\n",
    "plt.show()"
   ]
  },
  {
   "cell_type": "markdown",
   "id": "fb0cd952",
   "metadata": {},
   "source": [
    "# 예제: 요일별 판매 데이블 수\n",
    "## 데이터"
   ]
  },
  {
   "cell_type": "code",
   "execution_count": 23,
   "id": "d5d8fbaf",
   "metadata": {},
   "outputs": [
    {
     "data": {
      "text/html": [
       "<div>\n",
       "<style scoped>\n",
       "    .dataframe tbody tr th:only-of-type {\n",
       "        vertical-align: middle;\n",
       "    }\n",
       "\n",
       "    .dataframe tbody tr th {\n",
       "        vertical-align: top;\n",
       "    }\n",
       "\n",
       "    .dataframe thead th {\n",
       "        text-align: right;\n",
       "    }\n",
       "</style>\n",
       "<table border=\"1\" class=\"dataframe\">\n",
       "  <thead>\n",
       "    <tr style=\"text-align: right;\">\n",
       "      <th></th>\n",
       "      <th>total_bill</th>\n",
       "      <th>tip</th>\n",
       "      <th>sex</th>\n",
       "      <th>smoker</th>\n",
       "      <th>day</th>\n",
       "      <th>time</th>\n",
       "      <th>size</th>\n",
       "    </tr>\n",
       "  </thead>\n",
       "  <tbody>\n",
       "    <tr>\n",
       "      <th>0</th>\n",
       "      <td>16.99</td>\n",
       "      <td>1.01</td>\n",
       "      <td>Female</td>\n",
       "      <td>No</td>\n",
       "      <td>Sun</td>\n",
       "      <td>Dinner</td>\n",
       "      <td>2</td>\n",
       "    </tr>\n",
       "    <tr>\n",
       "      <th>1</th>\n",
       "      <td>10.34</td>\n",
       "      <td>1.66</td>\n",
       "      <td>Male</td>\n",
       "      <td>No</td>\n",
       "      <td>Sun</td>\n",
       "      <td>Dinner</td>\n",
       "      <td>3</td>\n",
       "    </tr>\n",
       "    <tr>\n",
       "      <th>2</th>\n",
       "      <td>21.01</td>\n",
       "      <td>3.50</td>\n",
       "      <td>Male</td>\n",
       "      <td>No</td>\n",
       "      <td>Sun</td>\n",
       "      <td>Dinner</td>\n",
       "      <td>3</td>\n",
       "    </tr>\n",
       "  </tbody>\n",
       "</table>\n",
       "</div>"
      ],
      "text/plain": [
       "   total_bill   tip     sex smoker  day    time  size\n",
       "0       16.99  1.01  Female     No  Sun  Dinner     2\n",
       "1       10.34  1.66    Male     No  Sun  Dinner     3\n",
       "2       21.01  3.50    Male     No  Sun  Dinner     3"
      ]
     },
     "execution_count": 23,
     "metadata": {},
     "output_type": "execute_result"
    }
   ],
   "source": [
    "import seaborn as sns\n",
    "tips = sns.load_dataset('tips')\n",
    "tips.head(3)"
   ]
  },
  {
   "cell_type": "markdown",
   "id": "aea7e833",
   "metadata": {},
   "source": [
    "## 요일 별 테이블 수\n",
    "- 요일별 데이터 수"
   ]
  },
  {
   "cell_type": "code",
   "execution_count": 25,
   "id": "ce6f7ba1",
   "metadata": {},
   "outputs": [
    {
     "data": {
      "text/plain": [
       "Sat     87\n",
       "Sun     76\n",
       "Thur    62\n",
       "Fri     19\n",
       "Name: day, dtype: int64"
      ]
     },
     "execution_count": 25,
     "metadata": {},
     "output_type": "execute_result"
    }
   ],
   "source": [
    "s = tips['day'].value_counts()\n",
    "s"
   ]
  },
  {
   "cell_type": "code",
   "execution_count": 41,
   "id": "d216713e",
   "metadata": {},
   "outputs": [
    {
     "data": {
      "image/png": "[encoded data removed]",
      "text/plain": [
       "<Figure size 1224x216 with 1 Axes>"
      ]
     },
     "metadata": {
      "needs_background": "light"
     },
     "output_type": "display_data"
    }
   ],
   "source": [
    "plt.figure(figsize=(17,3))\n",
    "plt.barh(s.index, s.values)\n",
    "plt.xticks(range(0, 91, 1), rotation=90)\n",
    "plt.grid(axis='x')\n",
    "\n",
    "plt.axvline(s['Fri'], color='k')\n",
    "plt.axvline(s['Thur'], color='k')\n",
    "plt.axvline(s['Sun'], color='k')\n",
    "plt.axvline(s['Sat'], color='k')\n",
    "\n",
    "plt.show()"
   ]
  },
  {
   "cell_type": "code",
   "execution_count": null,
   "id": "6ba2ffb6",
   "metadata": {},
   "outputs": [],
   "source": []
  }
 ],
 "metadata": {
  "kernelspec": {
   "display_name": "Python 3",
   "language": "python",
   "name": "python3"
  },
  "language_info": {
   "codemirror_mode": {
    "name": "ipython",
    "version": 3
   },
   "file_extension": ".py",
   "mimetype": "text/x-python",
   "name": "python",
   "nbconvert_exporter": "python",
   "pygments_lexer": "ipython3",
   "version": "3.8.5"
  },
  "toc": {
   "base_numbering": 1,
   "nav_menu": {},
   "number_sections": true,
   "sideBar": true,
   "skip_h1_title": false,
   "title_cell": "Table of Contents",
   "title_sidebar": "Contents",
   "toc_cell": false,
   "toc_position": {},
   "toc_section_display": true,
   "toc_window_display": false
  }
 },
 "nbformat": 4,
 "nbformat_minor": 5
}
