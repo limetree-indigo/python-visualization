{
 "cells": [
  {
   "cell_type": "code",
   "execution_count": 1,
   "id": "fcd0011f",
   "metadata": {},
   "outputs": [],
   "source": [
    "import pandas as pd\n",
    "import matplotlib.pyplot as plt"
   ]
  },
  {
   "cell_type": "code",
   "execution_count": 2,
   "id": "220b6375",
   "metadata": {},
   "outputs": [],
   "source": [
    "# 그래프에 한글 폰트 설정\n",
    "plt.rcParams['font.family']='AppleGothic'\n",
    "\n",
    "# 그래프에 마이너스 기호 깨지는 문제 해결\n",
    "plt.rcParams['axes.unicode_minus']=False"
   ]
  },
  {
   "cell_type": "markdown",
   "id": "a24d0ff6",
   "metadata": {},
   "source": [
    "# 텍스트 추가하기\n",
    "- plt.text(x좌표,y좌표,텍스트)\n",
    "- rotaion=회전각도\n",
    "- ha : horizontal alignment\n",
    "- va : vertical alignment\n",
    "- 텍스트 상자<br>\n",
    "    `bbox = {'boxstyle':상자스타일, 'fc':facecolor, 'ec': edgecolor,...}`<br>\n",
    "    boxstyle:'round'/'square'"
   ]
  },
  {
   "cell_type": "code",
   "execution_count": 22,
   "id": "e53b8ba9",
   "metadata": {},
   "outputs": [
    {
     "data": {
      "image/png": "[encoded data removed]",
      "text/plain": [
       "<Figure size 432x288 with 1 Axes>"
      ]
     },
     "metadata": {
      "needs_background": "light"
     },
     "output_type": "display_data"
    }
   ],
   "source": [
    "plt.plot([1,2,3,4], 'ko')\n",
    "\n",
    "plt.text(2.1, 3, '(x:2, y:3)', ha='left', va='bottom', fontsize=12, rotation=45\n",
    "        , bbox={'boxstyle':'round', 'fc':'skyblue', 'ec':'b', 'alpha':0.3})\n",
    "plt.axhline(3, ls=':', alpha=0.5, lw=0.5)\n",
    "plt.axvline(2, ls=':', alpha=0.5, lw=0.5)\n",
    "plt.plot(2,3,'ro')\n",
    "plt.show()"
   ]
  },
  {
   "cell_type": "markdown",
   "id": "6f595bcc",
   "metadata": {},
   "source": [
    "# 화살표와 텍스트 추가하기"
   ]
  },
  {
   "cell_type": "markdown",
   "id": "846199f2",
   "metadata": {},
   "source": [
    "- **`plt.annotate('텍스트', xy=(화살표x,화살표y), xytext=(텍스트x,텍스트y),arrowprops=화살표속성(딕셔너리)`**\n",
    "<br><br>\n",
    "- 화살표 속성<br>\n",
    "    `width` The width of the arrow in points<br>\n",
    "    `headwidth` The width of the base of the arrow head in points<br>\n",
    "    `headlength` The length of the arrow head in points<br>\n",
    "    `shrink` Fraction of total length to shrink from both ends<br>\n",
    "                  "
   ]
  },
  {
   "cell_type": "code",
   "execution_count": 53,
   "id": "8b45bbf7",
   "metadata": {},
   "outputs": [
    {
     "data": {
      "image/png": "[encoded data removed]",
      "text/plain": [
       "<Figure size 432x288 with 1 Axes>"
      ]
     },
     "metadata": {
      "needs_background": "light"
     },
     "output_type": "display_data"
    }
   ],
   "source": [
    "plt.plot([1,2,3,4], 'ko')\n",
    "\n",
    "plt.axhline(2, color='orange', lw=0.5, alpha=0.5, ls='--')\n",
    "plt.axvline(1, color='orange', lw=0.5, alpha=0.5, ls='--')\n",
    "plt.plot(1,2,'ro')\n",
    "\n",
    "plt.annotate('(x:1,y:2)', xy=(1,2), xytext=(1.5, 2.5)\n",
    "             , arrowprops={'width':1, 'headwidth':10, 'headlength': 10, 'shrink':0.1,'fc':'r','ec':'r'}\n",
    "             , fontsize=12, color='r')\n",
    "plt.show()"
   ]
  },
  {
   "cell_type": "code",
   "execution_count": null,
   "id": "5c2006be",
   "metadata": {},
   "outputs": [],
   "source": []
  }
 ],
 "metadata": {
  "kernelspec": {
   "display_name": "Python 3",
   "language": "python",
   "name": "python3"
  },
  "language_info": {
   "codemirror_mode": {
    "name": "ipython",
    "version": 3
   },
   "file_extension": ".py",
   "mimetype": "text/x-python",
   "name": "python",
   "nbconvert_exporter": "python",
   "pygments_lexer": "ipython3",
   "version": "3.8.5"
  },
  "toc": {
   "base_numbering": 1,
   "nav_menu": {},
   "number_sections": true,
   "sideBar": true,
   "skip_h1_title": false,
   "title_cell": "Table of Contents",
   "title_sidebar": "Contents",
   "toc_cell": false,
   "toc_position": {},
   "toc_section_display": true,
   "toc_window_display": false
  }
 },
 "nbformat": 4,
 "nbformat_minor": 5
}
