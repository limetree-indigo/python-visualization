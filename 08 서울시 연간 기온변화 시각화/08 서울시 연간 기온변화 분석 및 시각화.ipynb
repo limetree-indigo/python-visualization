{
 "cells": [
  {
   "cell_type": "markdown",
   "id": "7f6be4f1",
   "metadata": {},
   "source": [
    "# 전국 기온 데이터 수집\n",
    "- 기상자료개방포털<br>\n",
    "    https://data.kma.go.kr\n",
    "<br><br>\n",
    "\n",
    "- 기상자료개발포털>데이터>기상관측>지상>종관기상관측(ASOS)<br>\n",
    "    https://data.kma.go.kr/data/grnd/selectAsosRltmList.do?pgmNo=36<br>\n",
    "    회원가입/로그인필요<br>\n",
    "    [자료형태]일자료<br>\n",
    "    [지점]전체<br>\n",
    "    [자료]기온>최저,최고,평균<br>\n",
    "    [기간]1911~2020(10년단위로 나누어 다운로드)\n",
    "    "
   ]
  },
  {
   "cell_type": "markdown",
   "id": "6bee4b8a",
   "metadata": {},
   "source": [
    "# 전국 기온 데이터 확인\n",
    "- 데이터프레임 생성하고 데이터 살펴보기"
   ]
  },
  {
   "cell_type": "code",
   "execution_count": 1,
   "id": "c366d964",
   "metadata": {},
   "outputs": [],
   "source": [
    "import pandas as pd\n",
    "import matplotlib.pyplot as plt"
   ]
  },
  {
   "cell_type": "code",
   "execution_count": 2,
   "id": "b4e35970",
   "metadata": {},
   "outputs": [],
   "source": [
    "# 그래프에 한글 설정\n",
    "plt.rcParams['font.family']='AppleGothic'\n",
    "\n",
    "# 그래프에 마이너스 기호 깨지는 문제 해결\n",
    "plt.rcParams['axes.unicode_minus']=False"
   ]
  },
  {
   "cell_type": "markdown",
   "id": "286a3c47",
   "metadata": {},
   "source": [
    "## 데이터프레임 생성\n",
    "- 데이터 파일(csv)을 data풀더에 업로드한다.\n",
    "- pd.read_csv(파일경로, encoding='cp949')"
   ]
  },
  {
   "cell_type": "code",
   "execution_count": 13,
   "id": "a64bb699",
   "metadata": {},
   "outputs": [],
   "source": [
    "df_1911 = pd.read_csv('../data/1911_1920_일별기온.csv', encoding='cp949')\n",
    "df_1921 = pd.read_csv('../data/1921_1930_일별기온.csv', encoding='cp949')\n",
    "df_1931 = pd.read_csv('../data/1931_1940_일별기온.csv', encoding='cp949')\n",
    "df_1941 = pd.read_csv('../data/1941_1950_일별기온.csv', encoding='cp949')\n",
    "df_1951 = pd.read_csv('../data/1951_1960_일별기온.csv', encoding='cp949')\n",
    "df_1961 = pd.read_csv('../data/1961_1970_일별기온.csv', encoding='cp949')\n",
    "df_1971 = pd.read_csv('../data/1971_1980_일별기온.csv', encoding='cp949')\n",
    "df_1981 = pd.read_csv('../data/1981_1990_일별기온.csv', encoding='cp949')\n",
    "df_1991 = pd.read_csv('../data/1991_2000_일별기온.csv', encoding='cp949')\n",
    "df_2001 = pd.read_csv('../data/2001_2010_일별기온.csv', encoding='cp949')\n",
    "df_2011 = pd.read_csv('../data/2011_2020_일별기온.csv', encoding='cp949')\n"
   ]
  },
  {
   "cell_type": "code",
   "execution_count": 35,
   "id": "82a62fca",
   "metadata": {},
   "outputs": [
    {
     "data": {
      "text/html": [
       "<div>\n",
       "<style scoped>\n",
       "    .dataframe tbody tr th:only-of-type {\n",
       "        vertical-align: middle;\n",
       "    }\n",
       "\n",
       "    .dataframe tbody tr th {\n",
       "        vertical-align: top;\n",
       "    }\n",
       "\n",
       "    .dataframe thead th {\n",
       "        text-align: right;\n",
       "    }\n",
       "</style>\n",
       "<table border=\"1\" class=\"dataframe\">\n",
       "  <thead>\n",
       "    <tr style=\"text-align: right;\">\n",
       "      <th></th>\n",
       "      <th>지점</th>\n",
       "      <th>지점명</th>\n",
       "      <th>일시</th>\n",
       "      <th>평균기온(°C)</th>\n",
       "      <th>최저기온(°C)</th>\n",
       "      <th>최고기온(°C)</th>\n",
       "    </tr>\n",
       "  </thead>\n",
       "  <tbody>\n",
       "    <tr>\n",
       "      <th>268370</th>\n",
       "      <td>295</td>\n",
       "      <td>남해</td>\n",
       "      <td>2000-12-27</td>\n",
       "      <td>-0.5</td>\n",
       "      <td>-5.3</td>\n",
       "      <td>4.2</td>\n",
       "    </tr>\n",
       "    <tr>\n",
       "      <th>268371</th>\n",
       "      <td>295</td>\n",
       "      <td>남해</td>\n",
       "      <td>2000-12-28</td>\n",
       "      <td>2.3</td>\n",
       "      <td>-2.5</td>\n",
       "      <td>8.6</td>\n",
       "    </tr>\n",
       "    <tr>\n",
       "      <th>268372</th>\n",
       "      <td>295</td>\n",
       "      <td>남해</td>\n",
       "      <td>2000-12-29</td>\n",
       "      <td>1.7</td>\n",
       "      <td>-3.1</td>\n",
       "      <td>8.6</td>\n",
       "    </tr>\n",
       "    <tr>\n",
       "      <th>268373</th>\n",
       "      <td>295</td>\n",
       "      <td>남해</td>\n",
       "      <td>2000-12-30</td>\n",
       "      <td>4.0</td>\n",
       "      <td>-0.5</td>\n",
       "      <td>9.8</td>\n",
       "    </tr>\n",
       "    <tr>\n",
       "      <th>268374</th>\n",
       "      <td>295</td>\n",
       "      <td>남해</td>\n",
       "      <td>2000-12-31</td>\n",
       "      <td>2.5</td>\n",
       "      <td>-4.1</td>\n",
       "      <td>6.9</td>\n",
       "    </tr>\n",
       "  </tbody>\n",
       "</table>\n",
       "</div>"
      ],
      "text/plain": [
       "         지점 지점명          일시  평균기온(°C)  최저기온(°C)  최고기온(°C)\n",
       "268370  295  남해  2000-12-27      -0.5      -5.3       4.2\n",
       "268371  295  남해  2000-12-28       2.3      -2.5       8.6\n",
       "268372  295  남해  2000-12-29       1.7      -3.1       8.6\n",
       "268373  295  남해  2000-12-30       4.0      -0.5       9.8\n",
       "268374  295  남해  2000-12-31       2.5      -4.1       6.9"
      ]
     },
     "execution_count": 35,
     "metadata": {},
     "output_type": "execute_result"
    }
   ],
   "source": [
    "df_1991.tail()"
   ]
  },
  {
   "cell_type": "markdown",
   "id": "708acc7c",
   "metadata": {},
   "source": [
    "## 데이터프레임 연결하기\n",
    "- pd.concat(데이터프레임리스트, axis=0) : 행방향으로 연결(default)\n",
    "- pd.concat(데이터프레임리스트, axis=1) ; 열방향으로 연결\n",
    "- ignore_index=True: 인덱스 재지정"
   ]
  },
  {
   "cell_type": "code",
   "execution_count": 39,
   "id": "5d8cb1c4",
   "metadata": {},
   "outputs": [],
   "source": [
    "df = pd.concat([df_1911, df_1921,df_1931,df_1941,df_1951,df_1961,df_1971,df_1981,df_1991,df_2001,df_2011]\n",
    "              , ignore_index=True)"
   ]
  },
  {
   "cell_type": "code",
   "execution_count": 40,
   "id": "18baf6c6",
   "metadata": {},
   "outputs": [
    {
     "data": {
      "text/html": [
       "<div>\n",
       "<style scoped>\n",
       "    .dataframe tbody tr th:only-of-type {\n",
       "        vertical-align: middle;\n",
       "    }\n",
       "\n",
       "    .dataframe tbody tr th {\n",
       "        vertical-align: top;\n",
       "    }\n",
       "\n",
       "    .dataframe thead th {\n",
       "        text-align: right;\n",
       "    }\n",
       "</style>\n",
       "<table border=\"1\" class=\"dataframe\">\n",
       "  <thead>\n",
       "    <tr style=\"text-align: right;\">\n",
       "      <th></th>\n",
       "      <th>지점</th>\n",
       "      <th>지점명</th>\n",
       "      <th>일시</th>\n",
       "      <th>평균기온(°C)</th>\n",
       "      <th>최저기온(°C)</th>\n",
       "      <th>최고기온(°C)</th>\n",
       "    </tr>\n",
       "  </thead>\n",
       "  <tbody>\n",
       "    <tr>\n",
       "      <th>0</th>\n",
       "      <td>105</td>\n",
       "      <td>강릉</td>\n",
       "      <td>1911-10-04</td>\n",
       "      <td>NaN</td>\n",
       "      <td>12.2</td>\n",
       "      <td>26.2</td>\n",
       "    </tr>\n",
       "    <tr>\n",
       "      <th>1</th>\n",
       "      <td>105</td>\n",
       "      <td>강릉</td>\n",
       "      <td>1911-10-09</td>\n",
       "      <td>NaN</td>\n",
       "      <td>6.0</td>\n",
       "      <td>16.6</td>\n",
       "    </tr>\n",
       "    <tr>\n",
       "      <th>2</th>\n",
       "      <td>105</td>\n",
       "      <td>강릉</td>\n",
       "      <td>1911-10-16</td>\n",
       "      <td>NaN</td>\n",
       "      <td>9.2</td>\n",
       "      <td>15.5</td>\n",
       "    </tr>\n",
       "    <tr>\n",
       "      <th>3</th>\n",
       "      <td>105</td>\n",
       "      <td>강릉</td>\n",
       "      <td>1911-11-01</td>\n",
       "      <td>NaN</td>\n",
       "      <td>6.0</td>\n",
       "      <td>14.8</td>\n",
       "    </tr>\n",
       "    <tr>\n",
       "      <th>4</th>\n",
       "      <td>105</td>\n",
       "      <td>강릉</td>\n",
       "      <td>1911-11-04</td>\n",
       "      <td>NaN</td>\n",
       "      <td>10.2</td>\n",
       "      <td>19.5</td>\n",
       "    </tr>\n",
       "    <tr>\n",
       "      <th>...</th>\n",
       "      <td>...</td>\n",
       "      <td>...</td>\n",
       "      <td>...</td>\n",
       "      <td>...</td>\n",
       "      <td>...</td>\n",
       "      <td>...</td>\n",
       "    </tr>\n",
       "    <tr>\n",
       "      <th>1597071</th>\n",
       "      <td>295</td>\n",
       "      <td>남해</td>\n",
       "      <td>2020-12-27</td>\n",
       "      <td>4.4</td>\n",
       "      <td>2.5</td>\n",
       "      <td>6.0</td>\n",
       "    </tr>\n",
       "    <tr>\n",
       "      <th>1597072</th>\n",
       "      <td>295</td>\n",
       "      <td>남해</td>\n",
       "      <td>2020-12-28</td>\n",
       "      <td>4.7</td>\n",
       "      <td>1.1</td>\n",
       "      <td>11.5</td>\n",
       "    </tr>\n",
       "    <tr>\n",
       "      <th>1597073</th>\n",
       "      <td>295</td>\n",
       "      <td>남해</td>\n",
       "      <td>2020-12-29</td>\n",
       "      <td>5.4</td>\n",
       "      <td>1.0</td>\n",
       "      <td>11.2</td>\n",
       "    </tr>\n",
       "    <tr>\n",
       "      <th>1597074</th>\n",
       "      <td>295</td>\n",
       "      <td>남해</td>\n",
       "      <td>2020-12-30</td>\n",
       "      <td>-3.0</td>\n",
       "      <td>-5.4</td>\n",
       "      <td>1.6</td>\n",
       "    </tr>\n",
       "    <tr>\n",
       "      <th>1597075</th>\n",
       "      <td>295</td>\n",
       "      <td>남해</td>\n",
       "      <td>2020-12-31</td>\n",
       "      <td>-1.3</td>\n",
       "      <td>-7.4</td>\n",
       "      <td>2.8</td>\n",
       "    </tr>\n",
       "  </tbody>\n",
       "</table>\n",
       "<p>1597076 rows × 6 columns</p>\n",
       "</div>"
      ],
      "text/plain": [
       "          지점 지점명          일시  평균기온(°C)  최저기온(°C)  최고기온(°C)\n",
       "0        105  강릉  1911-10-04       NaN      12.2      26.2\n",
       "1        105  강릉  1911-10-09       NaN       6.0      16.6\n",
       "2        105  강릉  1911-10-16       NaN       9.2      15.5\n",
       "3        105  강릉  1911-11-01       NaN       6.0      14.8\n",
       "4        105  강릉  1911-11-04       NaN      10.2      19.5\n",
       "...      ...  ..         ...       ...       ...       ...\n",
       "1597071  295  남해  2020-12-27       4.4       2.5       6.0\n",
       "1597072  295  남해  2020-12-28       4.7       1.1      11.5\n",
       "1597073  295  남해  2020-12-29       5.4       1.0      11.2\n",
       "1597074  295  남해  2020-12-30      -3.0      -5.4       1.6\n",
       "1597075  295  남해  2020-12-31      -1.3      -7.4       2.8\n",
       "\n",
       "[1597076 rows x 6 columns]"
      ]
     },
     "execution_count": 40,
     "metadata": {},
     "output_type": "execute_result"
    }
   ],
   "source": [
    "df"
   ]
  },
  {
   "cell_type": "markdown",
   "id": "510e4b41",
   "metadata": {},
   "source": [
    "## 데이터 타입 확인/변경\n",
    "### 데이터타입 확인\n",
    "- 데이터프레임.dtypes"
   ]
  },
  {
   "cell_type": "code",
   "execution_count": 41,
   "id": "314d1a68",
   "metadata": {},
   "outputs": [
    {
     "data": {
      "text/plain": [
       "지점            int64\n",
       "지점명          object\n",
       "일시           object\n",
       "평균기온(°C)    float64\n",
       "최저기온(°C)    float64\n",
       "최고기온(°C)    float64\n",
       "dtype: object"
      ]
     },
     "execution_count": 41,
     "metadata": {},
     "output_type": "execute_result"
    }
   ],
   "source": [
    "# 데이터타입 확인\n",
    "df.dtypes"
   ]
  },
  {
   "cell_type": "markdown",
   "id": "e753bd00",
   "metadata": {},
   "source": [
    "### 데이터타입 변경\n",
    "- `pd.to_datetime(컬럼)` : datetime형으로 변경"
   ]
  },
  {
   "cell_type": "code",
   "execution_count": 45,
   "id": "f2309d1b",
   "metadata": {},
   "outputs": [],
   "source": [
    "# '일시' 컬럼을 datetime 형으로 변경\n",
    "df['일시']=pd.to_datetime(df['일시'])"
   ]
  },
  {
   "cell_type": "code",
   "execution_count": 46,
   "id": "7f193319",
   "metadata": {},
   "outputs": [
    {
     "data": {
      "text/plain": [
       "지점                   int64\n",
       "지점명                 object\n",
       "일시          datetime64[ns]\n",
       "평균기온(°C)           float64\n",
       "최저기온(°C)           float64\n",
       "최고기온(°C)           float64\n",
       "dtype: object"
      ]
     },
     "execution_count": 46,
     "metadata": {},
     "output_type": "execute_result"
    }
   ],
   "source": [
    "# 변경 확인\n",
    "df.dtypes"
   ]
  },
  {
   "cell_type": "markdown",
   "id": "0fdf2329",
   "metadata": {},
   "source": [
    "## 데이터크기확인\n",
    "- `데이터프레임.shape`"
   ]
  },
  {
   "cell_type": "code",
   "execution_count": 48,
   "id": "115052fe",
   "metadata": {},
   "outputs": [
    {
     "data": {
      "text/plain": [
       "(1597076, 6)"
      ]
     },
     "execution_count": 48,
     "metadata": {},
     "output_type": "execute_result"
    }
   ],
   "source": [
    "df.shape"
   ]
  },
  {
   "cell_type": "markdown",
   "id": "66a912db",
   "metadata": {},
   "source": [
    "## 데이터 정보 확인\n",
    "- `데이터프레임.info()`"
   ]
  },
  {
   "cell_type": "code",
   "execution_count": 49,
   "id": "bdab7cc4",
   "metadata": {},
   "outputs": [
    {
     "name": "stdout",
     "output_type": "stream",
     "text": [
      "<class 'pandas.core.frame.DataFrame'>\n",
      "RangeIndex: 1597076 entries, 0 to 1597075\n",
      "Data columns (total 6 columns):\n",
      " #   Column    Non-Null Count    Dtype         \n",
      "---  ------    --------------    -----         \n",
      " 0   지점        1597076 non-null  int64         \n",
      " 1   지점명       1597076 non-null  object        \n",
      " 2   일시        1597076 non-null  datetime64[ns]\n",
      " 3   평균기온(°C)  1594864 non-null  float64       \n",
      " 4   최저기온(°C)  1596878 non-null  float64       \n",
      " 5   최고기온(°C)  1596907 non-null  float64       \n",
      "dtypes: datetime64[ns](1), float64(3), int64(1), object(1)\n",
      "memory usage: 73.1+ MB\n"
     ]
    }
   ],
   "source": [
    "df.info()"
   ]
  },
  {
   "cell_type": "markdown",
   "id": "60ba30e1",
   "metadata": {},
   "source": [
    "## 데이터 내용 확인\n",
    "### 지점명, 지점명의 개수 확인\n",
    "- 컬럼.unique(): 컬럼의 중복을 배제한 값 목록\n",
    "- 컬럼.nunique() : 컬럼의 중복을 배제한 값 개수"
   ]
  },
  {
   "cell_type": "code",
   "execution_count": 50,
   "id": "75e01f3f",
   "metadata": {},
   "outputs": [
    {
     "data": {
      "text/plain": [
       "array(['강릉', '서울', '인천', '대구', '전주', '부산', '목포', '제주', '울릉도', '추풍령', '광주',\n",
       "       '포항', '울산', '여수', '속초', '춘천', '수원', '서산', '청주', '대전', '군산', '통영',\n",
       "       '서귀포', '진주', '임실', '정읍', '대관령', '원주', '충주', '울진', '안동', '완도', '성산',\n",
       "       '강화', '양평', '이천', '인제', '홍천', '삼척', '제천', '보은', '천안', '보령', '부여',\n",
       "       '금산', '부안', '남원', '고창군', '주암', '장흥', '해남', '고흥', '성산포', '영주', '문경',\n",
       "       '영덕', '의성', '구미', '영천', '거창', '합천', '밀양', '산청', '거제', '남해', '철원',\n",
       "       '관악산', '창원', '고산', '태백', '장수', '봉화', '동두천', '백령도', '동해', '영월',\n",
       "       '무안', '흑산도', '파주', '북강릉', '상주', '고창', '진도(첨찰산)', '정선군', '영광군',\n",
       "       '김해시', '순창군', '북창원', '양산시', '보성군', '강진군', '의령군', '함양군', '청송군',\n",
       "       '경주시', '북춘천', '순천', '대구(기)', '홍성', '세종', '광양시', '진도군'],\n",
       "      dtype=object)"
      ]
     },
     "execution_count": 50,
     "metadata": {},
     "output_type": "execute_result"
    }
   ],
   "source": [
    "# 지점명 확인\n",
    "df['지점명'].unique()"
   ]
  },
  {
   "cell_type": "code",
   "execution_count": 51,
   "id": "b9412b53",
   "metadata": {},
   "outputs": [
    {
     "data": {
      "text/plain": [
       "102"
      ]
     },
     "execution_count": 51,
     "metadata": {},
     "output_type": "execute_result"
    }
   ],
   "source": [
    "# 지점명 개수 확인\n",
    "df['지점명'].nunique()"
   ]
  },
  {
   "cell_type": "markdown",
   "id": "b7003bfa",
   "metadata": {},
   "source": [
    "### 연도의 개수 확인\n",
    "- datetime에서 연도, 월, 일 가져오기<br>\n",
    "    `컬럼.dt.year` `컬럼.dt.month` `컬럼.dt.day`"
   ]
  },
  {
   "cell_type": "code",
   "execution_count": 53,
   "id": "e2c63c4c",
   "metadata": {},
   "outputs": [
    {
     "data": {
      "text/plain": [
       "110"
      ]
     },
     "execution_count": 53,
     "metadata": {},
     "output_type": "execute_result"
    }
   ],
   "source": [
    "df['일시'].dt.year.nunique()"
   ]
  },
  {
   "cell_type": "markdown",
   "id": "3b04762f",
   "metadata": {},
   "source": [
    "### 연도별 데이터 개수 확인"
   ]
  },
  {
   "cell_type": "code",
   "execution_count": 54,
   "id": "eb954ad6",
   "metadata": {},
   "outputs": [
    {
     "data": {
      "text/plain": [
       "2020    34767\n",
       "2019    34738\n",
       "2018    34673\n",
       "2017    34668\n",
       "2016    34496\n",
       "        ...  \n",
       "1917     2190\n",
       "1915     2190\n",
       "1914     2190\n",
       "1913     2190\n",
       "1911     1836\n",
       "Name: 일시, Length: 110, dtype: int64"
      ]
     },
     "execution_count": 54,
     "metadata": {},
     "output_type": "execute_result"
    }
   ],
   "source": [
    "df['일시'].dt.year.value_counts()"
   ]
  },
  {
   "cell_type": "markdown",
   "id": "94db1179",
   "metadata": {},
   "source": [
    "### 지점별 데이터 개수 확인"
   ]
  },
  {
   "cell_type": "code",
   "execution_count": 55,
   "id": "884f1ec7",
   "metadata": {},
   "outputs": [
    {
     "data": {
      "text/plain": [
       "부산       40178\n",
       "목포       40178\n",
       "대구       40178\n",
       "인천       39690\n",
       "강릉       39509\n",
       "         ...  \n",
       "진도군       2423\n",
       "홍성        1885\n",
       "북춘천       1553\n",
       "대구(기)      619\n",
       "세종         581\n",
       "Name: 지점명, Length: 102, dtype: int64"
      ]
     },
     "execution_count": 55,
     "metadata": {},
     "output_type": "execute_result"
    }
   ],
   "source": [
    "df['지점명'].value_counts()"
   ]
  },
  {
   "cell_type": "code",
   "execution_count": null,
   "id": "eab3dedd",
   "metadata": {},
   "outputs": [],
   "source": []
  }
 ],
 "metadata": {
  "kernelspec": {
   "display_name": "Python 3",
   "language": "python",
   "name": "python3"
  },
  "language_info": {
   "codemirror_mode": {
    "name": "ipython",
    "version": 3
   },
   "file_extension": ".py",
   "mimetype": "text/x-python",
   "name": "python",
   "nbconvert_exporter": "python",
   "pygments_lexer": "ipython3",
   "version": "3.8.5"
  },
  "toc": {
   "base_numbering": 1,
   "nav_menu": {},
   "number_sections": true,
   "sideBar": true,
   "skip_h1_title": false,
   "title_cell": "Table of Contents",
   "title_sidebar": "Contents",
   "toc_cell": false,
   "toc_position": {},
   "toc_section_display": true,
   "toc_window_display": false
  }
 },
 "nbformat": 4,
 "nbformat_minor": 5
}
