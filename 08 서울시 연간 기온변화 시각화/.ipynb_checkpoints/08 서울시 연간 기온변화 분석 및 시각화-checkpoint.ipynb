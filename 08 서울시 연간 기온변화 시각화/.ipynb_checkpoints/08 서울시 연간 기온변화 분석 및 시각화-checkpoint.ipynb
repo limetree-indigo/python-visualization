{
 "cells": [
  {
   "cell_type": "markdown",
   "id": "5969edaa",
   "metadata": {},
   "source": [
    "# 전국 기온 데이터 수집\n",
    "- 기상자료개방포털<br>\n",
    "    https://data.kma.go.kr\n",
    "<br><br>\n",
    "\n",
    "- 기상자료개발포털>데이터>기상관측>지상>종관기상관측(ASOS)<br>\n",
    "    https://data.kma.go.kr/data/grnd/selectAsosRltmList.do?pgmNo=36<br>\n",
    "    회원가입/로그인필요<br>\n",
    "    [자료형태]일자료<br>\n",
    "    [지점]전체<br>\n",
    "    [자료]기온>최저,최고,평균<br>\n",
    "    [기간]1911~2020(10년단위로 나누어 다운로드)\n",
    "    "
   ]
  },
  {
   "cell_type": "markdown",
   "id": "e3d9237d",
   "metadata": {},
   "source": [
    "# 전국 기온 데이터 확인\n",
    "- 데이터프레임 생성하고 데이터 살펴보기"
   ]
  },
  {
   "cell_type": "code",
   "execution_count": 1,
   "id": "e4ee24ea",
   "metadata": {},
   "outputs": [],
   "source": [
    "import pandas as pd\n",
    "import matplotlib.pyplot as plt"
   ]
  },
  {
   "cell_type": "code",
   "execution_count": 2,
   "id": "ebaa0281",
   "metadata": {},
   "outputs": [],
   "source": [
    "# 그래프에 한글 설정\n",
    "plt.rcParams['font.family']='AppleGothic'\n",
    "\n",
    "# 그래프에 마이너스 기호 깨지는 문제 해결\n",
    "plt.rcParams['axes.unicode_minus']=False"
   ]
  },
  {
   "cell_type": "markdown",
   "id": "ca26243a",
   "metadata": {},
   "source": [
    "## 데이터프레임 생성\n",
    "- 데이터 파일(csv)을 data풀더에 업로드한다.\n",
    "- pd.read_csv(파일경로, encoding='cp949')"
   ]
  },
  {
   "cell_type": "code",
   "execution_count": 13,
   "id": "76896ed7",
   "metadata": {},
   "outputs": [],
   "source": [
    "df_1911 = pd.read_csv('../data/1911_1920_일별기온.csv', encoding='cp949')\n",
    "df_1921 = pd.read_csv('../data/1921_1930_일별기온.csv', encoding='cp949')\n",
    "df_1931 = pd.read_csv('../data/1931_1940_일별기온.csv', encoding='cp949')\n",
    "df_1941 = pd.read_csv('../data/1941_1950_일별기온.csv', encoding='cp949')\n",
    "df_1951 = pd.read_csv('../data/1951_1960_일별기온.csv', encoding='cp949')\n",
    "df_1961 = pd.read_csv('../data/1961_1970_일별기온.csv', encoding='cp949')\n",
    "df_1971 = pd.read_csv('../data/1971_1980_일별기온.csv', encoding='cp949')\n",
    "df_1981 = pd.read_csv('../data/1981_1990_일별기온.csv', encoding='cp949')\n",
    "df_1991 = pd.read_csv('../data/1991_2000_일별기온.csv', encoding='cp949')\n",
    "df_2001 = pd.read_csv('../data/2001_2010_일별기온.csv', encoding='cp949')\n",
    "df_2011 = pd.read_csv('../data/2011_2020_일별기온.csv', encoding='cp949')\n"
   ]
  },
  {
   "cell_type": "code",
   "execution_count": 35,
   "id": "a3368fcc",
   "metadata": {},
   "outputs": [
    {
     "data": {
      "text/html": [
       "<div>\n",
       "<style scoped>\n",
       "    .dataframe tbody tr th:only-of-type {\n",
       "        vertical-align: middle;\n",
       "    }\n",
       "\n",
       "    .dataframe tbody tr th {\n",
       "        vertical-align: top;\n",
       "    }\n",
       "\n",
       "    .dataframe thead th {\n",
       "        text-align: right;\n",
       "    }\n",
       "</style>\n",
       "<table border=\"1\" class=\"dataframe\">\n",
       "  <thead>\n",
       "    <tr style=\"text-align: right;\">\n",
       "      <th></th>\n",
       "      <th>지점</th>\n",
       "      <th>지점명</th>\n",
       "      <th>일시</th>\n",
       "      <th>평균기온(°C)</th>\n",
       "      <th>최저기온(°C)</th>\n",
       "      <th>최고기온(°C)</th>\n",
       "    </tr>\n",
       "  </thead>\n",
       "  <tbody>\n",
       "    <tr>\n",
       "      <th>268370</th>\n",
       "      <td>295</td>\n",
       "      <td>남해</td>\n",
       "      <td>2000-12-27</td>\n",
       "      <td>-0.5</td>\n",
       "      <td>-5.3</td>\n",
       "      <td>4.2</td>\n",
       "    </tr>\n",
       "    <tr>\n",
       "      <th>268371</th>\n",
       "      <td>295</td>\n",
       "      <td>남해</td>\n",
       "      <td>2000-12-28</td>\n",
       "      <td>2.3</td>\n",
       "      <td>-2.5</td>\n",
       "      <td>8.6</td>\n",
       "    </tr>\n",
       "    <tr>\n",
       "      <th>268372</th>\n",
       "      <td>295</td>\n",
       "      <td>남해</td>\n",
       "      <td>2000-12-29</td>\n",
       "      <td>1.7</td>\n",
       "      <td>-3.1</td>\n",
       "      <td>8.6</td>\n",
       "    </tr>\n",
       "    <tr>\n",
       "      <th>268373</th>\n",
       "      <td>295</td>\n",
       "      <td>남해</td>\n",
       "      <td>2000-12-30</td>\n",
       "      <td>4.0</td>\n",
       "      <td>-0.5</td>\n",
       "      <td>9.8</td>\n",
       "    </tr>\n",
       "    <tr>\n",
       "      <th>268374</th>\n",
       "      <td>295</td>\n",
       "      <td>남해</td>\n",
       "      <td>2000-12-31</td>\n",
       "      <td>2.5</td>\n",
       "      <td>-4.1</td>\n",
       "      <td>6.9</td>\n",
       "    </tr>\n",
       "  </tbody>\n",
       "</table>\n",
       "</div>"
      ],
      "text/plain": [
       "         지점 지점명          일시  평균기온(°C)  최저기온(°C)  최고기온(°C)\n",
       "268370  295  남해  2000-12-27      -0.5      -5.3       4.2\n",
       "268371  295  남해  2000-12-28       2.3      -2.5       8.6\n",
       "268372  295  남해  2000-12-29       1.7      -3.1       8.6\n",
       "268373  295  남해  2000-12-30       4.0      -0.5       9.8\n",
       "268374  295  남해  2000-12-31       2.5      -4.1       6.9"
      ]
     },
     "execution_count": 35,
     "metadata": {},
     "output_type": "execute_result"
    }
   ],
   "source": [
    "df_1991.tail()"
   ]
  },
  {
   "cell_type": "markdown",
   "id": "5ef77583",
   "metadata": {},
   "source": [
    "## 데이터프레임 연결하기\n",
    "- pd.concat(데이터프레임리스트, axis=0) : 행방향으로 연결(default)\n",
    "- pd.concat(데이터프레임리스트, axis=1) ; 열방향으로 연결\n",
    "- ignore_index=True: 인덱스 재지정"
   ]
  },
  {
   "cell_type": "code",
   "execution_count": 39,
   "id": "9447cb2a",
   "metadata": {},
   "outputs": [],
   "source": [
    "df = pd.concat([df_1911, df_1921,df_1931,df_1941,df_1951,df_1961,df_1971,df_1981,df_1991,df_2001,df_2011]\n",
    "              , ignore_index=True)"
   ]
  },
  {
   "cell_type": "code",
   "execution_count": 40,
   "id": "e88f6cb2",
   "metadata": {},
   "outputs": [
    {
     "data": {
      "text/html": [
       "<div>\n",
       "<style scoped>\n",
       "    .dataframe tbody tr th:only-of-type {\n",
       "        vertical-align: middle;\n",
       "    }\n",
       "\n",
       "    .dataframe tbody tr th {\n",
       "        vertical-align: top;\n",
       "    }\n",
       "\n",
       "    .dataframe thead th {\n",
       "        text-align: right;\n",
       "    }\n",
       "</style>\n",
       "<table border=\"1\" class=\"dataframe\">\n",
       "  <thead>\n",
       "    <tr style=\"text-align: right;\">\n",
       "      <th></th>\n",
       "      <th>지점</th>\n",
       "      <th>지점명</th>\n",
       "      <th>일시</th>\n",
       "      <th>평균기온(°C)</th>\n",
       "      <th>최저기온(°C)</th>\n",
       "      <th>최고기온(°C)</th>\n",
       "    </tr>\n",
       "  </thead>\n",
       "  <tbody>\n",
       "    <tr>\n",
       "      <th>0</th>\n",
       "      <td>105</td>\n",
       "      <td>강릉</td>\n",
       "      <td>1911-10-04</td>\n",
       "      <td>NaN</td>\n",
       "      <td>12.2</td>\n",
       "      <td>26.2</td>\n",
       "    </tr>\n",
       "    <tr>\n",
       "      <th>1</th>\n",
       "      <td>105</td>\n",
       "      <td>강릉</td>\n",
       "      <td>1911-10-09</td>\n",
       "      <td>NaN</td>\n",
       "      <td>6.0</td>\n",
       "      <td>16.6</td>\n",
       "    </tr>\n",
       "    <tr>\n",
       "      <th>2</th>\n",
       "      <td>105</td>\n",
       "      <td>강릉</td>\n",
       "      <td>1911-10-16</td>\n",
       "      <td>NaN</td>\n",
       "      <td>9.2</td>\n",
       "      <td>15.5</td>\n",
       "    </tr>\n",
       "    <tr>\n",
       "      <th>3</th>\n",
       "      <td>105</td>\n",
       "      <td>강릉</td>\n",
       "      <td>1911-11-01</td>\n",
       "      <td>NaN</td>\n",
       "      <td>6.0</td>\n",
       "      <td>14.8</td>\n",
       "    </tr>\n",
       "    <tr>\n",
       "      <th>4</th>\n",
       "      <td>105</td>\n",
       "      <td>강릉</td>\n",
       "      <td>1911-11-04</td>\n",
       "      <td>NaN</td>\n",
       "      <td>10.2</td>\n",
       "      <td>19.5</td>\n",
       "    </tr>\n",
       "    <tr>\n",
       "      <th>...</th>\n",
       "      <td>...</td>\n",
       "      <td>...</td>\n",
       "      <td>...</td>\n",
       "      <td>...</td>\n",
       "      <td>...</td>\n",
       "      <td>...</td>\n",
       "    </tr>\n",
       "    <tr>\n",
       "      <th>1597071</th>\n",
       "      <td>295</td>\n",
       "      <td>남해</td>\n",
       "      <td>2020-12-27</td>\n",
       "      <td>4.4</td>\n",
       "      <td>2.5</td>\n",
       "      <td>6.0</td>\n",
       "    </tr>\n",
       "    <tr>\n",
       "      <th>1597072</th>\n",
       "      <td>295</td>\n",
       "      <td>남해</td>\n",
       "      <td>2020-12-28</td>\n",
       "      <td>4.7</td>\n",
       "      <td>1.1</td>\n",
       "      <td>11.5</td>\n",
       "    </tr>\n",
       "    <tr>\n",
       "      <th>1597073</th>\n",
       "      <td>295</td>\n",
       "      <td>남해</td>\n",
       "      <td>2020-12-29</td>\n",
       "      <td>5.4</td>\n",
       "      <td>1.0</td>\n",
       "      <td>11.2</td>\n",
       "    </tr>\n",
       "    <tr>\n",
       "      <th>1597074</th>\n",
       "      <td>295</td>\n",
       "      <td>남해</td>\n",
       "      <td>2020-12-30</td>\n",
       "      <td>-3.0</td>\n",
       "      <td>-5.4</td>\n",
       "      <td>1.6</td>\n",
       "    </tr>\n",
       "    <tr>\n",
       "      <th>1597075</th>\n",
       "      <td>295</td>\n",
       "      <td>남해</td>\n",
       "      <td>2020-12-31</td>\n",
       "      <td>-1.3</td>\n",
       "      <td>-7.4</td>\n",
       "      <td>2.8</td>\n",
       "    </tr>\n",
       "  </tbody>\n",
       "</table>\n",
       "<p>1597076 rows × 6 columns</p>\n",
       "</div>"
      ],
      "text/plain": [
       "          지점 지점명          일시  평균기온(°C)  최저기온(°C)  최고기온(°C)\n",
       "0        105  강릉  1911-10-04       NaN      12.2      26.2\n",
       "1        105  강릉  1911-10-09       NaN       6.0      16.6\n",
       "2        105  강릉  1911-10-16       NaN       9.2      15.5\n",
       "3        105  강릉  1911-11-01       NaN       6.0      14.8\n",
       "4        105  강릉  1911-11-04       NaN      10.2      19.5\n",
       "...      ...  ..         ...       ...       ...       ...\n",
       "1597071  295  남해  2020-12-27       4.4       2.5       6.0\n",
       "1597072  295  남해  2020-12-28       4.7       1.1      11.5\n",
       "1597073  295  남해  2020-12-29       5.4       1.0      11.2\n",
       "1597074  295  남해  2020-12-30      -3.0      -5.4       1.6\n",
       "1597075  295  남해  2020-12-31      -1.3      -7.4       2.8\n",
       "\n",
       "[1597076 rows x 6 columns]"
      ]
     },
     "execution_count": 40,
     "metadata": {},
     "output_type": "execute_result"
    }
   ],
   "source": [
    "df"
   ]
  },
  {
   "cell_type": "markdown",
   "id": "5c5f62d1",
   "metadata": {},
   "source": [
    "## 데이터 타입 확인/변경\n",
    "### 데이터타입 확인\n",
    "- 데이터프레임.dtypes"
   ]
  },
  {
   "cell_type": "code",
   "execution_count": 41,
   "id": "d6b9931c",
   "metadata": {},
   "outputs": [
    {
     "data": {
      "text/plain": [
       "지점            int64\n",
       "지점명          object\n",
       "일시           object\n",
       "평균기온(°C)    float64\n",
       "최저기온(°C)    float64\n",
       "최고기온(°C)    float64\n",
       "dtype: object"
      ]
     },
     "execution_count": 41,
     "metadata": {},
     "output_type": "execute_result"
    }
   ],
   "source": [
    "# 데이터타입 확인\n",
    "df.dtypes"
   ]
  },
  {
   "cell_type": "markdown",
   "id": "200c5fb4",
   "metadata": {},
   "source": [
    "### 데이터타입 변경\n",
    "- `pd.to_datetime(컬럼)` : datetime형으로 변경"
   ]
  },
  {
   "cell_type": "code",
   "execution_count": 45,
   "id": "72c6f255",
   "metadata": {},
   "outputs": [],
   "source": [
    "# '일시' 컬럼을 datetime 형으로 변경\n",
    "df['일시']=pd.to_datetime(df['일시'])"
   ]
  },
  {
   "cell_type": "code",
   "execution_count": 46,
   "id": "a90aab83",
   "metadata": {},
   "outputs": [
    {
     "data": {
      "text/plain": [
       "지점                   int64\n",
       "지점명                 object\n",
       "일시          datetime64[ns]\n",
       "평균기온(°C)           float64\n",
       "최저기온(°C)           float64\n",
       "최고기온(°C)           float64\n",
       "dtype: object"
      ]
     },
     "execution_count": 46,
     "metadata": {},
     "output_type": "execute_result"
    }
   ],
   "source": [
    "# 변경 확인\n",
    "df.dtypes"
   ]
  },
  {
   "cell_type": "markdown",
   "id": "b8f5bcd9",
   "metadata": {},
   "source": [
    "## 데이터크기확인\n",
    "- `데이터프레임.shape`"
   ]
  },
  {
   "cell_type": "code",
   "execution_count": 48,
   "id": "4224ee6a",
   "metadata": {},
   "outputs": [
    {
     "data": {
      "text/plain": [
       "(1597076, 6)"
      ]
     },
     "execution_count": 48,
     "metadata": {},
     "output_type": "execute_result"
    }
   ],
   "source": [
    "df.shape"
   ]
  },
  {
   "cell_type": "markdown",
   "id": "d357718c",
   "metadata": {},
   "source": [
    "## 데이터 정보 확인\n",
    "- `데이터프레임.info()`"
   ]
  },
  {
   "cell_type": "code",
   "execution_count": 49,
   "id": "68809ee4",
   "metadata": {},
   "outputs": [
    {
     "name": "stdout",
     "output_type": "stream",
     "text": [
      "<class 'pandas.core.frame.DataFrame'>\n",
      "RangeIndex: 1597076 entries, 0 to 1597075\n",
      "Data columns (total 6 columns):\n",
      " #   Column    Non-Null Count    Dtype         \n",
      "---  ------    --------------    -----         \n",
      " 0   지점        1597076 non-null  int64         \n",
      " 1   지점명       1597076 non-null  object        \n",
      " 2   일시        1597076 non-null  datetime64[ns]\n",
      " 3   평균기온(°C)  1594864 non-null  float64       \n",
      " 4   최저기온(°C)  1596878 non-null  float64       \n",
      " 5   최고기온(°C)  1596907 non-null  float64       \n",
      "dtypes: datetime64[ns](1), float64(3), int64(1), object(1)\n",
      "memory usage: 73.1+ MB\n"
     ]
    }
   ],
   "source": [
    "df.info()"
   ]
  },
  {
   "cell_type": "markdown",
   "id": "a7d64d48",
   "metadata": {},
   "source": [
    "## 데이터 내용 확인\n",
    "### 지점명, 지점명의 개수 확인\n",
    "- 컬럼.unique(): 컬럼의 중복을 배제한 값 목록\n",
    "- 컬럼.nunique() : 컬럼의 중복을 배제한 값 개수"
   ]
  },
  {
   "cell_type": "code",
   "execution_count": 50,
   "id": "da997453",
   "metadata": {},
   "outputs": [
    {
     "data": {
      "text/plain": [
       "array(['강릉', '서울', '인천', '대구', '전주', '부산', '목포', '제주', '울릉도', '추풍령', '광주',\n",
       "       '포항', '울산', '여수', '속초', '춘천', '수원', '서산', '청주', '대전', '군산', '통영',\n",
       "       '서귀포', '진주', '임실', '정읍', '대관령', '원주', '충주', '울진', '안동', '완도', '성산',\n",
       "       '강화', '양평', '이천', '인제', '홍천', '삼척', '제천', '보은', '천안', '보령', '부여',\n",
       "       '금산', '부안', '남원', '고창군', '주암', '장흥', '해남', '고흥', '성산포', '영주', '문경',\n",
       "       '영덕', '의성', '구미', '영천', '거창', '합천', '밀양', '산청', '거제', '남해', '철원',\n",
       "       '관악산', '창원', '고산', '태백', '장수', '봉화', '동두천', '백령도', '동해', '영월',\n",
       "       '무안', '흑산도', '파주', '북강릉', '상주', '고창', '진도(첨찰산)', '정선군', '영광군',\n",
       "       '김해시', '순창군', '북창원', '양산시', '보성군', '강진군', '의령군', '함양군', '청송군',\n",
       "       '경주시', '북춘천', '순천', '대구(기)', '홍성', '세종', '광양시', '진도군'],\n",
       "      dtype=object)"
      ]
     },
     "execution_count": 50,
     "metadata": {},
     "output_type": "execute_result"
    }
   ],
   "source": [
    "# 지점명 확인\n",
    "df['지점명'].unique()"
   ]
  },
  {
   "cell_type": "code",
   "execution_count": 51,
   "id": "d063cc28",
   "metadata": {},
   "outputs": [
    {
     "data": {
      "text/plain": [
       "102"
      ]
     },
     "execution_count": 51,
     "metadata": {},
     "output_type": "execute_result"
    }
   ],
   "source": [
    "# 지점명 개수 확인\n",
    "df['지점명'].nunique()"
   ]
  },
  {
   "cell_type": "markdown",
   "id": "6c164986",
   "metadata": {},
   "source": [
    "### 연도의 개수 확인\n",
    "- datetime에서 연도, 월, 일 가져오기<br>\n",
    "    `컬럼.dt.year` `컬럼.dt.month` `컬럼.dt.day`"
   ]
  },
  {
   "cell_type": "code",
   "execution_count": 53,
   "id": "377f2478",
   "metadata": {},
   "outputs": [
    {
     "data": {
      "text/plain": [
       "110"
      ]
     },
     "execution_count": 53,
     "metadata": {},
     "output_type": "execute_result"
    }
   ],
   "source": [
    "df['일시'].dt.year.nunique()"
   ]
  },
  {
   "cell_type": "markdown",
   "id": "074135e3",
   "metadata": {},
   "source": [
    "### 연도별 데이터 개수 확인"
   ]
  },
  {
   "cell_type": "code",
   "execution_count": 54,
   "id": "2baa93db",
   "metadata": {},
   "outputs": [
    {
     "data": {
      "text/plain": [
       "2020    34767\n",
       "2019    34738\n",
       "2018    34673\n",
       "2017    34668\n",
       "2016    34496\n",
       "        ...  \n",
       "1917     2190\n",
       "1915     2190\n",
       "1914     2190\n",
       "1913     2190\n",
       "1911     1836\n",
       "Name: 일시, Length: 110, dtype: int64"
      ]
     },
     "execution_count": 54,
     "metadata": {},
     "output_type": "execute_result"
    }
   ],
   "source": [
    "df['일시'].dt.year.value_counts()"
   ]
  },
  {
   "cell_type": "markdown",
   "id": "5ed1c8a8",
   "metadata": {},
   "source": [
    "### 지점별 데이터 개수 확인"
   ]
  },
  {
   "cell_type": "code",
   "execution_count": 55,
   "id": "a14f0222",
   "metadata": {},
   "outputs": [
    {
     "data": {
      "text/plain": [
       "부산       40178\n",
       "목포       40178\n",
       "대구       40178\n",
       "인천       39690\n",
       "강릉       39509\n",
       "         ...  \n",
       "진도군       2423\n",
       "홍성        1885\n",
       "북춘천       1553\n",
       "대구(기)      619\n",
       "세종         581\n",
       "Name: 지점명, Length: 102, dtype: int64"
      ]
     },
     "execution_count": 55,
     "metadata": {},
     "output_type": "execute_result"
    }
   ],
   "source": [
    "df['지점명'].value_counts()"
   ]
  },
  {
   "cell_type": "markdown",
   "id": "90643746",
   "metadata": {},
   "source": [
    "# 서울시 기온 데이터 추출 및 확인\n",
    "## 서울시 데이터만 추출하여 서브셋 생성\n",
    "- 조건으로 데이터를 추출하여 서브셋을 만들 때, copy본으로 만드는 것을 권장 : .copy()"
   ]
  },
  {
   "cell_type": "code",
   "execution_count": 59,
   "id": "faead74d",
   "metadata": {},
   "outputs": [
    {
     "data": {
      "text/html": [
       "<div>\n",
       "<style scoped>\n",
       "    .dataframe tbody tr th:only-of-type {\n",
       "        vertical-align: middle;\n",
       "    }\n",
       "\n",
       "    .dataframe tbody tr th {\n",
       "        vertical-align: top;\n",
       "    }\n",
       "\n",
       "    .dataframe thead th {\n",
       "        text-align: right;\n",
       "    }\n",
       "</style>\n",
       "<table border=\"1\" class=\"dataframe\">\n",
       "  <thead>\n",
       "    <tr style=\"text-align: right;\">\n",
       "      <th></th>\n",
       "      <th>지점</th>\n",
       "      <th>지점명</th>\n",
       "      <th>일시</th>\n",
       "      <th>평균기온(°C)</th>\n",
       "      <th>최저기온(°C)</th>\n",
       "      <th>최고기온(°C)</th>\n",
       "    </tr>\n",
       "  </thead>\n",
       "  <tbody>\n",
       "    <tr>\n",
       "      <th>3299</th>\n",
       "      <td>108</td>\n",
       "      <td>서울</td>\n",
       "      <td>1911-01-01</td>\n",
       "      <td>-10.1</td>\n",
       "      <td>-14.2</td>\n",
       "      <td>-6.5</td>\n",
       "    </tr>\n",
       "    <tr>\n",
       "      <th>3300</th>\n",
       "      <td>108</td>\n",
       "      <td>서울</td>\n",
       "      <td>1911-01-02</td>\n",
       "      <td>-12.5</td>\n",
       "      <td>-19.7</td>\n",
       "      <td>-5.9</td>\n",
       "    </tr>\n",
       "    <tr>\n",
       "      <th>3301</th>\n",
       "      <td>108</td>\n",
       "      <td>서울</td>\n",
       "      <td>1911-01-03</td>\n",
       "      <td>-4.3</td>\n",
       "      <td>-10.2</td>\n",
       "      <td>-1.4</td>\n",
       "    </tr>\n",
       "    <tr>\n",
       "      <th>3302</th>\n",
       "      <td>108</td>\n",
       "      <td>서울</td>\n",
       "      <td>1911-01-04</td>\n",
       "      <td>0.8</td>\n",
       "      <td>-2.6</td>\n",
       "      <td>2.2</td>\n",
       "    </tr>\n",
       "    <tr>\n",
       "      <th>3303</th>\n",
       "      <td>108</td>\n",
       "      <td>서울</td>\n",
       "      <td>1911-01-05</td>\n",
       "      <td>-3.9</td>\n",
       "      <td>-8.7</td>\n",
       "      <td>1.7</td>\n",
       "    </tr>\n",
       "    <tr>\n",
       "      <th>...</th>\n",
       "      <td>...</td>\n",
       "      <td>...</td>\n",
       "      <td>...</td>\n",
       "      <td>...</td>\n",
       "      <td>...</td>\n",
       "      <td>...</td>\n",
       "    </tr>\n",
       "    <tr>\n",
       "      <th>1295817</th>\n",
       "      <td>108</td>\n",
       "      <td>서울</td>\n",
       "      <td>2020-12-27</td>\n",
       "      <td>5.8</td>\n",
       "      <td>1.4</td>\n",
       "      <td>10.0</td>\n",
       "    </tr>\n",
       "    <tr>\n",
       "      <th>1295818</th>\n",
       "      <td>108</td>\n",
       "      <td>서울</td>\n",
       "      <td>2020-12-28</td>\n",
       "      <td>6.7</td>\n",
       "      <td>4.2</td>\n",
       "      <td>11.4</td>\n",
       "    </tr>\n",
       "    <tr>\n",
       "      <th>1295819</th>\n",
       "      <td>108</td>\n",
       "      <td>서울</td>\n",
       "      <td>2020-12-29</td>\n",
       "      <td>0.1</td>\n",
       "      <td>-6.2</td>\n",
       "      <td>4.3</td>\n",
       "    </tr>\n",
       "    <tr>\n",
       "      <th>1295820</th>\n",
       "      <td>108</td>\n",
       "      <td>서울</td>\n",
       "      <td>2020-12-30</td>\n",
       "      <td>-10.9</td>\n",
       "      <td>-12.9</td>\n",
       "      <td>-6.2</td>\n",
       "    </tr>\n",
       "    <tr>\n",
       "      <th>1295821</th>\n",
       "      <td>108</td>\n",
       "      <td>서울</td>\n",
       "      <td>2020-12-31</td>\n",
       "      <td>-8.9</td>\n",
       "      <td>-12.9</td>\n",
       "      <td>-5.0</td>\n",
       "    </tr>\n",
       "  </tbody>\n",
       "</table>\n",
       "<p>38991 rows × 6 columns</p>\n",
       "</div>"
      ],
      "text/plain": [
       "          지점 지점명         일시  평균기온(°C)  최저기온(°C)  최고기온(°C)\n",
       "3299     108  서울 1911-01-01     -10.1     -14.2      -6.5\n",
       "3300     108  서울 1911-01-02     -12.5     -19.7      -5.9\n",
       "3301     108  서울 1911-01-03      -4.3     -10.2      -1.4\n",
       "3302     108  서울 1911-01-04       0.8      -2.6       2.2\n",
       "3303     108  서울 1911-01-05      -3.9      -8.7       1.7\n",
       "...      ...  ..        ...       ...       ...       ...\n",
       "1295817  108  서울 2020-12-27       5.8       1.4      10.0\n",
       "1295818  108  서울 2020-12-28       6.7       4.2      11.4\n",
       "1295819  108  서울 2020-12-29       0.1      -6.2       4.3\n",
       "1295820  108  서울 2020-12-30     -10.9     -12.9      -6.2\n",
       "1295821  108  서울 2020-12-31      -8.9     -12.9      -5.0\n",
       "\n",
       "[38991 rows x 6 columns]"
      ]
     },
     "execution_count": 59,
     "metadata": {},
     "output_type": "execute_result"
    }
   ],
   "source": [
    "df_seoul = df[df['지점명']=='서울'].copy()\n",
    "df_seoul"
   ]
  },
  {
   "cell_type": "markdown",
   "id": "90431a2e",
   "metadata": {},
   "source": [
    "## 결측치 분석\n",
    "- `데이터프레임.isnull().sum()`"
   ]
  },
  {
   "cell_type": "code",
   "execution_count": 61,
   "id": "8ec950c4",
   "metadata": {},
   "outputs": [
    {
     "data": {
      "text/plain": [
       "지점          0\n",
       "지점명         0\n",
       "일시          0\n",
       "평균기온(°C)    0\n",
       "최저기온(°C)    2\n",
       "최고기온(°C)    3\n",
       "dtype: int64"
      ]
     },
     "execution_count": 61,
     "metadata": {},
     "output_type": "execute_result"
    }
   ],
   "source": [
    "# 결측치 확인\n",
    "df_seoul.isnull().sum()"
   ]
  },
  {
   "cell_type": "code",
   "execution_count": 66,
   "id": "60c40af6",
   "metadata": {},
   "outputs": [
    {
     "data": {
      "text/html": [
       "<div>\n",
       "<style scoped>\n",
       "    .dataframe tbody tr th:only-of-type {\n",
       "        vertical-align: middle;\n",
       "    }\n",
       "\n",
       "    .dataframe tbody tr th {\n",
       "        vertical-align: top;\n",
       "    }\n",
       "\n",
       "    .dataframe thead th {\n",
       "        text-align: right;\n",
       "    }\n",
       "</style>\n",
       "<table border=\"1\" class=\"dataframe\">\n",
       "  <thead>\n",
       "    <tr style=\"text-align: right;\">\n",
       "      <th></th>\n",
       "      <th>지점</th>\n",
       "      <th>지점명</th>\n",
       "      <th>일시</th>\n",
       "      <th>평균기온(°C)</th>\n",
       "      <th>최저기온(°C)</th>\n",
       "      <th>최고기온(°C)</th>\n",
       "    </tr>\n",
       "  </thead>\n",
       "  <tbody>\n",
       "    <tr>\n",
       "      <th>181291</th>\n",
       "      <td>108</td>\n",
       "      <td>서울</td>\n",
       "      <td>1967-02-19</td>\n",
       "      <td>-1.7</td>\n",
       "      <td>NaN</td>\n",
       "      <td>NaN</td>\n",
       "    </tr>\n",
       "    <tr>\n",
       "      <th>254319</th>\n",
       "      <td>108</td>\n",
       "      <td>서울</td>\n",
       "      <td>1973-10-16</td>\n",
       "      <td>12.3</td>\n",
       "      <td>NaN</td>\n",
       "      <td>NaN</td>\n",
       "    </tr>\n",
       "    <tr>\n",
       "      <th>1294645</th>\n",
       "      <td>108</td>\n",
       "      <td>서울</td>\n",
       "      <td>2017-10-12</td>\n",
       "      <td>11.4</td>\n",
       "      <td>8.8</td>\n",
       "      <td>NaN</td>\n",
       "    </tr>\n",
       "  </tbody>\n",
       "</table>\n",
       "</div>"
      ],
      "text/plain": [
       "          지점 지점명         일시  평균기온(°C)  최저기온(°C)  최고기온(°C)\n",
       "181291   108  서울 1967-02-19      -1.7       NaN       NaN\n",
       "254319   108  서울 1973-10-16      12.3       NaN       NaN\n",
       "1294645  108  서울 2017-10-12      11.4       8.8       NaN"
      ]
     },
     "execution_count": 66,
     "metadata": {},
     "output_type": "execute_result"
    }
   ],
   "source": [
    "# 결측치가 있는 데이터 보기\n",
    "df_seoul[(df_seoul['최저기온(°C)'].isnull()) | (df_seoul['최고기온(°C)'].isnull())]"
   ]
  },
  {
   "cell_type": "markdown",
   "id": "cd140f31",
   "metadata": {},
   "source": [
    "## 결측치 제거\n",
    "- `데이터프레임.dropna()` : 결측치가 포함된 행을 모두 제거"
   ]
  },
  {
   "cell_type": "code",
   "execution_count": 68,
   "id": "06cb533e",
   "metadata": {},
   "outputs": [],
   "source": [
    "# 결측치 제거\n",
    "df_seoul = df_seoul.dropna()"
   ]
  },
  {
   "cell_type": "code",
   "execution_count": 69,
   "id": "c2371dc4",
   "metadata": {},
   "outputs": [
    {
     "data": {
      "text/plain": [
       "지점          0\n",
       "지점명         0\n",
       "일시          0\n",
       "평균기온(°C)    0\n",
       "최저기온(°C)    0\n",
       "최고기온(°C)    0\n",
       "dtype: int64"
      ]
     },
     "execution_count": 69,
     "metadata": {},
     "output_type": "execute_result"
    }
   ],
   "source": [
    "# 결측치 확인\n",
    "df_seoul.isnull().sum(0)"
   ]
  },
  {
   "cell_type": "code",
   "execution_count": 70,
   "id": "9f1fc115",
   "metadata": {},
   "outputs": [
    {
     "data": {
      "text/plain": [
       "(38988, 6)"
      ]
     },
     "execution_count": 70,
     "metadata": {},
     "output_type": "execute_result"
    }
   ],
   "source": [
    "# 데이터프레임의 크기\n",
    "df_seoul.shape"
   ]
  },
  {
   "cell_type": "markdown",
   "id": "2b55fa77",
   "metadata": {},
   "source": [
    "## 연도별 데이터 개수 확인"
   ]
  },
  {
   "cell_type": "code",
   "execution_count": 73,
   "id": "29025962",
   "metadata": {},
   "outputs": [
    {
     "data": {
      "text/plain": [
       "1968    366\n",
       "2008    366\n",
       "1944    366\n",
       "1912    366\n",
       "2004    366\n",
       "       ... \n",
       "1967    364\n",
       "2017    364\n",
       "1973    364\n",
       "1950    243\n",
       "1953     31\n",
       "Name: 일시, Length: 108, dtype: int64"
      ]
     },
     "execution_count": 73,
     "metadata": {},
     "output_type": "execute_result"
    }
   ],
   "source": [
    "# 연도별 데이터 개수 확인\n",
    "df_seoul['일시'].dt.year.value_counts(0)"
   ]
  },
  {
   "cell_type": "markdown",
   "id": "f4859473",
   "metadata": {},
   "source": [
    "## 시각화로 데이터 확인\n",
    "- 최저기온\n",
    "- 평균기온\n",
    "- 최고기온"
   ]
  },
  {
   "cell_type": "code",
   "execution_count": 75,
   "id": "61d573ba",
   "metadata": {},
   "outputs": [
    {
     "data": {
      "text/plain": [
       "[<matplotlib.lines.Line2D at 0x7ff1586694f0>]"
      ]
     },
     "execution_count": 75,
     "metadata": {},
     "output_type": "execute_result"
    },
    {
     "data": {
      "image/png": "[encoded data removed]",
      "text/plain": [
       "<Figure size 432x288 with 1 Axes>"
      ]
     },
     "metadata": {
      "needs_background": "light"
     },
     "output_type": "display_data"
    }
   ],
   "source": [
    "plt.plot(df_seoul['일시'], df_seoul['평균기온(°C)'])\n",
    "plt.plot(df_seoul['일시'], df_seoul['최저기온(°C)'])\n",
    "plt.plot(df_seoul['일시'], df_seoul['최고기온(°C)'])\n"
   ]
  },
  {
   "cell_type": "code",
   "execution_count": 77,
   "id": "c2ec4ee5",
   "metadata": {},
   "outputs": [
    {
     "data": {
      "text/html": [
       "<div>\n",
       "<style scoped>\n",
       "    .dataframe tbody tr th:only-of-type {\n",
       "        vertical-align: middle;\n",
       "    }\n",
       "\n",
       "    .dataframe tbody tr th {\n",
       "        vertical-align: top;\n",
       "    }\n",
       "\n",
       "    .dataframe thead th {\n",
       "        text-align: right;\n",
       "    }\n",
       "</style>\n",
       "<table border=\"1\" class=\"dataframe\">\n",
       "  <thead>\n",
       "    <tr style=\"text-align: right;\">\n",
       "      <th></th>\n",
       "      <th>지점</th>\n",
       "      <th>지점명</th>\n",
       "      <th>일시</th>\n",
       "      <th>평균기온(°C)</th>\n",
       "      <th>최저기온(°C)</th>\n",
       "      <th>최고기온(°C)</th>\n",
       "    </tr>\n",
       "  </thead>\n",
       "  <tbody>\n",
       "  </tbody>\n",
       "</table>\n",
       "</div>"
      ],
      "text/plain": [
       "Empty DataFrame\n",
       "Columns: [지점, 지점명, 일시, 평균기온(°C), 최저기온(°C), 최고기온(°C)]\n",
       "Index: []"
      ]
     },
     "execution_count": 77,
     "metadata": {},
     "output_type": "execute_result"
    }
   ],
   "source": [
    "# 1951년 데이터 추출\n",
    "df_seoul[df_seoul['일시'].dt.year==1951]"
   ]
  },
  {
   "cell_type": "code",
   "execution_count": 78,
   "id": "d37169e4",
   "metadata": {},
   "outputs": [
    {
     "data": {
      "text/html": [
       "<div>\n",
       "<style scoped>\n",
       "    .dataframe tbody tr th:only-of-type {\n",
       "        vertical-align: middle;\n",
       "    }\n",
       "\n",
       "    .dataframe tbody tr th {\n",
       "        vertical-align: top;\n",
       "    }\n",
       "\n",
       "    .dataframe thead th {\n",
       "        text-align: right;\n",
       "    }\n",
       "</style>\n",
       "<table border=\"1\" class=\"dataframe\">\n",
       "  <thead>\n",
       "    <tr style=\"text-align: right;\">\n",
       "      <th></th>\n",
       "      <th>지점</th>\n",
       "      <th>지점명</th>\n",
       "      <th>일시</th>\n",
       "      <th>평균기온(°C)</th>\n",
       "      <th>최저기온(°C)</th>\n",
       "      <th>최고기온(°C)</th>\n",
       "    </tr>\n",
       "  </thead>\n",
       "  <tbody>\n",
       "  </tbody>\n",
       "</table>\n",
       "</div>"
      ],
      "text/plain": [
       "Empty DataFrame\n",
       "Columns: [지점, 지점명, 일시, 평균기온(°C), 최저기온(°C), 최고기온(°C)]\n",
       "Index: []"
      ]
     },
     "execution_count": 78,
     "metadata": {},
     "output_type": "execute_result"
    }
   ],
   "source": [
    "# 1952년 데이터 추출\n",
    "df_seoul[df_seoul['일시'].dt.year==1952]"
   ]
  },
  {
   "cell_type": "markdown",
   "id": "25de2d2e",
   "metadata": {},
   "source": [
    "# 서울시 연간 평균기온, 최저기온, 최고기온 변화 시각화\n",
    "## 서울시 연간 평균기온 변화\n",
    "### 연간 평균 기온 추출\n",
    "- `연간 일 평균기온의 평균`<br>\n",
    "    연도로 그룹화하여 연도별 평균기온 산출"
   ]
  },
  {
   "cell_type": "code",
   "execution_count": 81,
   "id": "00a2d231",
   "metadata": {},
   "outputs": [
    {
     "data": {
      "text/plain": [
       "일시\n",
       "1911    10.654795\n",
       "1912    10.123770\n",
       "1913    10.086027\n",
       "1914    12.029041\n",
       "1915    10.898356\n",
       "          ...    \n",
       "2016    13.592896\n",
       "2017    13.077747\n",
       "2018    13.002466\n",
       "2019    13.598904\n",
       "2020    13.271858\n",
       "Name: 평균기온(°C), Length: 108, dtype: float64"
      ]
     },
     "execution_count": 81,
     "metadata": {},
     "output_type": "execute_result"
    }
   ],
   "source": [
    "df_seoul_mean = df_seoul.groupby(df_seoul['일시'].dt.year)['평균기온(°C)'].mean()\n",
    "df_seoul_mean"
   ]
  },
  {
   "cell_type": "code",
   "execution_count": 88,
   "id": "163494f3",
   "metadata": {},
   "outputs": [
    {
     "data": {
      "image/png": "[encoded data removed]",
      "text/plain": [
       "<Figure size 1080x360 with 1 Axes>"
      ]
     },
     "metadata": {
      "needs_background": "light"
     },
     "output_type": "display_data"
    }
   ],
   "source": [
    "# 시각화하여 데이터확인\n",
    "plt.figure(figsize=(15,5))\n",
    "plt.plot(df_seoul_mean, '.')\n",
    "plt.xticks(range(1911,2021,2), rotation=90)\n",
    "plt.grid(ls=':')\n",
    "plt.show()"
   ]
  },
  {
   "cell_type": "markdown",
   "id": "7bf4ede9",
   "metadata": {},
   "source": [
    "### 이상치 제거"
   ]
  },
  {
   "cell_type": "code",
   "execution_count": 91,
   "id": "1f6eef61",
   "metadata": {},
   "outputs": [],
   "source": [
    "df_seoul_mean.drop(index=[1950, 1953], inplace=True)"
   ]
  },
  {
   "cell_type": "markdown",
   "id": "d7da7c9f",
   "metadata": {},
   "source": [
    "### 시각화"
   ]
  },
  {
   "cell_type": "code",
   "execution_count": 96,
   "id": "5d04a11e",
   "metadata": {},
   "outputs": [
    {
     "data": {
      "image/png": "[encoded data removed]",
      "text/plain": [
       "<Figure size 432x288 with 1 Axes>"
      ]
     },
     "metadata": {
      "needs_background": "light"
     },
     "output_type": "display_data"
    }
   ],
   "source": [
    "plt.plot(df_seoul_mean, 'g.-')\n",
    "plt.title('서울시 연 평균기온의 변화', size=15)\n",
    "plt.show()"
   ]
  },
  {
   "cell_type": "markdown",
   "id": "7b91786c",
   "metadata": {},
   "source": [
    "## 서울시 여간 최저기온 변화\n",
    "### 서울시 연간 최저기온 추출\n",
    "- `연간 일 최저기온의 최저`<br>\n",
    "    연도로 그룹핑하여 최저기온의 최소값 추출"
   ]
  },
  {
   "cell_type": "code",
   "execution_count": 99,
   "id": "45f18596",
   "metadata": {},
   "outputs": [
    {
     "data": {
      "text/plain": [
       "일시\n",
       "1911   -21.5\n",
       "1912   -18.6\n",
       "1913   -19.6\n",
       "1914   -14.0\n",
       "1915   -21.3\n",
       "        ... \n",
       "2016   -18.0\n",
       "2017   -12.6\n",
       "2018   -17.8\n",
       "2019   -10.9\n",
       "2020   -12.9\n",
       "Name: 최저기온(°C), Length: 108, dtype: float64"
      ]
     },
     "execution_count": 99,
     "metadata": {},
     "output_type": "execute_result"
    }
   ],
   "source": [
    "df_seoul_min = df_seoul.groupby(df_seoul['일시'].dt.year)['최저기온(°C)'].min()\n",
    "df_seoul_min"
   ]
  },
  {
   "cell_type": "markdown",
   "id": "c9034102",
   "metadata": {},
   "source": [
    "### 시각화"
   ]
  },
  {
   "cell_type": "code",
   "execution_count": 100,
   "id": "3b290a24",
   "metadata": {},
   "outputs": [
    {
     "data": {
      "text/plain": [
       "Text(0.5, 1.0, '서울시 연 최저기온의 변화')"
      ]
     },
     "execution_count": 100,
     "metadata": {},
     "output_type": "execute_result"
    },
    {
     "data": {
      "image/png": "[encoded data removed]",
      "text/plain": [
       "<Figure size 432x288 with 1 Axes>"
      ]
     },
     "metadata": {
      "needs_background": "light"
     },
     "output_type": "display_data"
    }
   ],
   "source": [
    "plt.plot(df_seoul_min, 'b.-')\n",
    "plt.title('서울시 연 최저기온의 변화', size=15)"
   ]
  },
  {
   "cell_type": "markdown",
   "id": "e6582c74",
   "metadata": {},
   "source": [
    "## 서울시 연간 최고기온 변화\n",
    "### 서울시 연간 최고기온 추출\n",
    "- `연간 일 최고기온의 최고`<br>\n",
    "    연도로 그룹핑하여 최고기온의 최대값 추출"
   ]
  },
  {
   "cell_type": "code",
   "execution_count": 104,
   "id": "16dbda7e",
   "metadata": {},
   "outputs": [
    {
     "data": {
      "text/plain": [
       "일시\n",
       "1911    34.5\n",
       "1912    34.0\n",
       "1913    31.7\n",
       "1914    35.6\n",
       "1915    34.8\n",
       "        ... \n",
       "2016    36.6\n",
       "2017    35.4\n",
       "2018    39.6\n",
       "2019    36.8\n",
       "2020    35.4\n",
       "Name: 최고기온(°C), Length: 108, dtype: float64"
      ]
     },
     "execution_count": 104,
     "metadata": {},
     "output_type": "execute_result"
    }
   ],
   "source": [
    "df_seoul_max = df_seoul.groupby(df_seoul['일시'].dt.year)['최고기온(°C)'].max()\n",
    "df_seoul_max"
   ]
  },
  {
   "cell_type": "markdown",
   "id": "d2600c7d",
   "metadata": {},
   "source": [
    "### 1950, 1953년 데이터 제거"
   ]
  },
  {
   "cell_type": "code",
   "execution_count": 106,
   "id": "424132ec",
   "metadata": {},
   "outputs": [],
   "source": [
    "df_seoul_max.drop(index=[1950, 1953], inplace=True)"
   ]
  },
  {
   "cell_type": "markdown",
   "id": "6a037a84",
   "metadata": {},
   "source": [
    "### 시각화"
   ]
  },
  {
   "cell_type": "code",
   "execution_count": 110,
   "id": "45b50346",
   "metadata": {},
   "outputs": [
    {
     "data": {
      "image/png": "[encoded data removed]",
      "text/plain": [
       "<Figure size 432x288 with 1 Axes>"
      ]
     },
     "metadata": {
      "needs_background": "light"
     },
     "output_type": "display_data"
    }
   ],
   "source": [
    "plt.plot(df_seoul_max, 'r.-')\n",
    "plt.title('서울시 연 최고기온의 변화', size=15)\n",
    "plt.show()"
   ]
  },
  {
   "cell_type": "markdown",
   "id": "be2179af",
   "metadata": {},
   "source": [
    "# 서울시 연간 평균기온, 최저기온, 최고기온 한눈에 보기\n",
    "## 서브플롯으로 각 그래프의 추세 비교"
   ]
  },
  {
   "cell_type": "code",
   "execution_count": 126,
   "id": "e42b46ee",
   "metadata": {},
   "outputs": [
    {
     "data": {
      "image/png": "[encoded data removed]",
      "text/plain": [
       "<Figure size 1080x360 with 3 Axes>"
      ]
     },
     "metadata": {
      "needs_background": "light"
     },
     "output_type": "display_data"
    }
   ],
   "source": [
    "fig = plt.figure(figsize=(15,5))\n",
    "plt.subplot(131)\n",
    "plt.plot(df_seoul_mean, 'g.-')\n",
    "plt.title('서울시 연 평균기온의 변화', size=15)\n",
    "plt.xlabel('연도')\n",
    "plt.ylabel('평균기온')\n",
    "plt.grid(ls=':')\n",
    "\n",
    "plt.subplot(132)\n",
    "plt.plot(df_seoul_min, 'b.-')\n",
    "plt.title('서울시 연 최저기온의 변화', size=15)\n",
    "plt.xlabel('연도')\n",
    "plt.ylabel('최저기온')\n",
    "plt.grid(ls=':')\n",
    "\n",
    "\n",
    "plt.subplot(133)\n",
    "plt.plot(df_seoul_max, 'r.-')\n",
    "plt.title('서울시 연 최고기온의 변화', size=15)\n",
    "plt.xlabel('연도')\n",
    "plt.ylabel('최고기온')\n",
    "plt.grid(ls=':')\n",
    "\n",
    "fig.suptitle('서울시 기온 변화', size=20, fontweight='bold')\n",
    "fig.tight_layout()\n",
    "plt.show()"
   ]
  },
  {
   "cell_type": "code",
   "execution_count": null,
   "id": "cc9be86d",
   "metadata": {},
   "outputs": [],
   "source": []
  }
 ],
 "metadata": {
  "kernelspec": {
   "display_name": "Python 3",
   "language": "python",
   "name": "python3"
  },
  "language_info": {
   "codemirror_mode": {
    "name": "ipython",
    "version": 3
   },
   "file_extension": ".py",
   "mimetype": "text/x-python",
   "name": "python",
   "nbconvert_exporter": "python",
   "pygments_lexer": "ipython3",
   "version": "3.8.5"
  },
  "toc": {
   "base_numbering": 1,
   "nav_menu": {},
   "number_sections": true,
   "sideBar": true,
   "skip_h1_title": false,
   "title_cell": "Table of Contents",
   "title_sidebar": "Contents",
   "toc_cell": false,
   "toc_position": {},
   "toc_section_display": true,
   "toc_window_display": false
  }
 },
 "nbformat": 4,
 "nbformat_minor": 5
}
