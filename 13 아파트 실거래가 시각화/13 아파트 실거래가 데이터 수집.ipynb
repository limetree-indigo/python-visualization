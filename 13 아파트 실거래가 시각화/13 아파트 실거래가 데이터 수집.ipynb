{
 "cells": [
  {
   "cell_type": "code",
   "execution_count": 1,
   "id": "b5ecfc0f",
   "metadata": {},
   "outputs": [],
   "source": [
    "import pandas as pd\n",
    "import matplotlib.pyplot as plt\n",
    "import seaborn as sns"
   ]
  },
  {
   "cell_type": "code",
   "execution_count": 2,
   "id": "3b8e53e4",
   "metadata": {},
   "outputs": [],
   "source": [
    "plt.rcParams['font.family']='AppleGothic'\n",
    "plt.rcParams['axes.unicode_minus']=False"
   ]
  },
  {
   "cell_type": "markdown",
   "id": "c7ea2d6e",
   "metadata": {},
   "source": [
    "# 데이터 수집 및 전처리\n",
    "## 데이터 수집\n",
    "- 국토교통부 실거래가 공개시스템<br>\n",
    "    http://rtdown.molit.go.kr/"
   ]
  },
  {
   "cell_type": "code",
   "execution_count": 3,
   "id": "bdc9c656",
   "metadata": {},
   "outputs": [
    {
     "data": {
      "text/html": [
       "<div>\n",
       "<style scoped>\n",
       "    .dataframe tbody tr th:only-of-type {\n",
       "        vertical-align: middle;\n",
       "    }\n",
       "\n",
       "    .dataframe tbody tr th {\n",
       "        vertical-align: top;\n",
       "    }\n",
       "\n",
       "    .dataframe thead th {\n",
       "        text-align: right;\n",
       "    }\n",
       "</style>\n",
       "<table border=\"1\" class=\"dataframe\">\n",
       "  <thead>\n",
       "    <tr style=\"text-align: right;\">\n",
       "      <th></th>\n",
       "      <th>시군구</th>\n",
       "      <th>번지</th>\n",
       "      <th>본번</th>\n",
       "      <th>부번</th>\n",
       "      <th>단지명</th>\n",
       "      <th>전용면적(㎡)</th>\n",
       "      <th>계약년월</th>\n",
       "      <th>계약일</th>\n",
       "      <th>거래금액(만원)</th>\n",
       "      <th>층</th>\n",
       "      <th>건축년도</th>\n",
       "      <th>도로명</th>\n",
       "      <th>해제사유발생일</th>\n",
       "      <th>거래유형</th>\n",
       "      <th>중개사소재지</th>\n",
       "    </tr>\n",
       "  </thead>\n",
       "  <tbody>\n",
       "    <tr>\n",
       "      <th>0</th>\n",
       "      <td>강원도 강릉시 견소동</td>\n",
       "      <td>202</td>\n",
       "      <td>202</td>\n",
       "      <td>0</td>\n",
       "      <td>송정한신</td>\n",
       "      <td>59.800</td>\n",
       "      <td>202203</td>\n",
       "      <td>7</td>\n",
       "      <td>18,000</td>\n",
       "      <td>3</td>\n",
       "      <td>1997.0</td>\n",
       "      <td>경강로2539번길 8</td>\n",
       "      <td>NaN</td>\n",
       "      <td>중개거래</td>\n",
       "      <td>강원 강릉시</td>\n",
       "    </tr>\n",
       "    <tr>\n",
       "      <th>1</th>\n",
       "      <td>강원도 강릉시 견소동</td>\n",
       "      <td>202</td>\n",
       "      <td>202</td>\n",
       "      <td>0</td>\n",
       "      <td>송정한신</td>\n",
       "      <td>59.800</td>\n",
       "      <td>202203</td>\n",
       "      <td>8</td>\n",
       "      <td>21,000</td>\n",
       "      <td>8</td>\n",
       "      <td>1997.0</td>\n",
       "      <td>경강로2539번길 8</td>\n",
       "      <td>NaN</td>\n",
       "      <td>중개거래</td>\n",
       "      <td>강원 강릉시</td>\n",
       "    </tr>\n",
       "    <tr>\n",
       "      <th>2</th>\n",
       "      <td>강원도 강릉시 견소동</td>\n",
       "      <td>202</td>\n",
       "      <td>202</td>\n",
       "      <td>0</td>\n",
       "      <td>송정한신</td>\n",
       "      <td>84.945</td>\n",
       "      <td>202203</td>\n",
       "      <td>26</td>\n",
       "      <td>25,500</td>\n",
       "      <td>10</td>\n",
       "      <td>1997.0</td>\n",
       "      <td>경강로2539번길 8</td>\n",
       "      <td>NaN</td>\n",
       "      <td>중개거래</td>\n",
       "      <td>강원 강릉시</td>\n",
       "    </tr>\n",
       "    <tr>\n",
       "      <th>3</th>\n",
       "      <td>강원도 강릉시 견소동</td>\n",
       "      <td>289</td>\n",
       "      <td>289</td>\n",
       "      <td>0</td>\n",
       "      <td>송정해변신도브래뉴아파트</td>\n",
       "      <td>84.990</td>\n",
       "      <td>202203</td>\n",
       "      <td>14</td>\n",
       "      <td>33,500</td>\n",
       "      <td>1</td>\n",
       "      <td>2005.0</td>\n",
       "      <td>경강로2539번길 22</td>\n",
       "      <td>NaN</td>\n",
       "      <td>중개거래</td>\n",
       "      <td>강원 강릉시</td>\n",
       "    </tr>\n",
       "    <tr>\n",
       "      <th>4</th>\n",
       "      <td>강원도 강릉시 견소동</td>\n",
       "      <td>289</td>\n",
       "      <td>289</td>\n",
       "      <td>0</td>\n",
       "      <td>송정해변신도브래뉴아파트</td>\n",
       "      <td>59.990</td>\n",
       "      <td>202203</td>\n",
       "      <td>18</td>\n",
       "      <td>27,000</td>\n",
       "      <td>13</td>\n",
       "      <td>2005.0</td>\n",
       "      <td>경강로2539번길 22</td>\n",
       "      <td>NaN</td>\n",
       "      <td>중개거래</td>\n",
       "      <td>강원 강릉시</td>\n",
       "    </tr>\n",
       "    <tr>\n",
       "      <th>...</th>\n",
       "      <td>...</td>\n",
       "      <td>...</td>\n",
       "      <td>...</td>\n",
       "      <td>...</td>\n",
       "      <td>...</td>\n",
       "      <td>...</td>\n",
       "      <td>...</td>\n",
       "      <td>...</td>\n",
       "      <td>...</td>\n",
       "      <td>...</td>\n",
       "      <td>...</td>\n",
       "      <td>...</td>\n",
       "      <td>...</td>\n",
       "      <td>...</td>\n",
       "      <td>...</td>\n",
       "    </tr>\n",
       "    <tr>\n",
       "      <th>31388</th>\n",
       "      <td>충청북도 충주시 호암동</td>\n",
       "      <td>1191</td>\n",
       "      <td>1191</td>\n",
       "      <td>0</td>\n",
       "      <td>호암힐데스하임</td>\n",
       "      <td>99.870</td>\n",
       "      <td>202203</td>\n",
       "      <td>12</td>\n",
       "      <td>55,500</td>\n",
       "      <td>4</td>\n",
       "      <td>2019.0</td>\n",
       "      <td>호암토성2로 1</td>\n",
       "      <td>20220419.0</td>\n",
       "      <td>중개거래</td>\n",
       "      <td>충북 충주시</td>\n",
       "    </tr>\n",
       "    <tr>\n",
       "      <th>31389</th>\n",
       "      <td>충청북도 충주시 호암동</td>\n",
       "      <td>1191</td>\n",
       "      <td>1191</td>\n",
       "      <td>0</td>\n",
       "      <td>호암힐데스하임</td>\n",
       "      <td>120.490</td>\n",
       "      <td>202203</td>\n",
       "      <td>18</td>\n",
       "      <td>69,000</td>\n",
       "      <td>19</td>\n",
       "      <td>2019.0</td>\n",
       "      <td>호암토성2로 1</td>\n",
       "      <td>NaN</td>\n",
       "      <td>직거래</td>\n",
       "      <td>-</td>\n",
       "    </tr>\n",
       "    <tr>\n",
       "      <th>31390</th>\n",
       "      <td>충청북도 충주시 호암동</td>\n",
       "      <td>1191</td>\n",
       "      <td>1191</td>\n",
       "      <td>0</td>\n",
       "      <td>호암힐데스하임</td>\n",
       "      <td>84.950</td>\n",
       "      <td>202203</td>\n",
       "      <td>19</td>\n",
       "      <td>47,800</td>\n",
       "      <td>20</td>\n",
       "      <td>2019.0</td>\n",
       "      <td>호암토성2로 1</td>\n",
       "      <td>NaN</td>\n",
       "      <td>중개거래</td>\n",
       "      <td>충북 충주시</td>\n",
       "    </tr>\n",
       "    <tr>\n",
       "      <th>31391</th>\n",
       "      <td>충청북도 충주시 호암동</td>\n",
       "      <td>1191</td>\n",
       "      <td>1191</td>\n",
       "      <td>0</td>\n",
       "      <td>호암힐데스하임</td>\n",
       "      <td>84.890</td>\n",
       "      <td>202203</td>\n",
       "      <td>26</td>\n",
       "      <td>48,800</td>\n",
       "      <td>24</td>\n",
       "      <td>2019.0</td>\n",
       "      <td>호암토성2로 1</td>\n",
       "      <td>NaN</td>\n",
       "      <td>중개거래</td>\n",
       "      <td>충북 충주시</td>\n",
       "    </tr>\n",
       "    <tr>\n",
       "      <th>31392</th>\n",
       "      <td>충청북도 충주시 호암동</td>\n",
       "      <td>1191</td>\n",
       "      <td>1191</td>\n",
       "      <td>0</td>\n",
       "      <td>호암힐데스하임</td>\n",
       "      <td>99.800</td>\n",
       "      <td>202203</td>\n",
       "      <td>31</td>\n",
       "      <td>51,000</td>\n",
       "      <td>15</td>\n",
       "      <td>2019.0</td>\n",
       "      <td>호암토성2로 1</td>\n",
       "      <td>NaN</td>\n",
       "      <td>중개거래</td>\n",
       "      <td>충북 충주시</td>\n",
       "    </tr>\n",
       "  </tbody>\n",
       "</table>\n",
       "<p>31393 rows × 15 columns</p>\n",
       "</div>"
      ],
      "text/plain": [
       "                시군구    번지    본번  부번           단지명  전용면적(㎡)    계약년월  계약일  \\\n",
       "0       강원도 강릉시 견소동   202   202   0          송정한신   59.800  202203    7   \n",
       "1       강원도 강릉시 견소동   202   202   0          송정한신   59.800  202203    8   \n",
       "2       강원도 강릉시 견소동   202   202   0          송정한신   84.945  202203   26   \n",
       "3       강원도 강릉시 견소동   289   289   0  송정해변신도브래뉴아파트   84.990  202203   14   \n",
       "4       강원도 강릉시 견소동   289   289   0  송정해변신도브래뉴아파트   59.990  202203   18   \n",
       "...             ...   ...   ...  ..           ...      ...     ...  ...   \n",
       "31388  충청북도 충주시 호암동  1191  1191   0       호암힐데스하임   99.870  202203   12   \n",
       "31389  충청북도 충주시 호암동  1191  1191   0       호암힐데스하임  120.490  202203   18   \n",
       "31390  충청북도 충주시 호암동  1191  1191   0       호암힐데스하임   84.950  202203   19   \n",
       "31391  충청북도 충주시 호암동  1191  1191   0       호암힐데스하임   84.890  202203   26   \n",
       "31392  충청북도 충주시 호암동  1191  1191   0       호암힐데스하임   99.800  202203   31   \n",
       "\n",
       "      거래금액(만원)   층    건축년도           도로명     해제사유발생일  거래유형  중개사소재지  \n",
       "0       18,000   3  1997.0   경강로2539번길 8         NaN  중개거래  강원 강릉시  \n",
       "1       21,000   8  1997.0   경강로2539번길 8         NaN  중개거래  강원 강릉시  \n",
       "2       25,500  10  1997.0   경강로2539번길 8         NaN  중개거래  강원 강릉시  \n",
       "3       33,500   1  2005.0  경강로2539번길 22         NaN  중개거래  강원 강릉시  \n",
       "4       27,000  13  2005.0  경강로2539번길 22         NaN  중개거래  강원 강릉시  \n",
       "...        ...  ..     ...           ...         ...   ...     ...  \n",
       "31388   55,500   4  2019.0      호암토성2로 1  20220419.0  중개거래  충북 충주시  \n",
       "31389   69,000  19  2019.0      호암토성2로 1         NaN   직거래       -  \n",
       "31390   47,800  20  2019.0      호암토성2로 1         NaN  중개거래  충북 충주시  \n",
       "31391   48,800  24  2019.0      호암토성2로 1         NaN  중개거래  충북 충주시  \n",
       "31392   51,000  15  2019.0      호암토성2로 1         NaN  중개거래  충북 충주시  \n",
       "\n",
       "[31393 rows x 15 columns]"
      ]
     },
     "execution_count": 3,
     "metadata": {},
     "output_type": "execute_result"
    }
   ],
   "source": [
    "df = pd.read_csv('../data/아파트(매매)__실거래가_20220608063909.csv')\n",
    "df"
   ]
  },
  {
   "cell_type": "markdown",
   "id": "43537500",
   "metadata": {},
   "source": [
    "## 데이터 전처리\n",
    "### 해제사유발생일\n",
    "- 해제사유 발생일:계약이 해지된 것에 대한 해지일"
   ]
  },
  {
   "cell_type": "code",
   "execution_count": 4,
   "id": "18f5cd1a",
   "metadata": {},
   "outputs": [],
   "source": [
    "# 해제사유 발생일이 존재하는 데이터 삭제\n",
    "df = df.drop(index=df[df['해제사유발생일'].notnull()].index)"
   ]
  },
  {
   "cell_type": "code",
   "execution_count": 5,
   "id": "f5668344",
   "metadata": {},
   "outputs": [
    {
     "data": {
      "text/html": [
       "<div>\n",
       "<style scoped>\n",
       "    .dataframe tbody tr th:only-of-type {\n",
       "        vertical-align: middle;\n",
       "    }\n",
       "\n",
       "    .dataframe tbody tr th {\n",
       "        vertical-align: top;\n",
       "    }\n",
       "\n",
       "    .dataframe thead th {\n",
       "        text-align: right;\n",
       "    }\n",
       "</style>\n",
       "<table border=\"1\" class=\"dataframe\">\n",
       "  <thead>\n",
       "    <tr style=\"text-align: right;\">\n",
       "      <th></th>\n",
       "      <th>시군구</th>\n",
       "      <th>번지</th>\n",
       "      <th>본번</th>\n",
       "      <th>부번</th>\n",
       "      <th>단지명</th>\n",
       "      <th>전용면적(㎡)</th>\n",
       "      <th>계약년월</th>\n",
       "      <th>계약일</th>\n",
       "      <th>거래금액(만원)</th>\n",
       "      <th>층</th>\n",
       "      <th>건축년도</th>\n",
       "      <th>도로명</th>\n",
       "      <th>해제사유발생일</th>\n",
       "      <th>거래유형</th>\n",
       "      <th>중개사소재지</th>\n",
       "    </tr>\n",
       "  </thead>\n",
       "  <tbody>\n",
       "  </tbody>\n",
       "</table>\n",
       "</div>"
      ],
      "text/plain": [
       "Empty DataFrame\n",
       "Columns: [시군구, 번지, 본번, 부번, 단지명, 전용면적(㎡), 계약년월, 계약일, 거래금액(만원), 층, 건축년도, 도로명, 해제사유발생일, 거래유형, 중개사소재지]\n",
       "Index: []"
      ]
     },
     "execution_count": 5,
     "metadata": {},
     "output_type": "execute_result"
    }
   ],
   "source": [
    "df[df['해제사유발생일'].notnull()]"
   ]
  },
  {
   "cell_type": "markdown",
   "id": "a0193f11",
   "metadata": {},
   "source": [
    "### 사용할 컬럼만 추출\n",
    "- 시군구, 전용면적(㎡), 거래금액(만원)"
   ]
  },
  {
   "cell_type": "code",
   "execution_count": 6,
   "id": "7951c13b",
   "metadata": {},
   "outputs": [
    {
     "data": {
      "text/html": [
       "<div>\n",
       "<style scoped>\n",
       "    .dataframe tbody tr th:only-of-type {\n",
       "        vertical-align: middle;\n",
       "    }\n",
       "\n",
       "    .dataframe tbody tr th {\n",
       "        vertical-align: top;\n",
       "    }\n",
       "\n",
       "    .dataframe thead th {\n",
       "        text-align: right;\n",
       "    }\n",
       "</style>\n",
       "<table border=\"1\" class=\"dataframe\">\n",
       "  <thead>\n",
       "    <tr style=\"text-align: right;\">\n",
       "      <th></th>\n",
       "      <th>시군구</th>\n",
       "      <th>전용면적(㎡)</th>\n",
       "      <th>거래금액(만원)</th>\n",
       "    </tr>\n",
       "  </thead>\n",
       "  <tbody>\n",
       "    <tr>\n",
       "      <th>0</th>\n",
       "      <td>강원도 강릉시 견소동</td>\n",
       "      <td>59.800</td>\n",
       "      <td>18,000</td>\n",
       "    </tr>\n",
       "    <tr>\n",
       "      <th>1</th>\n",
       "      <td>강원도 강릉시 견소동</td>\n",
       "      <td>59.800</td>\n",
       "      <td>21,000</td>\n",
       "    </tr>\n",
       "    <tr>\n",
       "      <th>2</th>\n",
       "      <td>강원도 강릉시 견소동</td>\n",
       "      <td>84.945</td>\n",
       "      <td>25,500</td>\n",
       "    </tr>\n",
       "    <tr>\n",
       "      <th>3</th>\n",
       "      <td>강원도 강릉시 견소동</td>\n",
       "      <td>84.990</td>\n",
       "      <td>33,500</td>\n",
       "    </tr>\n",
       "    <tr>\n",
       "      <th>4</th>\n",
       "      <td>강원도 강릉시 견소동</td>\n",
       "      <td>59.990</td>\n",
       "      <td>27,000</td>\n",
       "    </tr>\n",
       "  </tbody>\n",
       "</table>\n",
       "</div>"
      ],
      "text/plain": [
       "           시군구  전용면적(㎡) 거래금액(만원)\n",
       "0  강원도 강릉시 견소동   59.800   18,000\n",
       "1  강원도 강릉시 견소동   59.800   21,000\n",
       "2  강원도 강릉시 견소동   84.945   25,500\n",
       "3  강원도 강릉시 견소동   84.990   33,500\n",
       "4  강원도 강릉시 견소동   59.990   27,000"
      ]
     },
     "execution_count": 6,
     "metadata": {},
     "output_type": "execute_result"
    }
   ],
   "source": [
    "df = df[['시군구', '전용면적(㎡)', '거래금액(만원)']]\n",
    "df.head()"
   ]
  },
  {
   "cell_type": "markdown",
   "id": "f8879a5e",
   "metadata": {},
   "source": [
    "### 자료형 확인 및 변경"
   ]
  },
  {
   "cell_type": "code",
   "execution_count": 7,
   "id": "c12a2c66",
   "metadata": {},
   "outputs": [
    {
     "data": {
      "text/plain": [
       "시군구          object\n",
       "전용면적(㎡)     float64\n",
       "거래금액(만원)     object\n",
       "dtype: object"
      ]
     },
     "execution_count": 7,
     "metadata": {},
     "output_type": "execute_result"
    }
   ],
   "source": [
    "df.dtypes"
   ]
  },
  {
   "cell_type": "code",
   "execution_count": 8,
   "id": "5d0b44ed",
   "metadata": {},
   "outputs": [],
   "source": [
    "# 전용면적: int(소수점 무시)\n",
    "df['전용면적(㎡)'] = df['전용면적(㎡)'].astype('int64')"
   ]
  },
  {
   "cell_type": "code",
   "execution_count": 9,
   "id": "29e80211",
   "metadata": {},
   "outputs": [],
   "source": [
    "# 거래금액 : int\n",
    "df['거래금액(만원)'] = df['거래금액(만원)'].str.replace(',','').astype('int64')"
   ]
  },
  {
   "cell_type": "code",
   "execution_count": 10,
   "id": "4b1695ee",
   "metadata": {},
   "outputs": [
    {
     "data": {
      "text/plain": [
       "시군구         object\n",
       "전용면적(㎡)      int64\n",
       "거래금액(만원)     int64\n",
       "dtype: object"
      ]
     },
     "execution_count": 10,
     "metadata": {},
     "output_type": "execute_result"
    }
   ],
   "source": [
    "df.dtypes"
   ]
  },
  {
   "cell_type": "markdown",
   "id": "9ba38b58",
   "metadata": {},
   "source": [
    "# 시도별 아파트 매매가 데이터 추출\n",
    "## 시도 컬럼 추가"
   ]
  },
  {
   "cell_type": "code",
   "execution_count": 15,
   "id": "dbcb88f2",
   "metadata": {},
   "outputs": [],
   "source": [
    "df['시도']=df['시군구'].str.split().str[0]"
   ]
  },
  {
   "cell_type": "code",
   "execution_count": 17,
   "id": "bda144f5",
   "metadata": {},
   "outputs": [
    {
     "data": {
      "text/plain": [
       "array(['강원도', '경기도', '경상남도', '경상북도', '광주광역시', '대구광역시', '대전광역시', '부산광역시',\n",
       "       '서울특별시', '세종특별자치시', '울산광역시', '인천광역시', '전라남도', '전라북도', '제주특별자치도',\n",
       "       '충청남도', '충청북도'], dtype=object)"
      ]
     },
     "execution_count": 17,
     "metadata": {},
     "output_type": "execute_result"
    }
   ],
   "source": [
    "df['시도'].unique()"
   ]
  },
  {
   "cell_type": "code",
   "execution_count": 18,
   "id": "b38bdc03",
   "metadata": {},
   "outputs": [
    {
     "data": {
      "text/plain": [
       "17"
      ]
     },
     "execution_count": 18,
     "metadata": {},
     "output_type": "execute_result"
    }
   ],
   "source": [
    "df['시도'].nunique()"
   ]
  },
  {
   "cell_type": "markdown",
   "id": "2b0dd601",
   "metadata": {},
   "source": [
    "## 분석할 전용면적 선택"
   ]
  },
  {
   "cell_type": "code",
   "execution_count": 20,
   "id": "312c53c1",
   "metadata": {},
   "outputs": [
    {
     "data": {
      "text/plain": [
       "84     7900\n",
       "59     7720\n",
       "49     1659\n",
       "39      911\n",
       "74      465\n",
       "       ... \n",
       "242       1\n",
       "210       1\n",
       "194       1\n",
       "237       1\n",
       "207       1\n",
       "Name: 전용면적(㎡), Length: 208, dtype: int64"
      ]
     },
     "execution_count": 20,
     "metadata": {},
     "output_type": "execute_result"
    }
   ],
   "source": [
    "df['전용면적(㎡)'].value_counts()"
   ]
  },
  {
   "cell_type": "markdown",
   "id": "3b8b9ca0",
   "metadata": {},
   "source": [
    "## 분석할 전용면적 서브셋"
   ]
  },
  {
   "cell_type": "code",
   "execution_count": 24,
   "id": "4868b9ea",
   "metadata": {},
   "outputs": [
    {
     "data": {
      "text/html": [
       "<div>\n",
       "<style scoped>\n",
       "    .dataframe tbody tr th:only-of-type {\n",
       "        vertical-align: middle;\n",
       "    }\n",
       "\n",
       "    .dataframe tbody tr th {\n",
       "        vertical-align: top;\n",
       "    }\n",
       "\n",
       "    .dataframe thead th {\n",
       "        text-align: right;\n",
       "    }\n",
       "</style>\n",
       "<table border=\"1\" class=\"dataframe\">\n",
       "  <thead>\n",
       "    <tr style=\"text-align: right;\">\n",
       "      <th></th>\n",
       "      <th>시군구</th>\n",
       "      <th>전용면적(㎡)</th>\n",
       "      <th>거래금액(만원)</th>\n",
       "      <th>시도</th>\n",
       "    </tr>\n",
       "  </thead>\n",
       "  <tbody>\n",
       "    <tr>\n",
       "      <th>2</th>\n",
       "      <td>강원도 강릉시 견소동</td>\n",
       "      <td>84</td>\n",
       "      <td>25500</td>\n",
       "      <td>강원도</td>\n",
       "    </tr>\n",
       "    <tr>\n",
       "      <th>3</th>\n",
       "      <td>강원도 강릉시 견소동</td>\n",
       "      <td>84</td>\n",
       "      <td>33500</td>\n",
       "      <td>강원도</td>\n",
       "    </tr>\n",
       "    <tr>\n",
       "      <th>5</th>\n",
       "      <td>강원도 강릉시 견소동</td>\n",
       "      <td>84</td>\n",
       "      <td>37400</td>\n",
       "      <td>강원도</td>\n",
       "    </tr>\n",
       "    <tr>\n",
       "      <th>10</th>\n",
       "      <td>강원도 강릉시 교동</td>\n",
       "      <td>84</td>\n",
       "      <td>34900</td>\n",
       "      <td>강원도</td>\n",
       "    </tr>\n",
       "    <tr>\n",
       "      <th>12</th>\n",
       "      <td>강원도 강릉시 교동</td>\n",
       "      <td>84</td>\n",
       "      <td>35000</td>\n",
       "      <td>강원도</td>\n",
       "    </tr>\n",
       "    <tr>\n",
       "      <th>...</th>\n",
       "      <td>...</td>\n",
       "      <td>...</td>\n",
       "      <td>...</td>\n",
       "      <td>...</td>\n",
       "    </tr>\n",
       "    <tr>\n",
       "      <th>31385</th>\n",
       "      <td>충청북도 충주시 호암동</td>\n",
       "      <td>84</td>\n",
       "      <td>47000</td>\n",
       "      <td>충청북도</td>\n",
       "    </tr>\n",
       "    <tr>\n",
       "      <th>31386</th>\n",
       "      <td>충청북도 충주시 호암동</td>\n",
       "      <td>84</td>\n",
       "      <td>45500</td>\n",
       "      <td>충청북도</td>\n",
       "    </tr>\n",
       "    <tr>\n",
       "      <th>31387</th>\n",
       "      <td>충청북도 충주시 호암동</td>\n",
       "      <td>84</td>\n",
       "      <td>47000</td>\n",
       "      <td>충청북도</td>\n",
       "    </tr>\n",
       "    <tr>\n",
       "      <th>31390</th>\n",
       "      <td>충청북도 충주시 호암동</td>\n",
       "      <td>84</td>\n",
       "      <td>47800</td>\n",
       "      <td>충청북도</td>\n",
       "    </tr>\n",
       "    <tr>\n",
       "      <th>31391</th>\n",
       "      <td>충청북도 충주시 호암동</td>\n",
       "      <td>84</td>\n",
       "      <td>48800</td>\n",
       "      <td>충청북도</td>\n",
       "    </tr>\n",
       "  </tbody>\n",
       "</table>\n",
       "<p>7900 rows × 4 columns</p>\n",
       "</div>"
      ],
      "text/plain": [
       "                시군구  전용면적(㎡)  거래금액(만원)    시도\n",
       "2       강원도 강릉시 견소동       84     25500   강원도\n",
       "3       강원도 강릉시 견소동       84     33500   강원도\n",
       "5       강원도 강릉시 견소동       84     37400   강원도\n",
       "10       강원도 강릉시 교동       84     34900   강원도\n",
       "12       강원도 강릉시 교동       84     35000   강원도\n",
       "...             ...      ...       ...   ...\n",
       "31385  충청북도 충주시 호암동       84     47000  충청북도\n",
       "31386  충청북도 충주시 호암동       84     45500  충청북도\n",
       "31387  충청북도 충주시 호암동       84     47000  충청북도\n",
       "31390  충청북도 충주시 호암동       84     47800  충청북도\n",
       "31391  충청북도 충주시 호암동       84     48800  충청북도\n",
       "\n",
       "[7900 rows x 4 columns]"
      ]
     },
     "execution_count": 24,
     "metadata": {},
     "output_type": "execute_result"
    }
   ],
   "source": [
    "df_84 = df[df['전용면적(㎡)']==84].copy()\n",
    "df_84"
   ]
  },
  {
   "cell_type": "markdown",
   "id": "587b6382",
   "metadata": {},
   "source": [
    "## 시도별 평균,최대,최소,중간값 추출"
   ]
  },
  {
   "cell_type": "code",
   "execution_count": 27,
   "id": "6093f720",
   "metadata": {},
   "outputs": [
    {
     "data": {
      "text/plain": [
       "시도\n",
       "강원도         25727.540881\n",
       "경기도         55887.173077\n",
       "경상남도        26621.671193\n",
       "경상북도        23303.853270\n",
       "광주광역시       36243.975904\n",
       "대구광역시       37685.112782\n",
       "대전광역시       44409.128834\n",
       "부산광역시       42551.656250\n",
       "서울특별시      129258.150943\n",
       "세종특별자치시     66308.333333\n",
       "울산광역시       34001.910112\n",
       "인천광역시       49092.710317\n",
       "전라남도        24269.716567\n",
       "전라북도        25423.866171\n",
       "제주특별자치도     40630.625000\n",
       "충청남도        25984.765217\n",
       "충청북도        26317.167070\n",
       "Name: 거래금액(만원), dtype: float64"
      ]
     },
     "execution_count": 27,
     "metadata": {},
     "output_type": "execute_result"
    }
   ],
   "source": [
    "df_84_mean = df_84.groupby('시도')['거래금액(만원)'].mean()\n",
    "df_84_mean"
   ]
  },
  {
   "cell_type": "code",
   "execution_count": 28,
   "id": "4a3f9d65",
   "metadata": {},
   "outputs": [
    {
     "data": {
      "text/plain": [
       "시도\n",
       "강원도         64500\n",
       "경기도        194000\n",
       "경상남도        95000\n",
       "경상북도        64000\n",
       "광주광역시       98200\n",
       "대구광역시      110000\n",
       "대전광역시       97000\n",
       "부산광역시      140000\n",
       "서울특별시      380000\n",
       "세종특별자치시     90000\n",
       "울산광역시      107500\n",
       "인천광역시      100000\n",
       "전라남도        57000\n",
       "전라북도        63000\n",
       "제주특별자치도     95000\n",
       "충청남도        86800\n",
       "충청북도        58000\n",
       "Name: 거래금액(만원), dtype: int64"
      ]
     },
     "execution_count": 28,
     "metadata": {},
     "output_type": "execute_result"
    }
   ],
   "source": [
    "df_84_max = df_84.groupby('시도')['거래금액(만원)'].max()\n",
    "df_84_max"
   ]
  },
  {
   "cell_type": "code",
   "execution_count": 29,
   "id": "486fed3c",
   "metadata": {},
   "outputs": [
    {
     "data": {
      "text/plain": [
       "시도\n",
       "강원도         8900\n",
       "경기도         6000\n",
       "경상남도        4950\n",
       "경상북도        4100\n",
       "광주광역시      12000\n",
       "대구광역시      14800\n",
       "대전광역시      14950\n",
       "부산광역시       9700\n",
       "서울특별시      33700\n",
       "세종특별자치시    27000\n",
       "울산광역시       7800\n",
       "인천광역시      19000\n",
       "전라남도        3400\n",
       "전라북도        5700\n",
       "제주특별자치도    12100\n",
       "충청남도        7800\n",
       "충청북도        5800\n",
       "Name: 거래금액(만원), dtype: int64"
      ]
     },
     "execution_count": 29,
     "metadata": {},
     "output_type": "execute_result"
    }
   ],
   "source": [
    "df_84_min = df_84.groupby('시도')['거래금액(만원)'].min()\n",
    "df_84_min"
   ]
  },
  {
   "cell_type": "code",
   "execution_count": 30,
   "id": "b1579f4e",
   "metadata": {},
   "outputs": [
    {
     "data": {
      "text/plain": [
       "시도\n",
       "강원도         23500\n",
       "경기도         49200\n",
       "경상남도        24000\n",
       "경상북도        21500\n",
       "광주광역시       32200\n",
       "대구광역시       34000\n",
       "대전광역시       41500\n",
       "부산광역시       34000\n",
       "서울특별시      111500\n",
       "세종특별자치시     70000\n",
       "울산광역시       32500\n",
       "인천광역시       43600\n",
       "전라남도        23400\n",
       "전라북도        20600\n",
       "제주특별자치도     37000\n",
       "충청남도        24500\n",
       "충청북도        24000\n",
       "Name: 거래금액(만원), dtype: int64"
      ]
     },
     "execution_count": 30,
     "metadata": {},
     "output_type": "execute_result"
    }
   ],
   "source": [
    "df_84_median = df_84.groupby('시도')['거래금액(만원)'].median()\n",
    "df_84_median"
   ]
  },
  {
   "cell_type": "code",
   "execution_count": 33,
   "id": "700bc415",
   "metadata": {},
   "outputs": [
    {
     "data": {
      "text/html": [
       "<div>\n",
       "<style scoped>\n",
       "    .dataframe tbody tr th:only-of-type {\n",
       "        vertical-align: middle;\n",
       "    }\n",
       "\n",
       "    .dataframe tbody tr th {\n",
       "        vertical-align: top;\n",
       "    }\n",
       "\n",
       "    .dataframe thead th {\n",
       "        text-align: right;\n",
       "    }\n",
       "</style>\n",
       "<table border=\"1\" class=\"dataframe\">\n",
       "  <thead>\n",
       "    <tr style=\"text-align: right;\">\n",
       "      <th></th>\n",
       "      <th>거래금액(만원)</th>\n",
       "      <th>거래금액(만원)</th>\n",
       "      <th>거래금액(만원)</th>\n",
       "      <th>거래금액(만원)</th>\n",
       "    </tr>\n",
       "    <tr>\n",
       "      <th>시도</th>\n",
       "      <th></th>\n",
       "      <th></th>\n",
       "      <th></th>\n",
       "      <th></th>\n",
       "    </tr>\n",
       "  </thead>\n",
       "  <tbody>\n",
       "    <tr>\n",
       "      <th>강원도</th>\n",
       "      <td>25727.540881</td>\n",
       "      <td>64500</td>\n",
       "      <td>8900</td>\n",
       "      <td>23500</td>\n",
       "    </tr>\n",
       "    <tr>\n",
       "      <th>경기도</th>\n",
       "      <td>55887.173077</td>\n",
       "      <td>194000</td>\n",
       "      <td>6000</td>\n",
       "      <td>49200</td>\n",
       "    </tr>\n",
       "    <tr>\n",
       "      <th>경상남도</th>\n",
       "      <td>26621.671193</td>\n",
       "      <td>95000</td>\n",
       "      <td>4950</td>\n",
       "      <td>24000</td>\n",
       "    </tr>\n",
       "    <tr>\n",
       "      <th>경상북도</th>\n",
       "      <td>23303.853270</td>\n",
       "      <td>64000</td>\n",
       "      <td>4100</td>\n",
       "      <td>21500</td>\n",
       "    </tr>\n",
       "    <tr>\n",
       "      <th>광주광역시</th>\n",
       "      <td>36243.975904</td>\n",
       "      <td>98200</td>\n",
       "      <td>12000</td>\n",
       "      <td>32200</td>\n",
       "    </tr>\n",
       "    <tr>\n",
       "      <th>대구광역시</th>\n",
       "      <td>37685.112782</td>\n",
       "      <td>110000</td>\n",
       "      <td>14800</td>\n",
       "      <td>34000</td>\n",
       "    </tr>\n",
       "    <tr>\n",
       "      <th>대전광역시</th>\n",
       "      <td>44409.128834</td>\n",
       "      <td>97000</td>\n",
       "      <td>14950</td>\n",
       "      <td>41500</td>\n",
       "    </tr>\n",
       "    <tr>\n",
       "      <th>부산광역시</th>\n",
       "      <td>42551.656250</td>\n",
       "      <td>140000</td>\n",
       "      <td>9700</td>\n",
       "      <td>34000</td>\n",
       "    </tr>\n",
       "    <tr>\n",
       "      <th>서울특별시</th>\n",
       "      <td>129258.150943</td>\n",
       "      <td>380000</td>\n",
       "      <td>33700</td>\n",
       "      <td>111500</td>\n",
       "    </tr>\n",
       "    <tr>\n",
       "      <th>세종특별자치시</th>\n",
       "      <td>66308.333333</td>\n",
       "      <td>90000</td>\n",
       "      <td>27000</td>\n",
       "      <td>70000</td>\n",
       "    </tr>\n",
       "    <tr>\n",
       "      <th>울산광역시</th>\n",
       "      <td>34001.910112</td>\n",
       "      <td>107500</td>\n",
       "      <td>7800</td>\n",
       "      <td>32500</td>\n",
       "    </tr>\n",
       "    <tr>\n",
       "      <th>인천광역시</th>\n",
       "      <td>49092.710317</td>\n",
       "      <td>100000</td>\n",
       "      <td>19000</td>\n",
       "      <td>43600</td>\n",
       "    </tr>\n",
       "    <tr>\n",
       "      <th>전라남도</th>\n",
       "      <td>24269.716567</td>\n",
       "      <td>57000</td>\n",
       "      <td>3400</td>\n",
       "      <td>23400</td>\n",
       "    </tr>\n",
       "    <tr>\n",
       "      <th>전라북도</th>\n",
       "      <td>25423.866171</td>\n",
       "      <td>63000</td>\n",
       "      <td>5700</td>\n",
       "      <td>20600</td>\n",
       "    </tr>\n",
       "    <tr>\n",
       "      <th>제주특별자치도</th>\n",
       "      <td>40630.625000</td>\n",
       "      <td>95000</td>\n",
       "      <td>12100</td>\n",
       "      <td>37000</td>\n",
       "    </tr>\n",
       "    <tr>\n",
       "      <th>충청남도</th>\n",
       "      <td>25984.765217</td>\n",
       "      <td>86800</td>\n",
       "      <td>7800</td>\n",
       "      <td>24500</td>\n",
       "    </tr>\n",
       "    <tr>\n",
       "      <th>충청북도</th>\n",
       "      <td>26317.167070</td>\n",
       "      <td>58000</td>\n",
       "      <td>5800</td>\n",
       "      <td>24000</td>\n",
       "    </tr>\n",
       "  </tbody>\n",
       "</table>\n",
       "</div>"
      ],
      "text/plain": [
       "              거래금액(만원)  거래금액(만원)  거래금액(만원)  거래금액(만원)\n",
       "시도                                                  \n",
       "강원도       25727.540881     64500      8900     23500\n",
       "경기도       55887.173077    194000      6000     49200\n",
       "경상남도      26621.671193     95000      4950     24000\n",
       "경상북도      23303.853270     64000      4100     21500\n",
       "광주광역시     36243.975904     98200     12000     32200\n",
       "대구광역시     37685.112782    110000     14800     34000\n",
       "대전광역시     44409.128834     97000     14950     41500\n",
       "부산광역시     42551.656250    140000      9700     34000\n",
       "서울특별시    129258.150943    380000     33700    111500\n",
       "세종특별자치시   66308.333333     90000     27000     70000\n",
       "울산광역시     34001.910112    107500      7800     32500\n",
       "인천광역시     49092.710317    100000     19000     43600\n",
       "전라남도      24269.716567     57000      3400     23400\n",
       "전라북도      25423.866171     63000      5700     20600\n",
       "제주특별자치도   40630.625000     95000     12100     37000\n",
       "충청남도      25984.765217     86800      7800     24500\n",
       "충청북도      26317.167070     58000      5800     24000"
      ]
     },
     "execution_count": 33,
     "metadata": {},
     "output_type": "execute_result"
    }
   ],
   "source": [
    "df_84_price = pd.concat([df_84_mean, df_84_max, df_84_min, df_84_median], axis=1)\n",
    "df_84_price"
   ]
  },
  {
   "cell_type": "code",
   "execution_count": 37,
   "id": "525aded4",
   "metadata": {},
   "outputs": [],
   "source": [
    "df_84_price.columns=['평균','최대','최소','중간']"
   ]
  },
  {
   "cell_type": "code",
   "execution_count": 39,
   "id": "6e8d9f81",
   "metadata": {},
   "outputs": [],
   "source": [
    "df_84_price = df_84_price.sort_values('평균', ascending=False)"
   ]
  },
  {
   "cell_type": "code",
   "execution_count": 43,
   "id": "b5550774",
   "metadata": {},
   "outputs": [
    {
     "data": {
      "text/html": [
       "<div>\n",
       "<style scoped>\n",
       "    .dataframe tbody tr th:only-of-type {\n",
       "        vertical-align: middle;\n",
       "    }\n",
       "\n",
       "    .dataframe tbody tr th {\n",
       "        vertical-align: top;\n",
       "    }\n",
       "\n",
       "    .dataframe thead th {\n",
       "        text-align: right;\n",
       "    }\n",
       "</style>\n",
       "<table border=\"1\" class=\"dataframe\">\n",
       "  <thead>\n",
       "    <tr style=\"text-align: right;\">\n",
       "      <th></th>\n",
       "      <th>평균</th>\n",
       "      <th>최대</th>\n",
       "      <th>최소</th>\n",
       "      <th>중간</th>\n",
       "    </tr>\n",
       "    <tr>\n",
       "      <th>시도</th>\n",
       "      <th></th>\n",
       "      <th></th>\n",
       "      <th></th>\n",
       "      <th></th>\n",
       "    </tr>\n",
       "  </thead>\n",
       "  <tbody>\n",
       "    <tr>\n",
       "      <th>서울특별시</th>\n",
       "      <td>129258.2</td>\n",
       "      <td>380000</td>\n",
       "      <td>33700</td>\n",
       "      <td>111500</td>\n",
       "    </tr>\n",
       "    <tr>\n",
       "      <th>세종특별자치시</th>\n",
       "      <td>66308.3</td>\n",
       "      <td>90000</td>\n",
       "      <td>27000</td>\n",
       "      <td>70000</td>\n",
       "    </tr>\n",
       "    <tr>\n",
       "      <th>경기도</th>\n",
       "      <td>55887.2</td>\n",
       "      <td>194000</td>\n",
       "      <td>6000</td>\n",
       "      <td>49200</td>\n",
       "    </tr>\n",
       "    <tr>\n",
       "      <th>인천광역시</th>\n",
       "      <td>49092.7</td>\n",
       "      <td>100000</td>\n",
       "      <td>19000</td>\n",
       "      <td>43600</td>\n",
       "    </tr>\n",
       "    <tr>\n",
       "      <th>대전광역시</th>\n",
       "      <td>44409.1</td>\n",
       "      <td>97000</td>\n",
       "      <td>14950</td>\n",
       "      <td>41500</td>\n",
       "    </tr>\n",
       "    <tr>\n",
       "      <th>부산광역시</th>\n",
       "      <td>42551.7</td>\n",
       "      <td>140000</td>\n",
       "      <td>9700</td>\n",
       "      <td>34000</td>\n",
       "    </tr>\n",
       "    <tr>\n",
       "      <th>제주특별자치도</th>\n",
       "      <td>40630.6</td>\n",
       "      <td>95000</td>\n",
       "      <td>12100</td>\n",
       "      <td>37000</td>\n",
       "    </tr>\n",
       "    <tr>\n",
       "      <th>대구광역시</th>\n",
       "      <td>37685.1</td>\n",
       "      <td>110000</td>\n",
       "      <td>14800</td>\n",
       "      <td>34000</td>\n",
       "    </tr>\n",
       "    <tr>\n",
       "      <th>광주광역시</th>\n",
       "      <td>36244.0</td>\n",
       "      <td>98200</td>\n",
       "      <td>12000</td>\n",
       "      <td>32200</td>\n",
       "    </tr>\n",
       "    <tr>\n",
       "      <th>울산광역시</th>\n",
       "      <td>34001.9</td>\n",
       "      <td>107500</td>\n",
       "      <td>7800</td>\n",
       "      <td>32500</td>\n",
       "    </tr>\n",
       "    <tr>\n",
       "      <th>경상남도</th>\n",
       "      <td>26621.7</td>\n",
       "      <td>95000</td>\n",
       "      <td>4950</td>\n",
       "      <td>24000</td>\n",
       "    </tr>\n",
       "    <tr>\n",
       "      <th>충청북도</th>\n",
       "      <td>26317.2</td>\n",
       "      <td>58000</td>\n",
       "      <td>5800</td>\n",
       "      <td>24000</td>\n",
       "    </tr>\n",
       "    <tr>\n",
       "      <th>충청남도</th>\n",
       "      <td>25984.8</td>\n",
       "      <td>86800</td>\n",
       "      <td>7800</td>\n",
       "      <td>24500</td>\n",
       "    </tr>\n",
       "    <tr>\n",
       "      <th>강원도</th>\n",
       "      <td>25727.5</td>\n",
       "      <td>64500</td>\n",
       "      <td>8900</td>\n",
       "      <td>23500</td>\n",
       "    </tr>\n",
       "    <tr>\n",
       "      <th>전라북도</th>\n",
       "      <td>25423.9</td>\n",
       "      <td>63000</td>\n",
       "      <td>5700</td>\n",
       "      <td>20600</td>\n",
       "    </tr>\n",
       "    <tr>\n",
       "      <th>전라남도</th>\n",
       "      <td>24269.7</td>\n",
       "      <td>57000</td>\n",
       "      <td>3400</td>\n",
       "      <td>23400</td>\n",
       "    </tr>\n",
       "    <tr>\n",
       "      <th>경상북도</th>\n",
       "      <td>23303.9</td>\n",
       "      <td>64000</td>\n",
       "      <td>4100</td>\n",
       "      <td>21500</td>\n",
       "    </tr>\n",
       "  </tbody>\n",
       "</table>\n",
       "</div>"
      ],
      "text/plain": [
       "               평균      최대     최소      중간\n",
       "시도                                      \n",
       "서울특별시    129258.2  380000  33700  111500\n",
       "세종특별자치시   66308.3   90000  27000   70000\n",
       "경기도       55887.2  194000   6000   49200\n",
       "인천광역시     49092.7  100000  19000   43600\n",
       "대전광역시     44409.1   97000  14950   41500\n",
       "부산광역시     42551.7  140000   9700   34000\n",
       "제주특별자치도   40630.6   95000  12100   37000\n",
       "대구광역시     37685.1  110000  14800   34000\n",
       "광주광역시     36244.0   98200  12000   32200\n",
       "울산광역시     34001.9  107500   7800   32500\n",
       "경상남도      26621.7   95000   4950   24000\n",
       "충청북도      26317.2   58000   5800   24000\n",
       "충청남도      25984.8   86800   7800   24500\n",
       "강원도       25727.5   64500   8900   23500\n",
       "전라북도      25423.9   63000   5700   20600\n",
       "전라남도      24269.7   57000   3400   23400\n",
       "경상북도      23303.9   64000   4100   21500"
      ]
     },
     "execution_count": 43,
     "metadata": {},
     "output_type": "execute_result"
    }
   ],
   "source": [
    "df_84_price['평균']=round(df_84_price['평균'], 1)\n",
    "df_84_price"
   ]
  },
  {
   "cell_type": "markdown",
   "id": "0cb84b17",
   "metadata": {},
   "source": [
    "# 시도별 아파트 매매가 현황 시각화\n",
    "- 다중 막대 그래프"
   ]
  },
  {
   "cell_type": "code",
   "execution_count": 54,
   "id": "97fefbbe",
   "metadata": {},
   "outputs": [],
   "source": [
    "import numpy as np\n",
    "x_index = np.arange(1,len(df_84_price)+1)"
   ]
  },
  {
   "cell_type": "code",
   "execution_count": 66,
   "id": "b076a546",
   "metadata": {},
   "outputs": [
    {
     "data": {
      "image/png": "[encoded data removed]",
      "text/plain": [
       "<Figure size 1080x360 with 1 Axes>"
      ]
     },
     "metadata": {
      "needs_background": "light"
     },
     "output_type": "display_data"
    }
   ],
   "source": [
    "plt.rcParams['figure.figsize']=(15,5)\n",
    "plt.bar(x_index-0.3, df_84_price['최대'], width=0.2, label='최대')\n",
    "plt.bar(x_index-0.1, df_84_price['평균'], width=0.2, label='평균')\n",
    "plt.bar(x_index+0.1, df_84_price['중간'], width=0.2, label='중간')\n",
    "plt.bar(x_index+0.3, df_84_price['최소'], width=0.2, label='최소')\n",
    "plt.legend()\n",
    "plt.xticks(x_index, labels=df_84_price.index, rotation=45)\n",
    "plt.grid(axis='y',ls=':')\n",
    "plt.title('2022년 3월 시도별 아파트 매매가 현황(84㎡)', size=20)\n",
    "plt.ylabel('매매가(만원)')\n",
    "plt.show()"
   ]
  },
  {
   "cell_type": "markdown",
   "id": "df91df7b",
   "metadata": {},
   "source": [
    "# 서울시 아파트 매매가 분포\n",
    "## 서울시 서브셋"
   ]
  },
  {
   "cell_type": "code",
   "execution_count": 71,
   "id": "88ad3555",
   "metadata": {},
   "outputs": [
    {
     "data": {
      "text/html": [
       "<div>\n",
       "<style scoped>\n",
       "    .dataframe tbody tr th:only-of-type {\n",
       "        vertical-align: middle;\n",
       "    }\n",
       "\n",
       "    .dataframe tbody tr th {\n",
       "        vertical-align: top;\n",
       "    }\n",
       "\n",
       "    .dataframe thead th {\n",
       "        text-align: right;\n",
       "    }\n",
       "</style>\n",
       "<table border=\"1\" class=\"dataframe\">\n",
       "  <thead>\n",
       "    <tr style=\"text-align: right;\">\n",
       "      <th></th>\n",
       "      <th>시군구</th>\n",
       "      <th>전용면적(㎡)</th>\n",
       "      <th>거래금액(만원)</th>\n",
       "      <th>시도</th>\n",
       "    </tr>\n",
       "  </thead>\n",
       "  <tbody>\n",
       "    <tr>\n",
       "      <th>19088</th>\n",
       "      <td>서울특별시 강남구 개포동</td>\n",
       "      <td>84</td>\n",
       "      <td>265000</td>\n",
       "      <td>서울특별시</td>\n",
       "    </tr>\n",
       "    <tr>\n",
       "      <th>19092</th>\n",
       "      <td>서울특별시 강남구 논현동</td>\n",
       "      <td>84</td>\n",
       "      <td>180000</td>\n",
       "      <td>서울특별시</td>\n",
       "    </tr>\n",
       "    <tr>\n",
       "      <th>19108</th>\n",
       "      <td>서울특별시 강남구 도곡동</td>\n",
       "      <td>84</td>\n",
       "      <td>313000</td>\n",
       "      <td>서울특별시</td>\n",
       "    </tr>\n",
       "    <tr>\n",
       "      <th>19110</th>\n",
       "      <td>서울특별시 강남구 도곡동</td>\n",
       "      <td>84</td>\n",
       "      <td>210000</td>\n",
       "      <td>서울특별시</td>\n",
       "    </tr>\n",
       "    <tr>\n",
       "      <th>19114</th>\n",
       "      <td>서울특별시 강남구 도곡동</td>\n",
       "      <td>84</td>\n",
       "      <td>232000</td>\n",
       "      <td>서울특별시</td>\n",
       "    </tr>\n",
       "    <tr>\n",
       "      <th>...</th>\n",
       "      <td>...</td>\n",
       "      <td>...</td>\n",
       "      <td>...</td>\n",
       "      <td>...</td>\n",
       "    </tr>\n",
       "    <tr>\n",
       "      <th>20528</th>\n",
       "      <td>서울특별시 중랑구 면목동</td>\n",
       "      <td>84</td>\n",
       "      <td>55500</td>\n",
       "      <td>서울특별시</td>\n",
       "    </tr>\n",
       "    <tr>\n",
       "      <th>20529</th>\n",
       "      <td>서울특별시 중랑구 면목동</td>\n",
       "      <td>84</td>\n",
       "      <td>113000</td>\n",
       "      <td>서울특별시</td>\n",
       "    </tr>\n",
       "    <tr>\n",
       "      <th>20534</th>\n",
       "      <td>서울특별시 중랑구 묵동</td>\n",
       "      <td>84</td>\n",
       "      <td>68500</td>\n",
       "      <td>서울특별시</td>\n",
       "    </tr>\n",
       "    <tr>\n",
       "      <th>20542</th>\n",
       "      <td>서울특별시 중랑구 상봉동</td>\n",
       "      <td>84</td>\n",
       "      <td>76000</td>\n",
       "      <td>서울특별시</td>\n",
       "    </tr>\n",
       "    <tr>\n",
       "      <th>20550</th>\n",
       "      <td>서울특별시 중랑구 신내동</td>\n",
       "      <td>84</td>\n",
       "      <td>74700</td>\n",
       "      <td>서울특별시</td>\n",
       "    </tr>\n",
       "  </tbody>\n",
       "</table>\n",
       "<p>265 rows × 4 columns</p>\n",
       "</div>"
      ],
      "text/plain": [
       "                 시군구  전용면적(㎡)  거래금액(만원)     시도\n",
       "19088  서울특별시 강남구 개포동       84    265000  서울특별시\n",
       "19092  서울특별시 강남구 논현동       84    180000  서울특별시\n",
       "19108  서울특별시 강남구 도곡동       84    313000  서울특별시\n",
       "19110  서울특별시 강남구 도곡동       84    210000  서울특별시\n",
       "19114  서울특별시 강남구 도곡동       84    232000  서울특별시\n",
       "...              ...      ...       ...    ...\n",
       "20528  서울특별시 중랑구 면목동       84     55500  서울특별시\n",
       "20529  서울특별시 중랑구 면목동       84    113000  서울특별시\n",
       "20534   서울특별시 중랑구 묵동       84     68500  서울특별시\n",
       "20542  서울특별시 중랑구 상봉동       84     76000  서울특별시\n",
       "20550  서울특별시 중랑구 신내동       84     74700  서울특별시\n",
       "\n",
       "[265 rows x 4 columns]"
      ]
     },
     "execution_count": 71,
     "metadata": {},
     "output_type": "execute_result"
    }
   ],
   "source": [
    "df_84_seoul = df_84[df_84['시도']=='서울특별시'].copy()\n",
    "df_84_seoul"
   ]
  },
  {
   "cell_type": "markdown",
   "id": "ecae1027",
   "metadata": {},
   "source": [
    "## 구 컬럼 추가"
   ]
  },
  {
   "cell_type": "code",
   "execution_count": 74,
   "id": "e026b6a0",
   "metadata": {},
   "outputs": [
    {
     "data": {
      "text/html": [
       "<div>\n",
       "<style scoped>\n",
       "    .dataframe tbody tr th:only-of-type {\n",
       "        vertical-align: middle;\n",
       "    }\n",
       "\n",
       "    .dataframe tbody tr th {\n",
       "        vertical-align: top;\n",
       "    }\n",
       "\n",
       "    .dataframe thead th {\n",
       "        text-align: right;\n",
       "    }\n",
       "</style>\n",
       "<table border=\"1\" class=\"dataframe\">\n",
       "  <thead>\n",
       "    <tr style=\"text-align: right;\">\n",
       "      <th></th>\n",
       "      <th>시군구</th>\n",
       "      <th>전용면적(㎡)</th>\n",
       "      <th>거래금액(만원)</th>\n",
       "      <th>시도</th>\n",
       "      <th>구</th>\n",
       "    </tr>\n",
       "  </thead>\n",
       "  <tbody>\n",
       "    <tr>\n",
       "      <th>19088</th>\n",
       "      <td>서울특별시 강남구 개포동</td>\n",
       "      <td>84</td>\n",
       "      <td>265000</td>\n",
       "      <td>서울특별시</td>\n",
       "      <td>강남구</td>\n",
       "    </tr>\n",
       "    <tr>\n",
       "      <th>19092</th>\n",
       "      <td>서울특별시 강남구 논현동</td>\n",
       "      <td>84</td>\n",
       "      <td>180000</td>\n",
       "      <td>서울특별시</td>\n",
       "      <td>강남구</td>\n",
       "    </tr>\n",
       "    <tr>\n",
       "      <th>19108</th>\n",
       "      <td>서울특별시 강남구 도곡동</td>\n",
       "      <td>84</td>\n",
       "      <td>313000</td>\n",
       "      <td>서울특별시</td>\n",
       "      <td>강남구</td>\n",
       "    </tr>\n",
       "    <tr>\n",
       "      <th>19110</th>\n",
       "      <td>서울특별시 강남구 도곡동</td>\n",
       "      <td>84</td>\n",
       "      <td>210000</td>\n",
       "      <td>서울특별시</td>\n",
       "      <td>강남구</td>\n",
       "    </tr>\n",
       "    <tr>\n",
       "      <th>19114</th>\n",
       "      <td>서울특별시 강남구 도곡동</td>\n",
       "      <td>84</td>\n",
       "      <td>232000</td>\n",
       "      <td>서울특별시</td>\n",
       "      <td>강남구</td>\n",
       "    </tr>\n",
       "    <tr>\n",
       "      <th>...</th>\n",
       "      <td>...</td>\n",
       "      <td>...</td>\n",
       "      <td>...</td>\n",
       "      <td>...</td>\n",
       "      <td>...</td>\n",
       "    </tr>\n",
       "    <tr>\n",
       "      <th>20528</th>\n",
       "      <td>서울특별시 중랑구 면목동</td>\n",
       "      <td>84</td>\n",
       "      <td>55500</td>\n",
       "      <td>서울특별시</td>\n",
       "      <td>중랑구</td>\n",
       "    </tr>\n",
       "    <tr>\n",
       "      <th>20529</th>\n",
       "      <td>서울특별시 중랑구 면목동</td>\n",
       "      <td>84</td>\n",
       "      <td>113000</td>\n",
       "      <td>서울특별시</td>\n",
       "      <td>중랑구</td>\n",
       "    </tr>\n",
       "    <tr>\n",
       "      <th>20534</th>\n",
       "      <td>서울특별시 중랑구 묵동</td>\n",
       "      <td>84</td>\n",
       "      <td>68500</td>\n",
       "      <td>서울특별시</td>\n",
       "      <td>중랑구</td>\n",
       "    </tr>\n",
       "    <tr>\n",
       "      <th>20542</th>\n",
       "      <td>서울특별시 중랑구 상봉동</td>\n",
       "      <td>84</td>\n",
       "      <td>76000</td>\n",
       "      <td>서울특별시</td>\n",
       "      <td>중랑구</td>\n",
       "    </tr>\n",
       "    <tr>\n",
       "      <th>20550</th>\n",
       "      <td>서울특별시 중랑구 신내동</td>\n",
       "      <td>84</td>\n",
       "      <td>74700</td>\n",
       "      <td>서울특별시</td>\n",
       "      <td>중랑구</td>\n",
       "    </tr>\n",
       "  </tbody>\n",
       "</table>\n",
       "<p>265 rows × 5 columns</p>\n",
       "</div>"
      ],
      "text/plain": [
       "                 시군구  전용면적(㎡)  거래금액(만원)     시도    구\n",
       "19088  서울특별시 강남구 개포동       84    265000  서울특별시  강남구\n",
       "19092  서울특별시 강남구 논현동       84    180000  서울특별시  강남구\n",
       "19108  서울특별시 강남구 도곡동       84    313000  서울특별시  강남구\n",
       "19110  서울특별시 강남구 도곡동       84    210000  서울특별시  강남구\n",
       "19114  서울특별시 강남구 도곡동       84    232000  서울특별시  강남구\n",
       "...              ...      ...       ...    ...  ...\n",
       "20528  서울특별시 중랑구 면목동       84     55500  서울특별시  중랑구\n",
       "20529  서울특별시 중랑구 면목동       84    113000  서울특별시  중랑구\n",
       "20534   서울특별시 중랑구 묵동       84     68500  서울특별시  중랑구\n",
       "20542  서울특별시 중랑구 상봉동       84     76000  서울특별시  중랑구\n",
       "20550  서울특별시 중랑구 신내동       84     74700  서울특별시  중랑구\n",
       "\n",
       "[265 rows x 5 columns]"
      ]
     },
     "execution_count": 74,
     "metadata": {},
     "output_type": "execute_result"
    }
   ],
   "source": [
    "df_84_seoul['구']=df_84_seoul['시군구'].str.split().str[1]\n",
    "df_84_seoul"
   ]
  },
  {
   "cell_type": "code",
   "execution_count": 76,
   "id": "2cc55ac7",
   "metadata": {},
   "outputs": [
    {
     "data": {
      "text/plain": [
       "array(['강남구', '강동구', '강북구', '강서구', '관악구', '광진구', '구로구', '금천구', '노원구',\n",
       "       '도봉구', '동대문구', '동작구', '마포구', '서대문구', '서초구', '성동구', '성북구', '송파구',\n",
       "       '양천구', '영등포구', '용산구', '은평구', '종로구', '중구', '중랑구'], dtype=object)"
      ]
     },
     "execution_count": 76,
     "metadata": {},
     "output_type": "execute_result"
    }
   ],
   "source": [
    "df_84_seoul['구'].unique()"
   ]
  },
  {
   "cell_type": "code",
   "execution_count": 77,
   "id": "04c01393",
   "metadata": {},
   "outputs": [
    {
     "data": {
      "text/plain": [
       "25"
      ]
     },
     "execution_count": 77,
     "metadata": {},
     "output_type": "execute_result"
    }
   ],
   "source": [
    "df_84_seoul['구'].nunique()"
   ]
  },
  {
   "cell_type": "markdown",
   "id": "6fbff70b",
   "metadata": {},
   "source": [
    "## 박스플롯으로 시각화\n",
    "### 구별 데이터 분리"
   ]
  },
  {
   "cell_type": "code",
   "execution_count": 78,
   "id": "0bc1f806",
   "metadata": {},
   "outputs": [
    {
     "data": {
      "text/plain": [
       "array(['강남구', '강동구', '강북구', '강서구', '관악구', '광진구', '구로구', '금천구', '노원구',\n",
       "       '도봉구', '동대문구', '동작구', '마포구', '서대문구', '서초구', '성동구', '성북구', '송파구',\n",
       "       '양천구', '영등포구', '용산구', '은평구', '종로구', '중구', '중랑구'], dtype=object)"
      ]
     },
     "execution_count": 78,
     "metadata": {},
     "output_type": "execute_result"
    }
   ],
   "source": [
    "# 구이름\n",
    "seoul_gu = df_84_seoul['구'].unique()\n",
    "seoul_gu"
   ]
  },
  {
   "cell_type": "code",
   "execution_count": 86,
   "id": "c981da3d",
   "metadata": {},
   "outputs": [],
   "source": [
    "df_seoul_gu = []\n",
    "for i in seoul_gu:\n",
    "    df_seoul_gu.append(df_84_seoul.groupby('구')['거래금액(만원)'].get_group(i))"
   ]
  },
  {
   "cell_type": "markdown",
   "id": "3b91486a",
   "metadata": {},
   "source": [
    "### 박스플롯으로 시각화"
   ]
  },
  {
   "cell_type": "code",
   "execution_count": 95,
   "id": "069714cb",
   "metadata": {},
   "outputs": [
    {
     "data": {
      "image/png": "[encoded data removed]",
      "text/plain": [
       "<Figure size 1080x360 with 1 Axes>"
      ]
     },
     "metadata": {
      "needs_background": "light"
     },
     "output_type": "display_data"
    }
   ],
   "source": [
    "plt.boxplot(df_seoul_gu, labels=seoul_gu, showmeans=True)\n",
    "plt.xticks(rotation=45)\n",
    "plt.ylabel('매매가(만원)')\n",
    "plt.title('2022년 3월 서울시 아파트 매매가 분포(84㎡)')\n",
    "plt.show()"
   ]
  },
  {
   "cell_type": "code",
   "execution_count": null,
   "id": "881ef13a",
   "metadata": {},
   "outputs": [],
   "source": []
  }
 ],
 "metadata": {
  "kernelspec": {
   "display_name": "Python 3",
   "language": "python",
   "name": "python3"
  },
  "language_info": {
   "codemirror_mode": {
    "name": "ipython",
    "version": 3
   },
   "file_extension": ".py",
   "mimetype": "text/x-python",
   "name": "python",
   "nbconvert_exporter": "python",
   "pygments_lexer": "ipython3",
   "version": "3.8.5"
  },
  "toc": {
   "base_numbering": 1,
   "nav_menu": {},
   "number_sections": true,
   "sideBar": true,
   "skip_h1_title": false,
   "title_cell": "Table of Contents",
   "title_sidebar": "Contents",
   "toc_cell": false,
   "toc_position": {},
   "toc_section_display": true,
   "toc_window_display": false
  }
 },
 "nbformat": 4,
 "nbformat_minor": 5
}
