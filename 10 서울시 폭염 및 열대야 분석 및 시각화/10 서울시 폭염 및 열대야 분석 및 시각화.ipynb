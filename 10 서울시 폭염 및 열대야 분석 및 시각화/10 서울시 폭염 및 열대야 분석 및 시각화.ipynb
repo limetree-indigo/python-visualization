{
 "cells": [
  {
   "cell_type": "code",
   "execution_count": 1,
   "id": "aa9a585e",
   "metadata": {},
   "outputs": [],
   "source": [
    "import matplotlib.pyplot as plt\n",
    "import pandas as pd"
   ]
  },
  {
   "cell_type": "code",
   "execution_count": 2,
   "id": "23c49a64",
   "metadata": {},
   "outputs": [],
   "source": [
    "plt.rcParams['font.family']='AppleGothic'\n",
    "plt.rcParams['axes.unicode_minus']=False"
   ]
  },
  {
   "cell_type": "markdown",
   "id": "0b3ea105",
   "metadata": {},
   "source": [
    "# 데이터 준비 및 확인\n",
    "- 기상자료개발포털>데이터>기상관측>지상>종관기상관측(ASOS)<br>\n",
    "    https://data.kma.go.kr/data/grnd/selectAsosRltmList.do?pgmNo=36<br>\n",
    "    회원가입/로그인필요<br>\n",
    "    [자료형태]일자료<br>\n",
    "    [지점]전체<br>\n",
    "    [자료]기온>최저,최고,평균<br>\n",
    "    [기간]1911~2020(10년단위로 나누어 다운로드)"
   ]
  },
  {
   "cell_type": "markdown",
   "id": "a8442ba8",
   "metadata": {},
   "source": [
    "## 데이터프레임 생성"
   ]
  },
  {
   "cell_type": "code",
   "execution_count": 3,
   "id": "3631c3b9",
   "metadata": {},
   "outputs": [],
   "source": [
    "df_1911 = pd.read_csv('../data/1911_1920_일별기온.csv', encoding='cp949')\n",
    "df_1921 = pd.read_csv('../data/1921_1930_일별기온.csv', encoding='cp949')\n",
    "df_1931 = pd.read_csv('../data/1931_1940_일별기온.csv', encoding='cp949')\n",
    "df_1941 = pd.read_csv('../data/1941_1950_일별기온.csv', encoding='cp949')\n",
    "df_1951 = pd.read_csv('../data/1951_1960_일별기온.csv', encoding='cp949')\n",
    "df_1961 = pd.read_csv('../data/1961_1970_일별기온.csv', encoding='cp949')\n",
    "df_1971 = pd.read_csv('../data/1971_1980_일별기온.csv', encoding='cp949')\n",
    "df_1981 = pd.read_csv('../data/1981_1990_일별기온.csv', encoding='cp949')\n",
    "df_1991 = pd.read_csv('../data/1991_2000_일별기온.csv', encoding='cp949')\n",
    "df_2001 = pd.read_csv('../data/2001_2010_일별기온.csv', encoding='cp949')\n",
    "df_2011 = pd.read_csv('../data/2011_2020_일별기온.csv', encoding='cp949')"
   ]
  },
  {
   "cell_type": "code",
   "execution_count": 4,
   "id": "925e60bd",
   "metadata": {},
   "outputs": [],
   "source": [
    "# 데이트프레임 연결하기\n",
    "df = pd.concat([df_1911, df_1921,df_1931,df_1941,df_1951,df_1961,df_1971,df_1981,df_1991,df_2001,df_2011]\n",
    "              , ignore_index=True)"
   ]
  },
  {
   "cell_type": "code",
   "execution_count": 5,
   "id": "86f1e78b",
   "metadata": {},
   "outputs": [
    {
     "data": {
      "text/html": [
       "<div>\n",
       "<style scoped>\n",
       "    .dataframe tbody tr th:only-of-type {\n",
       "        vertical-align: middle;\n",
       "    }\n",
       "\n",
       "    .dataframe tbody tr th {\n",
       "        vertical-align: top;\n",
       "    }\n",
       "\n",
       "    .dataframe thead th {\n",
       "        text-align: right;\n",
       "    }\n",
       "</style>\n",
       "<table border=\"1\" class=\"dataframe\">\n",
       "  <thead>\n",
       "    <tr style=\"text-align: right;\">\n",
       "      <th></th>\n",
       "      <th>지점</th>\n",
       "      <th>지점명</th>\n",
       "      <th>일시</th>\n",
       "      <th>평균기온(°C)</th>\n",
       "      <th>최저기온(°C)</th>\n",
       "      <th>최고기온(°C)</th>\n",
       "    </tr>\n",
       "  </thead>\n",
       "  <tbody>\n",
       "    <tr>\n",
       "      <th>0</th>\n",
       "      <td>105</td>\n",
       "      <td>강릉</td>\n",
       "      <td>1911-10-04</td>\n",
       "      <td>NaN</td>\n",
       "      <td>12.2</td>\n",
       "      <td>26.2</td>\n",
       "    </tr>\n",
       "    <tr>\n",
       "      <th>1</th>\n",
       "      <td>105</td>\n",
       "      <td>강릉</td>\n",
       "      <td>1911-10-09</td>\n",
       "      <td>NaN</td>\n",
       "      <td>6.0</td>\n",
       "      <td>16.6</td>\n",
       "    </tr>\n",
       "    <tr>\n",
       "      <th>2</th>\n",
       "      <td>105</td>\n",
       "      <td>강릉</td>\n",
       "      <td>1911-10-16</td>\n",
       "      <td>NaN</td>\n",
       "      <td>9.2</td>\n",
       "      <td>15.5</td>\n",
       "    </tr>\n",
       "    <tr>\n",
       "      <th>3</th>\n",
       "      <td>105</td>\n",
       "      <td>강릉</td>\n",
       "      <td>1911-11-01</td>\n",
       "      <td>NaN</td>\n",
       "      <td>6.0</td>\n",
       "      <td>14.8</td>\n",
       "    </tr>\n",
       "    <tr>\n",
       "      <th>4</th>\n",
       "      <td>105</td>\n",
       "      <td>강릉</td>\n",
       "      <td>1911-11-04</td>\n",
       "      <td>NaN</td>\n",
       "      <td>10.2</td>\n",
       "      <td>19.5</td>\n",
       "    </tr>\n",
       "  </tbody>\n",
       "</table>\n",
       "</div>"
      ],
      "text/plain": [
       "    지점 지점명          일시  평균기온(°C)  최저기온(°C)  최고기온(°C)\n",
       "0  105  강릉  1911-10-04       NaN      12.2      26.2\n",
       "1  105  강릉  1911-10-09       NaN       6.0      16.6\n",
       "2  105  강릉  1911-10-16       NaN       9.2      15.5\n",
       "3  105  강릉  1911-11-01       NaN       6.0      14.8\n",
       "4  105  강릉  1911-11-04       NaN      10.2      19.5"
      ]
     },
     "execution_count": 5,
     "metadata": {},
     "output_type": "execute_result"
    }
   ],
   "source": [
    "df.head()"
   ]
  },
  {
   "cell_type": "code",
   "execution_count": 7,
   "id": "755b1b3c",
   "metadata": {},
   "outputs": [
    {
     "data": {
      "text/html": [
       "<div>\n",
       "<style scoped>\n",
       "    .dataframe tbody tr th:only-of-type {\n",
       "        vertical-align: middle;\n",
       "    }\n",
       "\n",
       "    .dataframe tbody tr th {\n",
       "        vertical-align: top;\n",
       "    }\n",
       "\n",
       "    .dataframe thead th {\n",
       "        text-align: right;\n",
       "    }\n",
       "</style>\n",
       "<table border=\"1\" class=\"dataframe\">\n",
       "  <thead>\n",
       "    <tr style=\"text-align: right;\">\n",
       "      <th></th>\n",
       "      <th>지점</th>\n",
       "      <th>지점명</th>\n",
       "      <th>일시</th>\n",
       "      <th>평균기온(°C)</th>\n",
       "      <th>최저기온(°C)</th>\n",
       "      <th>최고기온(°C)</th>\n",
       "    </tr>\n",
       "  </thead>\n",
       "  <tbody>\n",
       "    <tr>\n",
       "      <th>1597071</th>\n",
       "      <td>295</td>\n",
       "      <td>남해</td>\n",
       "      <td>2020-12-27</td>\n",
       "      <td>4.4</td>\n",
       "      <td>2.5</td>\n",
       "      <td>6.0</td>\n",
       "    </tr>\n",
       "    <tr>\n",
       "      <th>1597072</th>\n",
       "      <td>295</td>\n",
       "      <td>남해</td>\n",
       "      <td>2020-12-28</td>\n",
       "      <td>4.7</td>\n",
       "      <td>1.1</td>\n",
       "      <td>11.5</td>\n",
       "    </tr>\n",
       "    <tr>\n",
       "      <th>1597073</th>\n",
       "      <td>295</td>\n",
       "      <td>남해</td>\n",
       "      <td>2020-12-29</td>\n",
       "      <td>5.4</td>\n",
       "      <td>1.0</td>\n",
       "      <td>11.2</td>\n",
       "    </tr>\n",
       "    <tr>\n",
       "      <th>1597074</th>\n",
       "      <td>295</td>\n",
       "      <td>남해</td>\n",
       "      <td>2020-12-30</td>\n",
       "      <td>-3.0</td>\n",
       "      <td>-5.4</td>\n",
       "      <td>1.6</td>\n",
       "    </tr>\n",
       "    <tr>\n",
       "      <th>1597075</th>\n",
       "      <td>295</td>\n",
       "      <td>남해</td>\n",
       "      <td>2020-12-31</td>\n",
       "      <td>-1.3</td>\n",
       "      <td>-7.4</td>\n",
       "      <td>2.8</td>\n",
       "    </tr>\n",
       "  </tbody>\n",
       "</table>\n",
       "</div>"
      ],
      "text/plain": [
       "          지점 지점명          일시  평균기온(°C)  최저기온(°C)  최고기온(°C)\n",
       "1597071  295  남해  2020-12-27       4.4       2.5       6.0\n",
       "1597072  295  남해  2020-12-28       4.7       1.1      11.5\n",
       "1597073  295  남해  2020-12-29       5.4       1.0      11.2\n",
       "1597074  295  남해  2020-12-30      -3.0      -5.4       1.6\n",
       "1597075  295  남해  2020-12-31      -1.3      -7.4       2.8"
      ]
     },
     "execution_count": 7,
     "metadata": {},
     "output_type": "execute_result"
    }
   ],
   "source": [
    "df.tail()"
   ]
  },
  {
   "cell_type": "markdown",
   "id": "5cf96cdc",
   "metadata": {},
   "source": [
    "## 데이터타입 확인/변경"
   ]
  },
  {
   "cell_type": "code",
   "execution_count": 8,
   "id": "38ab3cc0",
   "metadata": {},
   "outputs": [
    {
     "data": {
      "text/plain": [
       "지점            int64\n",
       "지점명          object\n",
       "일시           object\n",
       "평균기온(°C)    float64\n",
       "최저기온(°C)    float64\n",
       "최고기온(°C)    float64\n",
       "dtype: object"
      ]
     },
     "execution_count": 8,
     "metadata": {},
     "output_type": "execute_result"
    }
   ],
   "source": [
    "df.dtypes"
   ]
  },
  {
   "cell_type": "code",
   "execution_count": 9,
   "id": "b775ca33",
   "metadata": {},
   "outputs": [],
   "source": [
    "df['일시']=pd.to_datetime(df['일시'])"
   ]
  },
  {
   "cell_type": "code",
   "execution_count": 10,
   "id": "dd1474e4",
   "metadata": {},
   "outputs": [
    {
     "data": {
      "text/plain": [
       "지점                   int64\n",
       "지점명                 object\n",
       "일시          datetime64[ns]\n",
       "평균기온(°C)           float64\n",
       "최저기온(°C)           float64\n",
       "최고기온(°C)           float64\n",
       "dtype: object"
      ]
     },
     "execution_count": 10,
     "metadata": {},
     "output_type": "execute_result"
    }
   ],
   "source": [
    "df.dtypes"
   ]
  },
  {
   "cell_type": "markdown",
   "id": "a2a85f55",
   "metadata": {},
   "source": [
    "## 데이터 확인"
   ]
  },
  {
   "cell_type": "code",
   "execution_count": 11,
   "id": "f5e562c2",
   "metadata": {},
   "outputs": [
    {
     "data": {
      "text/plain": [
       "(1597076, 6)"
      ]
     },
     "execution_count": 11,
     "metadata": {},
     "output_type": "execute_result"
    }
   ],
   "source": [
    "df.shape"
   ]
  },
  {
   "cell_type": "code",
   "execution_count": 13,
   "id": "316ac373",
   "metadata": {},
   "outputs": [
    {
     "data": {
      "text/plain": [
       "102"
      ]
     },
     "execution_count": 13,
     "metadata": {},
     "output_type": "execute_result"
    }
   ],
   "source": [
    "df['지점명'].nunique()"
   ]
  },
  {
   "cell_type": "markdown",
   "id": "4e118e7d",
   "metadata": {},
   "source": [
    "# 서울시 폭염/열대야 현황 시각화"
   ]
  },
  {
   "cell_type": "markdown",
   "id": "f1e6eda4",
   "metadata": {},
   "source": [
    "## 서울시 데이터 추출하여 서브셋 생성"
   ]
  },
  {
   "cell_type": "code",
   "execution_count": 18,
   "id": "9d84bcec",
   "metadata": {},
   "outputs": [
    {
     "data": {
      "text/html": [
       "<div>\n",
       "<style scoped>\n",
       "    .dataframe tbody tr th:only-of-type {\n",
       "        vertical-align: middle;\n",
       "    }\n",
       "\n",
       "    .dataframe tbody tr th {\n",
       "        vertical-align: top;\n",
       "    }\n",
       "\n",
       "    .dataframe thead th {\n",
       "        text-align: right;\n",
       "    }\n",
       "</style>\n",
       "<table border=\"1\" class=\"dataframe\">\n",
       "  <thead>\n",
       "    <tr style=\"text-align: right;\">\n",
       "      <th></th>\n",
       "      <th>지점</th>\n",
       "      <th>지점명</th>\n",
       "      <th>일시</th>\n",
       "      <th>평균기온(°C)</th>\n",
       "      <th>최저기온(°C)</th>\n",
       "      <th>최고기온(°C)</th>\n",
       "    </tr>\n",
       "  </thead>\n",
       "  <tbody>\n",
       "    <tr>\n",
       "      <th>3299</th>\n",
       "      <td>108</td>\n",
       "      <td>서울</td>\n",
       "      <td>1911-01-01</td>\n",
       "      <td>-10.1</td>\n",
       "      <td>-14.2</td>\n",
       "      <td>-6.5</td>\n",
       "    </tr>\n",
       "    <tr>\n",
       "      <th>3300</th>\n",
       "      <td>108</td>\n",
       "      <td>서울</td>\n",
       "      <td>1911-01-02</td>\n",
       "      <td>-12.5</td>\n",
       "      <td>-19.7</td>\n",
       "      <td>-5.9</td>\n",
       "    </tr>\n",
       "    <tr>\n",
       "      <th>3301</th>\n",
       "      <td>108</td>\n",
       "      <td>서울</td>\n",
       "      <td>1911-01-03</td>\n",
       "      <td>-4.3</td>\n",
       "      <td>-10.2</td>\n",
       "      <td>-1.4</td>\n",
       "    </tr>\n",
       "    <tr>\n",
       "      <th>3302</th>\n",
       "      <td>108</td>\n",
       "      <td>서울</td>\n",
       "      <td>1911-01-04</td>\n",
       "      <td>0.8</td>\n",
       "      <td>-2.6</td>\n",
       "      <td>2.2</td>\n",
       "    </tr>\n",
       "    <tr>\n",
       "      <th>3303</th>\n",
       "      <td>108</td>\n",
       "      <td>서울</td>\n",
       "      <td>1911-01-05</td>\n",
       "      <td>-3.9</td>\n",
       "      <td>-8.7</td>\n",
       "      <td>1.7</td>\n",
       "    </tr>\n",
       "    <tr>\n",
       "      <th>...</th>\n",
       "      <td>...</td>\n",
       "      <td>...</td>\n",
       "      <td>...</td>\n",
       "      <td>...</td>\n",
       "      <td>...</td>\n",
       "      <td>...</td>\n",
       "    </tr>\n",
       "    <tr>\n",
       "      <th>1295817</th>\n",
       "      <td>108</td>\n",
       "      <td>서울</td>\n",
       "      <td>2020-12-27</td>\n",
       "      <td>5.8</td>\n",
       "      <td>1.4</td>\n",
       "      <td>10.0</td>\n",
       "    </tr>\n",
       "    <tr>\n",
       "      <th>1295818</th>\n",
       "      <td>108</td>\n",
       "      <td>서울</td>\n",
       "      <td>2020-12-28</td>\n",
       "      <td>6.7</td>\n",
       "      <td>4.2</td>\n",
       "      <td>11.4</td>\n",
       "    </tr>\n",
       "    <tr>\n",
       "      <th>1295819</th>\n",
       "      <td>108</td>\n",
       "      <td>서울</td>\n",
       "      <td>2020-12-29</td>\n",
       "      <td>0.1</td>\n",
       "      <td>-6.2</td>\n",
       "      <td>4.3</td>\n",
       "    </tr>\n",
       "    <tr>\n",
       "      <th>1295820</th>\n",
       "      <td>108</td>\n",
       "      <td>서울</td>\n",
       "      <td>2020-12-30</td>\n",
       "      <td>-10.9</td>\n",
       "      <td>-12.9</td>\n",
       "      <td>-6.2</td>\n",
       "    </tr>\n",
       "    <tr>\n",
       "      <th>1295821</th>\n",
       "      <td>108</td>\n",
       "      <td>서울</td>\n",
       "      <td>2020-12-31</td>\n",
       "      <td>-8.9</td>\n",
       "      <td>-12.9</td>\n",
       "      <td>-5.0</td>\n",
       "    </tr>\n",
       "  </tbody>\n",
       "</table>\n",
       "<p>38991 rows × 6 columns</p>\n",
       "</div>"
      ],
      "text/plain": [
       "          지점 지점명         일시  평균기온(°C)  최저기온(°C)  최고기온(°C)\n",
       "3299     108  서울 1911-01-01     -10.1     -14.2      -6.5\n",
       "3300     108  서울 1911-01-02     -12.5     -19.7      -5.9\n",
       "3301     108  서울 1911-01-03      -4.3     -10.2      -1.4\n",
       "3302     108  서울 1911-01-04       0.8      -2.6       2.2\n",
       "3303     108  서울 1911-01-05      -3.9      -8.7       1.7\n",
       "...      ...  ..        ...       ...       ...       ...\n",
       "1295817  108  서울 2020-12-27       5.8       1.4      10.0\n",
       "1295818  108  서울 2020-12-28       6.7       4.2      11.4\n",
       "1295819  108  서울 2020-12-29       0.1      -6.2       4.3\n",
       "1295820  108  서울 2020-12-30     -10.9     -12.9      -6.2\n",
       "1295821  108  서울 2020-12-31      -8.9     -12.9      -5.0\n",
       "\n",
       "[38991 rows x 6 columns]"
      ]
     },
     "execution_count": 18,
     "metadata": {},
     "output_type": "execute_result"
    }
   ],
   "source": [
    "df_seoul = df[df['지점명']=='서울'].copy()\n",
    "df_seoul"
   ]
  },
  {
   "cell_type": "markdown",
   "id": "781e7b0d",
   "metadata": {},
   "source": [
    "## 서울시 폭염 데이터 추출\n",
    "- 일 최고기온이 33도 이상"
   ]
  },
  {
   "cell_type": "code",
   "execution_count": 21,
   "id": "743771cf",
   "metadata": {},
   "outputs": [
    {
     "data": {
      "text/html": [
       "<div>\n",
       "<style scoped>\n",
       "    .dataframe tbody tr th:only-of-type {\n",
       "        vertical-align: middle;\n",
       "    }\n",
       "\n",
       "    .dataframe tbody tr th {\n",
       "        vertical-align: top;\n",
       "    }\n",
       "\n",
       "    .dataframe thead th {\n",
       "        text-align: right;\n",
       "    }\n",
       "</style>\n",
       "<table border=\"1\" class=\"dataframe\">\n",
       "  <thead>\n",
       "    <tr style=\"text-align: right;\">\n",
       "      <th></th>\n",
       "      <th>지점</th>\n",
       "      <th>지점명</th>\n",
       "      <th>일시</th>\n",
       "      <th>평균기온(°C)</th>\n",
       "      <th>최저기온(°C)</th>\n",
       "      <th>최고기온(°C)</th>\n",
       "    </tr>\n",
       "  </thead>\n",
       "  <tbody>\n",
       "    <tr>\n",
       "      <th>3519</th>\n",
       "      <td>108</td>\n",
       "      <td>서울</td>\n",
       "      <td>1911-08-09</td>\n",
       "      <td>27.0</td>\n",
       "      <td>23.1</td>\n",
       "      <td>33.0</td>\n",
       "    </tr>\n",
       "    <tr>\n",
       "      <th>3520</th>\n",
       "      <td>108</td>\n",
       "      <td>서울</td>\n",
       "      <td>1911-08-10</td>\n",
       "      <td>28.2</td>\n",
       "      <td>24.2</td>\n",
       "      <td>33.8</td>\n",
       "    </tr>\n",
       "    <tr>\n",
       "      <th>3522</th>\n",
       "      <td>108</td>\n",
       "      <td>서울</td>\n",
       "      <td>1911-08-12</td>\n",
       "      <td>28.7</td>\n",
       "      <td>25.8</td>\n",
       "      <td>34.5</td>\n",
       "    </tr>\n",
       "    <tr>\n",
       "      <th>3523</th>\n",
       "      <td>108</td>\n",
       "      <td>서울</td>\n",
       "      <td>1911-08-13</td>\n",
       "      <td>27.5</td>\n",
       "      <td>23.0</td>\n",
       "      <td>33.8</td>\n",
       "    </tr>\n",
       "    <tr>\n",
       "      <th>3527</th>\n",
       "      <td>108</td>\n",
       "      <td>서울</td>\n",
       "      <td>1911-08-17</td>\n",
       "      <td>26.4</td>\n",
       "      <td>21.5</td>\n",
       "      <td>33.5</td>\n",
       "    </tr>\n",
       "    <tr>\n",
       "      <th>...</th>\n",
       "      <td>...</td>\n",
       "      <td>...</td>\n",
       "      <td>...</td>\n",
       "      <td>...</td>\n",
       "      <td>...</td>\n",
       "      <td>...</td>\n",
       "    </tr>\n",
       "    <tr>\n",
       "      <th>1295316</th>\n",
       "      <td>108</td>\n",
       "      <td>서울</td>\n",
       "      <td>2019-08-14</td>\n",
       "      <td>30.4</td>\n",
       "      <td>25.9</td>\n",
       "      <td>35.7</td>\n",
       "    </tr>\n",
       "    <tr>\n",
       "      <th>1295620</th>\n",
       "      <td>108</td>\n",
       "      <td>서울</td>\n",
       "      <td>2020-06-13</td>\n",
       "      <td>26.9</td>\n",
       "      <td>20.6</td>\n",
       "      <td>33.5</td>\n",
       "    </tr>\n",
       "    <tr>\n",
       "      <th>1295629</th>\n",
       "      <td>108</td>\n",
       "      <td>서울</td>\n",
       "      <td>2020-06-22</td>\n",
       "      <td>28.6</td>\n",
       "      <td>21.7</td>\n",
       "      <td>35.4</td>\n",
       "    </tr>\n",
       "    <tr>\n",
       "      <th>1295693</th>\n",
       "      <td>108</td>\n",
       "      <td>서울</td>\n",
       "      <td>2020-08-25</td>\n",
       "      <td>29.9</td>\n",
       "      <td>26.0</td>\n",
       "      <td>34.5</td>\n",
       "    </tr>\n",
       "    <tr>\n",
       "      <th>1295694</th>\n",
       "      <td>108</td>\n",
       "      <td>서울</td>\n",
       "      <td>2020-08-26</td>\n",
       "      <td>30.2</td>\n",
       "      <td>27.0</td>\n",
       "      <td>34.5</td>\n",
       "    </tr>\n",
       "  </tbody>\n",
       "</table>\n",
       "<p>1028 rows × 6 columns</p>\n",
       "</div>"
      ],
      "text/plain": [
       "          지점 지점명         일시  평균기온(°C)  최저기온(°C)  최고기온(°C)\n",
       "3519     108  서울 1911-08-09      27.0      23.1      33.0\n",
       "3520     108  서울 1911-08-10      28.2      24.2      33.8\n",
       "3522     108  서울 1911-08-12      28.7      25.8      34.5\n",
       "3523     108  서울 1911-08-13      27.5      23.0      33.8\n",
       "3527     108  서울 1911-08-17      26.4      21.5      33.5\n",
       "...      ...  ..        ...       ...       ...       ...\n",
       "1295316  108  서울 2019-08-14      30.4      25.9      35.7\n",
       "1295620  108  서울 2020-06-13      26.9      20.6      33.5\n",
       "1295629  108  서울 2020-06-22      28.6      21.7      35.4\n",
       "1295693  108  서울 2020-08-25      29.9      26.0      34.5\n",
       "1295694  108  서울 2020-08-26      30.2      27.0      34.5\n",
       "\n",
       "[1028 rows x 6 columns]"
      ]
     },
     "execution_count": 21,
     "metadata": {},
     "output_type": "execute_result"
    }
   ],
   "source": [
    "df_seoul_hotday = df_seoul[df_seoul['최고기온(°C)']>=33].copy()\n",
    "df_seoul_hotday"
   ]
  },
  {
   "cell_type": "markdown",
   "id": "e003e1d6",
   "metadata": {},
   "source": [
    "## 서울시 폭염 데이터 시각화"
   ]
  },
  {
   "cell_type": "code",
   "execution_count": 26,
   "id": "d3c68000",
   "metadata": {},
   "outputs": [
    {
     "data": {
      "image/png": "[encoded data removed]",
      "text/plain": [
       "<Figure size 1080x360 with 1 Axes>"
      ]
     },
     "metadata": {
      "needs_background": "light"
     },
     "output_type": "display_data"
    }
   ],
   "source": [
    "plt.rcParams['figure.figsize']=(15,5)\n",
    "plt.plot(df_seoul_hotday['일시'], df_seoul_hotday['최고기온(°C)'],'ro')\n",
    "plt.xlabel('일시')\n",
    "plt.ylabel('최고기온')\n",
    "plt.title('서울시 폭염일 현황(1911~2020)', size=20)\n",
    "\n",
    "plt.show()"
   ]
  },
  {
   "cell_type": "markdown",
   "id": "bb1a2a0e",
   "metadata": {},
   "source": [
    "## 서울시 열대야 데이터 추출\n",
    "- 일 최저기온 25도 이상"
   ]
  },
  {
   "cell_type": "code",
   "execution_count": 27,
   "id": "8a278c79",
   "metadata": {},
   "outputs": [
    {
     "data": {
      "text/html": [
       "<div>\n",
       "<style scoped>\n",
       "    .dataframe tbody tr th:only-of-type {\n",
       "        vertical-align: middle;\n",
       "    }\n",
       "\n",
       "    .dataframe tbody tr th {\n",
       "        vertical-align: top;\n",
       "    }\n",
       "\n",
       "    .dataframe thead th {\n",
       "        text-align: right;\n",
       "    }\n",
       "</style>\n",
       "<table border=\"1\" class=\"dataframe\">\n",
       "  <thead>\n",
       "    <tr style=\"text-align: right;\">\n",
       "      <th></th>\n",
       "      <th>지점</th>\n",
       "      <th>지점명</th>\n",
       "      <th>일시</th>\n",
       "      <th>평균기온(°C)</th>\n",
       "      <th>최저기온(°C)</th>\n",
       "      <th>최고기온(°C)</th>\n",
       "    </tr>\n",
       "  </thead>\n",
       "  <tbody>\n",
       "    <tr>\n",
       "      <th>3522</th>\n",
       "      <td>108</td>\n",
       "      <td>서울</td>\n",
       "      <td>1911-08-12</td>\n",
       "      <td>28.7</td>\n",
       "      <td>25.8</td>\n",
       "      <td>34.5</td>\n",
       "    </tr>\n",
       "    <tr>\n",
       "      <th>4601</th>\n",
       "      <td>108</td>\n",
       "      <td>서울</td>\n",
       "      <td>1914-07-26</td>\n",
       "      <td>29.7</td>\n",
       "      <td>25.8</td>\n",
       "      <td>35.6</td>\n",
       "    </tr>\n",
       "    <tr>\n",
       "      <th>4602</th>\n",
       "      <td>108</td>\n",
       "      <td>서울</td>\n",
       "      <td>1914-07-27</td>\n",
       "      <td>30.2</td>\n",
       "      <td>25.6</td>\n",
       "      <td>35.5</td>\n",
       "    </tr>\n",
       "    <tr>\n",
       "      <th>4605</th>\n",
       "      <td>108</td>\n",
       "      <td>서울</td>\n",
       "      <td>1914-07-30</td>\n",
       "      <td>25.7</td>\n",
       "      <td>25.1</td>\n",
       "      <td>27.4</td>\n",
       "    </tr>\n",
       "    <tr>\n",
       "      <th>4621</th>\n",
       "      <td>108</td>\n",
       "      <td>서울</td>\n",
       "      <td>1914-08-15</td>\n",
       "      <td>27.2</td>\n",
       "      <td>25.2</td>\n",
       "      <td>31.5</td>\n",
       "    </tr>\n",
       "    <tr>\n",
       "      <th>...</th>\n",
       "      <td>...</td>\n",
       "      <td>...</td>\n",
       "      <td>...</td>\n",
       "      <td>...</td>\n",
       "      <td>...</td>\n",
       "      <td>...</td>\n",
       "    </tr>\n",
       "    <tr>\n",
       "      <th>1295693</th>\n",
       "      <td>108</td>\n",
       "      <td>서울</td>\n",
       "      <td>2020-08-25</td>\n",
       "      <td>29.9</td>\n",
       "      <td>26.0</td>\n",
       "      <td>34.5</td>\n",
       "    </tr>\n",
       "    <tr>\n",
       "      <th>1295694</th>\n",
       "      <td>108</td>\n",
       "      <td>서울</td>\n",
       "      <td>2020-08-26</td>\n",
       "      <td>30.2</td>\n",
       "      <td>27.0</td>\n",
       "      <td>34.5</td>\n",
       "    </tr>\n",
       "    <tr>\n",
       "      <th>1295695</th>\n",
       "      <td>108</td>\n",
       "      <td>서울</td>\n",
       "      <td>2020-08-27</td>\n",
       "      <td>27.1</td>\n",
       "      <td>25.6</td>\n",
       "      <td>28.6</td>\n",
       "    </tr>\n",
       "    <tr>\n",
       "      <th>1295696</th>\n",
       "      <td>108</td>\n",
       "      <td>서울</td>\n",
       "      <td>2020-08-28</td>\n",
       "      <td>27.3</td>\n",
       "      <td>26.0</td>\n",
       "      <td>29.7</td>\n",
       "    </tr>\n",
       "    <tr>\n",
       "      <th>1295697</th>\n",
       "      <td>108</td>\n",
       "      <td>서울</td>\n",
       "      <td>2020-08-29</td>\n",
       "      <td>26.8</td>\n",
       "      <td>25.5</td>\n",
       "      <td>29.0</td>\n",
       "    </tr>\n",
       "  </tbody>\n",
       "</table>\n",
       "<p>549 rows × 6 columns</p>\n",
       "</div>"
      ],
      "text/plain": [
       "          지점 지점명         일시  평균기온(°C)  최저기온(°C)  최고기온(°C)\n",
       "3522     108  서울 1911-08-12      28.7      25.8      34.5\n",
       "4601     108  서울 1914-07-26      29.7      25.8      35.6\n",
       "4602     108  서울 1914-07-27      30.2      25.6      35.5\n",
       "4605     108  서울 1914-07-30      25.7      25.1      27.4\n",
       "4621     108  서울 1914-08-15      27.2      25.2      31.5\n",
       "...      ...  ..        ...       ...       ...       ...\n",
       "1295693  108  서울 2020-08-25      29.9      26.0      34.5\n",
       "1295694  108  서울 2020-08-26      30.2      27.0      34.5\n",
       "1295695  108  서울 2020-08-27      27.1      25.6      28.6\n",
       "1295696  108  서울 2020-08-28      27.3      26.0      29.7\n",
       "1295697  108  서울 2020-08-29      26.8      25.5      29.0\n",
       "\n",
       "[549 rows x 6 columns]"
      ]
     },
     "execution_count": 27,
     "metadata": {},
     "output_type": "execute_result"
    }
   ],
   "source": [
    "df_seoul_hotnight = df_seoul[df_seoul['최저기온(°C)']>=25]\n",
    "df_seoul_hotnight"
   ]
  },
  {
   "cell_type": "markdown",
   "id": "1f8a8449",
   "metadata": {},
   "source": [
    "## 서울시 열대야 데이터 시각화"
   ]
  },
  {
   "cell_type": "code",
   "execution_count": 29,
   "id": "d12545ae",
   "metadata": {},
   "outputs": [
    {
     "data": {
      "image/png": "[encoded data removed]",
      "text/plain": [
       "<Figure size 1080x360 with 1 Axes>"
      ]
     },
     "metadata": {
      "needs_background": "light"
     },
     "output_type": "display_data"
    }
   ],
   "source": [
    "plt.plot(df_seoul_hotnight['일시'], df_seoul_hotnight['최저기온(°C)'], 'k.')\n",
    "plt.title('서울시 열대야 현황(1911~2020)', size=20)\n",
    "plt.xlabel('일시')\n",
    "plt.ylabel('최저기온')\n",
    "plt.show()"
   ]
  },
  {
   "cell_type": "markdown",
   "id": "7db8b4ca",
   "metadata": {},
   "source": [
    "# 최고 폭염일, 최고 열대야 강조하기"
   ]
  },
  {
   "cell_type": "markdown",
   "id": "f093ad4b",
   "metadata": {},
   "source": [
    "## 폭염이 가장 심했던 날\n",
    "### 폭염이 가장 심했던 날 best10\n",
    "- 데이터프레임.nlargest(개수,컬럼명): 컬럼의 값이 큰 순으로 개수만큼 출력"
   ]
  },
  {
   "cell_type": "code",
   "execution_count": 31,
   "id": "5063aef9",
   "metadata": {},
   "outputs": [
    {
     "data": {
      "text/html": [
       "<div>\n",
       "<style scoped>\n",
       "    .dataframe tbody tr th:only-of-type {\n",
       "        vertical-align: middle;\n",
       "    }\n",
       "\n",
       "    .dataframe tbody tr th {\n",
       "        vertical-align: top;\n",
       "    }\n",
       "\n",
       "    .dataframe thead th {\n",
       "        text-align: right;\n",
       "    }\n",
       "</style>\n",
       "<table border=\"1\" class=\"dataframe\">\n",
       "  <thead>\n",
       "    <tr style=\"text-align: right;\">\n",
       "      <th></th>\n",
       "      <th>지점</th>\n",
       "      <th>지점명</th>\n",
       "      <th>일시</th>\n",
       "      <th>평균기온(°C)</th>\n",
       "      <th>최저기온(°C)</th>\n",
       "      <th>최고기온(°C)</th>\n",
       "    </tr>\n",
       "  </thead>\n",
       "  <tbody>\n",
       "    <tr>\n",
       "      <th>1294938</th>\n",
       "      <td>108</td>\n",
       "      <td>서울</td>\n",
       "      <td>2018-08-01</td>\n",
       "      <td>33.6</td>\n",
       "      <td>27.8</td>\n",
       "      <td>39.6</td>\n",
       "    </tr>\n",
       "    <tr>\n",
       "      <th>719908</th>\n",
       "      <td>108</td>\n",
       "      <td>서울</td>\n",
       "      <td>1994-07-24</td>\n",
       "      <td>33.1</td>\n",
       "      <td>28.1</td>\n",
       "      <td>38.4</td>\n",
       "    </tr>\n",
       "    <tr>\n",
       "      <th>1294937</th>\n",
       "      <td>108</td>\n",
       "      <td>서울</td>\n",
       "      <td>2018-07-31</td>\n",
       "      <td>32.6</td>\n",
       "      <td>27.8</td>\n",
       "      <td>38.3</td>\n",
       "    </tr>\n",
       "    <tr>\n",
       "      <th>57461</th>\n",
       "      <td>108</td>\n",
       "      <td>서울</td>\n",
       "      <td>1939-08-10</td>\n",
       "      <td>30.1</td>\n",
       "      <td>24.5</td>\n",
       "      <td>38.2</td>\n",
       "    </tr>\n",
       "    <tr>\n",
       "      <th>85927</th>\n",
       "      <td>108</td>\n",
       "      <td>서울</td>\n",
       "      <td>1943-08-24</td>\n",
       "      <td>29.0</td>\n",
       "      <td>23.2</td>\n",
       "      <td>38.2</td>\n",
       "    </tr>\n",
       "    <tr>\n",
       "      <th>719907</th>\n",
       "      <td>108</td>\n",
       "      <td>서울</td>\n",
       "      <td>1994-07-23</td>\n",
       "      <td>32.6</td>\n",
       "      <td>28.0</td>\n",
       "      <td>38.2</td>\n",
       "    </tr>\n",
       "    <tr>\n",
       "      <th>1294928</th>\n",
       "      <td>108</td>\n",
       "      <td>서울</td>\n",
       "      <td>2018-07-22</td>\n",
       "      <td>31.8</td>\n",
       "      <td>25.3</td>\n",
       "      <td>38.0</td>\n",
       "    </tr>\n",
       "    <tr>\n",
       "      <th>1294952</th>\n",
       "      <td>108</td>\n",
       "      <td>서울</td>\n",
       "      <td>2018-08-15</td>\n",
       "      <td>31.7</td>\n",
       "      <td>28.3</td>\n",
       "      <td>38.0</td>\n",
       "    </tr>\n",
       "    <tr>\n",
       "      <th>85931</th>\n",
       "      <td>108</td>\n",
       "      <td>서울</td>\n",
       "      <td>1943-08-28</td>\n",
       "      <td>29.2</td>\n",
       "      <td>24.5</td>\n",
       "      <td>37.9</td>\n",
       "    </tr>\n",
       "    <tr>\n",
       "      <th>1294939</th>\n",
       "      <td>108</td>\n",
       "      <td>서울</td>\n",
       "      <td>2018-08-02</td>\n",
       "      <td>33.7</td>\n",
       "      <td>30.3</td>\n",
       "      <td>37.9</td>\n",
       "    </tr>\n",
       "  </tbody>\n",
       "</table>\n",
       "</div>"
      ],
      "text/plain": [
       "          지점 지점명         일시  평균기온(°C)  최저기온(°C)  최고기온(°C)\n",
       "1294938  108  서울 2018-08-01      33.6      27.8      39.6\n",
       "719908   108  서울 1994-07-24      33.1      28.1      38.4\n",
       "1294937  108  서울 2018-07-31      32.6      27.8      38.3\n",
       "57461    108  서울 1939-08-10      30.1      24.5      38.2\n",
       "85927    108  서울 1943-08-24      29.0      23.2      38.2\n",
       "719907   108  서울 1994-07-23      32.6      28.0      38.2\n",
       "1294928  108  서울 2018-07-22      31.8      25.3      38.0\n",
       "1294952  108  서울 2018-08-15      31.7      28.3      38.0\n",
       "85931    108  서울 1943-08-28      29.2      24.5      37.9\n",
       "1294939  108  서울 2018-08-02      33.7      30.3      37.9"
      ]
     },
     "execution_count": 31,
     "metadata": {},
     "output_type": "execute_result"
    }
   ],
   "source": [
    "df_seoul_hotestday = df_seoul_hotday.nlargest(10, '최고기온(°C)')\n",
    "df_seoul_hotestday"
   ]
  },
  {
   "cell_type": "markdown",
   "id": "6cf32b24",
   "metadata": {},
   "source": [
    "### 폭염이 가장 심했던 날짜, 최고기온"
   ]
  },
  {
   "cell_type": "code",
   "execution_count": 36,
   "id": "7fc9d0a9",
   "metadata": {},
   "outputs": [
    {
     "name": "stdout",
     "output_type": "stream",
     "text": [
      "2018-08-01\n",
      "39.6\n"
     ]
    }
   ],
   "source": [
    "df_seoul_hotestday = df_seoul_hotestday.iloc[[0]]\n",
    "print(df_seoul_hotestday.iloc[0,2].date())\n",
    "print(df_seoul_hotestday.iloc[0,5])"
   ]
  },
  {
   "cell_type": "markdown",
   "id": "61526e4e",
   "metadata": {},
   "source": [
    "### 시각화"
   ]
  },
  {
   "cell_type": "code",
   "execution_count": 44,
   "id": "826e3d1c",
   "metadata": {},
   "outputs": [
    {
     "data": {
      "image/png": "[encoded data removed]",
      "text/plain": [
       "<Figure size 1080x360 with 1 Axes>"
      ]
     },
     "metadata": {
      "needs_background": "light"
     },
     "output_type": "display_data"
    }
   ],
   "source": [
    "# plot\n",
    "plt.plot(df_seoul_hotday['일시'], df_seoul_hotday['최고기온(°C)'],'r.')\n",
    "plt.xlabel('일시')\n",
    "plt.ylabel('최고기온')\n",
    "plt.title('서울시 폭염일 현황(1911~2020)', size=20)\n",
    "\n",
    "# 가장 더웠던 날 표시\n",
    "plt.plot(df_seoul_hotestday.iloc[0,2].date(), df_seoul_hotestday.iloc[0,5], 'r^')\n",
    "\n",
    "# 가장 더웠던 날짜, 온도 표시\n",
    "plt.text(df_seoul_hotestday.iloc[0,2].date(), df_seoul_hotestday.iloc[0,5]+0.5,\n",
    "        str(df_seoul_hotestday.iloc[0,2].date())+'('+str(df_seoul_hotestday.iloc[0,5])+'도)',\n",
    "        ha='center', size=12)\n",
    "plt.yticks(range(33,42))\n",
    "\n",
    "plt.show()"
   ]
  },
  {
   "cell_type": "markdown",
   "id": "990be3d3",
   "metadata": {},
   "source": [
    "## 열대야가 가장 심했던 날\n",
    "### 열대야가 가장 심했던 날 best10"
   ]
  },
  {
   "cell_type": "code",
   "execution_count": 45,
   "id": "d63ae496",
   "metadata": {},
   "outputs": [],
   "source": [
    "df_seoul_hotestnight = df_seoul_hotnight.nlargest(10, '최저기온(°C)')"
   ]
  },
  {
   "cell_type": "markdown",
   "id": "ed4176cd",
   "metadata": {},
   "source": [
    "### 열대야가 가장 심했던 날자, 최고기온"
   ]
  },
  {
   "cell_type": "code",
   "execution_count": 48,
   "id": "9ea4c791",
   "metadata": {},
   "outputs": [
    {
     "name": "stdout",
     "output_type": "stream",
     "text": [
      "2018-08-02\n",
      "30.3\n"
     ]
    }
   ],
   "source": [
    "print(df_seoul_hotestnight.iloc[0,2].date())\n",
    "print(df_seoul_hotestnight.iloc[0,4])"
   ]
  },
  {
   "cell_type": "markdown",
   "id": "b0e2784c",
   "metadata": {},
   "source": [
    "### 시각화"
   ]
  },
  {
   "cell_type": "code",
   "execution_count": 51,
   "id": "283c0141",
   "metadata": {},
   "outputs": [
    {
     "data": {
      "image/png": "[encoded data removed]",
      "text/plain": [
       "<Figure size 1080x360 with 1 Axes>"
      ]
     },
     "metadata": {
      "needs_background": "light"
     },
     "output_type": "display_data"
    }
   ],
   "source": [
    "# plot\n",
    "plt.plot(df_seoul_hotnight['일시'], df_seoul_hotnight['최저기온(°C)'], 'k.')\n",
    "plt.title('서울시 열대야 현황(1911~2020)', size=20)\n",
    "plt.xlabel('일시')\n",
    "plt.ylabel('최저기온')\n",
    "\n",
    "# 가장 더웠던 밤 표시\n",
    "plt.plot(df_seoul_hotestnight.iloc[0,2].date(), df_seoul_hotestnight.iloc[0,4], 'k^')\n",
    "\n",
    "# 가장 더웠던 날짜, 온도 표시\n",
    "plt.text(df_seoul_hotestnight.iloc[0,2].date(), df_seoul_hotestnight.iloc[0,4], \n",
    "        str(df_seoul_hotestnight.iloc[0,2].date())+str(df_seoul_hotestnight.iloc[0,4]),\n",
    "        ha='center')\n",
    "\n",
    "plt.show()"
   ]
  },
  {
   "cell_type": "code",
   "execution_count": null,
   "id": "1239931c",
   "metadata": {},
   "outputs": [],
   "source": []
  }
 ],
 "metadata": {
  "kernelspec": {
   "display_name": "Python 3",
   "language": "python",
   "name": "python3"
  },
  "language_info": {
   "codemirror_mode": {
    "name": "ipython",
    "version": 3
   },
   "file_extension": ".py",
   "mimetype": "text/x-python",
   "name": "python",
   "nbconvert_exporter": "python",
   "pygments_lexer": "ipython3",
   "version": "3.8.5"
  },
  "toc": {
   "base_numbering": 1,
   "nav_menu": {},
   "number_sections": true,
   "sideBar": true,
   "skip_h1_title": false,
   "title_cell": "Table of Contents",
   "title_sidebar": "Contents",
   "toc_cell": false,
   "toc_position": {},
   "toc_section_display": true,
   "toc_window_display": false
  }
 },
 "nbformat": 4,
 "nbformat_minor": 5
}
