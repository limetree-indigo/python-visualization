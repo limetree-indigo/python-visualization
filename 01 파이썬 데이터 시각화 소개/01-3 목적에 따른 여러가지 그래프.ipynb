{
 "cells": [
  {
   "cell_type": "markdown",
   "metadata": {},
   "source": [
    "# 라이브러리 임포트\n",
    "- matplotlib의 pyplot 모듈 사용\n",
    "- 관용적으로 plt라는 별칭 사용"
   ]
  },
  {
   "cell_type": "code",
   "execution_count": 1,
   "metadata": {},
   "outputs": [],
   "source": [
    "import matplotlib.pyplot as plt"
   ]
  },
  {
   "cell_type": "markdown",
   "metadata": {},
   "source": [
    "# 시간의 시각화\n",
    "- 시간에 따른 변화는 선그래프가 보기 편함"
   ]
  },
  {
   "cell_type": "code",
   "execution_count": 3,
   "metadata": {},
   "outputs": [],
   "source": [
    "# 샘플데이터 : 어떤 아이의 나이별 키의 변화\n",
    "age = [7,8,9,10,11,12,13,14,15]\n",
    "height = [122.1, 127.9, 133.4, 138.8, 142.7, 151.4, 155.6, 165.0, 169.2]"
   ]
  },
  {
   "cell_type": "markdown",
   "metadata": {},
   "source": [
    "## 선그래프"
   ]
  },
  {
   "cell_type": "code",
   "execution_count": 4,
   "metadata": {},
   "outputs": [
    {
     "data": {
      "text/plain": [
       "[<matplotlib.lines.Line2D at 0x7fb3aa383970>]"
      ]
     },
     "execution_count": 4,
     "metadata": {},
     "output_type": "execute_result"
    },
    {
     "data": {
      "image/png": "[encoded data removed]",
      "text/plain": [
       "<Figure size 432x288 with 1 Axes>"
      ]
     },
     "metadata": {
      "needs_background": "light"
     },
     "output_type": "display_data"
    }
   ],
   "source": [
    "plt.plot(age,height)"
   ]
  },
  {
   "cell_type": "markdown",
   "metadata": {},
   "source": [
    "# 수량비교 시각화\n",
    "- 막대그래프를 많이 사용"
   ]
  },
  {
   "cell_type": "code",
   "execution_count": 5,
   "metadata": {},
   "outputs": [],
   "source": [
    "# 샘플데이터 : 100명 중 혈액형 인원 비교\n",
    "blood_type = ['A', 'B', 'O', 'AB']\n",
    "count = [45, 35, 15, 5]"
   ]
  },
  {
   "cell_type": "markdown",
   "metadata": {},
   "source": [
    "## 막대 그래프"
   ]
  },
  {
   "cell_type": "code",
   "execution_count": 6,
   "metadata": {},
   "outputs": [
    {
     "data": {
      "text/plain": [
       "<BarContainer object of 4 artists>"
      ]
     },
     "execution_count": 6,
     "metadata": {},
     "output_type": "execute_result"
    },
    {
     "data": {
      "image/png": "[encoded data removed]",
      "text/plain": [
       "<Figure size 432x288 with 1 Axes>"
      ]
     },
     "metadata": {
      "needs_background": "light"
     },
     "output_type": "display_data"
    }
   ],
   "source": [
    "plt.bar(blood_type, count)"
   ]
  },
  {
   "cell_type": "markdown",
   "metadata": {},
   "source": [
    "## 가로 막대 그래프"
   ]
  },
  {
   "cell_type": "code",
   "execution_count": 7,
   "metadata": {},
   "outputs": [
    {
     "data": {
      "text/plain": [
       "<BarContainer object of 4 artists>"
      ]
     },
     "execution_count": 7,
     "metadata": {},
     "output_type": "execute_result"
    },
    {
     "data": {
      "image/png": "[encoded data removed]",
      "text/plain": [
       "<Figure size 432x288 with 1 Axes>"
      ]
     },
     "metadata": {
      "needs_background": "light"
     },
     "output_type": "display_data"
    }
   ],
   "source": [
    "plt.barh(blood_type,count)"
   ]
  },
  {
   "cell_type": "markdown",
   "metadata": {},
   "source": [
    "# 비율의 시각화\n",
    "- 원그래프를 주로 사용"
   ]
  },
  {
   "cell_type": "code",
   "execution_count": 8,
   "metadata": {},
   "outputs": [],
   "source": [
    "# 샘플데이터 : 100명 중 혈액형 인원 비교\n",
    "blood_type = ['A', 'B', 'O', 'AB']\n",
    "count = [45, 35, 15, 5]"
   ]
  },
  {
   "cell_type": "markdown",
   "metadata": {},
   "source": [
    "## 파이차트\n",
    "- pie"
   ]
  },
  {
   "cell_type": "code",
   "execution_count": 12,
   "metadata": {},
   "outputs": [
    {
     "data": {
      "image/png": "[encoded data removed]",
      "text/plain": [
       "<Figure size 432x288 with 1 Axes>"
      ]
     },
     "metadata": {},
     "output_type": "display_data"
    }
   ],
   "source": [
    "plt.pie(count, labels=blood_type)\n",
    "plt.show()"
   ]
  },
  {
   "cell_type": "markdown",
   "metadata": {},
   "source": [
    "# 분포의 시각화\n",
    "- 히스토그램, 상자수엽그래프, 바이올린 그래프 주로 사용"
   ]
  },
  {
   "cell_type": "code",
   "execution_count": 13,
   "metadata": {
    "collapsed": true
   },
   "outputs": [
    {
     "data": {
      "text/plain": [
       "array([ 44,  36,  68,  57,  18,  91,  68,  62,  55,  67,  67,   7,  10,\n",
       "        74,   3,  68,  58,  96,  43,  72,  82,  70,  15,  28,  10,   6,\n",
       "        93,  50,  12,  12,  31,  32,  85,  69,  65,  17,  66,  15,  85,\n",
       "        64,  54,  92,   3,  63,  56,  72,  37,  31,  68,  64,  26,  15,\n",
       "        36,  10,  92,  60,  10,  91,  16,  94,  91,  12,  96,  80,   1,\n",
       "        45,  48,  98,  38,  55,  51,  74,  46,  81,  43,  86,  99,  57,\n",
       "        79,   1,  75,  73,  36,  92,   9,  12,  65,  37,  16,  33,  53,\n",
       "        45,   6,   7,  79,  70,  84,  68,  49,  28,  11,  63,  59,  77,\n",
       "         9,  93,  81,  48,  99,  29,  62,   2,   3,  97,  95,   8,  97,\n",
       "         7,  78,  66,  22,  88,  75,  75,  27,  38,  97,  61,  45,  59,\n",
       "        40,  24,  99,  77,  80,  82,  93,  66,  90,  18,  31,   2,  50,\n",
       "        82,  84,  42,  46,  49,  75,  16,  64,  42,  91,  32,  48,  49,\n",
       "        18,   9,  63,  70,  34,  27,  39,  86,  39,  29,   1,  84,  59,\n",
       "        78,  11,  72,  53,  42,  69,  85,  88,  53,  18,  84,  89,  62,\n",
       "         4,  39,   7, 100,  51,  28,  57,  84,  53,   4,  85,  85,  55,\n",
       "        11,  71,  89,  43,  95,  98,  71,  42,  99,  80,  94,  90,  32,\n",
       "        29,  22,  73,  94,  80,  29,   5,  66,  27,  90,  58,  42,  21,\n",
       "       100, 100,  89,  59,  36,  67,  59,  12,  61,  21,  39,  39,  27,\n",
       "        43,  60,  49,  90,  94,  28,  33,  34,  43,   7,  54,  45,  46,\n",
       "        37,  36,  93,  58,  83,  42,   8,  72,  67,  50,  57,  91,  15,\n",
       "        40,  76,  42,  31,  42,  55,  94,  50,  26,  96,  97,  17,  37,\n",
       "         4,   6,  77,  27,  15,  69,  50,  97,  54,  62,  81,  66,  69,\n",
       "        55,  97,  95,   4,  16,   7,  34,  25,  25,  69,  48,   8,  58,\n",
       "        77,   6,   4,  61,  44,  92,  80,  42,  13, 100, 100,  92,  51,\n",
       "        78,  12,  19,  32,  57,  84,  22,  74,  62,  50,  18,  41,   2,\n",
       "        90,  95,   5,  31,  48,  20,  19,  14,   1,  27,   9,  35,  75,\n",
       "         6,  46,  23,  56,  96,  24,  26,  14,  24,  74,  31,  44,  54,\n",
       "        40,   1,  23,  36,  40,  40,  63,  46,  11,   3,  52,  18,  60,\n",
       "        16,  30, 100,  97,  50,  52,  55,  66,  80,  89,  23,  49,  74,\n",
       "        60,  97,  92,  83,  71,  72,  22,  79,  58,  54,  28,  17,  48,\n",
       "        30,   3,  85,  78,  43, 100,  25,  87,  36,  96,  72,  45,  27,\n",
       "        81,  80,  31,  46,  65,  50,  73,  33,  19,  59,  30,  43,   7,\n",
       "        75,  98,  47,  11,  36,  80,   7,  61,   2,  25,  92,  12,  99,\n",
       "        95,  33,  76,  42,  52,  70,  82,  81,  52,  42,  91,  34,  72,\n",
       "         9,  24,  26,  87,  63,  11,  93,  62,  40,  79,  37,  67,  36,\n",
       "        77,  13,  13,  49,  23,  10,  41,  79,  72,  75,  10,  18,  26,\n",
       "        14,  86,   7,  95,  45,  79,  95,  59,  28,  55,  50,   5,  45,\n",
       "        78,   8,  24,   2,  60,  67,  21, 100,   4,   2,  73,  41,  40,\n",
       "        53,  72,   3,   7,  31,  97,  87,  93,  24,  15,  73,  80,  75,\n",
       "        16,  36,  99,  72,  53,  46,  94,   8,  94,  85,  95,  49,  76,\n",
       "        51,  97,  91,   7,  94,  41,  81,  55,  34,  11,  43,  50,   6,\n",
       "        66,  45,  15,  99,  29,  27,  99,  72,  36,  62,  81,  36,  88,\n",
       "        29,  55,  53,  25,  78,  47,  85,  55,  71,  16,  28,  99,  37,\n",
       "        75,  54,  78,  19,  81,  44, 100,  44,  77,  68,  97,  71,  16,\n",
       "        93,  47,  16,  91,  48,  36,  23,   2,  60,  41,  75,  37,  18,\n",
       "        21,  72,  56,  83,  78,  76,  71,  53,  26,  93,  77,  47,  50,\n",
       "        37,  44,  62,  65,  20,   3,  92,  75,  74,  80,  50,  63,  15,\n",
       "        60,  34,  89,  75,  25,  77,  88,  51,   4,   2,  22,  13,  49,\n",
       "        11,  41,  67, 100,  99,  39,  24,  10,  88,  22,  64,  69,  58,\n",
       "        32,  49,   1,  22,  84,  56,  93,  72,  73,  87,  94,  74,   8,\n",
       "        61,  76,  68,  69,  53,  25,  27,  77,  33,  89,  22,  58,  27,\n",
       "        76,  96,  45,  44,  89,  42,  47,  24,  13,  54,  79,  98,  64,\n",
       "        36,  66,  44,   2,  53,  50,  87,  54,  84,  34,  34,  64,  42,\n",
       "        79,  11,  35,   6,  22,  14,  75,  89,  25,  37,  73,   2,  61,\n",
       "        81,  75,  73,   1,  14,  68,  46,  11,  11,  21,   6,  36,  64,\n",
       "        35,  66,   7,  48,  53,  18,  17,  54,   5,  79,  23,  34,  29,\n",
       "        69,   3,  35,   6,  67,  24,  25,  87,   2,  67,  20,  42,  41,\n",
       "        52,   7,  96,  29,  78,  59,  16,  54,  12,  86,  15,  82,  57,\n",
       "        49,  99,  61,  94,  46,  40,  11,   1,  85,  77,  31,  12,  29,\n",
       "        17,  33,  51,  71,  15,  86,  65,  71,  54, 100,  78,  13,  48,\n",
       "        98,  97,   5,  15,  75,  68,  25,  79,  15,  84,   4,   7,  50,\n",
       "        75,   8,  28,  44,  41,   4,  91,  64,  78,  58,  73,  97,  71,\n",
       "        58,  60,  24,  82,  26,  81,  75,  63,  19,  54,  43,  53,  14,\n",
       "        62,  17,   1,  60,  92,  27,  36,  63,  89,   6,  36,  32,  56,\n",
       "         7,  72,  94,   9,  37,  47,  50,  25,  89,  57,  59,  30,  42,\n",
       "         5,  89,  60,  25,  89,   3,   1,  57,  11,  64,  83,  90,  65,\n",
       "        82,  75,  87,  65,  60,  85,  77,  85,  81,  81,  34,  40,  31,\n",
       "        69,  45,  13,  46,  21,  88,  15,  24,  78,  47,  81,  94,  54,\n",
       "        24,  70,  27,  47,  25,  91,  17,  39,  72,  93,  62,  73,  92,\n",
       "        76,  76,  90,  48,  49,  34,  55,  62,   1,  81,  88,  28,  11,\n",
       "        12,  26,  75,  84,  56,  72,  22,  38,  89,  62,  78,  61,   2,\n",
       "        30,  53,  49,  35,  32,  39,  45,  27,  91,  48,  99,  99,   5,\n",
       "        78,  10,  30,  44,  15,  55,  48,  37,  73,   6,  31,  64,  21,\n",
       "         1,  87,  13,  82,  60,   5,  30,  61,  64,  16,   6,  89,  77,\n",
       "        95,  85,  37,   6,  21,  43,  93,   7,  71,  85,  83,  55,  53,\n",
       "        25,   1,  21,  32,  67,  42,  94,  32,   4,   1,  75,  40,  38,\n",
       "         9,  72,  68,  21,  94,  41,  95,   6,  51,  10,  93,  12])"
      ]
     },
     "execution_count": 13,
     "metadata": {},
     "output_type": "execute_result"
    }
   ],
   "source": [
    "# 샘플데이터 (1~100 사이의 랜덤 정수 1000개)\n",
    "import numpy as np\n",
    "data = np.random.randint(1,101,1000)\n",
    "data"
   ]
  },
  {
   "cell_type": "markdown",
   "metadata": {},
   "source": [
    "## 히스토그램"
   ]
  },
  {
   "cell_type": "code",
   "execution_count": 16,
   "metadata": {},
   "outputs": [
    {
     "data": {
      "image/png": "[encoded data removed]",
      "text/plain": [
       "<Figure size 432x288 with 1 Axes>"
      ]
     },
     "metadata": {
      "needs_background": "light"
     },
     "output_type": "display_data"
    }
   ],
   "source": [
    "plt.hist(data, bins=100)\n",
    "plt.show()"
   ]
  },
  {
   "cell_type": "markdown",
   "metadata": {},
   "source": [
    "## 상자수염그래프\n",
    "- boxplot"
   ]
  },
  {
   "cell_type": "code",
   "execution_count": 18,
   "metadata": {},
   "outputs": [
    {
     "data": {
      "image/png": "[encoded data removed]",
      "text/plain": [
       "<Figure size 432x288 with 1 Axes>"
      ]
     },
     "metadata": {
      "needs_background": "light"
     },
     "output_type": "display_data"
    }
   ],
   "source": [
    "plt.boxplot(data)\n",
    "plt.show()"
   ]
  },
  {
   "cell_type": "markdown",
   "metadata": {},
   "source": [
    "## 바이올린그래프\n",
    "- violinplot"
   ]
  },
  {
   "cell_type": "code",
   "execution_count": 19,
   "metadata": {},
   "outputs": [
    {
     "data": {
      "image/png": "[encoded data removed]",
      "text/plain": [
       "<Figure size 432x288 with 1 Axes>"
      ]
     },
     "metadata": {
      "needs_background": "light"
     },
     "output_type": "display_data"
    }
   ],
   "source": [
    "plt.violinplot(data)\n",
    "plt.show()"
   ]
  },
  {
   "cell_type": "markdown",
   "metadata": {},
   "source": [
    "# 관계의 시각화\n",
    "- 산점도 주로 사용"
   ]
  },
  {
   "cell_type": "code",
   "execution_count": 20,
   "metadata": {},
   "outputs": [
    {
     "data": {
      "text/html": [
       "<div>\n",
       "<style scoped>\n",
       "    .dataframe tbody tr th:only-of-type {\n",
       "        vertical-align: middle;\n",
       "    }\n",
       "\n",
       "    .dataframe tbody tr th {\n",
       "        vertical-align: top;\n",
       "    }\n",
       "\n",
       "    .dataframe thead th {\n",
       "        text-align: right;\n",
       "    }\n",
       "</style>\n",
       "<table border=\"1\" class=\"dataframe\">\n",
       "  <thead>\n",
       "    <tr style=\"text-align: right;\">\n",
       "      <th></th>\n",
       "      <th>total_bill</th>\n",
       "      <th>tip</th>\n",
       "    </tr>\n",
       "  </thead>\n",
       "  <tbody>\n",
       "    <tr>\n",
       "      <th>0</th>\n",
       "      <td>16.99</td>\n",
       "      <td>1.01</td>\n",
       "    </tr>\n",
       "    <tr>\n",
       "      <th>1</th>\n",
       "      <td>10.34</td>\n",
       "      <td>1.66</td>\n",
       "    </tr>\n",
       "    <tr>\n",
       "      <th>2</th>\n",
       "      <td>21.01</td>\n",
       "      <td>3.50</td>\n",
       "    </tr>\n",
       "    <tr>\n",
       "      <th>3</th>\n",
       "      <td>23.68</td>\n",
       "      <td>3.31</td>\n",
       "    </tr>\n",
       "    <tr>\n",
       "      <th>4</th>\n",
       "      <td>24.59</td>\n",
       "      <td>3.61</td>\n",
       "    </tr>\n",
       "    <tr>\n",
       "      <th>...</th>\n",
       "      <td>...</td>\n",
       "      <td>...</td>\n",
       "    </tr>\n",
       "    <tr>\n",
       "      <th>239</th>\n",
       "      <td>29.03</td>\n",
       "      <td>5.92</td>\n",
       "    </tr>\n",
       "    <tr>\n",
       "      <th>240</th>\n",
       "      <td>27.18</td>\n",
       "      <td>2.00</td>\n",
       "    </tr>\n",
       "    <tr>\n",
       "      <th>241</th>\n",
       "      <td>22.67</td>\n",
       "      <td>2.00</td>\n",
       "    </tr>\n",
       "    <tr>\n",
       "      <th>242</th>\n",
       "      <td>17.82</td>\n",
       "      <td>1.75</td>\n",
       "    </tr>\n",
       "    <tr>\n",
       "      <th>243</th>\n",
       "      <td>18.78</td>\n",
       "      <td>3.00</td>\n",
       "    </tr>\n",
       "  </tbody>\n",
       "</table>\n",
       "<p>244 rows × 2 columns</p>\n",
       "</div>"
      ],
      "text/plain": [
       "     total_bill   tip\n",
       "0         16.99  1.01\n",
       "1         10.34  1.66\n",
       "2         21.01  3.50\n",
       "3         23.68  3.31\n",
       "4         24.59  3.61\n",
       "..          ...   ...\n",
       "239       29.03  5.92\n",
       "240       27.18  2.00\n",
       "241       22.67  2.00\n",
       "242       17.82  1.75\n",
       "243       18.78  3.00\n",
       "\n",
       "[244 rows x 2 columns]"
      ]
     },
     "execution_count": 20,
     "metadata": {},
     "output_type": "execute_result"
    }
   ],
   "source": [
    "# 샘플데이터 (지불금액에 따른 팁)\n",
    "import seaborn as sns\n",
    "tips = sns.load_dataset('tips')[['total_bill', 'tip']]\n",
    "tips"
   ]
  },
  {
   "cell_type": "markdown",
   "metadata": {},
   "source": [
    "## 산점도\n",
    "- scatter"
   ]
  },
  {
   "cell_type": "code",
   "execution_count": 22,
   "metadata": {},
   "outputs": [
    {
     "data": {
      "text/plain": [
       "<matplotlib.collections.PathCollection at 0x7fb3ae4ab880>"
      ]
     },
     "execution_count": 22,
     "metadata": {},
     "output_type": "execute_result"
    },
    {
     "data": {
      "image/png": "[encoded data removed]",
      "text/plain": [
       "<Figure size 432x288 with 1 Axes>"
      ]
     },
     "metadata": {
      "needs_background": "light"
     },
     "output_type": "display_data"
    }
   ],
   "source": [
    "plt.scatter(tips['total_bill'], tips['tip'])"
   ]
  },
  {
   "cell_type": "code",
   "execution_count": null,
   "metadata": {},
   "outputs": [],
   "source": []
  }
 ],
 "metadata": {
  "kernelspec": {
   "display_name": "Python 3",
   "language": "python",
   "name": "python3"
  },
  "language_info": {
   "codemirror_mode": {
    "name": "ipython",
    "version": 3
   },
   "file_extension": ".py",
   "mimetype": "text/x-python",
   "name": "python",
   "nbconvert_exporter": "python",
   "pygments_lexer": "ipython3",
   "version": "3.8.5"
  },
  "toc": {
   "base_numbering": 1,
   "nav_menu": {},
   "number_sections": true,
   "sideBar": true,
   "skip_h1_title": false,
   "title_cell": "Table of Contents",
   "title_sidebar": "Contents",
   "toc_cell": false,
   "toc_position": {},
   "toc_section_display": true,
   "toc_window_display": false
  }
 },
 "nbformat": 4,
 "nbformat_minor": 4
}
