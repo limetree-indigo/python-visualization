{
 "cells": [
  {
   "cell_type": "code",
   "execution_count": 1,
   "id": "60bd6013",
   "metadata": {},
   "outputs": [],
   "source": [
    "import matplotlib.pyplot as plt"
   ]
  },
  {
   "cell_type": "markdown",
   "id": "08be2983",
   "metadata": {},
   "source": [
    "# 데이터 불러오기"
   ]
  },
  {
   "cell_type": "code",
   "execution_count": 2,
   "id": "f72f4f9f",
   "metadata": {},
   "outputs": [],
   "source": [
    "import seaborn as sns\n",
    "anscomb = sns.load_dataset('anscombe')\n",
    "df1 = anscomb[anscomb['dataset']=='I']\n",
    "df2 = anscomb[anscomb['dataset']=='II']\n",
    "df3 = anscomb[anscomb['dataset']=='III']\n",
    "df4 = anscomb[anscomb['dataset']=='IV']"
   ]
  },
  {
   "cell_type": "code",
   "execution_count": 3,
   "id": "180cd17f",
   "metadata": {},
   "outputs": [
    {
     "data": {
      "text/html": [
       "<div>\n",
       "<style scoped>\n",
       "    .dataframe tbody tr th:only-of-type {\n",
       "        vertical-align: middle;\n",
       "    }\n",
       "\n",
       "    .dataframe tbody tr th {\n",
       "        vertical-align: top;\n",
       "    }\n",
       "\n",
       "    .dataframe thead th {\n",
       "        text-align: right;\n",
       "    }\n",
       "</style>\n",
       "<table border=\"1\" class=\"dataframe\">\n",
       "  <thead>\n",
       "    <tr style=\"text-align: right;\">\n",
       "      <th></th>\n",
       "      <th>dataset</th>\n",
       "      <th>x</th>\n",
       "      <th>y</th>\n",
       "    </tr>\n",
       "  </thead>\n",
       "  <tbody>\n",
       "    <tr>\n",
       "      <th>33</th>\n",
       "      <td>IV</td>\n",
       "      <td>8.0</td>\n",
       "      <td>6.58</td>\n",
       "    </tr>\n",
       "    <tr>\n",
       "      <th>34</th>\n",
       "      <td>IV</td>\n",
       "      <td>8.0</td>\n",
       "      <td>5.76</td>\n",
       "    </tr>\n",
       "    <tr>\n",
       "      <th>35</th>\n",
       "      <td>IV</td>\n",
       "      <td>8.0</td>\n",
       "      <td>7.71</td>\n",
       "    </tr>\n",
       "    <tr>\n",
       "      <th>36</th>\n",
       "      <td>IV</td>\n",
       "      <td>8.0</td>\n",
       "      <td>8.84</td>\n",
       "    </tr>\n",
       "    <tr>\n",
       "      <th>37</th>\n",
       "      <td>IV</td>\n",
       "      <td>8.0</td>\n",
       "      <td>8.47</td>\n",
       "    </tr>\n",
       "    <tr>\n",
       "      <th>38</th>\n",
       "      <td>IV</td>\n",
       "      <td>8.0</td>\n",
       "      <td>7.04</td>\n",
       "    </tr>\n",
       "    <tr>\n",
       "      <th>39</th>\n",
       "      <td>IV</td>\n",
       "      <td>8.0</td>\n",
       "      <td>5.25</td>\n",
       "    </tr>\n",
       "    <tr>\n",
       "      <th>40</th>\n",
       "      <td>IV</td>\n",
       "      <td>19.0</td>\n",
       "      <td>12.50</td>\n",
       "    </tr>\n",
       "    <tr>\n",
       "      <th>41</th>\n",
       "      <td>IV</td>\n",
       "      <td>8.0</td>\n",
       "      <td>5.56</td>\n",
       "    </tr>\n",
       "    <tr>\n",
       "      <th>42</th>\n",
       "      <td>IV</td>\n",
       "      <td>8.0</td>\n",
       "      <td>7.91</td>\n",
       "    </tr>\n",
       "    <tr>\n",
       "      <th>43</th>\n",
       "      <td>IV</td>\n",
       "      <td>8.0</td>\n",
       "      <td>6.89</td>\n",
       "    </tr>\n",
       "  </tbody>\n",
       "</table>\n",
       "</div>"
      ],
      "text/plain": [
       "   dataset     x      y\n",
       "33      IV   8.0   6.58\n",
       "34      IV   8.0   5.76\n",
       "35      IV   8.0   7.71\n",
       "36      IV   8.0   8.84\n",
       "37      IV   8.0   8.47\n",
       "38      IV   8.0   7.04\n",
       "39      IV   8.0   5.25\n",
       "40      IV  19.0  12.50\n",
       "41      IV   8.0   5.56\n",
       "42      IV   8.0   7.91\n",
       "43      IV   8.0   6.89"
      ]
     },
     "execution_count": 3,
     "metadata": {},
     "output_type": "execute_result"
    }
   ],
   "source": [
    "df4"
   ]
  },
  {
   "cell_type": "markdown",
   "id": "d6d26e31",
   "metadata": {},
   "source": [
    "# 전체 행 열과 그래프 순서에 따라 서브플롯 그리기\n",
    "1) figure 객체를 생성한다.<br>\n",
    "**`fig=plt.figure()`**<br><br>\n",
    "2) 서브플롯을 그릴 axes 객체를 생성한다.<br>\n",
    "**`ax = fig.add_subplot(전체행갯수, 전체열갯수, 순서)`**<br><br>\n",
    "3) axes 객체에 그래프를 그린다.<br>\n",
    "**`ax.plot(x,y)`**<br><br>\n",
    "4) 축 공유하기: 어떤 axes의 축을 공유할 것인지 지정한다.<br>\n",
    "**`sharex=axes객체, sharey=axes객체`**<br><br>\n",
    "\n",
    "<div style=\"text-align:center; width: 40%; background: #eee; margin: auto; padding: 10px 0 30px 0;\">\n",
    "    <b>figure</b>\n",
    "    <div style=\"margin: 10px auto;\">\n",
    "        <div style=\"display: inline-block; width: 40%; background:white; height: 40px; line-height: 40px; margin: 0 5px;\"><b>2,2,1</b></div>\n",
    "        <div style=\"display: inline-block; width: 40%; background:white; height: 40px; line-height: 40px; margin: 0 5px;\"><b>2,2,2</b></div>        \n",
    "    </div>\n",
    "    <div>\n",
    "        <div style=\"display: inline-block; width: 40%; background:white; height: 40px; line-height: 40px; margin: 0 5px;\"><b>2,2,3</b></div>\n",
    "        <div style=\"display: inline-block; width: 40%; background:white; height: 40px; line-height: 40px; margin: 0 5px;\"><b>2,2,4</b></div>\n",
    "    </div>\n",
    "</div>"
   ]
  },
  {
   "cell_type": "code",
   "execution_count": 28,
   "id": "c494282f",
   "metadata": {},
   "outputs": [
    {
     "data": {
      "image/png": "[encoded data removed]",
      "text/plain": [
       "<Figure size 648x432 with 4 Axes>"
      ]
     },
     "metadata": {},
     "output_type": "display_data"
    }
   ],
   "source": [
    "# 1) figure 객체를 생성한다.\n",
    "fig = plt.figure(figsize=(9,6),facecolor='ivory')\n",
    "\n",
    "# 2) 서브플롯을 그릴 axes 객체를 생성한다.\n",
    "ax1 = fig.add_subplot(2,2,1)\n",
    "ax2 = fig.add_subplot(2,2,2,sharex=ax1,sharey=ax1)\n",
    "ax3 = fig.add_subplot(2,2,3,sharex=ax1,sharey=ax1)\n",
    "ax4 = fig.add_subplot(2,2,4)\n",
    "\n",
    "# 3) axes 객체에 그래프 그리기\n",
    "# 4) 축 공유하기 : 어떤 axes의 축을 공유할 것인지 지정한다.\n",
    "ax1.plot(df1['x'],df1['y'],'o',label='ax1')\n",
    "ax2.plot(df2['x'],df2['y'],'^',label='ax2')\n",
    "ax3.plot(df3['x'],df3['y'],'*',label='ax3')\n",
    "ax4.plot(df3['x'],df4['y'],'+',label='ax4')\n",
    "\n",
    "# 4) 틱 변경하기\n",
    "ax4.set_xticks(range(1,20,1))\n",
    "ax4.set_yticks(range(1,15,1))\n",
    "\n",
    "# 5) 범례 표시하기\n",
    "ax1.legend(loc=2)\n",
    "ax2.legend(loc=2)\n",
    "ax3.legend(loc=2)\n",
    "ax4.legend(loc=2)\n",
    "\n",
    "# 6) figure 제목 추가하기\n",
    "fig.suptitle('Anscombe', size=20)\n",
    "\n",
    "# 8) 그래프 크기, 간격 최적화하기\n",
    "fig.tight_layout()\n",
    "\n",
    "plt.show()"
   ]
  },
  {
   "cell_type": "markdown",
   "id": "b96d2fee",
   "metadata": {},
   "source": [
    "# 이미지로 그래프 저장하기\n",
    "- fig.savefig(파일명, dpi=해상도)\n",
    "- 해상도 default:100"
   ]
  },
  {
   "cell_type": "code",
   "execution_count": 29,
   "id": "fc2c48b5",
   "metadata": {},
   "outputs": [],
   "source": [
    "fig.savefig('img100.png')"
   ]
  },
  {
   "cell_type": "code",
   "execution_count": 30,
   "id": "0a9bb84a",
   "metadata": {},
   "outputs": [],
   "source": [
    "fig.savefig('img150.png',dpi=150)"
   ]
  },
  {
   "cell_type": "code",
   "execution_count": null,
   "id": "255d3759",
   "metadata": {},
   "outputs": [],
   "source": []
  }
 ],
 "metadata": {
  "kernelspec": {
   "display_name": "Python 3",
   "language": "python",
   "name": "python3"
  },
  "language_info": {
   "codemirror_mode": {
    "name": "ipython",
    "version": 3
   },
   "file_extension": ".py",
   "mimetype": "text/x-python",
   "name": "python",
   "nbconvert_exporter": "python",
   "pygments_lexer": "ipython3",
   "version": "3.8.5"
  },
  "toc": {
   "base_numbering": 1,
   "nav_menu": {},
   "number_sections": true,
   "sideBar": true,
   "skip_h1_title": false,
   "title_cell": "Table of Contents",
   "title_sidebar": "Contents",
   "toc_cell": false,
   "toc_position": {},
   "toc_section_display": true,
   "toc_window_display": false
  }
 },
 "nbformat": 4,
 "nbformat_minor": 5
}
