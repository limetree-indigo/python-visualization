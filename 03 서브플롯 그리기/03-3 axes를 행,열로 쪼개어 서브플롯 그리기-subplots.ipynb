{
 "cells": [
  {
   "cell_type": "code",
   "execution_count": 1,
   "id": "ff6368c2",
   "metadata": {},
   "outputs": [],
   "source": [
    "import matplotlib.pyplot as plt"
   ]
  },
  {
   "cell_type": "markdown",
   "id": "283a9fb8",
   "metadata": {},
   "source": [
    "# 데이터 불러오기"
   ]
  },
  {
   "cell_type": "code",
   "execution_count": 2,
   "id": "4aed3244",
   "metadata": {},
   "outputs": [],
   "source": [
    "import seaborn as sns\n",
    "anscomb = sns.load_dataset('anscombe')\n",
    "df1 = anscomb[anscomb['dataset']=='I']\n",
    "df2 = anscomb[anscomb['dataset']=='II']\n",
    "df3 = anscomb[anscomb['dataset']=='III']\n",
    "df4 = anscomb[anscomb['dataset']=='IV']"
   ]
  },
  {
   "cell_type": "code",
   "execution_count": 3,
   "id": "63763b1e",
   "metadata": {},
   "outputs": [
    {
     "data": {
      "text/html": [
       "<div>\n",
       "<style scoped>\n",
       "    .dataframe tbody tr th:only-of-type {\n",
       "        vertical-align: middle;\n",
       "    }\n",
       "\n",
       "    .dataframe tbody tr th {\n",
       "        vertical-align: top;\n",
       "    }\n",
       "\n",
       "    .dataframe thead th {\n",
       "        text-align: right;\n",
       "    }\n",
       "</style>\n",
       "<table border=\"1\" class=\"dataframe\">\n",
       "  <thead>\n",
       "    <tr style=\"text-align: right;\">\n",
       "      <th></th>\n",
       "      <th>dataset</th>\n",
       "      <th>x</th>\n",
       "      <th>y</th>\n",
       "    </tr>\n",
       "  </thead>\n",
       "  <tbody>\n",
       "    <tr>\n",
       "      <th>33</th>\n",
       "      <td>IV</td>\n",
       "      <td>8.0</td>\n",
       "      <td>6.58</td>\n",
       "    </tr>\n",
       "    <tr>\n",
       "      <th>34</th>\n",
       "      <td>IV</td>\n",
       "      <td>8.0</td>\n",
       "      <td>5.76</td>\n",
       "    </tr>\n",
       "    <tr>\n",
       "      <th>35</th>\n",
       "      <td>IV</td>\n",
       "      <td>8.0</td>\n",
       "      <td>7.71</td>\n",
       "    </tr>\n",
       "    <tr>\n",
       "      <th>36</th>\n",
       "      <td>IV</td>\n",
       "      <td>8.0</td>\n",
       "      <td>8.84</td>\n",
       "    </tr>\n",
       "    <tr>\n",
       "      <th>37</th>\n",
       "      <td>IV</td>\n",
       "      <td>8.0</td>\n",
       "      <td>8.47</td>\n",
       "    </tr>\n",
       "    <tr>\n",
       "      <th>38</th>\n",
       "      <td>IV</td>\n",
       "      <td>8.0</td>\n",
       "      <td>7.04</td>\n",
       "    </tr>\n",
       "    <tr>\n",
       "      <th>39</th>\n",
       "      <td>IV</td>\n",
       "      <td>8.0</td>\n",
       "      <td>5.25</td>\n",
       "    </tr>\n",
       "    <tr>\n",
       "      <th>40</th>\n",
       "      <td>IV</td>\n",
       "      <td>19.0</td>\n",
       "      <td>12.50</td>\n",
       "    </tr>\n",
       "    <tr>\n",
       "      <th>41</th>\n",
       "      <td>IV</td>\n",
       "      <td>8.0</td>\n",
       "      <td>5.56</td>\n",
       "    </tr>\n",
       "    <tr>\n",
       "      <th>42</th>\n",
       "      <td>IV</td>\n",
       "      <td>8.0</td>\n",
       "      <td>7.91</td>\n",
       "    </tr>\n",
       "    <tr>\n",
       "      <th>43</th>\n",
       "      <td>IV</td>\n",
       "      <td>8.0</td>\n",
       "      <td>6.89</td>\n",
       "    </tr>\n",
       "  </tbody>\n",
       "</table>\n",
       "</div>"
      ],
      "text/plain": [
       "   dataset     x      y\n",
       "33      IV   8.0   6.58\n",
       "34      IV   8.0   5.76\n",
       "35      IV   8.0   7.71\n",
       "36      IV   8.0   8.84\n",
       "37      IV   8.0   8.47\n",
       "38      IV   8.0   7.04\n",
       "39      IV   8.0   5.25\n",
       "40      IV  19.0  12.50\n",
       "41      IV   8.0   5.56\n",
       "42      IV   8.0   7.91\n",
       "43      IV   8.0   6.89"
      ]
     },
     "execution_count": 3,
     "metadata": {},
     "output_type": "execute_result"
    }
   ],
   "source": [
    "df4"
   ]
  },
  {
   "cell_type": "markdown",
   "id": "5101590f",
   "metadata": {},
   "source": [
    "# axes를 행, 열로 쪼개어 서브플롯 그리기\n",
    "- plt.subplots() 함수를 호출하면 figure, axes 객체를 생성하여 튜플 형태로 반환한다.<br>\n",
    "    **`fig, ax = plt.subplots()`**<br><br>\n",
    "    1) axes 객체를 행,열로 쪼개어 생성하기<br>\n",
    "    **`fig, ax = plt.subplots(nrows=행갯수, ncols=열갯수, figsize=(가로사이즈,세로사이트))`**<br><br>\n",
    "    2) axes[행번호][열번호] 형태로 접근하여 그래프 그리기<br><br>\n",
    "    3) 서브플롯간 축을 공유할 수 있다.<br>\n",
    "    **`sharex=True, sharey=True`**<br><br>\n",
    "    \n",
    "\n",
    "<div style=\"text-align:center; width: 40%; background: #eee; margin: auto; padding: 10px 0 30px 0;\">\n",
    "    <b>figure</b>\n",
    "    <div style=\"margin: 10px auto;\">\n",
    "        <div style=\"display: inline-block; width: 40%; background:white; height: 40px; line-height: 40px; margin: 0 5px;\"><b>axes[0][0]</b></div>\n",
    "        <div style=\"display: inline-block; width: 40%; background:white; height: 40px; line-height: 40px; margin: 0 5px;\"><b>axes[0][1]</b></div>        \n",
    "    </div>\n",
    "    <div>\n",
    "        <div style=\"display: inline-block; width: 40%; background:white; height: 40px; line-height: 40px; margin: 0 5px;\"><b>axes[1][0]</b></div>\n",
    "        <div style=\"display: inline-block; width: 40%; background:white; height: 40px; line-height: 40px; margin: 0 5px;\"><b>axes[1][1]</b></div>\n",
    "    </div>\n",
    "</div>\n",
    "\n",
    "    "
   ]
  },
  {
   "cell_type": "code",
   "execution_count": 16,
   "id": "ae9a5cfb",
   "metadata": {},
   "outputs": [
    {
     "data": {
      "image/png": "[encoded data removed]",
      "text/plain": [
       "<Figure size 576x432 with 4 Axes>"
      ]
     },
     "metadata": {
      "needs_background": "light"
     },
     "output_type": "display_data"
    }
   ],
   "source": [
    "# 1) axes 객체를 행,열로 쪼개어 생성하기\n",
    "# 3) 서브플롯간 축을 공유할 수 있다.\n",
    "fig, ax = plt.subplots(nrows=2, ncols=2, figsize=(8,6))\n",
    "\n",
    "# 2) axes[행번호][열번호] 형태로 접근하여 그래프 그리기\n",
    "ax[0][0].plot(df1['x'], df1['y'], 'o')\n",
    "ax[0][1].plot(df2['x'], df2['y'], '^')\n",
    "ax[1][0].plot(df3['x'], df3['y'], '*')\n",
    "ax[1][1].plot(df4['x'], df4['y'], 'd')\n",
    "\n",
    "# 4) 각 그래프에 제목 추가\n",
    "ax[0][0].set_title('ax1')\n",
    "ax[0][1].set_title('ax2')\n",
    "ax[1][0].set_title('ax3')\n",
    "ax[1][1].set_title('ax4')\n",
    "\n",
    "# 4) 각 그래프에 그리드 추가\n",
    "ax[0][0].grid(ls=':')\n",
    "ax[0][1].grid(ls=':',color='pink')\n",
    "ax[1][0].grid(ls=':',color='skyblue')\n",
    "ax[1][1].grid(ls=':',color='green',alpha=0.5)\n",
    "\n",
    "# 6) 그래프 전체 제목\n",
    "fig.suptitle('Anscombe', size=20)\n",
    "\n",
    "# 7) 그래프 간격, 크기 최적화\n",
    "fig.tight_layout()"
   ]
  },
  {
   "cell_type": "code",
   "execution_count": null,
   "id": "32e5af8d",
   "metadata": {},
   "outputs": [],
   "source": []
  }
 ],
 "metadata": {
  "kernelspec": {
   "display_name": "Python 3",
   "language": "python",
   "name": "python3"
  },
  "language_info": {
   "codemirror_mode": {
    "name": "ipython",
    "version": 3
   },
   "file_extension": ".py",
   "mimetype": "text/x-python",
   "name": "python",
   "nbconvert_exporter": "python",
   "pygments_lexer": "ipython3",
   "version": "3.8.5"
  },
  "toc": {
   "base_numbering": 1,
   "nav_menu": {},
   "number_sections": true,
   "sideBar": true,
   "skip_h1_title": false,
   "title_cell": "Table of Contents",
   "title_sidebar": "Contents",
   "toc_cell": false,
   "toc_position": {},
   "toc_section_display": true,
   "toc_window_display": false
  }
 },
 "nbformat": 4,
 "nbformat_minor": 5
}
