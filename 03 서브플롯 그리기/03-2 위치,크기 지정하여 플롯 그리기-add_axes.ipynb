{
 "cells": [
  {
   "cell_type": "markdown",
   "id": "56863402",
   "metadata": {},
   "source": [
    "# 라이브러리 임포트"
   ]
  },
  {
   "cell_type": "code",
   "execution_count": 1,
   "id": "c1a26321",
   "metadata": {},
   "outputs": [],
   "source": [
    "import matplotlib.pyplot as plt"
   ]
  },
  {
   "cell_type": "markdown",
   "id": "c88d74ac",
   "metadata": {},
   "source": [
    "# 위치, 크기 지정하여 그래프 그리기"
   ]
  },
  {
   "cell_type": "markdown",
   "id": "8c831779",
   "metadata": {},
   "source": [
    "## figure, axes\n",
    "- figure: 그림이 그려지는 캔버스\n",
    "- axes: 하나의 그래프\n",
    "\n",
    "<div style=\"text-align:center; width: 40%; background: #eee; margin: auto; padding: 10px 0 30px 0;\">\n",
    "    <b>figure</b>\n",
    "    <div style=\"margin: 10px auto;\">\n",
    "        <div style=\"display: inline-block; width: 40%; background:white; height: 40px; line-height: 40px; margin: 0 5px;\"><b>axes</b></div>\n",
    "        <div style=\"display: inline-block; width: 40%; background:white; height: 40px; line-height: 40px; margin: 0 5px;\"><b>axes</b></div>        \n",
    "    </div>\n",
    "    <div>\n",
    "        <div style=\"display: inline-block; width: 40%; background:white; height: 40px; line-height: 40px; margin: 0 5px;\"><b>axes</b></div>\n",
    "        <div style=\"display: inline-block; width: 40%; background:white; height: 40px; line-height: 40px; margin: 0 5px;\"><b>axes</b></div>\n",
    "    </div>\n",
    "</div>"
   ]
  },
  {
   "cell_type": "markdown",
   "id": "50c8416d",
   "metadata": {},
   "source": [
    "## 위치, 크기 지정하여 그래프 그리기\n",
    "1) figure 객체를 생성한다.<br>\n",
    "**`fig = plt.figure(figsize=(가로길이,세로길이))`**\n",
    "<br><br>\n",
    "2) figure 객체의 add_axes 메소드로 위치와 크기를 지정하여 axes 객체를 생성한다.<br>\n",
    "**`ax1 = fig.add_axes([left, bottom, width, height])`**<br>\n",
    "<span style=\"color: red;\">left, bottom</span>: 상대적인 시작 위치(figsize의 크기를 1이라고 했을 때 상대적 위치)<br>\n",
    "<span style=\"color: blue;\">width, height</span>: 상대적인 크기(figsize의 크기를 1이라고 했을 때 상대적 크기)\n",
    "<br><br>\n",
    "3) axes에 그래프 그린다.\n",
    "**`ax1.plot(x,y)`**\n",
    "<br><br>\n",
    "4) axes에 제목 추가\n",
    "**`ax1.set_title(제목)`**"
   ]
  },
  {
   "cell_type": "markdown",
   "id": "fcde9e36",
   "metadata": {},
   "source": [
    "### 위치와 크기를 자유롭게 지정항 axes 객체 만들기\n",
    "- add_axes를 사용하면, 서브플롯의 크기와 위치를 자유롭게 지정할 수 있다.\n",
    "- 그래프를 겹쳐그리거나, 크기가 다른 그래프를 그릴 수 있다."
   ]
  },
  {
   "cell_type": "markdown",
   "id": "4ddceaa1",
   "metadata": {},
   "source": [
    "### 앤스콥 4분할 그래프 그리기"
   ]
  },
  {
   "cell_type": "code",
   "execution_count": 2,
   "id": "b88897b5",
   "metadata": {},
   "outputs": [],
   "source": [
    "import seaborn as sns\n",
    "anscomb = sns.load_dataset('anscombe')\n",
    "df1 = anscomb[anscomb['dataset']=='I']\n",
    "df2 = anscomb[anscomb['dataset']=='II']\n",
    "df3 = anscomb[anscomb['dataset']=='III']\n",
    "df4 = anscomb[anscomb['dataset']=='IV']"
   ]
  },
  {
   "cell_type": "code",
   "execution_count": 3,
   "id": "6c6978a1",
   "metadata": {},
   "outputs": [
    {
     "data": {
      "text/plain": [
       "(   dataset     x      y\n",
       " 0        I  10.0   8.04\n",
       " 1        I   8.0   6.95\n",
       " 2        I  13.0   7.58\n",
       " 3        I   9.0   8.81\n",
       " 4        I  11.0   8.33\n",
       " 5        I  14.0   9.96\n",
       " 6        I   6.0   7.24\n",
       " 7        I   4.0   4.26\n",
       " 8        I  12.0  10.84\n",
       " 9        I   7.0   4.82\n",
       " 10       I   5.0   5.68,\n",
       "    dataset     x     y\n",
       " 11      II  10.0  9.14\n",
       " 12      II   8.0  8.14\n",
       " 13      II  13.0  8.74\n",
       " 14      II   9.0  8.77\n",
       " 15      II  11.0  9.26\n",
       " 16      II  14.0  8.10\n",
       " 17      II   6.0  6.13\n",
       " 18      II   4.0  3.10\n",
       " 19      II  12.0  9.13\n",
       " 20      II   7.0  7.26\n",
       " 21      II   5.0  4.74,\n",
       "    dataset     x      y\n",
       " 22     III  10.0   7.46\n",
       " 23     III   8.0   6.77\n",
       " 24     III  13.0  12.74\n",
       " 25     III   9.0   7.11\n",
       " 26     III  11.0   7.81\n",
       " 27     III  14.0   8.84\n",
       " 28     III   6.0   6.08\n",
       " 29     III   4.0   5.39\n",
       " 30     III  12.0   8.15\n",
       " 31     III   7.0   6.42\n",
       " 32     III   5.0   5.73,\n",
       "    dataset     x      y\n",
       " 33      IV   8.0   6.58\n",
       " 34      IV   8.0   5.76\n",
       " 35      IV   8.0   7.71\n",
       " 36      IV   8.0   8.84\n",
       " 37      IV   8.0   8.47\n",
       " 38      IV   8.0   7.04\n",
       " 39      IV   8.0   5.25\n",
       " 40      IV  19.0  12.50\n",
       " 41      IV   8.0   5.56\n",
       " 42      IV   8.0   7.91\n",
       " 43      IV   8.0   6.89)"
      ]
     },
     "execution_count": 3,
     "metadata": {},
     "output_type": "execute_result"
    }
   ],
   "source": [
    "df1, df2, df3, df4"
   ]
  },
  {
   "cell_type": "code",
   "execution_count": 20,
   "id": "0001d7bf",
   "metadata": {},
   "outputs": [
    {
     "data": {
      "text/plain": [
       "Text(0.5, 1.0, 'ax4')"
      ]
     },
     "execution_count": 20,
     "metadata": {},
     "output_type": "execute_result"
    },
    {
     "data": {
      "image/png": "[encoded data removed]",
      "text/plain": [
       "<Figure size 576x432 with 4 Axes>"
      ]
     },
     "metadata": {
      "needs_background": "light"
     },
     "output_type": "display_data"
    }
   ],
   "source": [
    "# 1) figure 객체를 생성한다.\n",
    "fig = plt.figure(figsize=(8,6))\n",
    "\n",
    "# 2) figure 객체의 add_axes 메소드로 위치와 크기를 지정하여 axes 객체를 생성한다.\n",
    "ax1 = fig.add_axes([0,0.5,0.4,0.4])\n",
    "ax2 = fig.add_axes([0.5,0.5,0.4,0.4])\n",
    "ax3 = fig.add_axes([0,0,0.4,0.4])\n",
    "ax4 = fig.add_axes([0.5,0,0.4,0.4])\n",
    "\n",
    "# 3) axes에 그래프를 그린다.\n",
    "ax1.plot(df1['x'],df1['y'], 'o')\n",
    "ax2.plot(df2['x'],df2['y'], 'r^')\n",
    "ax3.plot(df3['x'],df3['y'], 'k*')\n",
    "ax4.plot(df4['x'],df4['y'], 'm+')\n",
    "\n",
    "fig.suptitle('anscomb', size=20)\n",
    "# 4) axes에 제목 추가\n",
    "ax1.set_title('ax1')\n",
    "ax2.set_title('ax2')\n",
    "ax3.set_title('ax3')\n",
    "ax4.set_title('ax4')"
   ]
  },
  {
   "cell_type": "code",
   "execution_count": null,
   "id": "9e838aa6",
   "metadata": {},
   "outputs": [],
   "source": []
  }
 ],
 "metadata": {
  "kernelspec": {
   "display_name": "Python 3",
   "language": "python",
   "name": "python3"
  },
  "language_info": {
   "codemirror_mode": {
    "name": "ipython",
    "version": 3
   },
   "file_extension": ".py",
   "mimetype": "text/x-python",
   "name": "python",
   "nbconvert_exporter": "python",
   "pygments_lexer": "ipython3",
   "version": "3.8.5"
  },
  "toc": {
   "base_numbering": 1,
   "nav_menu": {},
   "number_sections": true,
   "sideBar": true,
   "skip_h1_title": false,
   "title_cell": "Table of Contents",
   "title_sidebar": "Contents",
   "toc_cell": false,
   "toc_position": {},
   "toc_section_display": true,
   "toc_window_display": false
  }
 },
 "nbformat": 4,
 "nbformat_minor": 5
}
