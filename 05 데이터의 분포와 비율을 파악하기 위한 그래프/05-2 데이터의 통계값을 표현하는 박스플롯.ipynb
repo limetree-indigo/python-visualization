{
 "cells": [
  {
   "cell_type": "code",
   "execution_count": 2,
   "id": "66281b78",
   "metadata": {},
   "outputs": [],
   "source": [
    "import matplotlib.pyplot as plt\n",
    "import pandas as pd"
   ]
  },
  {
   "cell_type": "code",
   "execution_count": 4,
   "id": "00c7622c",
   "metadata": {},
   "outputs": [],
   "source": [
    "# 그래프에 한글 설정\n",
    "plt.rcParams['font.family'] = 'AppleGothic'\n",
    "\n",
    "# 그래프에 마이너스 기호 깨지는 문제 해결\n",
    "plt.rcParams['axes.unicode_minus'] = False"
   ]
  },
  {
   "cell_type": "markdown",
   "id": "a3d0e6c6",
   "metadata": {},
   "source": [
    "# 박스플롯\n",
    "- 데이터로부터 얻어진 아래의 다섯 가지 요약 수치를 사용해서 그려진다.<br>\n",
    "    최소값<br>\n",
    "    제 1사분위 수 (Q1) : 전체 데이터 중 하위 25%에 해당하는 값<br>\n",
    "    제 2사분위 수 또는 중위수 (Q2)<br>\n",
    "    제 3사분위 수 (Q3) : 전체 데이터 중 상위 25%에 해당하는 값<br>\n",
    "    최대값\n",
    "    <br>\n",
    "\n",
    "- 다른 값들과 동떨어진 값을 이상치로 표현한다.<br>\n",
    "    어떤 값이 (1/4 지점의 값 - 1.5*사분위수 범위) 보다 작거나,<br>\n",
    "    어떤 값이 (3/4 지점의 값 + 1.5*사분위수 범위) 보다 크면 그 값을 이상치로 정한다.\n",
    "- 사분위수 범위 = 3/4지점의 값 - 1/4지점의 값"
   ]
  },
  {
   "cell_type": "markdown",
   "id": "5e51a6e2",
   "metadata": {},
   "source": [
    "## 샘플 데이터\n",
    "- 125명의 점수 데이터"
   ]
  },
  {
   "cell_type": "code",
   "execution_count": 11,
   "id": "9d2378b0",
   "metadata": {},
   "outputs": [],
   "source": [
    "scores = pd.Series([0,10,15,15,15,16,19,20,21,25,25,26,26,29,30,35,36,37,40,41,41,44,45,45,45,\n",
    "            50,50,50,50,51,51,51,55,55,56,60,61,62,62,63,64,65,65,65,65,66,66,66,66,66,66,\n",
    "            67,68,68,69,69,70,70,70,70,70,70,70,70,71,71,71,71,71,72,72,72,73,73,74,74,74,75,75,75,\n",
    "            76,76,76,76,76,77,77,77,77,77,78,78,78,78,78,79,79,79,79,80,80,80,80,80,81,81,81,82,82,\n",
    "            85,85,85,88,88,89,90,90,90,93,83,95,95,95,97,100])"
   ]
  },
  {
   "cell_type": "markdown",
   "id": "aec39225",
   "metadata": {},
   "source": [
    "### 샘플데이터의 통계값\n",
    "시리즈.describe()"
   ]
  },
  {
   "cell_type": "code",
   "execution_count": 14,
   "id": "60f59e1f",
   "metadata": {},
   "outputs": [
    {
     "data": {
      "text/plain": [
       "count    125.000000\n",
       "mean      64.312000\n",
       "std       21.469564\n",
       "min        0.000000\n",
       "25%       51.000000\n",
       "50%       70.000000\n",
       "75%       78.000000\n",
       "max      100.000000\n",
       "dtype: float64"
      ]
     },
     "execution_count": 14,
     "metadata": {},
     "output_type": "execute_result"
    }
   ],
   "source": [
    "scores.describe()"
   ]
  },
  {
   "cell_type": "markdown",
   "id": "67572545",
   "metadata": {},
   "source": [
    "### 이상치 구하기\n",
    "- 1/4 지점의 값: 시리즈.quantile(.25)\n",
    "- 3/4 지점의 값: 시리즈.quantile(.75)\n",
    "- 이상치<br>\n",
    "    1/4 지점의 값 - 1.5*사분위수 범위<br>\n",
    "    3/4 지점의 값 + 1.5*사분위수 범위"
   ]
  },
  {
   "cell_type": "code",
   "execution_count": 18,
   "id": "35112a81",
   "metadata": {},
   "outputs": [
    {
     "name": "stdout",
     "output_type": "stream",
     "text": [
      "1/4 지점의 값 :  51.0\n",
      "3/4 지점의 값 :  78.0\n",
      "이상치: 10.5 미만\n",
      "이상치: 118.5 이상\n"
     ]
    }
   ],
   "source": [
    "Q1 = scores.quantile(0.25)\n",
    "print('1/4 지점의 값 : ', Q1)\n",
    "\n",
    "Q3 = scores.quantile(0.75)\n",
    "print('3/4 지점의 값 : ', Q3)\n",
    "\n",
    "# 이상치\n",
    "print('이상치:', Q1 - 1.5*(Q3-Q1), '미만')\n",
    "print('이상치:', Q3 + 1.5*(Q3-Q1), '이상')"
   ]
  },
  {
   "cell_type": "markdown",
   "id": "aea4a615",
   "metadata": {},
   "source": [
    "## 박스플롯\n",
    "**`plt.boxplot(data)`**"
   ]
  },
  {
   "cell_type": "code",
   "execution_count": 19,
   "id": "9bd241fb",
   "metadata": {},
   "outputs": [
    {
     "data": {
      "text/plain": [
       "{'whiskers': [<matplotlib.lines.Line2D at 0x7fdecafbeeb0>,\n",
       "  <matplotlib.lines.Line2D at 0x7fdecab788e0>],\n",
       " 'caps': [<matplotlib.lines.Line2D at 0x7fdecab7ebe0>,\n",
       "  <matplotlib.lines.Line2D at 0x7fdec6fcdd00>],\n",
       " 'boxes': [<matplotlib.lines.Line2D at 0x7fdecb4f80a0>],\n",
       " 'medians': [<matplotlib.lines.Line2D at 0x7fdec8493250>],\n",
       " 'fliers': [<matplotlib.lines.Line2D at 0x7fdecab81be0>],\n",
       " 'means': []}"
      ]
     },
     "execution_count": 19,
     "metadata": {},
     "output_type": "execute_result"
    },
    {
     "data": {
      "image/png": "[encoded data removed]",
      "text/plain": [
       "<Figure size 432x288 with 1 Axes>"
      ]
     },
     "metadata": {
      "needs_background": "light"
     },
     "output_type": "display_data"
    }
   ],
   "source": [
    "plt.boxplot(scores)"
   ]
  },
  {
   "cell_type": "markdown",
   "id": "60595c83",
   "metadata": {},
   "source": [
    "## 평균 표시하기\n",
    "- showmeans = True\n",
    "- meanline = True"
   ]
  },
  {
   "cell_type": "code",
   "execution_count": 23,
   "id": "a7f622da",
   "metadata": {},
   "outputs": [
    {
     "data": {
      "text/plain": [
       "{'whiskers': [<matplotlib.lines.Line2D at 0x7fdecadcd970>,\n",
       "  <matplotlib.lines.Line2D at 0x7fdecadcdcd0>],\n",
       " 'caps': [<matplotlib.lines.Line2D at 0x7fdecade8070>,\n",
       "  <matplotlib.lines.Line2D at 0x7fdecade83d0>],\n",
       " 'boxes': [<matplotlib.lines.Line2D at 0x7fdecadcd610>],\n",
       " 'medians': [<matplotlib.lines.Line2D at 0x7fdecade8730>],\n",
       " 'fliers': [<matplotlib.lines.Line2D at 0x7fdecade8df0>],\n",
       " 'means': [<matplotlib.lines.Line2D at 0x7fdecade8a90>]}"
      ]
     },
     "execution_count": 23,
     "metadata": {},
     "output_type": "execute_result"
    },
    {
     "data": {
      "image/png": "[encoded data removed]",
      "text/plain": [
       "<Figure size 432x288 with 1 Axes>"
      ]
     },
     "metadata": {
      "needs_background": "light"
     },
     "output_type": "display_data"
    }
   ],
   "source": [
    "plt.boxplot(scores, showmeans=True, meanline=True)"
   ]
  },
  {
   "cell_type": "markdown",
   "id": "d6bd8bc6",
   "metadata": {},
   "source": [
    "## 수평 박스플롯\n",
    "- vert=False"
   ]
  },
  {
   "cell_type": "code",
   "execution_count": 24,
   "id": "5286e35a",
   "metadata": {},
   "outputs": [
    {
     "data": {
      "text/plain": [
       "{'whiskers': [<matplotlib.lines.Line2D at 0x7fdecaf05370>,\n",
       "  <matplotlib.lines.Line2D at 0x7fdecaf056d0>],\n",
       " 'caps': [<matplotlib.lines.Line2D at 0x7fdecaf05a30>,\n",
       "  <matplotlib.lines.Line2D at 0x7fdecaf05d90>],\n",
       " 'boxes': [<matplotlib.lines.Line2D at 0x7fdecaeebfd0>],\n",
       " 'medians': [<matplotlib.lines.Line2D at 0x7fdecafe1130>],\n",
       " 'fliers': [<matplotlib.lines.Line2D at 0x7fdecafe17f0>],\n",
       " 'means': [<matplotlib.lines.Line2D at 0x7fdecafe1490>]}"
      ]
     },
     "execution_count": 24,
     "metadata": {},
     "output_type": "execute_result"
    },
    {
     "data": {
      "image/png": "[encoded data removed]",
      "text/plain": [
       "<Figure size 432x288 with 1 Axes>"
      ]
     },
     "metadata": {
      "needs_background": "light"
     },
     "output_type": "display_data"
    }
   ],
   "source": [
    "plt.boxplot(scores, showmeans=True, meanline=True, vert=False)"
   ]
  },
  {
   "cell_type": "markdown",
   "id": "dd3cee32",
   "metadata": {},
   "source": [
    "# 여러 개의 데이터 비교하기\n",
    "## 샘플 데이터\n",
    "- 붓꽃 데이터"
   ]
  },
  {
   "cell_type": "code",
   "execution_count": 25,
   "id": "c9bd1c08",
   "metadata": {},
   "outputs": [
    {
     "data": {
      "text/html": [
       "<div>\n",
       "<style scoped>\n",
       "    .dataframe tbody tr th:only-of-type {\n",
       "        vertical-align: middle;\n",
       "    }\n",
       "\n",
       "    .dataframe tbody tr th {\n",
       "        vertical-align: top;\n",
       "    }\n",
       "\n",
       "    .dataframe thead th {\n",
       "        text-align: right;\n",
       "    }\n",
       "</style>\n",
       "<table border=\"1\" class=\"dataframe\">\n",
       "  <thead>\n",
       "    <tr style=\"text-align: right;\">\n",
       "      <th></th>\n",
       "      <th>sepal_length</th>\n",
       "      <th>sepal_width</th>\n",
       "      <th>petal_length</th>\n",
       "      <th>petal_width</th>\n",
       "      <th>species</th>\n",
       "    </tr>\n",
       "  </thead>\n",
       "  <tbody>\n",
       "    <tr>\n",
       "      <th>0</th>\n",
       "      <td>5.1</td>\n",
       "      <td>3.5</td>\n",
       "      <td>1.4</td>\n",
       "      <td>0.2</td>\n",
       "      <td>setosa</td>\n",
       "    </tr>\n",
       "    <tr>\n",
       "      <th>1</th>\n",
       "      <td>4.9</td>\n",
       "      <td>3.0</td>\n",
       "      <td>1.4</td>\n",
       "      <td>0.2</td>\n",
       "      <td>setosa</td>\n",
       "    </tr>\n",
       "    <tr>\n",
       "      <th>2</th>\n",
       "      <td>4.7</td>\n",
       "      <td>3.2</td>\n",
       "      <td>1.3</td>\n",
       "      <td>0.2</td>\n",
       "      <td>setosa</td>\n",
       "    </tr>\n",
       "    <tr>\n",
       "      <th>3</th>\n",
       "      <td>4.6</td>\n",
       "      <td>3.1</td>\n",
       "      <td>1.5</td>\n",
       "      <td>0.2</td>\n",
       "      <td>setosa</td>\n",
       "    </tr>\n",
       "    <tr>\n",
       "      <th>4</th>\n",
       "      <td>5.0</td>\n",
       "      <td>3.6</td>\n",
       "      <td>1.4</td>\n",
       "      <td>0.2</td>\n",
       "      <td>setosa</td>\n",
       "    </tr>\n",
       "  </tbody>\n",
       "</table>\n",
       "</div>"
      ],
      "text/plain": [
       "   sepal_length  sepal_width  petal_length  petal_width species\n",
       "0           5.1          3.5           1.4          0.2  setosa\n",
       "1           4.9          3.0           1.4          0.2  setosa\n",
       "2           4.7          3.2           1.3          0.2  setosa\n",
       "3           4.6          3.1           1.5          0.2  setosa\n",
       "4           5.0          3.6           1.4          0.2  setosa"
      ]
     },
     "execution_count": 25,
     "metadata": {},
     "output_type": "execute_result"
    }
   ],
   "source": [
    "import seaborn as sns\n",
    "iris = sns.load_dataset('iris')\n",
    "iris.head()"
   ]
  },
  {
   "cell_type": "markdown",
   "id": "ce9fd476",
   "metadata": {},
   "source": [
    "## 여러 개의 데이터 비교하기\n",
    "- plt.boxplot(데이터리스트, labels=레이블리스트)"
   ]
  },
  {
   "cell_type": "code",
   "execution_count": 35,
   "id": "3599876a",
   "metadata": {},
   "outputs": [
    {
     "data": {
      "image/png": "[encoded data removed]",
      "text/plain": [
       "<Figure size 432x288 with 1 Axes>"
      ]
     },
     "metadata": {
      "needs_background": "light"
     },
     "output_type": "display_data"
    }
   ],
   "source": [
    "plt.boxplot([iris['sepal_length'], iris['sepal_width'],iris['petal_length'], iris['petal_width']],\n",
    "            labels=['sepal_length', 'sepal_width', 'petal_length', 'petal_width'],\n",
    "            showmeans=True)\n",
    "plt.grid(axis='y', ls=\":\")\n",
    "plt.show()"
   ]
  },
  {
   "cell_type": "code",
   "execution_count": null,
   "id": "4ca0dcfb",
   "metadata": {},
   "outputs": [],
   "source": []
  }
 ],
 "metadata": {
  "kernelspec": {
   "display_name": "Python 3",
   "language": "python",
   "name": "python3"
  },
  "language_info": {
   "codemirror_mode": {
    "name": "ipython",
    "version": 3
   },
   "file_extension": ".py",
   "mimetype": "text/x-python",
   "name": "python",
   "nbconvert_exporter": "python",
   "pygments_lexer": "ipython3",
   "version": "3.8.5"
  },
  "toc": {
   "base_numbering": 1,
   "nav_menu": {},
   "number_sections": true,
   "sideBar": true,
   "skip_h1_title": false,
   "title_cell": "Table of Contents",
   "title_sidebar": "Contents",
   "toc_cell": false,
   "toc_position": {},
   "toc_section_display": true,
   "toc_window_display": false
  }
 },
 "nbformat": 4,
 "nbformat_minor": 5
}
