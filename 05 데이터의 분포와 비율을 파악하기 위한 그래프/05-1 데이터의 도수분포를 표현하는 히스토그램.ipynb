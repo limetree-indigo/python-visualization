{
 "cells": [
  {
   "cell_type": "code",
   "execution_count": 1,
   "id": "ea58d8da",
   "metadata": {},
   "outputs": [],
   "source": [
    "import pandas as pd\n",
    "import matplotlib.pyplot as plt"
   ]
  },
  {
   "cell_type": "code",
   "execution_count": 2,
   "id": "feefc3da",
   "metadata": {},
   "outputs": [],
   "source": [
    "# 그래프에 한글 설저\n",
    "plt.rcParams['font.family'] = 'AppleGothic'\n",
    "\n",
    "# 유니코드에서 그래프에 마이너스 기호 깨지는 문제 해결\n",
    "plt.rcParams['axes.unicode_minus'] = False"
   ]
  },
  {
   "cell_type": "markdown",
   "id": "3cb6ebdf",
   "metadata": {},
   "source": [
    "# 히스토그램\n",
    "- 자료의 도수분포를 나타내는 그래프<br>\n",
    "    수치를 나타내는 자료를 일정 구간(계급)으로 나누어 각 구간별 값의 개수(도수)를 나타낸다.\n",
    "- x축은 계급(값의 구간), y축은 도수(구간별 값의 개수)를 나타냄"
   ]
  },
  {
   "cell_type": "markdown",
   "id": "ba9cae3d",
   "metadata": {},
   "source": [
    "## 샘플데이터\n",
    "- 125명의 점수 데이터"
   ]
  },
  {
   "cell_type": "code",
   "execution_count": 4,
   "id": "2b8d8455",
   "metadata": {},
   "outputs": [
    {
     "data": {
      "text/plain": [
       "125"
      ]
     },
     "execution_count": 4,
     "metadata": {},
     "output_type": "execute_result"
    }
   ],
   "source": [
    "import random\n",
    "\n",
    "score = []\n",
    "\n",
    "for i in range(125):\n",
    "    score.append(random.randint(0,100))\n",
    "len(score)"
   ]
  },
  {
   "cell_type": "markdown",
   "id": "04c24223",
   "metadata": {},
   "source": [
    "## 히스토그램"
   ]
  },
  {
   "cell_type": "markdown",
   "id": "9161090a",
   "metadata": {},
   "source": [
    "### 기본 히스토그램\n",
    "- **`plt.hist(data)`**<br>\n",
    "    default: 10개의 구간으로 나누어 도수분포를 보여준다."
   ]
  },
  {
   "cell_type": "code",
   "execution_count": 5,
   "id": "cf4a3984",
   "metadata": {},
   "outputs": [
    {
     "data": {
      "text/plain": [
       "(array([ 6., 15.,  9., 14., 12.,  9., 16., 10., 16., 18.]),\n",
       " array([  1. ,  10.9,  20.8,  30.7,  40.6,  50.5,  60.4,  70.3,  80.2,\n",
       "         90.1, 100. ]),\n",
       " <BarContainer object of 10 artists>)"
      ]
     },
     "execution_count": 5,
     "metadata": {},
     "output_type": "execute_result"
    },
    {
     "data": {
      "image/png": "[encoded data removed]",
      "text/plain": [
       "<Figure size 432x288 with 1 Axes>"
      ]
     },
     "metadata": {
      "needs_background": "light"
     },
     "output_type": "display_data"
    }
   ],
   "source": [
    "plt.hist(score)"
   ]
  },
  {
   "cell_type": "markdown",
   "id": "73606179",
   "metadata": {},
   "source": [
    "### 구간의 개수 변경\n",
    "**`bins=구간의 개수`**"
   ]
  },
  {
   "cell_type": "code",
   "execution_count": 8,
   "id": "42bea71d",
   "metadata": {},
   "outputs": [
    {
     "data": {
      "text/plain": [
       "(array([ 3.,  3., 10.,  5.,  4.,  5.,  5.,  9.,  5.,  7.,  3.,  6., 10.,\n",
       "         6.,  4.,  6.,  6., 10.,  7., 11.]),\n",
       " array([  1.  ,   5.95,  10.9 ,  15.85,  20.8 ,  25.75,  30.7 ,  35.65,\n",
       "         40.6 ,  45.55,  50.5 ,  55.45,  60.4 ,  65.35,  70.3 ,  75.25,\n",
       "         80.2 ,  85.15,  90.1 ,  95.05, 100.  ]),\n",
       " <BarContainer object of 20 artists>)"
      ]
     },
     "execution_count": 8,
     "metadata": {},
     "output_type": "execute_result"
    },
    {
     "data": {
      "image/png": "[encoded data removed]",
      "text/plain": [
       "<Figure size 432x288 with 1 Axes>"
      ]
     },
     "metadata": {
      "needs_background": "light"
     },
     "output_type": "display_data"
    }
   ],
   "source": [
    "plt.hist(score, bins=20)"
   ]
  },
  {
   "cell_type": "markdown",
   "id": "e5375f19",
   "metadata": {},
   "source": [
    "### 누적 히스토 그램\n",
    "**`cumulative=True`**"
   ]
  },
  {
   "cell_type": "code",
   "execution_count": 9,
   "id": "749b1a4d",
   "metadata": {},
   "outputs": [
    {
     "data": {
      "text/plain": [
       "(array([  3.,   6.,  16.,  21.,  25.,  30.,  35.,  44.,  49.,  56.,  59.,\n",
       "         65.,  75.,  81.,  85.,  91.,  97., 107., 114., 125.]),\n",
       " array([  1.  ,   5.95,  10.9 ,  15.85,  20.8 ,  25.75,  30.7 ,  35.65,\n",
       "         40.6 ,  45.55,  50.5 ,  55.45,  60.4 ,  65.35,  70.3 ,  75.25,\n",
       "         80.2 ,  85.15,  90.1 ,  95.05, 100.  ]),\n",
       " <BarContainer object of 20 artists>)"
      ]
     },
     "execution_count": 9,
     "metadata": {},
     "output_type": "execute_result"
    },
    {
     "data": {
      "image/png": "[encoded data removed]",
      "text/plain": [
       "<Figure size 432x288 with 1 Axes>"
      ]
     },
     "metadata": {
      "needs_background": "light"
     },
     "output_type": "display_data"
    }
   ],
   "source": [
    "plt.hist(score, bins=20, cumulative=True)"
   ]
  },
  {
   "cell_type": "markdown",
   "id": "51b8e01a",
   "metadata": {},
   "source": [
    "### 범위 지정\n",
    "**`range=(min,max)`**"
   ]
  },
  {
   "cell_type": "code",
   "execution_count": 14,
   "id": "70e8692c",
   "metadata": {},
   "outputs": [
    {
     "data": {
      "text/plain": [
       "(array([ 5., 14.,  9.,  7., 16.]),\n",
       " array([50., 58., 66., 74., 82., 90.]),\n",
       " <BarContainer object of 5 artists>)"
      ]
     },
     "execution_count": 14,
     "metadata": {},
     "output_type": "execute_result"
    },
    {
     "data": {
      "image/png": "[encoded data removed]",
      "text/plain": [
       "<Figure size 432x288 with 1 Axes>"
      ]
     },
     "metadata": {
      "needs_background": "light"
     },
     "output_type": "display_data"
    }
   ],
   "source": [
    "plt.hist(score, bins=5, range=(50,90))"
   ]
  },
  {
   "cell_type": "markdown",
   "id": "c19fe541",
   "metadata": {},
   "source": [
    "### 밀도표시\n",
    "**`density=True`**<br>\n",
    "도수를 총 개수로 나눈 수치를 y축에 표시"
   ]
  },
  {
   "cell_type": "code",
   "execution_count": 15,
   "id": "243cc3a1",
   "metadata": {},
   "outputs": [
    {
     "data": {
      "text/plain": [
       "(array([0.00484848, 0.01212121, 0.00727273, 0.01131313, 0.00969697,\n",
       "        0.00727273, 0.01292929, 0.00808081, 0.01292929, 0.01454545]),\n",
       " array([  1. ,  10.9,  20.8,  30.7,  40.6,  50.5,  60.4,  70.3,  80.2,\n",
       "         90.1, 100. ]),\n",
       " <BarContainer object of 10 artists>)"
      ]
     },
     "execution_count": 15,
     "metadata": {},
     "output_type": "execute_result"
    },
    {
     "data": {
      "image/png": "[encoded data removed]",
      "text/plain": [
       "<Figure size 432x288 with 1 Axes>"
      ]
     },
     "metadata": {
      "needs_background": "light"
     },
     "output_type": "display_data"
    }
   ],
   "source": [
    "plt.hist(score, density=True)"
   ]
  },
  {
   "cell_type": "code",
   "execution_count": 16,
   "id": "dfce571e",
   "metadata": {},
   "outputs": [
    {
     "data": {
      "text/plain": [
       "(array([0.048, 0.168, 0.24 , 0.352, 0.448, 0.52 , 0.648, 0.728, 0.856,\n",
       "        1.   ]),\n",
       " array([  1. ,  10.9,  20.8,  30.7,  40.6,  50.5,  60.4,  70.3,  80.2,\n",
       "         90.1, 100. ]),\n",
       " <BarContainer object of 10 artists>)"
      ]
     },
     "execution_count": 16,
     "metadata": {},
     "output_type": "execute_result"
    },
    {
     "data": {
      "image/png": "[encoded data removed]",
      "text/plain": [
       "<Figure size 432x288 with 1 Axes>"
      ]
     },
     "metadata": {
      "needs_background": "light"
     },
     "output_type": "display_data"
    }
   ],
   "source": [
    "plt.hist(score, density=True, cumulative=True)"
   ]
  },
  {
   "cell_type": "markdown",
   "id": "8b6c83e8",
   "metadata": {},
   "source": [
    "### 가로 히스토그램\n",
    "**`orientation='horizontal'`**"
   ]
  },
  {
   "cell_type": "code",
   "execution_count": 17,
   "id": "1e7fe20c",
   "metadata": {},
   "outputs": [
    {
     "data": {
      "text/plain": [
       "(array([ 6., 15.,  9., 14., 12.,  9., 16., 10., 16., 18.]),\n",
       " array([  1. ,  10.9,  20.8,  30.7,  40.6,  50.5,  60.4,  70.3,  80.2,\n",
       "         90.1, 100. ]),\n",
       " <BarContainer object of 10 artists>)"
      ]
     },
     "execution_count": 17,
     "metadata": {},
     "output_type": "execute_result"
    },
    {
     "data": {
      "image/png": "[encoded data removed]",
      "text/plain": [
       "<Figure size 432x288 with 1 Axes>"
      ]
     },
     "metadata": {
      "needs_background": "light"
     },
     "output_type": "display_data"
    }
   ],
   "source": [
    "plt.hist(score, orientation='horizontal')"
   ]
  },
  {
   "cell_type": "markdown",
   "id": "707114e9",
   "metadata": {},
   "source": [
    "### 막대 스타일\n",
    "- <span style=\"background:dodgerblue; color: white; font-size: large;\">선만표시</span> **`histtype='step'`**"
   ]
  },
  {
   "cell_type": "code",
   "execution_count": 18,
   "id": "255d4c7a",
   "metadata": {},
   "outputs": [
    {
     "data": {
      "text/plain": [
       "(array([ 6., 15.,  9., 14., 12.,  9., 16., 10., 16., 18.]),\n",
       " array([  1. ,  10.9,  20.8,  30.7,  40.6,  50.5,  60.4,  70.3,  80.2,\n",
       "         90.1, 100. ]),\n",
       " [<matplotlib.patches.Polygon at 0x7ffe71c89130>])"
      ]
     },
     "execution_count": 18,
     "metadata": {},
     "output_type": "execute_result"
    },
    {
     "data": {
      "image/png": "[encoded data removed]",
      "text/plain": [
       "<Figure size 432x288 with 1 Axes>"
      ]
     },
     "metadata": {
      "needs_background": "light"
     },
     "output_type": "display_data"
    }
   ],
   "source": [
    "plt.hist(score, histtype='step')"
   ]
  },
  {
   "cell_type": "markdown",
   "id": "4f2a70f0",
   "metadata": {},
   "source": [
    "<span style=\"background:gainsboro;\">rwidth=막대폭(0~1)</span> <span style=\"background:gainsboro;\">color=막대색</span> <span style=\"background:gainsboro;\">alpha=투명도</span> <br>\n",
    "<span style=\"background:gainsboro;\">edgecolor(ec)=선색</span> <span style=\"background:gainsboro;\">linewidth(lw)=선두께</span> <span style=\"background:gainsboro;\">linestyle(ls)=선스타일</span><br>\n",
    "<span style=\"background:gainsboro;\">hatch=패턴</span>"
   ]
  },
  {
   "cell_type": "code",
   "execution_count": 33,
   "id": "2dbedc69",
   "metadata": {},
   "outputs": [
    {
     "data": {
      "image/png": "[encoded data removed]",
      "text/plain": [
       "<Figure size 432x288 with 1 Axes>"
      ]
     },
     "metadata": {
      "needs_background": "light"
     },
     "output_type": "display_data"
    }
   ],
   "source": [
    "plt.hist(score, rwidth=0.9,color='b',alpha=0.5,ec='k',lw=2,ls=':',hatch='/')\n",
    "plt.xticks(range(0,101,10))\n",
    "plt.grid(axis='y', ls=':')\n",
    "plt.xlabel('점수')\n",
    "plt.ylabel('인원')\n",
    "plt.title('점수대별 인원 분포', size=20)\n",
    "plt.show()\n"
   ]
  },
  {
   "cell_type": "code",
   "execution_count": null,
   "id": "c89e93f9",
   "metadata": {},
   "outputs": [],
   "source": []
  }
 ],
 "metadata": {
  "kernelspec": {
   "display_name": "Python 3",
   "language": "python",
   "name": "python3"
  },
  "language_info": {
   "codemirror_mode": {
    "name": "ipython",
    "version": 3
   },
   "file_extension": ".py",
   "mimetype": "text/x-python",
   "name": "python",
   "nbconvert_exporter": "python",
   "pygments_lexer": "ipython3",
   "version": "3.8.5"
  },
  "toc": {
   "base_numbering": 1,
   "nav_menu": {},
   "number_sections": true,
   "sideBar": true,
   "skip_h1_title": false,
   "title_cell": "Table of Contents",
   "title_sidebar": "Contents",
   "toc_cell": false,
   "toc_position": {},
   "toc_section_display": true,
   "toc_window_display": false
  }
 },
 "nbformat": 4,
 "nbformat_minor": 5
}
