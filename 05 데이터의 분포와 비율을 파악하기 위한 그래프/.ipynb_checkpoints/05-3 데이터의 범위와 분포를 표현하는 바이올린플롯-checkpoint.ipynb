{
 "cells": [
  {
   "cell_type": "code",
   "execution_count": 2,
   "id": "d94008e8",
   "metadata": {},
   "outputs": [],
   "source": [
    "import matplotlib.pyplot as plt\n",
    "import pandas as pd"
   ]
  },
  {
   "cell_type": "code",
   "execution_count": 3,
   "id": "59c7fd94",
   "metadata": {},
   "outputs": [],
   "source": [
    "# 그래프에 한글 설정\n",
    "plt.rcParams['font.family'] = 'AppleGothic'\n",
    "\n",
    "# 그래프에 마이너스 기호 깨지는 문제 해결\n",
    "plt.rcParams['axes.unicode_minus'] = False"
   ]
  },
  {
   "cell_type": "markdown",
   "id": "1a2defcd",
   "metadata": {},
   "source": [
    "# 바이올린플롯\n",
    "## 샘플 데이터\n",
    "- 125명의 점수 데이터"
   ]
  },
  {
   "cell_type": "code",
   "execution_count": 4,
   "id": "551a5fae",
   "metadata": {},
   "outputs": [],
   "source": [
    "scores = pd.Series([0,10,15,15,15,16,19,20,21,25,25,26,26,29,30,35,36,37,40,41,41,44,45,45,45,\n",
    "            50,50,50,50,51,51,51,55,55,56,60,61,62,62,63,64,65,65,65,65,66,66,66,66,66,66,\n",
    "            67,68,68,69,69,70,70,70,70,70,70,70,70,71,71,71,71,71,72,72,72,73,73,74,74,74,75,75,75,\n",
    "            76,76,76,76,76,77,77,77,77,77,78,78,78,78,78,79,79,79,79,80,80,80,80,80,81,81,81,82,82,\n",
    "            85,85,85,88,88,89,90,90,90,93,83,95,95,95,97,100])"
   ]
  },
  {
   "cell_type": "code",
   "execution_count": 5,
   "id": "fc1c618d",
   "metadata": {},
   "outputs": [
    {
     "data": {
      "text/plain": [
       "125"
      ]
     },
     "execution_count": 5,
     "metadata": {},
     "output_type": "execute_result"
    }
   ],
   "source": [
    "len(scores)"
   ]
  },
  {
   "cell_type": "markdown",
   "id": "20c97f7e",
   "metadata": {},
   "source": [
    "## 바이올린플롯\n",
    "- plt.violinplot(data"
   ]
  },
  {
   "cell_type": "code",
   "execution_count": 6,
   "id": "8977bb6b",
   "metadata": {},
   "outputs": [
    {
     "data": {
      "text/plain": [
       "{'bodies': [<matplotlib.collections.PolyCollection at 0x7fae9e407670>],\n",
       " 'cmaxes': <matplotlib.collections.LineCollection at 0x7fae9e4074c0>,\n",
       " 'cmins': <matplotlib.collections.LineCollection at 0x7fae9e407490>,\n",
       " 'cbars': <matplotlib.collections.LineCollection at 0x7fae9e4090a0>}"
      ]
     },
     "execution_count": 6,
     "metadata": {},
     "output_type": "execute_result"
    },
    {
     "data": {
      "image/png": "[encoded data removed]",
      "text/plain": [
       "<Figure size 432x288 with 1 Axes>"
      ]
     },
     "metadata": {
      "needs_background": "light"
     },
     "output_type": "display_data"
    }
   ],
   "source": [
    "plt.violinplot(scores)"
   ]
  },
  {
   "cell_type": "markdown",
   "id": "1f3b1314",
   "metadata": {},
   "source": [
    "## 최대값, 최소값, 평균값, 중간값 표시\n",
    "-"
   ]
  }
 ],
 "metadata": {
  "kernelspec": {
   "display_name": "Python 3",
   "language": "python",
   "name": "python3"
  },
  "language_info": {
   "codemirror_mode": {
    "name": "ipython",
    "version": 3
   },
   "file_extension": ".py",
   "mimetype": "text/x-python",
   "name": "python",
   "nbconvert_exporter": "python",
   "pygments_lexer": "ipython3",
   "version": "3.8.5"
  },
  "toc": {
   "base_numbering": 1,
   "nav_menu": {},
   "number_sections": true,
   "sideBar": true,
   "skip_h1_title": false,
   "title_cell": "Table of Contents",
   "title_sidebar": "Contents",
   "toc_cell": false,
   "toc_position": {},
   "toc_section_display": true,
   "toc_window_display": false
  }
 },
 "nbformat": 4,
 "nbformat_minor": 5
}
